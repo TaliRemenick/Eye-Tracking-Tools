{
 "cells": [
  {
   "cell_type": "code",
   "execution_count": null,
   "outputs": [],
   "source": [
    "import pandas as pd\n",
    "import numpy as np\n",
    "import pathlib\n",
    "import math\n",
    "import tqdm\n",
    "from BlockSync_current import *"
   ],
   "metadata": {
    "collapsed": false,
    "pycharm": {
     "name": "#%%\n",
     "is_executing": true
    }
   }
  },
  {
   "cell_type": "code",
   "execution_count": 2,
   "outputs": [],
   "source": [
    "# Function definitions\n",
    "def analyzed_block_automated_pipe(block):\n",
    "    \"\"\"This function runs all the import steps that I am already confident about for a block\n",
    "    that has already gone through synchronization and dlc reading\"\"\"\n",
    "    block.handle_eye_videos()\n",
    "    block.handle_arena_files()\n",
    "    block.parse_open_ephys_events()\n",
    "    block.synchronize_arena_timestamps()\n",
    "    block.create_arena_brightness_df(threshold_value=240,export=True)\n",
    "    block.synchronize_block(export=True)\n",
    "    block.create_eye_brightness_df(threshold_value=250)\n",
    "    block.import_manual_sync_df()\n",
    "    block.read_dlc_data()\n",
    "\n",
    "def head_based_gaze_vector_calculation(block, export=False):\n",
    "    \"\"\"\n",
    "    This function changes re_df and le_df so that they'll include the\n",
    "    phi2 and theta column corresponding with the degrees from median position for the pupil in every frame\n",
    "    :param block: BlockSync object to claculate for\n",
    "    :param export: if true will create a .csv file for each eye\n",
    "    :return:\n",
    "    \"\"\"\n",
    "    df_dict = {\n",
    "        'R': block.re_df,\n",
    "        'L': block.le_df\n",
    "    }\n",
    "    for key in df_dict.keys():\n",
    "        # iterate over eyes\n",
    "        df = df_dict[key].copy()\n",
    "\n",
    "\n",
    "        # add column with height / width\n",
    "        s = df.height/df.width\n",
    "        s[s>1] = 1 / s[s>1]\n",
    "        df['h_w'] = s\n",
    "\n",
    "        # Find Eye Center (the \"roundest ellipse\" condition's centerpoint)\n",
    "        max_ratio = pd.to_numeric(df.h_w).idxmax()\n",
    "        df['h_w'][max_ratio]\n",
    "        aEC = df['center_x'][max_ratio]\n",
    "        bEC = df['center_y'][max_ratio]\n",
    "        # for future reference - this point should be an intersection of all minor axes, and not only an average as is the case now)\n",
    "\n",
    "        # Find f/z0 using LEAST SQUARES\n",
    "        top = 0.0\n",
    "        bot = 0.0\n",
    "        for row in tqdm(range(len(df))):\n",
    "            hw = df.iloc[row]['h_w']\n",
    "            aPC = df.iloc[row]['center_x']\n",
    "            bPC = df.iloc[row]['center_y']\n",
    "            if hw == hw:\n",
    "                top += math.sqrt(1 - hw**2) * math.sqrt((aPC-aEC)**2 + (bPC-bEC)**2)\n",
    "                bot += (1 - hw**2)\n",
    "        f_z = top / bot\n",
    "        for row in tqdm(range(len(df))):\n",
    "            frame = df.iloc[row][f'{key}_eye_frame']\n",
    "            if frame == frame:\n",
    "                comp = 2*np.max([df.loc[row,'height'],df.loc[row,'width']]) / f_z\n",
    "                df.loc[row, 'r'] = comp\n",
    "            else:\n",
    "                df.loc[row, 'r'] = np.nan\n",
    "\n",
    "        for row in tqdm(range(len(df))):\n",
    "            frame = df.iloc[row][f'{key}_eye_frame']\n",
    "            if frame == frame:\n",
    "                comp_t = np.arcsin( (df.loc[row, 'center_x'] - aEC) / f_z)\n",
    "                comp_p = np.arcsin( (df.loc[row, 'center_y'] - bEC) / (np.cos(comp_t)*f_z) )\n",
    "\n",
    "                df.loc[row, 'teta'] = comp_t*180/np.pi\n",
    "                df.loc[row, 'phi2'] = comp_p*180/np.pi\n",
    "            else:\n",
    "                df.loc[row, 'teta'] = np.nan\n",
    "                df.loc[row, 'phi2'] = np.nan\n",
    "\n",
    "        if key == 'R':\n",
    "            block.right_df = df\n",
    "            if export:\n",
    "                df.to_csv(block.analysis_path / 'right_df.csv')\n",
    "        elif key == 'L':\n",
    "            block.left_df = df\n",
    "            df.to_csv(block.analysis_path / 'left_df.csv')"
   ],
   "metadata": {
    "collapsed": false,
    "pycharm": {
     "name": "#%%\n"
    }
   }
  },
  {
   "cell_type": "code",
   "execution_count": 3,
   "outputs": [
    {
     "name": "stdout",
     "output_type": "stream",
     "text": [
      "instantiated block number 033 at Path: Z:\\Nimrod\\experiments\\PV_62\\2023_04_30\\block_033\n",
      "Found the sample rate for block 033 in the xml file, it is 20000 Hz\n",
      "handling eye video files\n",
      "converting videos...\n",
      "converting files: ['Z:\\\\Nimrod\\\\experiments\\\\PV_62\\\\2023_04_30\\\\block_033\\\\eye_videos\\\\LE\\\\230430_pv62_trial1_640x480_60hz_experiment_1_recording_0\\\\230430_pv62_trial1.h264', 'Z:\\\\Nimrod\\\\experiments\\\\PV_62\\\\2023_04_30\\\\block_033\\\\eye_videos\\\\RE\\\\230430_pv62_trial1_640x480_60hz_experiment_1_recording_0\\\\230430_pv62_trial1.h264']\n",
      "The file Z:\\Nimrod\\experiments\\PV_62\\2023_04_30\\block_033\\eye_videos\\RE\\230430_pv62_trial1_640x480_60hz_experiment_1_recording_0\\230430_pv62_trial1.mp4 already exists, no conversion necessary\n",
      "Validating videos...\n",
      "The video named 230430_pv62_trial1_LE.mp4 has reported 94118 frames and has 94119 frames, it has dropped -1 frames\n",
      "The video named 230430_pv62_trial1.mp4 has reported 94122 frames and has 94122 frames, it has dropped 0 frames\n",
      "handling arena files\n",
      "Arena video Names:\n",
      "back_20230430T103511.mp4\n",
      "left_20230430T103511.mp4\n",
      "right_20230430T103511.mp4\n",
      "top_20230430T103511.mp4\n",
      "running parse_open_ephys_events...\n",
      "events.csv file already exists\n"
     ]
    },
    {
     "ename": "ValueError",
     "evalue": "there is some kind of problem because there should be 2 breaks in the arena TTLsand there are 3",
     "output_type": "error",
     "traceback": [
      "\u001B[1;31m---------------------------------------------------------------------------\u001B[0m",
      "\u001B[1;31mValueError\u001B[0m                                Traceback (most recent call last)",
      "\u001B[1;32m<ipython-input-3-7c7eed45c8fc>\u001B[0m in \u001B[0;36m<module>\u001B[1;34m\u001B[0m\n\u001B[0;32m      8\u001B[0m                   \u001B[0mexperiment_date\u001B[0m\u001B[1;33m=\u001B[0m\u001B[0mdate\u001B[0m\u001B[1;33m,\u001B[0m\u001B[0mblock_num\u001B[0m\u001B[1;33m=\u001B[0m\u001B[0mblock_n\u001B[0m\u001B[1;33m,\u001B[0m\u001B[1;33m\u001B[0m\u001B[1;33m\u001B[0m\u001B[0m\n\u001B[0;32m      9\u001B[0m                   path_to_animal_folder=str(experiments_path),regev=True)\n\u001B[1;32m---> 10\u001B[1;33m \u001B[0manalyzed_block_automated_pipe\u001B[0m\u001B[1;33m(\u001B[0m\u001B[0mblock\u001B[0m\u001B[1;33m)\u001B[0m\u001B[1;33m\u001B[0m\u001B[1;33m\u001B[0m\u001B[0m\n\u001B[0m",
      "\u001B[1;32m<ipython-input-2-c74f4c09cad9>\u001B[0m in \u001B[0;36manalyzed_block_automated_pipe\u001B[1;34m(block)\u001B[0m\n\u001B[0;32m      5\u001B[0m     \u001B[0mblock\u001B[0m\u001B[1;33m.\u001B[0m\u001B[0mhandle_eye_videos\u001B[0m\u001B[1;33m(\u001B[0m\u001B[1;33m)\u001B[0m\u001B[1;33m\u001B[0m\u001B[1;33m\u001B[0m\u001B[0m\n\u001B[0;32m      6\u001B[0m     \u001B[0mblock\u001B[0m\u001B[1;33m.\u001B[0m\u001B[0mhandle_arena_files\u001B[0m\u001B[1;33m(\u001B[0m\u001B[1;33m)\u001B[0m\u001B[1;33m\u001B[0m\u001B[1;33m\u001B[0m\u001B[0m\n\u001B[1;32m----> 7\u001B[1;33m     \u001B[0mblock\u001B[0m\u001B[1;33m.\u001B[0m\u001B[0mparse_open_ephys_events\u001B[0m\u001B[1;33m(\u001B[0m\u001B[1;33m)\u001B[0m\u001B[1;33m\u001B[0m\u001B[1;33m\u001B[0m\u001B[0m\n\u001B[0m\u001B[0;32m      8\u001B[0m     \u001B[0mblock\u001B[0m\u001B[1;33m.\u001B[0m\u001B[0msynchronize_arena_timestamps\u001B[0m\u001B[1;33m(\u001B[0m\u001B[1;33m)\u001B[0m\u001B[1;33m\u001B[0m\u001B[1;33m\u001B[0m\u001B[0m\n\u001B[0;32m      9\u001B[0m     \u001B[0mblock\u001B[0m\u001B[1;33m.\u001B[0m\u001B[0mcreate_arena_brightness_df\u001B[0m\u001B[1;33m(\u001B[0m\u001B[0mthreshold_value\u001B[0m\u001B[1;33m=\u001B[0m\u001B[1;36m240\u001B[0m\u001B[1;33m,\u001B[0m\u001B[0mexport\u001B[0m\u001B[1;33m=\u001B[0m\u001B[1;32mTrue\u001B[0m\u001B[1;33m)\u001B[0m\u001B[1;33m\u001B[0m\u001B[1;33m\u001B[0m\u001B[0m\n",
      "\u001B[1;32m~\\PycharmProjects\\pythonProject3\\BlockSync_current.py\u001B[0m in \u001B[0;36mparse_open_ephys_events\u001B[1;34m(self)\u001B[0m\n\u001B[0;32m    424\u001B[0m \u001B[1;33m\u001B[0m\u001B[0m\n\u001B[0;32m    425\u001B[0m         \u001B[0mex_path\u001B[0m \u001B[1;33m=\u001B[0m \u001B[0mself\u001B[0m\u001B[1;33m.\u001B[0m\u001B[0mblock_path\u001B[0m \u001B[1;33m/\u001B[0m \u001B[1;34mrf'oe_files'\u001B[0m \u001B[1;33m/\u001B[0m \u001B[0mself\u001B[0m\u001B[1;33m.\u001B[0m\u001B[0mexp_date_time\u001B[0m \u001B[1;33m/\u001B[0m \u001B[1;34m'parsed_events.csv'\u001B[0m\u001B[1;33m\u001B[0m\u001B[1;33m\u001B[0m\u001B[0m\n\u001B[1;32m--> 426\u001B[1;33m         self.oe_events, self.arena_vid_first_t, self.arena_vid_last_t = self.oe_events_parser(\n\u001B[0m\u001B[0;32m    427\u001B[0m             \u001B[0mself\u001B[0m\u001B[1;33m.\u001B[0m\u001B[0mblock_path\u001B[0m \u001B[1;33m/\u001B[0m \u001B[1;34mrf'oe_files'\u001B[0m \u001B[1;33m/\u001B[0m \u001B[0mself\u001B[0m\u001B[1;33m.\u001B[0m\u001B[0mexp_date_time\u001B[0m \u001B[1;33m/\u001B[0m \u001B[1;34m'events.csv'\u001B[0m\u001B[1;33m,\u001B[0m\u001B[1;33m\u001B[0m\u001B[1;33m\u001B[0m\u001B[0m\n\u001B[0;32m    428\u001B[0m             \u001B[0mself\u001B[0m\u001B[1;33m.\u001B[0m\u001B[0mchanneldict\u001B[0m\u001B[1;33m,\u001B[0m\u001B[1;33m\u001B[0m\u001B[1;33m\u001B[0m\u001B[0m\n",
      "\u001B[1;32m~\\PycharmProjects\\pythonProject3\\BlockSync_current.py\u001B[0m in \u001B[0;36moe_events_parser\u001B[1;34m(open_ephys_csv_path, channel_names, arena_channel_name, export_path)\u001B[0m\n\u001B[0;32m    375\u001B[0m                 \u001B[0marena_start_stop\u001B[0m \u001B[1;33m=\u001B[0m \u001B[0mnp\u001B[0m\u001B[1;33m.\u001B[0m\u001B[0mwhere\u001B[0m\u001B[1;33m(\u001B[0m\u001B[0mdiff_series\u001B[0m \u001B[1;33m>\u001B[0m \u001B[1;36m10\u001B[0m \u001B[1;33m*\u001B[0m \u001B[0mdiff_mode\u001B[0m\u001B[1;33m)\u001B[0m\u001B[1;33m[\u001B[0m\u001B[1;36m0\u001B[0m\u001B[1;33m]\u001B[0m\u001B[1;33m\u001B[0m\u001B[1;33m\u001B[0m\u001B[0m\n\u001B[0;32m    376\u001B[0m                 \u001B[1;32mif\u001B[0m \u001B[0mlen\u001B[0m\u001B[1;33m(\u001B[0m\u001B[0marena_start_stop\u001B[0m\u001B[1;33m)\u001B[0m \u001B[1;33m!=\u001B[0m \u001B[1;36m2\u001B[0m\u001B[1;33m:\u001B[0m\u001B[1;33m\u001B[0m\u001B[1;33m\u001B[0m\u001B[0m\n\u001B[1;32m--> 377\u001B[1;33m                     raise ValueError(f'there is some kind of problem because there should be 2 breaks in the arena TTLs'\n\u001B[0m\u001B[0;32m    378\u001B[0m                           f'and there are {len(arena_start_stop)}')\n\u001B[0;32m    379\u001B[0m \u001B[1;33m\u001B[0m\u001B[0m\n",
      "\u001B[1;31mValueError\u001B[0m: there is some kind of problem because there should be 2 breaks in the arena TTLsand there are 3"
     ]
    }
   ],
   "source": [
    "#block definition\n",
    "experiments_path = pathlib.Path(r\"Z:\\Nimrod\\experiments\")\n",
    "animal = \"PV_62\"\n",
    "date = \"2023_04_30\"\n",
    "block_n = \"033\"\n",
    "\n",
    "block = BlockSync(animal_call=animal,\n",
    "                  experiment_date=date,block_num=block_n,\n",
    "                  path_to_animal_folder=str(experiments_path),regev=True)\n",
    "analyzed_block_automated_pipe(block)"
   ],
   "metadata": {
    "collapsed": false,
    "pycharm": {
     "name": "#%%\n"
    }
   }
  },
  {
   "cell_type": "code",
   "execution_count": 4,
   "outputs": [
    {
     "data": {
      "text/plain": "        line  sample_number  processor_id  stream_index  state\n0          1        6542438           100             0      0\n1          1        6542538           100             0      1\n2          1        6542778           100             0      0\n3          1        6542877           100             0      1\n4          1        6543117           100             0      0\n...      ...            ...           ...           ...    ...\n563171     1       38500811           100             0      1\n563172     1       38501051           100             0      0\n563173     1       38501150           100             0      1\n563174     1       38501390           100             0      0\n563175     1       38501490           100             0      1\n\n[563176 rows x 5 columns]",
      "text/html": "<div>\n<style scoped>\n    .dataframe tbody tr th:only-of-type {\n        vertical-align: middle;\n    }\n\n    .dataframe tbody tr th {\n        vertical-align: top;\n    }\n\n    .dataframe thead th {\n        text-align: right;\n    }\n</style>\n<table border=\"1\" class=\"dataframe\">\n  <thead>\n    <tr style=\"text-align: right;\">\n      <th></th>\n      <th>line</th>\n      <th>sample_number</th>\n      <th>processor_id</th>\n      <th>stream_index</th>\n      <th>state</th>\n    </tr>\n  </thead>\n  <tbody>\n    <tr>\n      <th>0</th>\n      <td>1</td>\n      <td>6542438</td>\n      <td>100</td>\n      <td>0</td>\n      <td>0</td>\n    </tr>\n    <tr>\n      <th>1</th>\n      <td>1</td>\n      <td>6542538</td>\n      <td>100</td>\n      <td>0</td>\n      <td>1</td>\n    </tr>\n    <tr>\n      <th>2</th>\n      <td>1</td>\n      <td>6542778</td>\n      <td>100</td>\n      <td>0</td>\n      <td>0</td>\n    </tr>\n    <tr>\n      <th>3</th>\n      <td>1</td>\n      <td>6542877</td>\n      <td>100</td>\n      <td>0</td>\n      <td>1</td>\n    </tr>\n    <tr>\n      <th>4</th>\n      <td>1</td>\n      <td>6543117</td>\n      <td>100</td>\n      <td>0</td>\n      <td>0</td>\n    </tr>\n    <tr>\n      <th>...</th>\n      <td>...</td>\n      <td>...</td>\n      <td>...</td>\n      <td>...</td>\n      <td>...</td>\n    </tr>\n    <tr>\n      <th>563171</th>\n      <td>1</td>\n      <td>38500811</td>\n      <td>100</td>\n      <td>0</td>\n      <td>1</td>\n    </tr>\n    <tr>\n      <th>563172</th>\n      <td>1</td>\n      <td>38501051</td>\n      <td>100</td>\n      <td>0</td>\n      <td>0</td>\n    </tr>\n    <tr>\n      <th>563173</th>\n      <td>1</td>\n      <td>38501150</td>\n      <td>100</td>\n      <td>0</td>\n      <td>1</td>\n    </tr>\n    <tr>\n      <th>563174</th>\n      <td>1</td>\n      <td>38501390</td>\n      <td>100</td>\n      <td>0</td>\n      <td>0</td>\n    </tr>\n    <tr>\n      <th>563175</th>\n      <td>1</td>\n      <td>38501490</td>\n      <td>100</td>\n      <td>0</td>\n      <td>1</td>\n    </tr>\n  </tbody>\n</table>\n<p>563176 rows × 5 columns</p>\n</div>"
     },
     "execution_count": 4,
     "metadata": {},
     "output_type": "execute_result"
    }
   ],
   "source": [
    "#repr(str(block.oe_path.parent))\n",
    "#print(str(block.oe_path))\n",
    "oea.Session(str(block.oe_path.parent)).recordnodes[0].recordings[0].events\n",
    "#glob.glob(os.path.join(str(block.oe_path.parent), 'Record Node *'))\n",
    "#os.path.join(block.oe_path.parent, 'Record Node *')"
   ],
   "metadata": {
    "collapsed": false,
    "pycharm": {
     "name": "#%%\n"
    }
   }
  },
  {
   "cell_type": "code",
   "execution_count": 37,
   "outputs": [
    {
     "name": "stderr",
     "output_type": "stream",
     "text": [
      "100%|██████████| 75424/75424 [00:17<00:00, 4368.44it/s]\n",
      "100%|█████████▉| 75421/75424 [00:30<00:00, 2485.85it/s]\n"
     ]
    },
    {
     "ename": "TypeError",
     "evalue": "'>=' not supported between instances of 'NoneType' and 'NoneType'",
     "output_type": "error",
     "traceback": [
      "\u001B[1;31m---------------------------------------------------------------------------\u001B[0m",
      "\u001B[1;31mTypeError\u001B[0m                                 Traceback (most recent call last)",
      "\u001B[1;32m<ipython-input-37-53da3982f26c>\u001B[0m in \u001B[0;36m<module>\u001B[1;34m\u001B[0m\n\u001B[1;32m----> 1\u001B[1;33m \u001B[0mhead_based_gaze_vector_calculation\u001B[0m\u001B[1;33m(\u001B[0m\u001B[0mblock\u001B[0m\u001B[1;33m)\u001B[0m\u001B[1;33m\u001B[0m\u001B[1;33m\u001B[0m\u001B[0m\n\u001B[0m",
      "\u001B[1;32m<ipython-input-35-c74f4c09cad9>\u001B[0m in \u001B[0;36mhead_based_gaze_vector_calculation\u001B[1;34m(block, export)\u001B[0m\n\u001B[0;32m     56\u001B[0m             \u001B[0mframe\u001B[0m \u001B[1;33m=\u001B[0m \u001B[0mdf\u001B[0m\u001B[1;33m.\u001B[0m\u001B[0miloc\u001B[0m\u001B[1;33m[\u001B[0m\u001B[0mrow\u001B[0m\u001B[1;33m]\u001B[0m\u001B[1;33m[\u001B[0m\u001B[1;34mf'{key}_eye_frame'\u001B[0m\u001B[1;33m]\u001B[0m\u001B[1;33m\u001B[0m\u001B[1;33m\u001B[0m\u001B[0m\n\u001B[0;32m     57\u001B[0m             \u001B[1;32mif\u001B[0m \u001B[0mframe\u001B[0m \u001B[1;33m==\u001B[0m \u001B[0mframe\u001B[0m\u001B[1;33m:\u001B[0m\u001B[1;33m\u001B[0m\u001B[1;33m\u001B[0m\u001B[0m\n\u001B[1;32m---> 58\u001B[1;33m                 \u001B[0mcomp\u001B[0m \u001B[1;33m=\u001B[0m \u001B[1;36m2\u001B[0m\u001B[1;33m*\u001B[0m\u001B[0mnp\u001B[0m\u001B[1;33m.\u001B[0m\u001B[0mmax\u001B[0m\u001B[1;33m(\u001B[0m\u001B[1;33m[\u001B[0m\u001B[0mdf\u001B[0m\u001B[1;33m.\u001B[0m\u001B[0mloc\u001B[0m\u001B[1;33m[\u001B[0m\u001B[0mrow\u001B[0m\u001B[1;33m,\u001B[0m\u001B[1;34m'height'\u001B[0m\u001B[1;33m]\u001B[0m\u001B[1;33m,\u001B[0m\u001B[0mdf\u001B[0m\u001B[1;33m.\u001B[0m\u001B[0mloc\u001B[0m\u001B[1;33m[\u001B[0m\u001B[0mrow\u001B[0m\u001B[1;33m,\u001B[0m\u001B[1;34m'width'\u001B[0m\u001B[1;33m]\u001B[0m\u001B[1;33m]\u001B[0m\u001B[1;33m)\u001B[0m \u001B[1;33m/\u001B[0m \u001B[0mf_z\u001B[0m\u001B[1;33m\u001B[0m\u001B[1;33m\u001B[0m\u001B[0m\n\u001B[0m\u001B[0;32m     59\u001B[0m                 \u001B[0mdf\u001B[0m\u001B[1;33m.\u001B[0m\u001B[0mloc\u001B[0m\u001B[1;33m[\u001B[0m\u001B[0mrow\u001B[0m\u001B[1;33m,\u001B[0m \u001B[1;34m'r'\u001B[0m\u001B[1;33m]\u001B[0m \u001B[1;33m=\u001B[0m \u001B[0mcomp\u001B[0m\u001B[1;33m\u001B[0m\u001B[1;33m\u001B[0m\u001B[0m\n\u001B[0;32m     60\u001B[0m             \u001B[1;32melse\u001B[0m\u001B[1;33m:\u001B[0m\u001B[1;33m\u001B[0m\u001B[1;33m\u001B[0m\u001B[0m\n",
      "\u001B[1;32m<__array_function__ internals>\u001B[0m in \u001B[0;36mamax\u001B[1;34m(*args, **kwargs)\u001B[0m\n",
      "\u001B[1;32mc:\\users\\marks3\\pycharmprojects\\pythonproject3\\venv\\lib\\site-packages\\numpy\\core\\fromnumeric.py\u001B[0m in \u001B[0;36mamax\u001B[1;34m(a, axis, out, keepdims, initial, where)\u001B[0m\n\u001B[0;32m   2703\u001B[0m     \u001B[1;36m5\u001B[0m\u001B[1;33m\u001B[0m\u001B[1;33m\u001B[0m\u001B[0m\n\u001B[0;32m   2704\u001B[0m     \"\"\"\n\u001B[1;32m-> 2705\u001B[1;33m     return _wrapreduction(a, np.maximum, 'max', axis, None, out,\n\u001B[0m\u001B[0;32m   2706\u001B[0m                           keepdims=keepdims, initial=initial, where=where)\n\u001B[0;32m   2707\u001B[0m \u001B[1;33m\u001B[0m\u001B[0m\n",
      "\u001B[1;32mc:\\users\\marks3\\pycharmprojects\\pythonproject3\\venv\\lib\\site-packages\\numpy\\core\\fromnumeric.py\u001B[0m in \u001B[0;36m_wrapreduction\u001B[1;34m(obj, ufunc, method, axis, dtype, out, **kwargs)\u001B[0m\n\u001B[0;32m     85\u001B[0m                 \u001B[1;32mreturn\u001B[0m \u001B[0mreduction\u001B[0m\u001B[1;33m(\u001B[0m\u001B[0maxis\u001B[0m\u001B[1;33m=\u001B[0m\u001B[0maxis\u001B[0m\u001B[1;33m,\u001B[0m \u001B[0mout\u001B[0m\u001B[1;33m=\u001B[0m\u001B[0mout\u001B[0m\u001B[1;33m,\u001B[0m \u001B[1;33m**\u001B[0m\u001B[0mpasskwargs\u001B[0m\u001B[1;33m)\u001B[0m\u001B[1;33m\u001B[0m\u001B[1;33m\u001B[0m\u001B[0m\n\u001B[0;32m     86\u001B[0m \u001B[1;33m\u001B[0m\u001B[0m\n\u001B[1;32m---> 87\u001B[1;33m     \u001B[1;32mreturn\u001B[0m \u001B[0mufunc\u001B[0m\u001B[1;33m.\u001B[0m\u001B[0mreduce\u001B[0m\u001B[1;33m(\u001B[0m\u001B[0mobj\u001B[0m\u001B[1;33m,\u001B[0m \u001B[0maxis\u001B[0m\u001B[1;33m,\u001B[0m \u001B[0mdtype\u001B[0m\u001B[1;33m,\u001B[0m \u001B[0mout\u001B[0m\u001B[1;33m,\u001B[0m \u001B[1;33m**\u001B[0m\u001B[0mpasskwargs\u001B[0m\u001B[1;33m)\u001B[0m\u001B[1;33m\u001B[0m\u001B[1;33m\u001B[0m\u001B[0m\n\u001B[0m\u001B[0;32m     88\u001B[0m \u001B[1;33m\u001B[0m\u001B[0m\n\u001B[0;32m     89\u001B[0m \u001B[1;33m\u001B[0m\u001B[0m\n",
      "\u001B[1;31mTypeError\u001B[0m: '>=' not supported between instances of 'NoneType' and 'NoneType'"
     ]
    }
   ],
   "source": [
    "head_based_gaze_vector_calculation(block)"
   ],
   "metadata": {
    "collapsed": false,
    "pycharm": {
     "name": "#%%\n"
    }
   }
  },
  {
   "cell_type": "code",
   "execution_count": 32,
   "outputs": [
    {
     "data": {
      "text/plain": "Index(['Arena_TTL', 'R_eye_frame', 'L_values', 'R_values', 'center_x',\n       'center_y', 'width', 'height', 'phi', 'ellipse_size', 'ms_axis'],\n      dtype='object')"
     },
     "execution_count": 32,
     "metadata": {},
     "output_type": "execute_result"
    }
   ],
   "source": [
    "block.re_df.columns\n"
   ],
   "metadata": {
    "collapsed": false,
    "pycharm": {
     "name": "#%%\n"
    }
   }
  },
  {
   "cell_type": "code",
   "execution_count": 5,
   "outputs": [],
   "source": [
    "p = pathlib.Path(r\"Z:\\Nimrod\\experiments\\PV_24\\2021_12_27\\block_012\\analysis\\re_df.csv\")\n",
    "df = pd.read_csv(p)"
   ],
   "metadata": {
    "collapsed": false,
    "pycharm": {
     "name": "#%%\n"
    }
   }
  },
  {
   "cell_type": "code",
   "execution_count": 38,
   "outputs": [],
   "source": [
    "df = block.re_df"
   ],
   "metadata": {
    "collapsed": false,
    "pycharm": {
     "name": "#%%\n"
    }
   }
  },
  {
   "cell_type": "code",
   "execution_count": 39,
   "outputs": [],
   "source": [
    "# add column with height / width\n",
    "s = df.height/df.width\n",
    "s[s>1] = 1 / s[s>1]\n",
    "df['h_w'] = s"
   ],
   "metadata": {
    "collapsed": false,
    "pycharm": {
     "name": "#%%\n"
    }
   }
  },
  {
   "cell_type": "code",
   "execution_count": 40,
   "outputs": [
    {
     "data": {
      "text/plain": "4735"
     },
     "execution_count": 40,
     "metadata": {},
     "output_type": "execute_result"
    }
   ],
   "source": [
    "semimajor = df.width\n",
    "semiminor = df.height\n",
    "np.sum(semimajor<semiminor)"
   ],
   "metadata": {
    "collapsed": false,
    "pycharm": {
     "name": "#%%\n"
    }
   }
  },
  {
   "cell_type": "code",
   "execution_count": 42,
   "outputs": [],
   "source": [
    "# Find Eye Center (the \"roundest ellipse\" condition's centerpoint)\n",
    "max_ratio = pd.to_numeric(df.h_w).idxmax()\n",
    "df['h_w'][max_ratio]\n",
    "aEC = df['center_x'][max_ratio]\n",
    "bEC = df['center_y'][max_ratio]\n",
    "# for future reference - this point should be an intersection of all minor axes, and not only an average as is the case now)"
   ],
   "metadata": {
    "collapsed": false,
    "pycharm": {
     "name": "#%%\n"
    }
   }
  },
  {
   "cell_type": "code",
   "execution_count": 43,
   "outputs": [
    {
     "name": "stdout",
     "output_type": "stream",
     "text": [
      "57738\n"
     ]
    },
    {
     "data": {
      "text/plain": "\"\\n# This cell computes the local f/z0 for each frame, might not be needed (f is focal length for the lens and z0 is the depth of the weak perspective plane of reference)\\nfor row in tqdm.tqdm(range(len(df))):\\n    frame = df.iloc[row]['R_eye_frame']\\n    if frame == frame:\\n        comp = math.sqrt(math.pow(df.iloc[row]['center_x'] - aEC, 2) + math.pow(df.iloc[row]['center_y'] - bEC, 2)) / math.sqrt((1 - math.pow(df.iloc[row]['h_w'], 2)) )\\n        df.loc[row, 'f_z'] = comp\\n    else:\\n        df.loc[row, 'f_z'] = np.nan\\n\""
     },
     "execution_count": 43,
     "metadata": {},
     "output_type": "execute_result"
    }
   ],
   "source": [
    "print(max_ratio)\n",
    "'''\n",
    "# This cell computes the local f/z0 for each frame, might not be needed (f is focal length for the lens and z0 is the depth of the weak perspective plane of reference)\n",
    "for row in tqdm.tqdm(range(len(df))):\n",
    "    frame = df.iloc[row]['R_eye_frame']\n",
    "    if frame == frame:\n",
    "        comp = math.sqrt(math.pow(df.iloc[row]['center_x'] - aEC, 2) + math.pow(df.iloc[row]['center_y'] - bEC, 2)) / math.sqrt((1 - math.pow(df.iloc[row]['h_w'], 2)) )\n",
    "        df.loc[row, 'f_z'] = comp\n",
    "    else:\n",
    "        df.loc[row, 'f_z'] = np.nan\n",
    "'''"
   ],
   "metadata": {
    "collapsed": false,
    "pycharm": {
     "name": "#%%\n"
    }
   }
  },
  {
   "cell_type": "code",
   "execution_count": 45,
   "outputs": [
    {
     "name": "stderr",
     "output_type": "stream",
     "text": [
      "100%|██████████| 75424/75424 [00:17<00:00, 4225.59it/s]\n"
     ]
    },
    {
     "data": {
      "text/plain": "109.95572415453303"
     },
     "execution_count": 45,
     "metadata": {},
     "output_type": "execute_result"
    }
   ],
   "source": [
    "# Find f/z0 using LEAST SQUARES <- This one is the newest 2022_10_03\n",
    "top = 0.0\n",
    "bot = 0.0\n",
    "for row in tqdm(range(len(df))):\n",
    "    hw = df.iloc[row]['h_w']\n",
    "    aPC = df.iloc[row]['center_x']\n",
    "    bPC = df.iloc[row]['center_y']\n",
    "    if hw == hw:\n",
    "        top += math.sqrt(1 - hw**2) * math.sqrt((aPC-aEC)**2 + (bPC-bEC)**2)\n",
    "        bot += (1 - hw**2)\n",
    "f_z = top / bot\n",
    "f_z"
   ],
   "metadata": {
    "collapsed": false,
    "pycharm": {
     "name": "#%%\n"
    }
   }
  },
  {
   "cell_type": "code",
   "execution_count": null,
   "outputs": [],
   "source": [
    "#f_z = df['f_z'].median() # just take the median, deprecated\n",
    "\n",
    "#This is kosher:\n",
    "for row in tqdm(range(len(df))):\n",
    "    frame = df.iloc[row]['R_eye_frame']\n",
    "    print(row,flush=True)\n",
    "    if frame == frame:\n",
    "        comp = 2*np.max([df.loc[row,'height'],df.loc[row,'width']]) / f_z\n",
    "        df.loc[row, 'r'] = comp\n",
    "    else:\n",
    "        df.loc[row, 'r'] = np.nan"
   ],
   "metadata": {
    "collapsed": false,
    "pycharm": {
     "name": "#%%\n"
    }
   }
  },
  {
   "cell_type": "code",
   "execution_count": 11,
   "outputs": [
    {
     "name": "stderr",
     "output_type": "stream",
     "text": [
      "100%|██████████| 106709/106709 [01:11<00:00, 1487.20it/s]\n"
     ]
    }
   ],
   "source": [
    "#f_z = df['f_z'].median() #This looks deprecated again\n",
    "for row in tqdm.tqdm(range(len(df))):\n",
    "    frame = df.iloc[row]['R_eye_frame']\n",
    "    if frame == frame:\n",
    "        comp_t = np.arcsin( (df.loc[row, 'center_x'] - aEC) / f_z)\n",
    "        comp_p = np.arcsin( (df.loc[row, 'center_y'] - bEC) / (np.cos(comp_t)*f_z) )\n",
    "\n",
    "        df.loc[row, 'teta'] = comp_t*180/np.pi\n",
    "        df.loc[row, 'phi2'] = comp_p*180/np.pi\n",
    "    else:\n",
    "        df.loc[row, 'teta'] = np.nan\n",
    "        df.loc[row, 'phi2'] = np.nan"
   ],
   "metadata": {
    "collapsed": false,
    "pycharm": {
     "name": "#%%\n"
    }
   }
  },
  {
   "cell_type": "code",
   "execution_count": 12,
   "outputs": [],
   "source": [
    "df.to_csv(\"after_calc.csv\")"
   ],
   "metadata": {
    "collapsed": false,
    "pycharm": {
     "name": "#%%\n"
    }
   }
  },
  {
   "cell_type": "code",
   "execution_count": 36,
   "outputs": [
    {
     "data": {
      "text/plain": "11856"
     },
     "execution_count": 36,
     "metadata": {},
     "output_type": "execute_result"
    }
   ],
   "source": [
    "max_ratio"
   ],
   "metadata": {
    "collapsed": false,
    "pycharm": {
     "name": "#%%\n"
    }
   }
  },
  {
   "cell_type": "code",
   "execution_count": 12,
   "outputs": [
    {
     "data": {
      "text/plain": "          Unnamed: 0     Arena_TTL    R_eye_frame       L_values  \\\ncount  106709.000000  1.067090e+05  106707.000000  106706.000000   \nmean    53354.000000  1.946805e+07   54692.574320       0.000976   \nstd     30804.379275  1.050469e+07   31570.527148       0.972381   \nmin         0.000000  1.270728e+06       3.000000     -40.777567   \n25%     26677.000000  1.037082e+07   27352.000000      -0.257794   \n50%     53354.000000  1.947042e+07   54700.000000      -0.083970   \n75%     80031.000000  2.856546e+07   82033.500000       0.134838   \nmax    106708.000000  3.765945e+07  109365.000000       1.682037   \n\n            R_values      center_x      center_y         width        height  \\\ncount  106707.000000  89243.000000  89243.000000  89243.000000  89243.000000   \nmean        0.000802    308.808944    143.011359     26.249921     24.478026   \nstd         0.978804     13.039591     15.600163      1.464962      2.324049   \nmin       -41.853195    260.637622    107.611652     13.222510      9.587387   \n25%        -0.103526    304.107275    132.600460     25.461839     23.105994   \n50%        -0.028591    310.838824    140.291198     26.492331     24.253125   \n75%         0.115728    318.614379    153.986085     27.352347     26.290436   \nmax         8.344819    343.438959    206.205827     30.162288     30.100291   \n\n                phi  ellipse_size       ms_axis           h_w             r  \\\ncount  89243.000000  89243.000000  1.067090e+05  89243.000000  89243.000000   \nmean       0.161647   2020.080911  9.098662e+05      0.894442      0.751341   \nstd        0.495205    229.568958  5.252344e+05      0.053620      0.032915   \nmin       -0.785386    413.848239  0.000000e+00      0.508348      0.371133   \n25%       -0.332121   1900.066044  4.550045e+05      0.863513      0.732220   \n50%        0.343810   2024.823944  9.099847e+05      0.898420      0.754750   \n75%        0.546143   2127.101893  1.364737e+06      0.928823      0.773862   \nmax        0.785391   2716.067897  1.819436e+06      0.999620      0.846602   \n\n               teta          phi2  \ncount  89243.000000  89243.000000  \nmean      15.525827    -14.545834  \nstd       10.858799     13.785034  \nmin      -24.344492    -49.866842  \n25%       11.410465    -23.534047  \n50%       16.996168    -16.888913  \n75%       23.667656     -4.754837  \nmax       48.574957     43.599338  ",
      "text/html": "<div>\n<style scoped>\n    .dataframe tbody tr th:only-of-type {\n        vertical-align: middle;\n    }\n\n    .dataframe tbody tr th {\n        vertical-align: top;\n    }\n\n    .dataframe thead th {\n        text-align: right;\n    }\n</style>\n<table border=\"1\" class=\"dataframe\">\n  <thead>\n    <tr style=\"text-align: right;\">\n      <th></th>\n      <th>Unnamed: 0</th>\n      <th>Arena_TTL</th>\n      <th>R_eye_frame</th>\n      <th>L_values</th>\n      <th>R_values</th>\n      <th>center_x</th>\n      <th>center_y</th>\n      <th>width</th>\n      <th>height</th>\n      <th>phi</th>\n      <th>ellipse_size</th>\n      <th>ms_axis</th>\n      <th>h_w</th>\n      <th>r</th>\n      <th>teta</th>\n      <th>phi2</th>\n    </tr>\n  </thead>\n  <tbody>\n    <tr>\n      <th>count</th>\n      <td>106709.000000</td>\n      <td>1.067090e+05</td>\n      <td>106707.000000</td>\n      <td>106706.000000</td>\n      <td>106707.000000</td>\n      <td>89243.000000</td>\n      <td>89243.000000</td>\n      <td>89243.000000</td>\n      <td>89243.000000</td>\n      <td>89243.000000</td>\n      <td>89243.000000</td>\n      <td>1.067090e+05</td>\n      <td>89243.000000</td>\n      <td>89243.000000</td>\n      <td>89243.000000</td>\n      <td>89243.000000</td>\n    </tr>\n    <tr>\n      <th>mean</th>\n      <td>53354.000000</td>\n      <td>1.946805e+07</td>\n      <td>54692.574320</td>\n      <td>0.000976</td>\n      <td>0.000802</td>\n      <td>308.808944</td>\n      <td>143.011359</td>\n      <td>26.249921</td>\n      <td>24.478026</td>\n      <td>0.161647</td>\n      <td>2020.080911</td>\n      <td>9.098662e+05</td>\n      <td>0.894442</td>\n      <td>0.751341</td>\n      <td>15.525827</td>\n      <td>-14.545834</td>\n    </tr>\n    <tr>\n      <th>std</th>\n      <td>30804.379275</td>\n      <td>1.050469e+07</td>\n      <td>31570.527148</td>\n      <td>0.972381</td>\n      <td>0.978804</td>\n      <td>13.039591</td>\n      <td>15.600163</td>\n      <td>1.464962</td>\n      <td>2.324049</td>\n      <td>0.495205</td>\n      <td>229.568958</td>\n      <td>5.252344e+05</td>\n      <td>0.053620</td>\n      <td>0.032915</td>\n      <td>10.858799</td>\n      <td>13.785034</td>\n    </tr>\n    <tr>\n      <th>min</th>\n      <td>0.000000</td>\n      <td>1.270728e+06</td>\n      <td>3.000000</td>\n      <td>-40.777567</td>\n      <td>-41.853195</td>\n      <td>260.637622</td>\n      <td>107.611652</td>\n      <td>13.222510</td>\n      <td>9.587387</td>\n      <td>-0.785386</td>\n      <td>413.848239</td>\n      <td>0.000000e+00</td>\n      <td>0.508348</td>\n      <td>0.371133</td>\n      <td>-24.344492</td>\n      <td>-49.866842</td>\n    </tr>\n    <tr>\n      <th>25%</th>\n      <td>26677.000000</td>\n      <td>1.037082e+07</td>\n      <td>27352.000000</td>\n      <td>-0.257794</td>\n      <td>-0.103526</td>\n      <td>304.107275</td>\n      <td>132.600460</td>\n      <td>25.461839</td>\n      <td>23.105994</td>\n      <td>-0.332121</td>\n      <td>1900.066044</td>\n      <td>4.550045e+05</td>\n      <td>0.863513</td>\n      <td>0.732220</td>\n      <td>11.410465</td>\n      <td>-23.534047</td>\n    </tr>\n    <tr>\n      <th>50%</th>\n      <td>53354.000000</td>\n      <td>1.947042e+07</td>\n      <td>54700.000000</td>\n      <td>-0.083970</td>\n      <td>-0.028591</td>\n      <td>310.838824</td>\n      <td>140.291198</td>\n      <td>26.492331</td>\n      <td>24.253125</td>\n      <td>0.343810</td>\n      <td>2024.823944</td>\n      <td>9.099847e+05</td>\n      <td>0.898420</td>\n      <td>0.754750</td>\n      <td>16.996168</td>\n      <td>-16.888913</td>\n    </tr>\n    <tr>\n      <th>75%</th>\n      <td>80031.000000</td>\n      <td>2.856546e+07</td>\n      <td>82033.500000</td>\n      <td>0.134838</td>\n      <td>0.115728</td>\n      <td>318.614379</td>\n      <td>153.986085</td>\n      <td>27.352347</td>\n      <td>26.290436</td>\n      <td>0.546143</td>\n      <td>2127.101893</td>\n      <td>1.364737e+06</td>\n      <td>0.928823</td>\n      <td>0.773862</td>\n      <td>23.667656</td>\n      <td>-4.754837</td>\n    </tr>\n    <tr>\n      <th>max</th>\n      <td>106708.000000</td>\n      <td>3.765945e+07</td>\n      <td>109365.000000</td>\n      <td>1.682037</td>\n      <td>8.344819</td>\n      <td>343.438959</td>\n      <td>206.205827</td>\n      <td>30.162288</td>\n      <td>30.100291</td>\n      <td>0.785391</td>\n      <td>2716.067897</td>\n      <td>1.819436e+06</td>\n      <td>0.999620</td>\n      <td>0.846602</td>\n      <td>48.574957</td>\n      <td>43.599338</td>\n    </tr>\n  </tbody>\n</table>\n</div>"
     },
     "execution_count": 12,
     "metadata": {},
     "output_type": "execute_result"
    }
   ],
   "source": [
    "df.describe()"
   ],
   "metadata": {
    "collapsed": false,
    "pycharm": {
     "name": "#%%\n"
    }
   }
  },
  {
   "cell_type": "code",
   "execution_count": 15,
   "outputs": [
    {
     "name": "stdout",
     "output_type": "stream",
     "text": [
      "max: 30793\n",
      "min: 20606\n"
     ]
    }
   ],
   "source": [
    "print(f\"max: {df.idxmax().R}\")\n",
    "print(f\"min: {df.idxmin().R}\")\n",
    "import cv2\n",
    "import os"
   ],
   "metadata": {
    "collapsed": false,
    "pycharm": {
     "name": "#%%\n"
    }
   }
  },
  {
   "cell_type": "code",
   "execution_count": 16,
   "outputs": [],
   "source": [
    "\n",
    "\n",
    "# attempt to view specific frame\n",
    "maxframe = df.idxmax().R\n",
    "minframe = df.idxmin().R\n",
    "cap = cv2.VideoCapture(r\"Z:\\Nimrod\\experiments\\PV_24\\26_12_2021\\block_6\\eye_videos\\LE\\PV24_EE6_640x480_60hz_experiment_1_recording_0\\PV24_EE6_LE.mp4\")\n",
    "\n",
    "for i in range(int(cap.get(cv2.CAP_PROP_FRAME_COUNT))):\n",
    "    ret, frame = cap.read()\n",
    "    if i == minframe and ret:\n",
    "        cv2.imshow(\"min_r.png\", frame)\n",
    "        cv2.waitKey(5000)\n",
    "    if i == maxframe and ret:\n",
    "        cv2.imshow(\"max_r.png\", frame)\n",
    "        cv2.waitKey(5000)\n",
    "    if i == max_ratio and ret:\n",
    "        cv2.imshow(\"circle\",frame)\n",
    "        cv2.waitKey(5000)\n",
    "\"\"\"\n",
    "\n",
    "# get total number of frames\n",
    "totalFrames = cap.get(cv2.CAP_PROP_FRAME_COUNT)\n",
    "\n",
    "# check for valid frame number\n",
    "if maxframe >= 0 & maxframe <= totalFrames:\n",
    "    # set frame position\n",
    "    cap.set(cv2.CAP_PROP_POS_FRAMES,maxframe)\n",
    "\n",
    "while True:\n",
    "    ret, frame = cap.read()\n",
    "    cv2.imshow(\"Video\", frame)\n",
    "    if cv2.waitKey(20) & 0xFF == ord('q'):\n",
    "        break\n",
    "cap.release()\"\"\"\n",
    "cv2.destroyAllWindows()"
   ],
   "metadata": {
    "collapsed": false,
    "pycharm": {
     "name": "#%%\n"
    }
   }
  },
  {
   "cell_type": "code",
   "execution_count": 24,
   "outputs": [],
   "source": [
    "p = pathlib.Path(r'Z:\\Nimrod\\experiments\\PV_24\\27_12_2021\\block_12\\eye_videos\\RE\\PV24_EE12_640x480_60hz_experiment_1_recording_0\\PV24_EE12.mp4')\n",
    "cap = cv2.VideoCapture(str(p))\n",
    "cap.set(1,100)\n",
    "ret, I = cap.read()\n",
    "cap.release()\n",
    "cv2.imshow('frame',I)"
   ],
   "metadata": {
    "collapsed": false,
    "pycharm": {
     "name": "#%%\n"
    }
   }
  },
  {
   "cell_type": "code",
   "execution_count": 25,
   "outputs": [],
   "source": [
    "cv2.destroyAllWindows()"
   ],
   "metadata": {
    "collapsed": false,
    "pycharm": {
     "name": "#%%\n"
    }
   }
  },
  {
   "cell_type": "code",
   "execution_count": null,
   "outputs": [],
   "source": [],
   "metadata": {
    "collapsed": false,
    "pycharm": {
     "name": "#%%\n"
    }
   }
  }
 ],
 "metadata": {
  "kernelspec": {
   "display_name": "Python 3",
   "language": "python",
   "name": "python3"
  },
  "language_info": {
   "codemirror_mode": {
    "name": "ipython",
    "version": 2
   },
   "file_extension": ".py",
   "mimetype": "text/x-python",
   "name": "python",
   "nbconvert_exporter": "python",
   "pygments_lexer": "ipython2",
   "version": "2.7.6"
  }
 },
 "nbformat": 4,
 "nbformat_minor": 0
}