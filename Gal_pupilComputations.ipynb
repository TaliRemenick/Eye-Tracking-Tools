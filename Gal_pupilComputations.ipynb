{
 "cells": [
  {
   "cell_type": "code",
   "execution_count": 1,
   "outputs": [],
   "source": [
    "import pandas as pd\n",
    "import numpy as np\n",
    "import pathlib\n",
    "import math\n",
    "import tqdm"
   ],
   "metadata": {
    "collapsed": false,
    "pycharm": {
     "name": "#%%\n"
    }
   }
  },
  {
   "cell_type": "code",
   "execution_count": 2,
   "outputs": [],
   "source": [
    "p = pathlib.Path(r\"Z:\\Nimrod\\experiments\\PV_24\\27_12_2021\\block_12\\analysis\\re_df.csv\")\n",
    "df = pd.read_csv(p)"
   ],
   "metadata": {
    "collapsed": false,
    "pycharm": {
     "name": "#%%\n"
    }
   }
  },
  {
   "cell_type": "code",
   "execution_count": 12,
   "outputs": [
    {
     "ename": "ValueError",
     "evalue": "The truth value of a Series is ambiguous. Use a.empty, a.bool(), a.item(), a.any() or a.all().",
     "output_type": "error",
     "traceback": [
      "\u001B[1;31m---------------------------------------------------------------------------\u001B[0m",
      "\u001B[1;31mValueError\u001B[0m                                Traceback (most recent call last)",
      "\u001B[1;32m<ipython-input-12-8a02bfbaa673>\u001B[0m in \u001B[0;36m<module>\u001B[1;34m\u001B[0m\n\u001B[0;32m      1\u001B[0m \u001B[1;31m# add column with height / width\u001B[0m\u001B[1;33m\u001B[0m\u001B[1;33m\u001B[0m\u001B[1;33m\u001B[0m\u001B[0m\n\u001B[1;32m----> 2\u001B[1;33m \u001B[0mlst\u001B[0m \u001B[1;33m=\u001B[0m \u001B[1;33m[\u001B[0m\u001B[0mdf\u001B[0m\u001B[1;33m[\u001B[0m\u001B[1;34m'height'\u001B[0m\u001B[1;33m]\u001B[0m\u001B[1;33m/\u001B[0m\u001B[0mdf\u001B[0m\u001B[1;33m[\u001B[0m\u001B[1;34m'width'\u001B[0m\u001B[1;33m]\u001B[0m \u001B[1;32mif\u001B[0m \u001B[0mdf\u001B[0m\u001B[1;33m[\u001B[0m\u001B[1;34m'width'\u001B[0m\u001B[1;33m]\u001B[0m \u001B[1;33m>\u001B[0m \u001B[0mdf\u001B[0m\u001B[1;33m[\u001B[0m\u001B[1;34m'height'\u001B[0m\u001B[1;33m]\u001B[0m \u001B[1;32melse\u001B[0m \u001B[0mdf\u001B[0m\u001B[1;33m[\u001B[0m\u001B[1;34m'width'\u001B[0m\u001B[1;33m]\u001B[0m\u001B[1;33m/\u001B[0m\u001B[0mdf\u001B[0m\u001B[1;33m[\u001B[0m\u001B[1;34m'height'\u001B[0m\u001B[1;33m]\u001B[0m\u001B[1;33m]\u001B[0m\u001B[1;33m\u001B[0m\u001B[1;33m\u001B[0m\u001B[0m\n\u001B[0m\u001B[0;32m      3\u001B[0m \u001B[0mdf\u001B[0m\u001B[1;33m[\u001B[0m\u001B[1;34mr'h_w'\u001B[0m\u001B[1;33m]\u001B[0m \u001B[1;33m=\u001B[0m \u001B[0mlst\u001B[0m\u001B[1;33m\u001B[0m\u001B[1;33m\u001B[0m\u001B[0m\n\u001B[0;32m      4\u001B[0m \u001B[1;33m\u001B[0m\u001B[0m\n",
      "\u001B[1;32m~\\AppData\\Local\\Programs\\Python\\Python38\\lib\\site-packages\\pandas\\core\\generic.py\u001B[0m in \u001B[0;36m__nonzero__\u001B[1;34m(self)\u001B[0m\n\u001B[0;32m   1327\u001B[0m \u001B[1;33m\u001B[0m\u001B[0m\n\u001B[0;32m   1328\u001B[0m     \u001B[1;32mdef\u001B[0m \u001B[0m__nonzero__\u001B[0m\u001B[1;33m(\u001B[0m\u001B[0mself\u001B[0m\u001B[1;33m)\u001B[0m\u001B[1;33m:\u001B[0m\u001B[1;33m\u001B[0m\u001B[1;33m\u001B[0m\u001B[0m\n\u001B[1;32m-> 1329\u001B[1;33m         raise ValueError(\n\u001B[0m\u001B[0;32m   1330\u001B[0m             \u001B[1;34mf\"The truth value of a {type(self).__name__} is ambiguous. \"\u001B[0m\u001B[1;33m\u001B[0m\u001B[1;33m\u001B[0m\u001B[0m\n\u001B[0;32m   1331\u001B[0m             \u001B[1;34m\"Use a.empty, a.bool(), a.item(), a.any() or a.all().\"\u001B[0m\u001B[1;33m\u001B[0m\u001B[1;33m\u001B[0m\u001B[0m\n",
      "\u001B[1;31mValueError\u001B[0m: The truth value of a Series is ambiguous. Use a.empty, a.bool(), a.item(), a.any() or a.all()."
     ]
    }
   ],
   "source": [
    "# add column with height / width\n",
    "lst = [df['height']/df['width'] if df['width'] > df['height'] else df['width']/df['height']]\n",
    "df[r'h_w'] = lst\n",
    "for\n",
    "lst = [df.at[i,'height']/df.at[i,'width'] for i in range(len(df['height'])) if df.at[i,'height'] < df.at[i,'width'] else df.at[i,'width']/df.at[i,'height']]"
   ],
   "metadata": {
    "collapsed": false,
    "pycharm": {
     "name": "#%%\n"
    }
   }
  },
  {
   "cell_type": "code",
   "execution_count": 3,
   "outputs": [],
   "source": [
    "# add column with height / width\n",
    "s = df.height/df.width\n",
    "s[s>1] = 1/ s[s>1]\n",
    "df['h_w'] = s"
   ],
   "metadata": {
    "collapsed": false,
    "pycharm": {
     "name": "#%%\n"
    }
   }
  },
  {
   "cell_type": "code",
   "execution_count": 4,
   "outputs": [
    {
     "data": {
      "text/plain": "22012"
     },
     "execution_count": 4,
     "metadata": {},
     "output_type": "execute_result"
    }
   ],
   "source": [
    "semimajor = df.width\n",
    "semiminor = df.height\n",
    "np.sum(semimajor<semiminor)"
   ],
   "metadata": {
    "collapsed": false,
    "pycharm": {
     "name": "#%%\n"
    }
   }
  },
  {
   "cell_type": "code",
   "execution_count": 5,
   "outputs": [],
   "source": [
    "# Find Eye Center\n",
    "max_ratio = df.idxmax().h_w\n",
    "df['h_w'][max_ratio]\n",
    "aEC = df['center_x'][max_ratio]\n",
    "bEC = df['center_y'][max_ratio]\n"
   ],
   "metadata": {
    "collapsed": false,
    "pycharm": {
     "name": "#%%\n"
    }
   }
  },
  {
   "cell_type": "code",
   "execution_count": 6,
   "outputs": [
    {
     "ename": "TypeError",
     "evalue": "cannot convert the series to <class 'float'>",
     "output_type": "error",
     "traceback": [
      "\u001B[1;31m---------------------------------------------------------------------------\u001B[0m",
      "\u001B[1;31mTypeError\u001B[0m                                 Traceback (most recent call last)",
      "\u001B[1;32m<ipython-input-6-b18e827b985b>\u001B[0m in \u001B[0;36m<module>\u001B[1;34m\u001B[0m\n\u001B[0;32m      1\u001B[0m \u001B[1;31m# Find f/z0\u001B[0m\u001B[1;33m\u001B[0m\u001B[1;33m\u001B[0m\u001B[1;33m\u001B[0m\u001B[0m\n\u001B[1;32m----> 2\u001B[1;33m \u001B[0mf_z\u001B[0m \u001B[1;33m=\u001B[0m \u001B[0mmath\u001B[0m\u001B[1;33m.\u001B[0m\u001B[0msqrt\u001B[0m\u001B[1;33m(\u001B[0m \u001B[0mmath\u001B[0m\u001B[1;33m.\u001B[0m\u001B[0mpow\u001B[0m\u001B[1;33m(\u001B[0m\u001B[0mdf\u001B[0m\u001B[1;33m.\u001B[0m\u001B[0mcenter_x\u001B[0m \u001B[1;33m-\u001B[0m \u001B[0maEC\u001B[0m\u001B[1;33m,\u001B[0m \u001B[1;36m2\u001B[0m\u001B[1;33m)\u001B[0m \u001B[1;33m+\u001B[0m \u001B[0mmath\u001B[0m\u001B[1;33m.\u001B[0m\u001B[0mpow\u001B[0m\u001B[1;33m(\u001B[0m\u001B[0mdf\u001B[0m\u001B[1;33m.\u001B[0m\u001B[0mcenter_y\u001B[0m \u001B[1;33m-\u001B[0m \u001B[0mbEC\u001B[0m\u001B[1;33m,\u001B[0m \u001B[1;36m2\u001B[0m\u001B[1;33m)\u001B[0m \u001B[1;33m)\u001B[0m \u001B[1;33m/\u001B[0m \u001B[0mmath\u001B[0m\u001B[1;33m.\u001B[0m\u001B[0msqrt\u001B[0m\u001B[1;33m(\u001B[0m\u001B[1;36m1\u001B[0m \u001B[1;33m-\u001B[0m \u001B[0mmath\u001B[0m\u001B[1;33m.\u001B[0m\u001B[0mpow\u001B[0m\u001B[1;33m(\u001B[0m\u001B[0mdf\u001B[0m\u001B[1;33m.\u001B[0m\u001B[0mh_w\u001B[0m\u001B[1;33m,\u001B[0m \u001B[1;36m2\u001B[0m\u001B[1;33m)\u001B[0m\u001B[1;33m)\u001B[0m\u001B[1;33m\u001B[0m\u001B[1;33m\u001B[0m\u001B[0m\n\u001B[0m\u001B[0;32m      3\u001B[0m \u001B[0mdf\u001B[0m\u001B[1;33m[\u001B[0m\u001B[1;34m'f_z'\u001B[0m\u001B[1;33m]\u001B[0m \u001B[1;33m=\u001B[0m \u001B[0mf_z\u001B[0m\u001B[1;33m\u001B[0m\u001B[1;33m\u001B[0m\u001B[0m\n\u001B[0;32m      4\u001B[0m \u001B[1;33m\u001B[0m\u001B[0m\n",
      "\u001B[1;32m~\\AppData\\Local\\Programs\\Python\\Python38\\lib\\site-packages\\pandas\\core\\series.py\u001B[0m in \u001B[0;36mwrapper\u001B[1;34m(self)\u001B[0m\n\u001B[0;32m    127\u001B[0m         \u001B[1;32mif\u001B[0m \u001B[0mlen\u001B[0m\u001B[1;33m(\u001B[0m\u001B[0mself\u001B[0m\u001B[1;33m)\u001B[0m \u001B[1;33m==\u001B[0m \u001B[1;36m1\u001B[0m\u001B[1;33m:\u001B[0m\u001B[1;33m\u001B[0m\u001B[1;33m\u001B[0m\u001B[0m\n\u001B[0;32m    128\u001B[0m             \u001B[1;32mreturn\u001B[0m \u001B[0mconverter\u001B[0m\u001B[1;33m(\u001B[0m\u001B[0mself\u001B[0m\u001B[1;33m.\u001B[0m\u001B[0miloc\u001B[0m\u001B[1;33m[\u001B[0m\u001B[1;36m0\u001B[0m\u001B[1;33m]\u001B[0m\u001B[1;33m)\u001B[0m\u001B[1;33m\u001B[0m\u001B[1;33m\u001B[0m\u001B[0m\n\u001B[1;32m--> 129\u001B[1;33m         \u001B[1;32mraise\u001B[0m \u001B[0mTypeError\u001B[0m\u001B[1;33m(\u001B[0m\u001B[1;34mf\"cannot convert the series to {converter}\"\u001B[0m\u001B[1;33m)\u001B[0m\u001B[1;33m\u001B[0m\u001B[1;33m\u001B[0m\u001B[0m\n\u001B[0m\u001B[0;32m    130\u001B[0m \u001B[1;33m\u001B[0m\u001B[0m\n\u001B[0;32m    131\u001B[0m     \u001B[0mwrapper\u001B[0m\u001B[1;33m.\u001B[0m\u001B[0m__name__\u001B[0m \u001B[1;33m=\u001B[0m \u001B[1;34mf\"__{converter.__name__}__\"\u001B[0m\u001B[1;33m\u001B[0m\u001B[1;33m\u001B[0m\u001B[0m\n",
      "\u001B[1;31mTypeError\u001B[0m: cannot convert the series to <class 'float'>"
     ]
    }
   ],
   "source": [
    "# Find f/z0\n",
    "f_z = math.sqrt( math.pow(df.center_x - aEC, 2) + math.pow(df.center_y - bEC, 2) ) / math.sqrt(1 - math.pow(df.h_w, 2))\n",
    "df['f_z'] = f_z\n"
   ],
   "metadata": {
    "collapsed": false,
    "pycharm": {
     "name": "#%%\n"
    }
   }
  },
  {
   "cell_type": "code",
   "execution_count": 7,
   "outputs": [
    {
     "name": "stderr",
     "output_type": "stream",
     "text": [
      "100%|██████████| 106709/106709 [01:03<00:00, 1686.78it/s]\n"
     ]
    }
   ],
   "source": [
    "for row in tqdm.tqdm(range(len(df))):\n",
    "    frame = df.iloc[row]['R_eye_frame']\n",
    "    if frame == frame:\n",
    "        comp = math.sqrt(math.pow(df.iloc[row]['center_x'] - aEC, 2) + math.pow(df.iloc[row]['center_y'] - bEC, 2)) / math.sqrt((1 - math.pow(df.iloc[row]['h_w'], 2)) )\n",
    "        df.loc[row, 'f_z'] = comp\n",
    "    else:\n",
    "        df.loc[row, 'f_z'] = np.nan"
   ],
   "metadata": {
    "collapsed": false,
    "pycharm": {
     "name": "#%%\n"
    }
   }
  },
  {
   "cell_type": "code",
   "execution_count": 32,
   "outputs": [
    {
     "name": "stderr",
     "output_type": "stream",
     "text": [
      "100%|██████████| 106709/106709 [01:41<00:00, 1047.89it/s]\n"
     ]
    }
   ],
   "source": [
    "f_z = df['f_z'].median()\n",
    "for row in tqdm.tqdm(range(len(df))):\n",
    "    frame = df.iloc[row]['R_eye_frame']\n",
    "    if frame == frame:\n",
    "        comp = 2*np.max([df.loc[row,'height'],df.loc[row,'width']]) / f_z\n",
    "        df.loc[row, 'r'] = comp\n",
    "    else:\n",
    "        df.loc[row, 'r'] = np.nan"
   ],
   "metadata": {
    "collapsed": false,
    "pycharm": {
     "name": "#%%\n"
    }
   }
  },
  {
   "cell_type": "code",
   "execution_count": 33,
   "outputs": [
    {
     "name": "stderr",
     "output_type": "stream",
     "text": [
      "100%|██████████| 106709/106709 [03:05<00:00, 575.37it/s]\n"
     ]
    }
   ],
   "source": [
    "f_z = df['f_z'].median()\n",
    "for row in tqdm.tqdm(range(len(df))):\n",
    "    frame = df.iloc[row]['R_eye_frame']\n",
    "    if frame == frame:\n",
    "        comp_t = np.arcsin( (df.loc[row, 'center_x'] - aEC) / f_z)\n",
    "        comp_p = np.arcsin( (df.loc[row, 'center_y'] - bEC) / (np.cos(comp_t)*f_z) )\n",
    "\n",
    "        df.loc[row, 'teta'] = comp_t*180/np.pi\n",
    "        df.loc[row, 'phi2'] = comp_p*180/np.pi\n",
    "    else:\n",
    "        df.loc[row, 'teta'] = np.nan\n",
    "        df.loc[row, 'phi2'] = np.nan"
   ],
   "metadata": {
    "collapsed": false,
    "pycharm": {
     "name": "#%%\n"
    }
   }
  },
  {
   "cell_type": "code",
   "execution_count": 34,
   "outputs": [
    {
     "data": {
      "text/plain": "        Unnamed: 0   Arena_TTL  R_eye_frame  L_values  R_values    center_x  \\\n0                0   1270728.0          NaN  0.093588       NaN         NaN   \n1                1   1271070.0          3.0  0.060870 -1.524829  326.442608   \n2                2   1271411.0          4.0  0.043252 -1.540584  326.823720   \n3                3   1271752.0          5.0  0.075203 -1.529697  326.395799   \n4                4   1272093.0          6.0  0.187477 -1.500076  326.593284   \n...            ...         ...          ...       ...       ...         ...   \n106704      106704  37658090.0     109362.0 -0.376890 -0.200759         NaN   \n106705      106705  37658431.0     109363.0 -0.273060 -0.205715         NaN   \n106706      106706  37658772.0     109364.0       NaN -0.190146         NaN   \n106707      106707  37659113.0     109365.0       NaN -0.199242         NaN   \n106708      106708  37659454.0          NaN       NaN       NaN         NaN   \n\n          center_y      width     height       phi  ellipse_size     ms_axis  \\\n0              NaN        NaN        NaN       NaN           NaN        0.00   \n1       176.338977  25.831452  29.352219 -0.213711   2381.988313       17.10   \n2       176.153057  26.416670  28.946191 -0.291574   2402.256404       34.15   \n3       175.928459  25.947246  29.102806 -0.212447   2372.334958       51.20   \n4       175.532772  26.306280  29.005546 -0.289193   2397.123190       68.25   \n...            ...        ...        ...       ...           ...         ...   \n106704         NaN        NaN        NaN       NaN           NaN  1819368.10   \n106705         NaN        NaN        NaN       NaN           NaN  1819385.15   \n106706         NaN        NaN        NaN       NaN           NaN  1819402.20   \n106707         NaN        NaN        NaN       NaN           NaN  1819419.25   \n106708         NaN        NaN        NaN       NaN           NaN  1819436.30   \n\n             h_w        f_z         r       teta       phi2  \n0            NaN        NaN       NaN        NaN        NaN  \n1       0.880051  84.566632  0.820292  30.602287  15.918978  \n2       0.912613  98.887856  0.808945  30.957435  15.798963  \n3       0.891572  88.203047  0.813322  30.558757  15.515149  \n4       0.906940  94.868463  0.810604  30.742541  15.163183  \n...          ...        ...       ...        ...        ...  \n106704       NaN        NaN       NaN        NaN        NaN  \n106705       NaN        NaN       NaN        NaN        NaN  \n106706       NaN        NaN       NaN        NaN        NaN  \n106707       NaN        NaN       NaN        NaN        NaN  \n106708       NaN        NaN       NaN        NaN        NaN  \n\n[106709 rows x 17 columns]",
      "text/html": "<div>\n<style scoped>\n    .dataframe tbody tr th:only-of-type {\n        vertical-align: middle;\n    }\n\n    .dataframe tbody tr th {\n        vertical-align: top;\n    }\n\n    .dataframe thead th {\n        text-align: right;\n    }\n</style>\n<table border=\"1\" class=\"dataframe\">\n  <thead>\n    <tr style=\"text-align: right;\">\n      <th></th>\n      <th>Unnamed: 0</th>\n      <th>Arena_TTL</th>\n      <th>R_eye_frame</th>\n      <th>L_values</th>\n      <th>R_values</th>\n      <th>center_x</th>\n      <th>center_y</th>\n      <th>width</th>\n      <th>height</th>\n      <th>phi</th>\n      <th>ellipse_size</th>\n      <th>ms_axis</th>\n      <th>h_w</th>\n      <th>f_z</th>\n      <th>r</th>\n      <th>teta</th>\n      <th>phi2</th>\n    </tr>\n  </thead>\n  <tbody>\n    <tr>\n      <th>0</th>\n      <td>0</td>\n      <td>1270728.0</td>\n      <td>NaN</td>\n      <td>0.093588</td>\n      <td>NaN</td>\n      <td>NaN</td>\n      <td>NaN</td>\n      <td>NaN</td>\n      <td>NaN</td>\n      <td>NaN</td>\n      <td>NaN</td>\n      <td>0.00</td>\n      <td>NaN</td>\n      <td>NaN</td>\n      <td>NaN</td>\n      <td>NaN</td>\n      <td>NaN</td>\n    </tr>\n    <tr>\n      <th>1</th>\n      <td>1</td>\n      <td>1271070.0</td>\n      <td>3.0</td>\n      <td>0.060870</td>\n      <td>-1.524829</td>\n      <td>326.442608</td>\n      <td>176.338977</td>\n      <td>25.831452</td>\n      <td>29.352219</td>\n      <td>-0.213711</td>\n      <td>2381.988313</td>\n      <td>17.10</td>\n      <td>0.880051</td>\n      <td>84.566632</td>\n      <td>0.820292</td>\n      <td>30.602287</td>\n      <td>15.918978</td>\n    </tr>\n    <tr>\n      <th>2</th>\n      <td>2</td>\n      <td>1271411.0</td>\n      <td>4.0</td>\n      <td>0.043252</td>\n      <td>-1.540584</td>\n      <td>326.823720</td>\n      <td>176.153057</td>\n      <td>26.416670</td>\n      <td>28.946191</td>\n      <td>-0.291574</td>\n      <td>2402.256404</td>\n      <td>34.15</td>\n      <td>0.912613</td>\n      <td>98.887856</td>\n      <td>0.808945</td>\n      <td>30.957435</td>\n      <td>15.798963</td>\n    </tr>\n    <tr>\n      <th>3</th>\n      <td>3</td>\n      <td>1271752.0</td>\n      <td>5.0</td>\n      <td>0.075203</td>\n      <td>-1.529697</td>\n      <td>326.395799</td>\n      <td>175.928459</td>\n      <td>25.947246</td>\n      <td>29.102806</td>\n      <td>-0.212447</td>\n      <td>2372.334958</td>\n      <td>51.20</td>\n      <td>0.891572</td>\n      <td>88.203047</td>\n      <td>0.813322</td>\n      <td>30.558757</td>\n      <td>15.515149</td>\n    </tr>\n    <tr>\n      <th>4</th>\n      <td>4</td>\n      <td>1272093.0</td>\n      <td>6.0</td>\n      <td>0.187477</td>\n      <td>-1.500076</td>\n      <td>326.593284</td>\n      <td>175.532772</td>\n      <td>26.306280</td>\n      <td>29.005546</td>\n      <td>-0.289193</td>\n      <td>2397.123190</td>\n      <td>68.25</td>\n      <td>0.906940</td>\n      <td>94.868463</td>\n      <td>0.810604</td>\n      <td>30.742541</td>\n      <td>15.163183</td>\n    </tr>\n    <tr>\n      <th>...</th>\n      <td>...</td>\n      <td>...</td>\n      <td>...</td>\n      <td>...</td>\n      <td>...</td>\n      <td>...</td>\n      <td>...</td>\n      <td>...</td>\n      <td>...</td>\n      <td>...</td>\n      <td>...</td>\n      <td>...</td>\n      <td>...</td>\n      <td>...</td>\n      <td>...</td>\n      <td>...</td>\n      <td>...</td>\n    </tr>\n    <tr>\n      <th>106704</th>\n      <td>106704</td>\n      <td>37658090.0</td>\n      <td>109362.0</td>\n      <td>-0.376890</td>\n      <td>-0.200759</td>\n      <td>NaN</td>\n      <td>NaN</td>\n      <td>NaN</td>\n      <td>NaN</td>\n      <td>NaN</td>\n      <td>NaN</td>\n      <td>1819368.10</td>\n      <td>NaN</td>\n      <td>NaN</td>\n      <td>NaN</td>\n      <td>NaN</td>\n      <td>NaN</td>\n    </tr>\n    <tr>\n      <th>106705</th>\n      <td>106705</td>\n      <td>37658431.0</td>\n      <td>109363.0</td>\n      <td>-0.273060</td>\n      <td>-0.205715</td>\n      <td>NaN</td>\n      <td>NaN</td>\n      <td>NaN</td>\n      <td>NaN</td>\n      <td>NaN</td>\n      <td>NaN</td>\n      <td>1819385.15</td>\n      <td>NaN</td>\n      <td>NaN</td>\n      <td>NaN</td>\n      <td>NaN</td>\n      <td>NaN</td>\n    </tr>\n    <tr>\n      <th>106706</th>\n      <td>106706</td>\n      <td>37658772.0</td>\n      <td>109364.0</td>\n      <td>NaN</td>\n      <td>-0.190146</td>\n      <td>NaN</td>\n      <td>NaN</td>\n      <td>NaN</td>\n      <td>NaN</td>\n      <td>NaN</td>\n      <td>NaN</td>\n      <td>1819402.20</td>\n      <td>NaN</td>\n      <td>NaN</td>\n      <td>NaN</td>\n      <td>NaN</td>\n      <td>NaN</td>\n    </tr>\n    <tr>\n      <th>106707</th>\n      <td>106707</td>\n      <td>37659113.0</td>\n      <td>109365.0</td>\n      <td>NaN</td>\n      <td>-0.199242</td>\n      <td>NaN</td>\n      <td>NaN</td>\n      <td>NaN</td>\n      <td>NaN</td>\n      <td>NaN</td>\n      <td>NaN</td>\n      <td>1819419.25</td>\n      <td>NaN</td>\n      <td>NaN</td>\n      <td>NaN</td>\n      <td>NaN</td>\n      <td>NaN</td>\n    </tr>\n    <tr>\n      <th>106708</th>\n      <td>106708</td>\n      <td>37659454.0</td>\n      <td>NaN</td>\n      <td>NaN</td>\n      <td>NaN</td>\n      <td>NaN</td>\n      <td>NaN</td>\n      <td>NaN</td>\n      <td>NaN</td>\n      <td>NaN</td>\n      <td>NaN</td>\n      <td>1819436.30</td>\n      <td>NaN</td>\n      <td>NaN</td>\n      <td>NaN</td>\n      <td>NaN</td>\n      <td>NaN</td>\n    </tr>\n  </tbody>\n</table>\n<p>106709 rows × 17 columns</p>\n</div>"
     },
     "execution_count": 34,
     "metadata": {},
     "output_type": "execute_result"
    }
   ],
   "source": [
    "df"
   ],
   "metadata": {
    "collapsed": false,
    "pycharm": {
     "name": "#%%\n"
    }
   }
  },
  {
   "cell_type": "code",
   "execution_count": 12,
   "outputs": [],
   "source": [
    "df.to_csv(\"after_calc.csv\")"
   ],
   "metadata": {
    "collapsed": false,
    "pycharm": {
     "name": "#%%\n"
    }
   }
  },
  {
   "cell_type": "code",
   "execution_count": 36,
   "outputs": [
    {
     "data": {
      "text/plain": "11856"
     },
     "execution_count": 36,
     "metadata": {},
     "output_type": "execute_result"
    }
   ],
   "source": [
    "max_ratio"
   ],
   "metadata": {
    "collapsed": false,
    "pycharm": {
     "name": "#%%\n"
    }
   }
  },
  {
   "cell_type": "code",
   "execution_count": 35,
   "outputs": [
    {
     "data": {
      "text/plain": "          Unnamed: 0     Arena_TTL    R_eye_frame       L_values  \\\ncount  106709.000000  1.067090e+05  106707.000000  106706.000000   \nmean    53354.000000  1.946805e+07   54692.574320       0.000976   \nstd     30804.379275  1.050469e+07   31570.527148       0.972381   \nmin         0.000000  1.270728e+06       3.000000     -40.777567   \n25%     26677.000000  1.037082e+07   27352.000000      -0.257794   \n50%     53354.000000  1.947042e+07   54700.000000      -0.083970   \n75%     80031.000000  2.856546e+07   82033.500000       0.134838   \nmax    106708.000000  3.765945e+07  109365.000000       1.682037   \n\n            R_values      center_x      center_y         width        height  \\\ncount  106707.000000  89243.000000  89243.000000  89243.000000  89243.000000   \nmean        0.000802    308.808944    143.011359     26.249921     24.478026   \nstd         0.978804     13.039591     15.600163      1.464962      2.324049   \nmin       -41.853195    260.637622    107.611652     13.222510      9.587387   \n25%        -0.103526    304.107275    132.600460     25.461839     23.105994   \n50%        -0.028591    310.838824    140.291198     26.492331     24.253125   \n75%         0.115728    318.614379    153.986085     27.352347     26.290436   \nmax         8.344819    343.438959    206.205827     30.162288     30.100291   \n\n                phi  ellipse_size       ms_axis           h_w           f_z  \\\ncount  89243.000000  89243.000000  1.067090e+05  89243.000000  89243.000000   \nmean       0.161647   2020.080911  9.098662e+05      0.894442     69.197204   \nstd        0.495205    229.568958  5.252344e+05      0.053620     20.060381   \nmin       -0.785386    413.848239  0.000000e+00      0.508348      0.000000   \n25%       -0.332121   1900.066044  4.550045e+05      0.863513     61.397910   \n50%        0.343810   2024.823944  9.099847e+05      0.898420     71.565272   \n75%        0.546143   2127.101893  1.364737e+06      0.928823     79.939191   \nmax        0.785391   2716.067897  1.819436e+06      0.999620    838.743802   \n\n                  r          teta          phi2  \ncount  89243.000000  89243.000000  89243.000000  \nmean       0.748083     15.454607    -14.468746  \nstd        0.032773     10.808060     13.711648  \nmin        0.369523    -24.232118    -49.542104  \n25%        0.729045     11.360320    -23.402852  \n50%        0.751477     16.920234    -16.803646  \n75%        0.770506     23.558794     -4.730689  \nmax        0.842931     48.294142     43.324457  ",
      "text/html": "<div>\n<style scoped>\n    .dataframe tbody tr th:only-of-type {\n        vertical-align: middle;\n    }\n\n    .dataframe tbody tr th {\n        vertical-align: top;\n    }\n\n    .dataframe thead th {\n        text-align: right;\n    }\n</style>\n<table border=\"1\" class=\"dataframe\">\n  <thead>\n    <tr style=\"text-align: right;\">\n      <th></th>\n      <th>Unnamed: 0</th>\n      <th>Arena_TTL</th>\n      <th>R_eye_frame</th>\n      <th>L_values</th>\n      <th>R_values</th>\n      <th>center_x</th>\n      <th>center_y</th>\n      <th>width</th>\n      <th>height</th>\n      <th>phi</th>\n      <th>ellipse_size</th>\n      <th>ms_axis</th>\n      <th>h_w</th>\n      <th>f_z</th>\n      <th>r</th>\n      <th>teta</th>\n      <th>phi2</th>\n    </tr>\n  </thead>\n  <tbody>\n    <tr>\n      <th>count</th>\n      <td>106709.000000</td>\n      <td>1.067090e+05</td>\n      <td>106707.000000</td>\n      <td>106706.000000</td>\n      <td>106707.000000</td>\n      <td>89243.000000</td>\n      <td>89243.000000</td>\n      <td>89243.000000</td>\n      <td>89243.000000</td>\n      <td>89243.000000</td>\n      <td>89243.000000</td>\n      <td>1.067090e+05</td>\n      <td>89243.000000</td>\n      <td>89243.000000</td>\n      <td>89243.000000</td>\n      <td>89243.000000</td>\n      <td>89243.000000</td>\n    </tr>\n    <tr>\n      <th>mean</th>\n      <td>53354.000000</td>\n      <td>1.946805e+07</td>\n      <td>54692.574320</td>\n      <td>0.000976</td>\n      <td>0.000802</td>\n      <td>308.808944</td>\n      <td>143.011359</td>\n      <td>26.249921</td>\n      <td>24.478026</td>\n      <td>0.161647</td>\n      <td>2020.080911</td>\n      <td>9.098662e+05</td>\n      <td>0.894442</td>\n      <td>69.197204</td>\n      <td>0.748083</td>\n      <td>15.454607</td>\n      <td>-14.468746</td>\n    </tr>\n    <tr>\n      <th>std</th>\n      <td>30804.379275</td>\n      <td>1.050469e+07</td>\n      <td>31570.527148</td>\n      <td>0.972381</td>\n      <td>0.978804</td>\n      <td>13.039591</td>\n      <td>15.600163</td>\n      <td>1.464962</td>\n      <td>2.324049</td>\n      <td>0.495205</td>\n      <td>229.568958</td>\n      <td>5.252344e+05</td>\n      <td>0.053620</td>\n      <td>20.060381</td>\n      <td>0.032773</td>\n      <td>10.808060</td>\n      <td>13.711648</td>\n    </tr>\n    <tr>\n      <th>min</th>\n      <td>0.000000</td>\n      <td>1.270728e+06</td>\n      <td>3.000000</td>\n      <td>-40.777567</td>\n      <td>-41.853195</td>\n      <td>260.637622</td>\n      <td>107.611652</td>\n      <td>13.222510</td>\n      <td>9.587387</td>\n      <td>-0.785386</td>\n      <td>413.848239</td>\n      <td>0.000000e+00</td>\n      <td>0.508348</td>\n      <td>0.000000</td>\n      <td>0.369523</td>\n      <td>-24.232118</td>\n      <td>-49.542104</td>\n    </tr>\n    <tr>\n      <th>25%</th>\n      <td>26677.000000</td>\n      <td>1.037082e+07</td>\n      <td>27352.000000</td>\n      <td>-0.257794</td>\n      <td>-0.103526</td>\n      <td>304.107275</td>\n      <td>132.600460</td>\n      <td>25.461839</td>\n      <td>23.105994</td>\n      <td>-0.332121</td>\n      <td>1900.066044</td>\n      <td>4.550045e+05</td>\n      <td>0.863513</td>\n      <td>61.397910</td>\n      <td>0.729045</td>\n      <td>11.360320</td>\n      <td>-23.402852</td>\n    </tr>\n    <tr>\n      <th>50%</th>\n      <td>53354.000000</td>\n      <td>1.947042e+07</td>\n      <td>54700.000000</td>\n      <td>-0.083970</td>\n      <td>-0.028591</td>\n      <td>310.838824</td>\n      <td>140.291198</td>\n      <td>26.492331</td>\n      <td>24.253125</td>\n      <td>0.343810</td>\n      <td>2024.823944</td>\n      <td>9.099847e+05</td>\n      <td>0.898420</td>\n      <td>71.565272</td>\n      <td>0.751477</td>\n      <td>16.920234</td>\n      <td>-16.803646</td>\n    </tr>\n    <tr>\n      <th>75%</th>\n      <td>80031.000000</td>\n      <td>2.856546e+07</td>\n      <td>82033.500000</td>\n      <td>0.134838</td>\n      <td>0.115728</td>\n      <td>318.614379</td>\n      <td>153.986085</td>\n      <td>27.352347</td>\n      <td>26.290436</td>\n      <td>0.546143</td>\n      <td>2127.101893</td>\n      <td>1.364737e+06</td>\n      <td>0.928823</td>\n      <td>79.939191</td>\n      <td>0.770506</td>\n      <td>23.558794</td>\n      <td>-4.730689</td>\n    </tr>\n    <tr>\n      <th>max</th>\n      <td>106708.000000</td>\n      <td>3.765945e+07</td>\n      <td>109365.000000</td>\n      <td>1.682037</td>\n      <td>8.344819</td>\n      <td>343.438959</td>\n      <td>206.205827</td>\n      <td>30.162288</td>\n      <td>30.100291</td>\n      <td>0.785391</td>\n      <td>2716.067897</td>\n      <td>1.819436e+06</td>\n      <td>0.999620</td>\n      <td>838.743802</td>\n      <td>0.842931</td>\n      <td>48.294142</td>\n      <td>43.324457</td>\n    </tr>\n  </tbody>\n</table>\n</div>"
     },
     "execution_count": 35,
     "metadata": {},
     "output_type": "execute_result"
    }
   ],
   "source": [
    "df.describe()"
   ],
   "metadata": {
    "collapsed": false,
    "pycharm": {
     "name": "#%%\n"
    }
   }
  },
  {
   "cell_type": "code",
   "execution_count": 15,
   "outputs": [
    {
     "name": "stdout",
     "output_type": "stream",
     "text": [
      "max: 30793\n",
      "min: 20606\n"
     ]
    }
   ],
   "source": [
    "print(f\"max: {df.idxmax().R}\")\n",
    "print(f\"min: {df.idxmin().R}\")\n",
    "import cv2\n",
    "import os"
   ],
   "metadata": {
    "collapsed": false,
    "pycharm": {
     "name": "#%%\n"
    }
   }
  },
  {
   "cell_type": "code",
   "execution_count": 16,
   "outputs": [],
   "source": [
    "\n",
    "\n",
    "# attempt to view specific frame\n",
    "maxframe = df.idxmax().R\n",
    "minframe = df.idxmin().R\n",
    "cap = cv2.VideoCapture(r\"Z:\\Nimrod\\experiments\\PV_24\\26_12_2021\\block_6\\eye_videos\\LE\\PV24_EE6_640x480_60hz_experiment_1_recording_0\\PV24_EE6_LE.mp4\")\n",
    "\n",
    "for i in range(int(cap.get(cv2.CAP_PROP_FRAME_COUNT))):\n",
    "    ret, frame = cap.read()\n",
    "    if i == minframe and ret:\n",
    "        cv2.imshow(\"min_r.png\", frame)\n",
    "        cv2.waitKey(5000)\n",
    "    if i == maxframe and ret:\n",
    "        cv2.imshow(\"max_r.png\", frame)\n",
    "        cv2.waitKey(5000)\n",
    "    if i == max_ratio and ret:\n",
    "        cv2.imshow(\"circle\",frame)\n",
    "        cv2.waitKey(5000)\n",
    "\"\"\"\n",
    "\n",
    "# get total number of frames\n",
    "totalFrames = cap.get(cv2.CAP_PROP_FRAME_COUNT)\n",
    "\n",
    "# check for valid frame number\n",
    "if maxframe >= 0 & maxframe <= totalFrames:\n",
    "    # set frame position\n",
    "    cap.set(cv2.CAP_PROP_POS_FRAMES,maxframe)\n",
    "\n",
    "while True:\n",
    "    ret, frame = cap.read()\n",
    "    cv2.imshow(\"Video\", frame)\n",
    "    if cv2.waitKey(20) & 0xFF == ord('q'):\n",
    "        break\n",
    "cap.release()\"\"\"\n",
    "cv2.destroyAllWindows()"
   ],
   "metadata": {
    "collapsed": false,
    "pycharm": {
     "name": "#%%\n"
    }
   }
  },
  {
   "cell_type": "code",
   "execution_count": 24,
   "outputs": [],
   "source": [
    "p = pathlib.Path(r'Z:\\Nimrod\\experiments\\PV_24\\27_12_2021\\block_12\\eye_videos\\RE\\PV24_EE12_640x480_60hz_experiment_1_recording_0\\PV24_EE12.mp4')\n",
    "cap = cv2.VideoCapture(str(p))\n",
    "cap.set(1,100)\n",
    "ret, I = cap.read()\n",
    "cap.release()\n",
    "cv2.imshow('frame',I)"
   ],
   "metadata": {
    "collapsed": false,
    "pycharm": {
     "name": "#%%\n"
    }
   }
  },
  {
   "cell_type": "code",
   "execution_count": 25,
   "outputs": [],
   "source": [
    "cv2.destroyAllWindows()"
   ],
   "metadata": {
    "collapsed": false,
    "pycharm": {
     "name": "#%%\n"
    }
   }
  },
  {
   "cell_type": "code",
   "execution_count": null,
   "outputs": [],
   "source": [],
   "metadata": {
    "collapsed": false,
    "pycharm": {
     "name": "#%%\n"
    }
   }
  }
 ],
 "metadata": {
  "kernelspec": {
   "display_name": "Python 3",
   "language": "python",
   "name": "python3"
  },
  "language_info": {
   "codemirror_mode": {
    "name": "ipython",
    "version": 2
   },
   "file_extension": ".py",
   "mimetype": "text/x-python",
   "name": "python",
   "nbconvert_exporter": "python",
   "pygments_lexer": "ipython2",
   "version": "2.7.6"
  }
 },
 "nbformat": 4,
 "nbformat_minor": 0
}