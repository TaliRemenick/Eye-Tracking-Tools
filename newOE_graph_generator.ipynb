{
 "cells": [
  {
   "cell_type": "code",
   "execution_count": 1,
   "metadata": {
    "collapsed": true
   },
   "outputs": [],
   "source": [
    "import numpy as np\n",
    "import pathlib\n",
    "import math\n",
    "import tqdm\n",
    "import scipy.io\n",
    "from matplotlib import pyplot as plt\n",
    "import scipy.io\n",
    "import h5py\n",
    "import re\n",
    "from lxml import etree as ET\n",
    "import scipy.signal as sig\n",
    "import pandas as pd\n",
    "from scipy.stats import kde\n",
    "\n",
    "from BlockSync_current import BlockSync\n",
    "import UtilityFunctions_newOE as uf"
   ]
  },
  {
   "cell_type": "code",
   "execution_count": 2,
   "outputs": [
    {
     "name": "stdout",
     "output_type": "stream",
     "text": [
      "instantiated block number 044 at Path: Z:\\Nimrod\\experiments\\PV_62\\2023_05_02\\block_044, new OE version\n",
      "Found the sample rate for block 044 in the xml file, it is 20000 Hz\n",
      "created the .oe_rec attribute as an open ephys recording obj with get_data functionality\n",
      "retrieving zertoh sample number for block 044\n",
      "got it!\n",
      "instantiated block number 073 at Path: Z:\\Nimrod\\experiments\\PV_62\\2023_06_21\\block_073, new OE version\n",
      "Found the sample rate for block 073 in the xml file, it is 20000 Hz\n",
      "created the .oe_rec attribute as an open ephys recording obj with get_data functionality\n",
      "retrieving zertoh sample number for block 073\n",
      "got it!\n"
     ]
    }
   ],
   "source": [
    "\n",
    "block_numbers = [73,44]\n",
    "bad_blocks = [42, 62, 64]\n",
    "experiment_path = pathlib.Path(r\"Z:\\Nimrod\\experiments\")\n",
    "animal = 'PV_62'\n",
    "block_collection = uf.block_generator(block_numbers=block_numbers,\n",
    "                                      experiment_path=experiment_path,\n",
    "                                      animal=animal,\n",
    "                                      bad_blocks=bad_blocks)"
   ],
   "metadata": {
    "collapsed": false,
    "pycharm": {
     "name": "#%%\n"
    }
   }
  },
  {
   "cell_type": "code",
   "execution_count": 3,
   "outputs": [
    {
     "data": {
      "text/plain": "BlockSync object for animal PV_62 with \nblock_num 073 at date 2023-06-21_14-45-37"
     },
     "execution_count": 3,
     "metadata": {},
     "output_type": "execute_result"
    }
   ],
   "source": [
    "block = block_collection[1]\n",
    "block"
   ],
   "metadata": {
    "collapsed": false,
    "pycharm": {
     "name": "#%%\n"
    }
   }
  },
  {
   "cell_type": "code",
   "execution_count": 4,
   "outputs": [
    {
     "name": "stdout",
     "output_type": "stream",
     "text": [
      "running parse_open_ephys_events...\n",
      "block 073 has a parsed events file, reading...\n",
      "getting eye brigtness values for block 073...\n",
      "found a file!\n",
      "blocksync_df loaded from analysis folder\n",
      "eye_brightness_df loaded from analysis folder\n"
     ]
    },
    {
     "data": {
      "text/plain": "       Unnamed: 0   Arena_TTL  Arena_frame  L_eye_frame  R_eye_frame  \\\n0               0    535485.0        620.0          0.0          3.0   \n1               1    535825.0        621.0          2.0          4.0   \n2               2    536165.0        622.0          2.0          5.0   \n3               3    536505.0        623.0          4.0          6.0   \n4               4    536845.0        624.0          5.0          7.0   \n...           ...         ...          ...          ...          ...   \n66809       66809  23234151.0      67429.0      68221.0      68224.0   \n66810       66810  23234491.0      67430.0      68222.0      68225.0   \n66811       66811  23234831.0      67431.0      68223.0      68226.0   \n66812       66812  23235170.0      67432.0      68224.0      68227.0   \n66813       66813  23235510.0      67433.0      68225.0      68228.0   \n\n       L_values  R_values  \n0      2.691569  0.437768  \n1      2.703165  0.438888  \n2      2.703165  0.438476  \n3      2.712409  0.439670  \n4      2.718606  0.440992  \n...         ...       ...  \n66809  0.621974  0.258354  \n66810  0.628502  0.257536  \n66811  0.630381  0.260299  \n66812  0.630914  0.260789  \n66813  0.630239  0.260315  \n\n[66814 rows x 7 columns]",
      "text/html": "<div>\n<style scoped>\n    .dataframe tbody tr th:only-of-type {\n        vertical-align: middle;\n    }\n\n    .dataframe tbody tr th {\n        vertical-align: top;\n    }\n\n    .dataframe thead th {\n        text-align: right;\n    }\n</style>\n<table border=\"1\" class=\"dataframe\">\n  <thead>\n    <tr style=\"text-align: right;\">\n      <th></th>\n      <th>Unnamed: 0</th>\n      <th>Arena_TTL</th>\n      <th>Arena_frame</th>\n      <th>L_eye_frame</th>\n      <th>R_eye_frame</th>\n      <th>L_values</th>\n      <th>R_values</th>\n    </tr>\n  </thead>\n  <tbody>\n    <tr>\n      <th>0</th>\n      <td>0</td>\n      <td>535485.0</td>\n      <td>620.0</td>\n      <td>0.0</td>\n      <td>3.0</td>\n      <td>2.691569</td>\n      <td>0.437768</td>\n    </tr>\n    <tr>\n      <th>1</th>\n      <td>1</td>\n      <td>535825.0</td>\n      <td>621.0</td>\n      <td>2.0</td>\n      <td>4.0</td>\n      <td>2.703165</td>\n      <td>0.438888</td>\n    </tr>\n    <tr>\n      <th>2</th>\n      <td>2</td>\n      <td>536165.0</td>\n      <td>622.0</td>\n      <td>2.0</td>\n      <td>5.0</td>\n      <td>2.703165</td>\n      <td>0.438476</td>\n    </tr>\n    <tr>\n      <th>3</th>\n      <td>3</td>\n      <td>536505.0</td>\n      <td>623.0</td>\n      <td>4.0</td>\n      <td>6.0</td>\n      <td>2.712409</td>\n      <td>0.439670</td>\n    </tr>\n    <tr>\n      <th>4</th>\n      <td>4</td>\n      <td>536845.0</td>\n      <td>624.0</td>\n      <td>5.0</td>\n      <td>7.0</td>\n      <td>2.718606</td>\n      <td>0.440992</td>\n    </tr>\n    <tr>\n      <th>...</th>\n      <td>...</td>\n      <td>...</td>\n      <td>...</td>\n      <td>...</td>\n      <td>...</td>\n      <td>...</td>\n      <td>...</td>\n    </tr>\n    <tr>\n      <th>66809</th>\n      <td>66809</td>\n      <td>23234151.0</td>\n      <td>67429.0</td>\n      <td>68221.0</td>\n      <td>68224.0</td>\n      <td>0.621974</td>\n      <td>0.258354</td>\n    </tr>\n    <tr>\n      <th>66810</th>\n      <td>66810</td>\n      <td>23234491.0</td>\n      <td>67430.0</td>\n      <td>68222.0</td>\n      <td>68225.0</td>\n      <td>0.628502</td>\n      <td>0.257536</td>\n    </tr>\n    <tr>\n      <th>66811</th>\n      <td>66811</td>\n      <td>23234831.0</td>\n      <td>67431.0</td>\n      <td>68223.0</td>\n      <td>68226.0</td>\n      <td>0.630381</td>\n      <td>0.260299</td>\n    </tr>\n    <tr>\n      <th>66812</th>\n      <td>66812</td>\n      <td>23235170.0</td>\n      <td>67432.0</td>\n      <td>68224.0</td>\n      <td>68227.0</td>\n      <td>0.630914</td>\n      <td>0.260789</td>\n    </tr>\n    <tr>\n      <th>66813</th>\n      <td>66813</td>\n      <td>23235510.0</td>\n      <td>67433.0</td>\n      <td>68225.0</td>\n      <td>68228.0</td>\n      <td>0.630239</td>\n      <td>0.260315</td>\n    </tr>\n  </tbody>\n</table>\n<p>66814 rows × 7 columns</p>\n</div>"
     },
     "execution_count": 4,
     "metadata": {},
     "output_type": "execute_result"
    }
   ],
   "source": [
    "\n",
    "\n",
    "block.parse_open_ephys_events()\n",
    "block.get_eye_brightness_vectors()\n",
    "block.synchronize_block()\n",
    "block.create_eye_brightness_df(threshold_value=20)"
   ],
   "metadata": {
    "collapsed": false,
    "pycharm": {
     "name": "#%%\n"
    }
   }
  },
  {
   "cell_type": "code",
   "execution_count": 5,
   "outputs": [
    {
     "name": "stdout",
     "output_type": "stream",
     "text": [
      "index error on position 40 out of 41\n",
      "index error on position 37 out of 38\n",
      "The suspected lag between eye cameras is -2.0 with the direction ['right', 'early']\n",
      "created manual_sync_df attribute for the block\n",
      "index error on position 27 out of 28\n",
      "index error on position 27 out of 28\n"
     ]
    },
    {
     "data": {
      "text/plain": "{'left': [17.0,\n  3626.0,\n  7234.0,\n  7236.0,\n  10843.0,\n  14452.0,\n  18060.0,\n  21669.0,\n  25278.0,\n  28886.0,\n  32495.0,\n  36103.0,\n  39712.0,\n  43320.0,\n  46929.0,\n  50538.0,\n  54146.0,\n  57755.0,\n  61363.0],\n 'right': [15.0,\n  2993.0,\n  3624.0,\n  7232.0,\n  10841.0,\n  14449.0,\n  15346.0,\n  18058.0,\n  21667.0,\n  25275.0,\n  28884.0,\n  32493.0,\n  36101.0,\n  39709.0,\n  43318.0,\n  46927.0,\n  50535.0,\n  54144.0,\n  57752.0,\n  59345.0,\n  61361.0]}"
     },
     "execution_count": 5,
     "metadata": {},
     "output_type": "execute_result"
    }
   ],
   "source": [
    "block.get_eyes_diff_list(threshold=1)\n",
    "block.fix_eye_synchronization()\n",
    "block.get_blink_frames_manual(threshold=2.5)"
   ],
   "metadata": {
    "collapsed": false,
    "pycharm": {
     "name": "#%%\n"
    }
   }
  },
  {
   "cell_type": "code",
   "execution_count": 50,
   "outputs": [],
   "source": [
    "# use this to manually shift L\\R eye synchronization\n",
    "eye_to_move = 'L'\n",
    "block.move_eye_sync_manual(cols_to_move=[f'{eye_to_move}_eye_frame',f'{eye_to_move}_values'],step=-3)"
   ],
   "metadata": {
    "collapsed": false,
    "pycharm": {
     "name": "#%%\n"
    }
   }
  },
  {
   "cell_type": "code",
   "execution_count": 51,
   "outputs": [],
   "source": [
    "block.full_sync_verification(with_arena=False)"
   ],
   "metadata": {
    "collapsed": false,
    "pycharm": {
     "name": "#%%\n"
    }
   }
  },
  {
   "cell_type": "code",
   "execution_count": 52,
   "outputs": [],
   "source": [
    "block.export_manual_sync_df()"
   ],
   "metadata": {
    "collapsed": false,
    "pycharm": {
     "name": "#%%\n"
    }
   }
  },
  {
   "cell_type": "code",
   "execution_count": 6,
   "outputs": [],
   "source": [
    "block.import_manual_sync_df()"
   ],
   "metadata": {
    "collapsed": false,
    "pycharm": {
     "name": "#%%\n"
    }
   }
  },
  {
   "cell_type": "code",
   "execution_count": 7,
   "outputs": [
    {
     "name": "stderr",
     "output_type": "stream",
     "text": [
      "c:\\users\\marks3\\pycharmprojects\\pythonproject3\\venv\\lib\\site-packages\\IPython\\core\\interactiveshell.py:3338: DtypeWarning: Columns (0,1,2,3,4,5,6,7,8,9,10,11,12,13,14,15,16,17,18,19,20,21,22,23,24,25,26,27,28,29,30) have mixed types.Specify dtype option on import or set low_memory=False.\n",
      "  if (await self.run_code(code, result,  async_=asy)):\n",
      "100%|██████████| 68627/68627 [00:21<00:00, 3201.52it/s]\n"
     ]
    },
    {
     "name": "stdout",
     "output_type": "stream",
     "text": [
      "\n",
      " Done\n"
     ]
    },
    {
     "name": "stderr",
     "output_type": "stream",
     "text": [
      "100%|██████████| 68586/68586 [00:11<00:00, 5957.13it/s]\n"
     ]
    },
    {
     "name": "stdout",
     "output_type": "stream",
     "text": [
      "\n",
      " Done\n",
      "done\n",
      "exporting to analysis folder\n"
     ]
    }
   ],
   "source": [
    "block.read_dlc_data_much_faster(threshold_to_use=0.999, export=True)"
   ],
   "metadata": {
    "collapsed": false,
    "pycharm": {
     "name": "#%%\n"
    }
   }
  },
  {
   "cell_type": "code",
   "execution_count": 11,
   "outputs": [
    {
     "data": {
      "text/plain": "        Arena_TTL  L_eye_frame  L_values  R_values  center_x  center_y  width  \\\n0        535485.0          2.0  2.703165  0.437768       NaN       NaN    NaN   \n1        535825.0          4.0  2.712409  0.438888       NaN       NaN    NaN   \n2        536165.0          5.0  2.718606  0.438476       NaN       NaN    NaN   \n3        536505.0          6.0  2.720012  0.439670       NaN       NaN    NaN   \n4        536845.0          7.0  2.720783  0.440992       NaN       NaN    NaN   \n...           ...          ...       ...       ...       ...       ...    ...   \n66809  23234151.0      68223.0  0.630381  0.258354       NaN       NaN    NaN   \n66810  23234491.0      68224.0  0.630914  0.257536       NaN       NaN    NaN   \n66811  23234831.0      68225.0  0.630239  0.260299       NaN       NaN    NaN   \n66812  23235170.0          NaN       NaN  0.260789       NaN       NaN    NaN   \n66813  23235510.0          NaN       NaN  0.260315       NaN       NaN    NaN   \n\n       height  phi  ellipse_size     ms_axis  \n0         NaN  NaN           NaN    26774.25  \n1         NaN  NaN           NaN    26791.25  \n2         NaN  NaN           NaN    26808.25  \n3         NaN  NaN           NaN    26825.25  \n4         NaN  NaN           NaN    26842.25  \n...       ...  ...           ...         ...  \n66809     NaN  NaN           NaN  1161707.55  \n66810     NaN  NaN           NaN  1161724.55  \n66811     NaN  NaN           NaN  1161741.55  \n66812     NaN  NaN           NaN  1161758.50  \n66813     NaN  NaN           NaN  1161775.50  \n\n[66814 rows x 11 columns]",
      "text/html": "<div>\n<style scoped>\n    .dataframe tbody tr th:only-of-type {\n        vertical-align: middle;\n    }\n\n    .dataframe tbody tr th {\n        vertical-align: top;\n    }\n\n    .dataframe thead th {\n        text-align: right;\n    }\n</style>\n<table border=\"1\" class=\"dataframe\">\n  <thead>\n    <tr style=\"text-align: right;\">\n      <th></th>\n      <th>Arena_TTL</th>\n      <th>L_eye_frame</th>\n      <th>L_values</th>\n      <th>R_values</th>\n      <th>center_x</th>\n      <th>center_y</th>\n      <th>width</th>\n      <th>height</th>\n      <th>phi</th>\n      <th>ellipse_size</th>\n      <th>ms_axis</th>\n    </tr>\n  </thead>\n  <tbody>\n    <tr>\n      <th>0</th>\n      <td>535485.0</td>\n      <td>2.0</td>\n      <td>2.703165</td>\n      <td>0.437768</td>\n      <td>NaN</td>\n      <td>NaN</td>\n      <td>NaN</td>\n      <td>NaN</td>\n      <td>NaN</td>\n      <td>NaN</td>\n      <td>26774.25</td>\n    </tr>\n    <tr>\n      <th>1</th>\n      <td>535825.0</td>\n      <td>4.0</td>\n      <td>2.712409</td>\n      <td>0.438888</td>\n      <td>NaN</td>\n      <td>NaN</td>\n      <td>NaN</td>\n      <td>NaN</td>\n      <td>NaN</td>\n      <td>NaN</td>\n      <td>26791.25</td>\n    </tr>\n    <tr>\n      <th>2</th>\n      <td>536165.0</td>\n      <td>5.0</td>\n      <td>2.718606</td>\n      <td>0.438476</td>\n      <td>NaN</td>\n      <td>NaN</td>\n      <td>NaN</td>\n      <td>NaN</td>\n      <td>NaN</td>\n      <td>NaN</td>\n      <td>26808.25</td>\n    </tr>\n    <tr>\n      <th>3</th>\n      <td>536505.0</td>\n      <td>6.0</td>\n      <td>2.720012</td>\n      <td>0.439670</td>\n      <td>NaN</td>\n      <td>NaN</td>\n      <td>NaN</td>\n      <td>NaN</td>\n      <td>NaN</td>\n      <td>NaN</td>\n      <td>26825.25</td>\n    </tr>\n    <tr>\n      <th>4</th>\n      <td>536845.0</td>\n      <td>7.0</td>\n      <td>2.720783</td>\n      <td>0.440992</td>\n      <td>NaN</td>\n      <td>NaN</td>\n      <td>NaN</td>\n      <td>NaN</td>\n      <td>NaN</td>\n      <td>NaN</td>\n      <td>26842.25</td>\n    </tr>\n    <tr>\n      <th>...</th>\n      <td>...</td>\n      <td>...</td>\n      <td>...</td>\n      <td>...</td>\n      <td>...</td>\n      <td>...</td>\n      <td>...</td>\n      <td>...</td>\n      <td>...</td>\n      <td>...</td>\n      <td>...</td>\n    </tr>\n    <tr>\n      <th>66809</th>\n      <td>23234151.0</td>\n      <td>68223.0</td>\n      <td>0.630381</td>\n      <td>0.258354</td>\n      <td>NaN</td>\n      <td>NaN</td>\n      <td>NaN</td>\n      <td>NaN</td>\n      <td>NaN</td>\n      <td>NaN</td>\n      <td>1161707.55</td>\n    </tr>\n    <tr>\n      <th>66810</th>\n      <td>23234491.0</td>\n      <td>68224.0</td>\n      <td>0.630914</td>\n      <td>0.257536</td>\n      <td>NaN</td>\n      <td>NaN</td>\n      <td>NaN</td>\n      <td>NaN</td>\n      <td>NaN</td>\n      <td>NaN</td>\n      <td>1161724.55</td>\n    </tr>\n    <tr>\n      <th>66811</th>\n      <td>23234831.0</td>\n      <td>68225.0</td>\n      <td>0.630239</td>\n      <td>0.260299</td>\n      <td>NaN</td>\n      <td>NaN</td>\n      <td>NaN</td>\n      <td>NaN</td>\n      <td>NaN</td>\n      <td>NaN</td>\n      <td>1161741.55</td>\n    </tr>\n    <tr>\n      <th>66812</th>\n      <td>23235170.0</td>\n      <td>NaN</td>\n      <td>NaN</td>\n      <td>0.260789</td>\n      <td>NaN</td>\n      <td>NaN</td>\n      <td>NaN</td>\n      <td>NaN</td>\n      <td>NaN</td>\n      <td>NaN</td>\n      <td>1161758.50</td>\n    </tr>\n    <tr>\n      <th>66813</th>\n      <td>23235510.0</td>\n      <td>NaN</td>\n      <td>NaN</td>\n      <td>0.260315</td>\n      <td>NaN</td>\n      <td>NaN</td>\n      <td>NaN</td>\n      <td>NaN</td>\n      <td>NaN</td>\n      <td>NaN</td>\n      <td>1161775.50</td>\n    </tr>\n  </tbody>\n</table>\n<p>66814 rows × 11 columns</p>\n</div>"
     },
     "execution_count": 11,
     "metadata": {},
     "output_type": "execute_result"
    }
   ],
   "source": [
    "df_faster = block.le_df\n",
    "df = pd.read_csv(r'Z:\\Nimrod\\experiments\\PV_62\\2023_06_21\\block_073\\analysis\\ignoreMe\\le_df.csv',index_col=0)\n",
    "df"
   ],
   "metadata": {
    "collapsed": false,
    "pycharm": {
     "name": "#%%\n"
    }
   }
  },
  {
   "cell_type": "code",
   "execution_count": 19,
   "outputs": [
    {
     "name": "stderr",
     "output_type": "stream",
     "text": [
      "100%|██████████| 68627/68627 [00:21<00:00, 3215.59it/s]"
     ]
    },
    {
     "name": "stdout",
     "output_type": "stream",
     "text": [
      "\n",
      " Done\n"
     ]
    },
    {
     "name": "stderr",
     "output_type": "stream",
     "text": [
      "\n"
     ]
    }
   ],
   "source": [
    "timeline = block.final_sync_df[['L_eye_frame','Arena_TTL']]\n",
    "data = block.le_ellipses = block.eye_tracking_analysis(block.le_csv, uncertainty_thr=0.998)\n"
   ],
   "metadata": {
    "collapsed": false,
    "pycharm": {
     "name": "#%%\n"
    }
   }
  },
  {
   "cell_type": "code",
   "execution_count": 20,
   "outputs": [
    {
     "data": {
      "text/plain": "       center_x  center_y  width  height  phi  ellipse_size\n0           NaN       NaN    NaN     NaN  NaN           NaN\n1           NaN       NaN    NaN     NaN  NaN           NaN\n2           NaN       NaN    NaN     NaN  NaN           NaN\n3           NaN       NaN    NaN     NaN  NaN           NaN\n4           NaN       NaN    NaN     NaN  NaN           NaN\n...         ...       ...    ...     ...  ...           ...\n68622       NaN       NaN    NaN     NaN  NaN           NaN\n68623       NaN       NaN    NaN     NaN  NaN           NaN\n68624       NaN       NaN    NaN     NaN  NaN           NaN\n68625       NaN       NaN    NaN     NaN  NaN           NaN\n68626       NaN       NaN    NaN     NaN  NaN           NaN\n\n[68627 rows x 6 columns]",
      "text/html": "<div>\n<style scoped>\n    .dataframe tbody tr th:only-of-type {\n        vertical-align: middle;\n    }\n\n    .dataframe tbody tr th {\n        vertical-align: top;\n    }\n\n    .dataframe thead th {\n        text-align: right;\n    }\n</style>\n<table border=\"1\" class=\"dataframe\">\n  <thead>\n    <tr style=\"text-align: right;\">\n      <th></th>\n      <th>center_x</th>\n      <th>center_y</th>\n      <th>width</th>\n      <th>height</th>\n      <th>phi</th>\n      <th>ellipse_size</th>\n    </tr>\n  </thead>\n  <tbody>\n    <tr>\n      <th>0</th>\n      <td>NaN</td>\n      <td>NaN</td>\n      <td>NaN</td>\n      <td>NaN</td>\n      <td>NaN</td>\n      <td>NaN</td>\n    </tr>\n    <tr>\n      <th>1</th>\n      <td>NaN</td>\n      <td>NaN</td>\n      <td>NaN</td>\n      <td>NaN</td>\n      <td>NaN</td>\n      <td>NaN</td>\n    </tr>\n    <tr>\n      <th>2</th>\n      <td>NaN</td>\n      <td>NaN</td>\n      <td>NaN</td>\n      <td>NaN</td>\n      <td>NaN</td>\n      <td>NaN</td>\n    </tr>\n    <tr>\n      <th>3</th>\n      <td>NaN</td>\n      <td>NaN</td>\n      <td>NaN</td>\n      <td>NaN</td>\n      <td>NaN</td>\n      <td>NaN</td>\n    </tr>\n    <tr>\n      <th>4</th>\n      <td>NaN</td>\n      <td>NaN</td>\n      <td>NaN</td>\n      <td>NaN</td>\n      <td>NaN</td>\n      <td>NaN</td>\n    </tr>\n    <tr>\n      <th>...</th>\n      <td>...</td>\n      <td>...</td>\n      <td>...</td>\n      <td>...</td>\n      <td>...</td>\n      <td>...</td>\n    </tr>\n    <tr>\n      <th>68622</th>\n      <td>NaN</td>\n      <td>NaN</td>\n      <td>NaN</td>\n      <td>NaN</td>\n      <td>NaN</td>\n      <td>NaN</td>\n    </tr>\n    <tr>\n      <th>68623</th>\n      <td>NaN</td>\n      <td>NaN</td>\n      <td>NaN</td>\n      <td>NaN</td>\n      <td>NaN</td>\n      <td>NaN</td>\n    </tr>\n    <tr>\n      <th>68624</th>\n      <td>NaN</td>\n      <td>NaN</td>\n      <td>NaN</td>\n      <td>NaN</td>\n      <td>NaN</td>\n      <td>NaN</td>\n    </tr>\n    <tr>\n      <th>68625</th>\n      <td>NaN</td>\n      <td>NaN</td>\n      <td>NaN</td>\n      <td>NaN</td>\n      <td>NaN</td>\n      <td>NaN</td>\n    </tr>\n    <tr>\n      <th>68626</th>\n      <td>NaN</td>\n      <td>NaN</td>\n      <td>NaN</td>\n      <td>NaN</td>\n      <td>NaN</td>\n      <td>NaN</td>\n    </tr>\n  </tbody>\n</table>\n<p>68627 rows × 6 columns</p>\n</div>"
     },
     "execution_count": 20,
     "metadata": {},
     "output_type": "execute_result"
    }
   ],
   "source": [
    "data"
   ],
   "metadata": {
    "collapsed": false,
    "pycharm": {
     "name": "#%%\n"
    }
   }
  },
  {
   "cell_type": "code",
   "execution_count": 22,
   "outputs": [
    {
     "data": {
      "text/plain": "   L_eye_frame  Arena_TTL\n0          2.0   535485.0\n1          4.0   535825.0\n2          5.0   536165.0\n3          6.0   536505.0\n4          7.0   536845.0",
      "text/html": "<div>\n<style scoped>\n    .dataframe tbody tr th:only-of-type {\n        vertical-align: middle;\n    }\n\n    .dataframe tbody tr th {\n        vertical-align: top;\n    }\n\n    .dataframe thead th {\n        text-align: right;\n    }\n</style>\n<table border=\"1\" class=\"dataframe\">\n  <thead>\n    <tr style=\"text-align: right;\">\n      <th></th>\n      <th>L_eye_frame</th>\n      <th>Arena_TTL</th>\n    </tr>\n  </thead>\n  <tbody>\n    <tr>\n      <th>0</th>\n      <td>2.0</td>\n      <td>535485.0</td>\n    </tr>\n    <tr>\n      <th>1</th>\n      <td>4.0</td>\n      <td>535825.0</td>\n    </tr>\n    <tr>\n      <th>2</th>\n      <td>5.0</td>\n      <td>536165.0</td>\n    </tr>\n    <tr>\n      <th>3</th>\n      <td>6.0</td>\n      <td>536505.0</td>\n    </tr>\n    <tr>\n      <th>4</th>\n      <td>7.0</td>\n      <td>536845.0</td>\n    </tr>\n  </tbody>\n</table>\n</div>"
     },
     "execution_count": 22,
     "metadata": {},
     "output_type": "execute_result"
    }
   ],
   "source": [
    "timeline.head()"
   ],
   "metadata": {
    "collapsed": false,
    "pycharm": {
     "name": "#%%\n"
    }
   }
  },
  {
   "cell_type": "code",
   "execution_count": 24,
   "outputs": [],
   "source": [
    "# This is regev's solution for read_dlc_data:\n",
    "a = timeline.merge(data, left_on='L_eye_frame', right_index=True, how='left')"
   ],
   "metadata": {
    "collapsed": false,
    "pycharm": {
     "name": "#%%\n"
    }
   }
  },
  {
   "cell_type": "code",
   "execution_count": 22,
   "outputs": [
    {
     "data": {
      "text/plain": "324882.0"
     },
     "execution_count": 22,
     "metadata": {},
     "output_type": "execute_result"
    }
   ],
   "source": [
    "def read_dlc_data(self, threshold_to_use=0.999, export=True):\n",
    "    \"\"\"\n",
    "    Method to read and analyze the dlc files and fit ellipses to create the le/re ellipses attributes of the block\n",
    "    \"\"\"\n",
    "    if (self.analysis_path / 're_df.csv').exists() and (self.analysis_path / 'le_df.csv').exists():\n",
    "        self.re_df = pd.read_csv(self.analysis_path / 're_df.csv')\n",
    "        self.re_df['ms_axis'] = self.ms_axis\n",
    "        if 'Unnamed: 0' in self.re_df.columns:\n",
    "            self.re_df = self.re_df.drop(axis=1, labels='Unnamed: 0')\n",
    "        self.le_df = pd.read_csv(self.analysis_path / 'le_df.csv')\n",
    "        self.le_df['ms_axis'] = self.ms_axis\n",
    "        if 'Unnamed: 0' in self.le_df.columns:\n",
    "            self.le_df = self.le_df.drop(axis=1, labels='Unnamed: 0')\n",
    "        print('eye dataframes loaded from analysis folder')\n",
    "        return\n",
    "\n",
    "    pl = [i for i in os.listdir(self.l_e_path) if 'DLC' in i and '.csv' in i][0]\n",
    "    self.le_csv = pd.read_csv(self.l_e_path / pl, header=1)\n",
    "    pr = [i for i in os.listdir(self.r_e_path) if 'DLC' in i and '.csv' in i][0]\n",
    "    self.re_csv = pd.read_csv(self.r_e_path / pr, header=1)\n",
    "    self.le_ellipses = self.eye_tracking_analysis(self.le_csv, threshold_to_use)\n",
    "    self.re_ellipses = self.eye_tracking_analysis(self.re_csv, threshold_to_use)\n",
    "\n",
    "    self.le_df = self.final_sync_df.drop(labels=['Arena_frame', 'R_eye_frame'], axis=1)\n",
    "    for column in list(self.le_ellipses.columns):\n",
    "        self.le_df.insert(loc=len(self.le_df.columns), column=column, value=None)\n",
    "    self.re_df = self.final_sync_df.drop(labels=['Arena_frame', 'L_eye_frame'], axis=1)\n",
    "    for column in list(self.re_ellipses.columns):\n",
    "        self.re_df.insert(loc=len(self.re_df.columns), column=column, value=None)\n",
    "    print('populating le_df')\n",
    "    for row in tqdm(self.le_df.index):\n",
    "        try:\n",
    "            frame = self.le_df['L_eye_frame'].loc[row]\n",
    "            if frame == frame:\n",
    "                frame = int(frame)\n",
    "                self.le_df.loc[row, 'center_x'] = self.le_ellipses.iloc[frame]['center_x']\n",
    "                self.le_df.loc[row, 'center_y'] = self.le_ellipses.iloc[frame]['center_y']\n",
    "                self.le_df.loc[row, 'width'] = self.le_ellipses.width[frame]\n",
    "                self.le_df.loc[row, 'height'] = self.le_ellipses.height[frame]\n",
    "                self.le_df.loc[row, 'phi'] = self.le_ellipses.phi[frame]\n",
    "                self.le_df.loc[row, 'ellipse_size'] = self.le_ellipses.ellipse_size[frame]\n",
    "        except IndexError:\n",
    "            print(f'Tried to match frame {row} but there is no frame with this index')\n",
    "            continue\n",
    "        # le_df.at[row, 'rostral_edge'] = le_ellipses.rostral_edge[frame]\n",
    "        # le_df.at[row, 'caudal_edge'] = le_ellipses.caudal_edge[frame]\n",
    "    print('populating re_video_sync_df')\n",
    "    for row in tqdm(self.re_df.index):\n",
    "        try:\n",
    "            frame = self.re_df['R_eye_frame'].loc[row]\n",
    "            if frame == frame:\n",
    "                frame = int(frame)\n",
    "                self.re_df.loc[row, 'center_x'] = self.re_ellipses.iloc[frame]['center_x']\n",
    "                self.re_df.loc[row, 'center_y'] = self.re_ellipses.iloc[frame]['center_y']\n",
    "                self.re_df.loc[row, 'width'] = self.re_ellipses.width[frame]\n",
    "                self.re_df.loc[row, 'height'] = self.re_ellipses.height[frame]\n",
    "                self.re_df.loc[row, 'phi'] = self.re_ellipses.phi[frame]\n",
    "                self.re_df.loc[row, 'ellipse_size'] = self.re_ellipses.ellipse_size[frame]\n",
    "        except IndexError:\n",
    "            print(f'Tried to match frame {frame} but there is no frame with this index')\n",
    "            continue\n",
    "        # re_video_sync_df.at[row, 'rostral_edge'] = re_ellipses.rostral_edge[frame]\n",
    "        # re_video_sync_df.at[row, 'caudal_edge'] = re_ellipses.caudal_edge[frame]\n",
    "    self.re_df['ms_axis'] = self.ms_axis\n",
    "    self.le_df['ms_axis'] = self.ms_axis\n",
    "    print('done')\n",
    "\n",
    "    if export:\n",
    "        print('exporting to analysis folder')\n",
    "        self.re_df.to_csv(self.analysis_path / 're_df.csv')\n",
    "        self.le_df.to_csv(self.analysis_path / 'le_df.csv')"
   ],
   "metadata": {
    "collapsed": false,
    "pycharm": {
     "name": "#%%\n"
    }
   }
  }
 ],
 "metadata": {
  "kernelspec": {
   "display_name": "Python 3",
   "language": "python",
   "name": "python3"
  },
  "language_info": {
   "codemirror_mode": {
    "name": "ipython",
    "version": 2
   },
   "file_extension": ".py",
   "mimetype": "text/x-python",
   "name": "python",
   "nbconvert_exporter": "python",
   "pygments_lexer": "ipython2",
   "version": "2.7.6"
  }
 },
 "nbformat": 4,
 "nbformat_minor": 0
}