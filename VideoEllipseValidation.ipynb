{
 "cells": [
  {
   "cell_type": "code",
   "execution_count": 1,
   "metadata": {
    "collapsed": true
   },
   "outputs": [],
   "source": [
    "import cv2\n",
    "import numpy as np\n",
    "import pathlib\n",
    "import pandas as pd\n",
    "import glob"
   ]
  },
  {
   "cell_type": "raw",
   "source": [
    "This notebook is used to create display a video file together with its ellipse fitting results"
   ],
   "metadata": {
    "collapsed": false,
    "pycharm": {
     "name": "#%% raw\n"
    }
   }
  },
  {
   "cell_type": "code",
   "execution_count": 2,
   "outputs": [],
   "source": [
    "# define the path to the target block\n",
    "block_path = pathlib.Path(r'Z:\\Nimrod\\experiments\\PV_24\\27_12_2021\\block_12')\n",
    "\n",
    "# extract paths to objects of interest\n",
    "le_video = [vid for vid in glob.glob(str(block_path) + r'\\eye_videos\\LE\\**\\*.mp4') if\n",
    "                  \"DLC\" not in vid]\n",
    "re_video = [vid for vid in glob.glob(str(block_path) + r'\\eye_videos\\RE\\**\\*.mp4') if\n",
    "                  \"DLC\" not in vid]\n",
    "le_analysis_path = block_path / 'analysis' / 'le_df.csv'\n",
    "re_analysis_path = block_path / 'analysis' / 're_df.csv'"
   ],
   "metadata": {
    "collapsed": false,
    "pycharm": {
     "name": "#%%\n"
    }
   }
  },
  {
   "cell_type": "code",
   "execution_count": 3,
   "outputs": [],
   "source": [
    "# This cell reads the analysis file and gets it ready for ellipse fitting in the video\n",
    "r_df = pd.read_csv(re_analysis_path)\n",
    "r_width = np.floor(r_df.width.values)\n",
    "\n",
    "r_height = np.floor(r_df.height.values)\n",
    "\n",
    "MmAxes_r = []\n",
    "angle_r = np.floor(np.degrees(r_df.phi.values))\n",
    "\n",
    "center_coords_r = [np.floor(r_df.center_x.values), np.floor(r_df.center_y.values)]\n",
    "\n",
    "for i in range(len(r_width)):\n",
    "    if r_width[i] == r_width[i]:\n",
    "        if r_width[i] > r_height[i]:\n",
    "            MmAxes_r.append((int(r_width[i]),int(r_height[i])))\n",
    "        else:\n",
    "            MmAxes_r.append((int(r_height[i]), int(r_width[i])))\n",
    "    else:\n",
    "        MmAxes_r.append((np.nan, np.nan))"
   ],
   "metadata": {
    "collapsed": false,
    "pycharm": {
     "name": "#%%\n"
    }
   }
  },
  {
   "cell_type": "code",
   "execution_count": 4,
   "outputs": [],
   "source": [
    "### working ###\n",
    "# This cell runs a video of the right eye with overlaid ellipses\n",
    "\n",
    "re_cap = cv2.VideoCapture(re_video[0])\n",
    "frame_n = -1\n",
    "# go over frames of the video\n",
    "while re_cap.isOpened():\n",
    "    bad_flag = 0\n",
    "    # get a frame\n",
    "    re_ret, re_frame = re_cap.read()\n",
    "    if re_ret is True:\n",
    "        frame_n += 1\n",
    "        # find the row in the dataframe that corresponds with the frame_n\n",
    "        try:\n",
    "            i = np.where(r_df.R_eye_frame.values.astype(np.int32) == frame_n)[0][0]\n",
    "        except IndexError:\n",
    "            i = 0\n",
    "\n",
    "        re_frame = cv2.cvtColor(re_frame, cv2.COLOR_BGR2GRAY)\n",
    "        if MmAxes_r[i][0] == MmAxes_r[i][0]:\n",
    "            re_frame_with_ellipse = cv2.ellipse(re_frame,\n",
    "                                                (int(center_coords_r[0][i]),int(center_coords_r[1][i])),\n",
    "                                                (MmAxes_r[i][0], MmAxes_r[i][1]),\n",
    "                                                angle_r[i],\n",
    "                                                0,\n",
    "                                                360,\n",
    "                                                (0, 255, 0),\n",
    "                                                2)\n",
    "            cv2.imshow('Right eye frame', re_frame_with_ellipse)\n",
    "        else:\n",
    "            cv2.imshow('Right eye frame', re_frame)\n",
    "        if cv2.waitKey(5) & 0xFF==ord('q'):\n",
    "            break\n",
    "    else:\n",
    "        break\n",
    "re_cap.release()\n",
    "\n",
    "cv2.destroyAllWindows()"
   ],
   "metadata": {
    "collapsed": false,
    "pycharm": {
     "name": "#%%\n"
    }
   }
  },
  {
   "cell_type": "code",
   "execution_count": 46,
   "outputs": [],
   "source": [
    "cv2.destroyAllWindows()"
   ],
   "metadata": {
    "collapsed": false,
    "pycharm": {
     "name": "#%%\n"
    }
   }
  }
 ],
 "metadata": {
  "kernelspec": {
   "display_name": "Python 3",
   "language": "python",
   "name": "python3"
  },
  "language_info": {
   "codemirror_mode": {
    "name": "ipython",
    "version": 2
   },
   "file_extension": ".py",
   "mimetype": "text/x-python",
   "name": "python",
   "nbconvert_exporter": "python",
   "pygments_lexer": "ipython2",
   "version": "2.7.6"
  }
 },
 "nbformat": 4,
 "nbformat_minor": 0
}