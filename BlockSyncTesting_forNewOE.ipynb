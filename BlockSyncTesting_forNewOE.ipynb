{
 "cells": [
  {
   "cell_type": "code",
   "execution_count": 1,
   "outputs": [],
   "source": [
    "import numpy as np\n",
    "import pathlib\n",
    "import math\n",
    "import tqdm\n",
    "from  open_ephys import analysis as oea\n",
    "import scipy.io\n",
    "from matplotlib import pyplot as plt\n",
    "from BlockSync_current import *\n",
    "from OERecording import *\n",
    "import scipy.io\n",
    "import h5py\n",
    "import re\n",
    "from lxml import etree as ET\n",
    "import scipy.signal as sig\n",
    "import pandas as pd"
   ],
   "metadata": {
    "collapsed": false,
    "pycharm": {
     "name": "#%%\n"
    }
   }
  },
  {
   "cell_type": "code",
   "execution_count": 8,
   "outputs": [],
   "source": [
    "def analyzed_block_automated_pipe(block):\n",
    "    \"\"\"This function runs all the import steps that I am already confident about for a block\n",
    "    that has already gone through synchronization and dlc reading\"\"\"\n",
    "    block.handle_eye_videos()\n",
    "    block.handle_arena_files()\n",
    "    block.parse_open_ephys_events()\n",
    "    #block.synchronize_arena_timestamps()\n",
    "    #block.create_arena_brightness_df(threshold_value=240,export=True)\n",
    "    block.synchronize_block(export=True)\n",
    "    block.create_eye_brightness_df(threshold_value=250)\n",
    "    block.import_manual_sync_df()\n",
    "    block.read_dlc_data()\n",
    "    block.saccade_event_analayzer(threshold=1.5,automatic=True)\n",
    "\n",
    "def nan_helper(y):\n",
    "    \"\"\"Helper to handle indices and logical indices of NaNs.\n",
    "\n",
    "    Input:\n",
    "        - y, 1d numpy array with possible NaNs\n",
    "    Output:\n",
    "        - nans, logical indices of NaNs\n",
    "        - index, a function, with signature indices= index(logical_indices),\n",
    "          to convert logical indices of NaNs to 'equivalent' indices\n",
    "    \"\"\"\n",
    "    return np.isnan(y), lambda z: z.nonzero()[0]\n",
    "\n",
    "def multi_block_saccade_dict_creation_OLD(blocklist):\n",
    "\n",
    "    saccade_dict = {}\n",
    "    # loop over the blocks from here:\n",
    "    for block in blocklist:\n",
    "        # collect accelerometer data\n",
    "        # path definition\n",
    "        p = block.oe_path / 'analysis'\n",
    "        analysis_list = os.listdir(p)\n",
    "        correct_analysis = [i for i in analysis_list if block.animal_call in i][0]\n",
    "        p = p / str(correct_analysis)\n",
    "        matPath = p / 'lizMov.mat'\n",
    "        print(f'path to mat file is {matPath}')\n",
    "        # read mat file\n",
    "        mat_data = h5py.File(str(matPath),'r')\n",
    "        matDict = {'t_mov_ms':mat_data['t_mov_ms'][:],\n",
    "                    'movAll':mat_data['movAll'][:]}\n",
    "        #print(mat_data.keys())\n",
    "\n",
    "        mat_data.close()\n",
    "        # df_dict = {'t_mov_ms':matDict['t_mov_ms'][0,:],\n",
    "        #            'movAll':matDict['movAll'][0,:]}\n",
    "        # df = pd.DataFrame.from_dict(df_dict)\n",
    "\n",
    "        # The t_mov_ms column indicates the times when threshold-crossing movements occurred in Milliseconds from electrophysiology recording beginning\n",
    "        # the movAll column gives the amplitude of said movements as a combination of the 3D accelerometer channels\n",
    "\n",
    "        # It is now needed to synchronize the timebase so that 0 will be the beginning of synchronized time and not beginning of oe recording\n",
    "        # first, find the very first timestamp of the oe recording\n",
    "        session = oea.Session(str(block.oe_path.parent))\n",
    "        rec_node = session.recordnodes[0].recordings[0].continuous[0]\n",
    "        rec_starts = rec_node.timestamps[0]\n",
    "        # second, find the first arena_TTL oe based timestamp\n",
    "        sync_starts = block.final_sync_df.Arena_TTL[0]\n",
    "        # t_mov_ms should have the Milliseconds between beginning of the recording and beginning of synchronized time subtracted to align 0 with the synctime 0\n",
    "        delta_samples = sync_starts - rec_starts\n",
    "        delta_samples_ms = (delta_samples / block.sample_rate) * 1000\n",
    "        synced_t_ms_mov = matDict['t_mov_ms'][0,:] - delta_samples_ms # correction happens here\n",
    "        # now create the df and delete the dict\n",
    "        df_dict = {'t_mov_ms': synced_t_ms_mov,\n",
    "                   'movAll': matDict['movAll'][0,:]}\n",
    "        acc_df = pd.DataFrame.from_dict(df_dict)\n",
    "        del df_dict\n",
    "\n",
    "        # collect saccade events\n",
    "        block.saccade_event_analayzer(automatic=True,threshold=2)\n",
    "\n",
    "        # get all the electrophysiology data of a single electrode:\n",
    "        print(f'getting EP data from block {block.block_num}')\n",
    "        #session = oea.Session(str(block.oe_path.parent))\n",
    "        data = session.recordnodes[0].recordings[0].continuous[0].samples[:,ep_channel]\n",
    "        timestamps = session.recordnodes[0].recordings[0].continuous[0].timestamps\n",
    "        print('done')\n",
    "\n",
    "        # create the top-level block dict object\n",
    "        block_dict = {\n",
    "            'L':{},\n",
    "            'R':{}\n",
    "        }\n",
    "\n",
    "        # create and populate the internal dictionaries (for each eye)\n",
    "        for i, e in enumerate(['L','R']):\n",
    "            # get the correct saccades_chunked object and eye_df\n",
    "            saccades_chunked = [block.l_saccades_chunked,block.r_saccades_chunked][i]\n",
    "            eye_df = [block.le_df,block.re_df][i]\n",
    "            saccades = saccades_chunked[saccades_chunked.saccade_length_frames > 0]\n",
    "            saccade_times = np.sort(saccades.saccade_start_ms.values)\n",
    "            saccade_ts = eye_df[eye_df['ms_axis'].isin(saccade_times)].Arena_TTL.values\n",
    "\n",
    "            # now use the saccade_ts vector to choose samples with a given segment length before and after the saccades\n",
    "            seg_seconds = 2\n",
    "            segment_length = seg_seconds*block.sample_rate #samples\n",
    "            before_saccade_ts = saccade_ts - segment_length\n",
    "            after_saccade_ts = saccade_ts + segment_length\n",
    "\n",
    "            # start populating the dictionary\n",
    "            block_dict[e] = {\n",
    "                \"timestamps\":[],\n",
    "                \"fs\":[],\n",
    "                \"pxx\":[],\n",
    "                \"samples\":[],\n",
    "                \"x_coords\":[],\n",
    "                \"y_coords\":[],\n",
    "                \"vid_inds\":[],\n",
    "                \"accel\":[]\n",
    "            }\n",
    "\n",
    "            # go saccade by saccade\n",
    "            for i in tqdm(range(len(saccade_ts))):\n",
    "\n",
    "                # define the segment range\n",
    "                pre_saccade_sample_ind = np.where(timestamps == int(before_saccade_ts[i]))[0][0]\n",
    "                post_saccade_sample_ind = np.where(timestamps == int(after_saccade_ts[i]))[0][0]\n",
    "                samples_range = range(pre_saccade_sample_ind,post_saccade_sample_ind)\n",
    "                segment_samples = data[samples_range]\n",
    "\n",
    "                # get the spectral profile for the segment\n",
    "                fs, pxx = sig.welch(segment_samples,block.sample_rate,nperseg=16384,return_onesided=True)\n",
    "\n",
    "                # get x and y coordinates for the segment and their indices inside the segment (without reference)\n",
    "                i0 = saccade_ts[i] - (block.sample_rate*2)\n",
    "                i1 = saccade_ts[i] + (block.sample_rate*2)\n",
    "                s_df = eye_df.query(\"Arena_TTL >= @i0 and Arena_TTL <= @i1\")\n",
    "                vid_inds = np.array((s_df.Arena_TTL.values - saccade_ts[i]) + segment_length, dtype='int32')\n",
    "                x_coords = s_df.center_x.values\n",
    "                y_coords = s_df.center_y.values\n",
    "\n",
    "                # deal with missing values here:\n",
    "                interpolated_coords = []\n",
    "                bad_saccade = False\n",
    "                for y in [x_coords, y_coords]:\n",
    "                    nan_count = np.sum(np.isnan(y))\n",
    "                    if nan_count > 0 :\n",
    "                        if nan_count < len(y)/2:\n",
    "                            #print(f'saccade at ind {i} has {nan_count} nans, interpolating...')\n",
    "                            # find nan values in the vector\n",
    "                            nans, z = nan_helper(y)\n",
    "                            # interpolate using the helper lambda function\n",
    "                            y[nans] = np.interp(z(nans),z(~nans),y[~nans])\n",
    "                            # replace the interpolated values for the saccade\n",
    "                            interpolated_coords.append(y)\n",
    "                        else:\n",
    "                            print(f'too many nans at ind {i}, ({np.sum(np.isnan(y))}) - cannot interpolate properly',end='\\r',flush=True)\n",
    "                            bad_saccade = True\n",
    "                    else:\n",
    "                        interpolated_coords.append(y)\n",
    "\n",
    "                # get accelerometer data for the ms_based section:\n",
    "                # get_ms_segment\n",
    "                ms_segment = s_df['ms_axis']\n",
    "                s0 = ms_segment.iloc[0]\n",
    "                s1 = ms_segment.iloc[-1]\n",
    "                mov_mag = np.sum(acc_df.query('t_mov_ms > @s0 and t_mov_ms < @s1').movAll.values)\n",
    "\n",
    "                # remove bad saccades\n",
    "                if bad_saccade:\n",
    "                    continue\n",
    "                # append OK saccades\n",
    "                else:\n",
    "                    block_dict[e]['timestamps'].append(saccade_ts[i])\n",
    "                    block_dict[e]['x_coords'].append(interpolated_coords[0])\n",
    "                    block_dict[e]['y_coords'].append(interpolated_coords[1])\n",
    "                    block_dict[e]['vid_inds'].append(vid_inds)\n",
    "                    block_dict[e]['fs'].append(fs)\n",
    "                    block_dict[e]['pxx'].append(pxx)\n",
    "                    block_dict[e]['samples'].append(segment_samples)\n",
    "                    block_dict[e]['accel'].append(mov_mag)\n",
    "        saccade_dict[block.block_num] = block_dict\n",
    "    return saccade_dict\n",
    "\n",
    "def multi_block_saccade_dict_creation_current(blocklist, sampling_window_ms):\n",
    "\n",
    "    saccade_dict = {}\n",
    "    # loop over the blocks from here:\n",
    "    for block in blocklist:\n",
    "        # collect accelerometer data\n",
    "        # path definition\n",
    "        p = block.oe_path / 'analysis'\n",
    "        analysis_list = os.listdir(p)\n",
    "        correct_analysis = [i for i in analysis_list if block.animal_call in i][0]\n",
    "        p = p / str(correct_analysis)\n",
    "        matPath = p / 'lizMov.mat'\n",
    "        print(f'path to mat file is {matPath}')\n",
    "        # read mat file\n",
    "        mat_data = h5py.File(str(matPath),'r')\n",
    "        mat_dict = {'t_mov_ms':mat_data['t_mov_ms'][:],\n",
    "                    'movAll':mat_data['movAll'][:]}\n",
    "\n",
    "        acc_df = pd.DataFrame(data=np.array([mat_dict['t_mov_ms'][:,0],mat_dict['movAll'][:,0]]).T, columns=['t_mov_ms','movAll'])\n",
    "        #print(mat_data.keys())\n",
    "\n",
    "        mat_data.close()\n",
    "\n",
    "        block.saccade_event_analayzer(automatic=True,threshold=2)\n",
    "\n",
    "        # create the top-level block dict object\n",
    "        block_dict = {\n",
    "            'L':{},\n",
    "            'R':{}\n",
    "        }\n",
    "\n",
    "        # create and populate the internal dictionaries (for each eye)\n",
    "        for i, e in enumerate(['L','R']):\n",
    "            # get the correct saccades_chunked object and eye_df\n",
    "            saccades_chunked = [block.l_saccades_chunked,block.r_saccades_chunked][i]\n",
    "            eye_df = [block.le_df,block.re_df][i]\n",
    "            saccades = saccades_chunked[saccades_chunked.saccade_length_frames > 0]\n",
    "            saccade_times = np.sort(saccades.saccade_start_ms.values)\n",
    "            ep_channel_numbers = [8]\n",
    "            pre_saccade_ts = saccade_times - (sampling_window_ms / 2) #\n",
    "\n",
    "            # get the data of the relevant saccade time windows:\n",
    "            print(f'calling get_data with the following inputs:'\n",
    "                  f'eye = {e}'\n",
    "                  f'block = {block}'\n",
    "                  f'pre_saccade_ts = {pre_saccade_ts} \\n'\n",
    "                  f'sampling_window_ms = {sampling_window_ms}')\n",
    "            ep_data, ep_timestamps = block.oe_rec.get_data(ep_channel_numbers,pre_saccade_ts, sampling_window_ms, convert_to_mv=True) # [n_channels, n_windows, nSamples]\n",
    "\n",
    "            # start populating the dictionary\n",
    "            block_dict[e] = {\n",
    "                \"timestamps\":[],\n",
    "                \"fs\":[],\n",
    "                \"pxx\":[],\n",
    "                \"samples\":[],\n",
    "                \"x_coords\":[],\n",
    "                \"y_coords\":[],\n",
    "                \"vid_inds\":[],\n",
    "                \"accel\":[]\n",
    "            }\n",
    "\n",
    "            # go saccade by saccade\n",
    "            for j in range(len(pre_saccade_ts)):\n",
    "                # get specific saccade samples:\n",
    "                saccade_samples = ep_data[0,j,:] # [n_channels, n_windows, nSamples]\n",
    "                # get the spectral profile for the segment\n",
    "                fs, pxx = sig.welch(saccade_samples,block.sample_rate,nperseg=16384,return_onesided=True)\n",
    "\n",
    "                j0 = pre_saccade_ts[j]\n",
    "                j1 = pre_saccade_ts[j] + sampling_window_ms\n",
    "                s_df = eye_df.query(\"ms_axis >= @j0 and ms_axis <= @j1\")\n",
    "                x_coords = s_df['center_x'].values\n",
    "                y_coords = s_df['center_y'].values\n",
    "                vid_inds = np.array(s_df.Arena_TTL.values - s_df.Arena_TTL.values[0], dtype='int32')\n",
    "\n",
    "                #deal with missing datapoints in saccades:\n",
    "                interpolated_coords = []\n",
    "                bad_saccade = False\n",
    "                for y in [x_coords, y_coords]:\n",
    "                    nan_count = np.sum(np.isnan(y.astype(float)))\n",
    "                    if nan_count > 0 :\n",
    "                        if nan_count < len(y)/2:\n",
    "                            #print(f'saccade at ind {i} has {nan_count} nans, interpolating...')\n",
    "                            # find nan values in the vector\n",
    "                            nans, z = nan_helper(y.astype(float))\n",
    "                            # interpolate using the helper lambda function\n",
    "                            y[nans] = np.interp(z(nans),z(~nans),y[~nans].astype(float))\n",
    "                            # replace the interpolated values for the saccade\n",
    "                            interpolated_coords.append(y)\n",
    "                        else:\n",
    "                            print(f'too many nans at ind {j}, ({np.sum(np.isnan(y))}) - cannot interpolate properly',end='\\r',flush=True)\n",
    "                            bad_saccade = True\n",
    "                    else:\n",
    "                        interpolated_coords.append(y)\n",
    "\n",
    "                # get accelerometer data for the ms_based section:\n",
    "                # get_ms_segment\n",
    "                ms_segment = s_df['ms_axis']\n",
    "                s0 = ms_segment.iloc[0]\n",
    "                s1 = ms_segment.iloc[-1]\n",
    "                mov_mag = np.sum(acc_df.query('t_mov_ms > @s0 and t_mov_ms < @s1').movAll.values)\n",
    "\n",
    "                # remove bad saccades\n",
    "                if bad_saccade:\n",
    "                    continue\n",
    "                # append OK saccades\n",
    "                else:\n",
    "                    block_dict[e]['timestamps'].append(pre_saccade_ts[j])\n",
    "                    block_dict[e]['x_coords'].append(interpolated_coords[0])\n",
    "                    block_dict[e]['y_coords'].append(interpolated_coords[1])\n",
    "                    block_dict[e]['vid_inds'].append(vid_inds)\n",
    "                    block_dict[e]['fs'].append(fs)\n",
    "                    block_dict[e]['pxx'].append(pxx)\n",
    "                    block_dict[e]['samples'].append(saccade_samples)\n",
    "                    block_dict[e]['accel'].append(mov_mag)\n",
    "        saccade_dict[block.block_num] = block_dict\n",
    "    return saccade_dict\n",
    "\n",
    "def sort_synced_saccades(b_dict):\n",
    "    \"\"\"\n",
    "    This function takes a saccades dictionary and returns two sorted dictionaries - one with synced saccades, the other with non-synced saccades\n",
    "    :param b_dict:\n",
    "    :return:\n",
    "    \"\"\"\n",
    "    # get the two timestamps vectors\n",
    "    l_times = np.array(b_dict['L']['timestamps'])\n",
    "    r_times = np.array(b_dict['R']['timestamps'])\n",
    "\n",
    "    # I want to collect the matching indices from the L and R dictionaries and create a \"synced saccades dict\" object that only has two-eyed saccades included in it\n",
    "    # first, I have to understand which rows of the dictionaries go together:\n",
    "    # create a matrix of [left eye timestamp, -,left eye ind, -]\n",
    "    s_mat = np.empty([len(l_times),5])\n",
    "    s_mat[:,0] = l_times\n",
    "    s_mat[:,2] = np.arange(0,len(l_times))\n",
    "    # find and fit the right eye times and indices on columns 1 and 3\n",
    "    for i, lt in enumerate(s_mat[:,0]):\n",
    "        array = np.abs((r_times - lt))\n",
    "        ind_min_diff = np.argmin(array)\n",
    "        min_diff = array[ind_min_diff]\n",
    "        rt = r_times[ind_min_diff]\n",
    "        s_mat[i,3] = ind_min_diff\n",
    "        s_mat[i,1] = rt\n",
    "        s_mat[i,4] = min_diff\n",
    "\n",
    "    # create a dataframe for queries and testing, define a threshold and remove non sync saccades\n",
    "    s_df = pd.DataFrame(s_mat,columns=['lt','rt','left_ind','right_ind','diff'])\n",
    "    threshold = 1400 # 70 ms to consider a saccade simultaneous\n",
    "    s_df = s_df.query('diff<@threshold')\n",
    "    ind_dict = {\n",
    "        'L':s_df['left_ind'].values,\n",
    "        'R':s_df['right_ind'].values\n",
    "    }\n",
    "\n",
    "    # create a synced dictionary for the block:\n",
    "    synced_b_dict = {\n",
    "        'L':{},\n",
    "        'R':{}\n",
    "    }\n",
    "    for e in ['L','R']:\n",
    "        inds = ind_dict[e].astype(int)\n",
    "        synced_b_dict[e] = {\n",
    "            \"timestamps\":np.array(b_dict[e]['timestamps'])[inds],\n",
    "            \"fs\":np.array(b_dict[e]['fs'])[inds],\n",
    "            \"pxx\":np.array(b_dict[e]['pxx'])[inds],\n",
    "            \"samples\":np.array(b_dict[e]['samples'])[inds],\n",
    "            \"x_coords\":np.array(b_dict[e]['x_coords'])[inds],\n",
    "            \"y_coords\":np.array(b_dict[e]['y_coords'])[inds],\n",
    "            \"vid_inds\":np.array(b_dict[e]['vid_inds'])[inds],\n",
    "            \"accel\":np.array(b_dict[e]['accel'])[inds]\n",
    "        }\n",
    "\n",
    "    non_sync_b_dict = {\n",
    "        'L':{},\n",
    "        'R':{}\n",
    "    }\n",
    "    for e in ['L','R']:\n",
    "        inds = ind_dict[e].astype(int)\n",
    "        logical = np.ones(len(b_dict[e]['timestamps'])).astype(np.bool)\n",
    "        logical[inds] = 0\n",
    "        non_sync_b_dict[e] = {\n",
    "            \"timestamps\":np.array(b_dict[e]['timestamps'])[logical],\n",
    "            \"fs\":np.array(b_dict[e]['fs'])[logical],\n",
    "            \"pxx\":np.array(b_dict[e]['pxx'])[logical],\n",
    "            \"samples\":np.array(b_dict[e]['samples'])[logical],\n",
    "            \"x_coords\":np.array(b_dict[e]['x_coords'])[logical],\n",
    "            \"y_coords\":np.array(b_dict[e]['y_coords'])[logical],\n",
    "            \"vid_inds\":np.array(b_dict[e]['vid_inds'])[logical],\n",
    "            \"accel\":np.array(b_dict[e]['accel'])[logical]\n",
    "        }\n",
    "    return synced_b_dict, non_sync_b_dict"
   ],
   "metadata": {
    "collapsed": false,
    "pycharm": {
     "name": "#%%\n"
    }
   }
  },
  {
   "cell_type": "code",
   "execution_count": 6,
   "outputs": [
    {
     "name": "stdout",
     "output_type": "stream",
     "text": [
      "path to mat file is Z:\\Nimrod\\experiments\\PV_62\\2023_06_21\\block_072\\oe_files\\2023-06-21_14-31-03\\Record Node 108\\analysis\\recNames=Block0072,Animal=PV_62\\lizMov.mat\n",
      "loaded chunked saccade data from analysis folder\n",
      "calling get_data with the following inputs:eye = Lblock = PV_62, block 072, on 2023-06-21_14-31-03pre_saccade_ts = [ 41978.5   43252.6   44764.7   55451.7   61176.55  64353.55  64659.4\n",
      "  71965.85 104672.8  104859.7  107918.3  108207.2  108733.95 121697.75\n",
      " 121833.65 167822.1  170964.35 181053.75 193062.6  196596.1  197496.6\n",
      " 313384.9  315712.55 340260.15 341891.2  374225.5  374310.4  374378.4\n",
      " 374480.3  374769.05 375737.35 377588.85 377979.65 379814.3  384027.25\n",
      " 384417.9  384502.9  396106.2  396208.1  404888.9  406111.95 406213.9\n",
      " 406417.75 406553.7  417426.   434023.95 442771.8  562042.15 755083.85] \n",
      "sampling_window_ms = 2000\n",
      "sample removed for window #46\n",
      "The requested data segment between 14721 ms and [[16721.]] ms exceeds the recording length, and will be 0-padded to fit the other windows\n",
      "calling get_data with the following inputs:eye = Rblock = PV_62, block 072, on 2023-06-21_14-31-03pre_saccade_ts = [ 38037.45  42063.45  49419.8   55553.65 339699.45 354923.2  355331.05\n",
      " 374497.25] \n",
      "sampling_window_ms = 2000\n",
      "sample removed for window #1\n",
      "The requested data segment between 7288 ms and [[9288.]] ms exceeds the recording length, and will be 0-padded to fit the other windows\n",
      "path to mat file is Z:\\Nimrod\\experiments\\PV_62\\2023_06_21\\block_073\\oe_files\\2023-06-21_14-45-37\\Record Node 108\\analysis\\recNames=Block0073,Animal=PV_62\\lizMov.mat\n",
      "loaded chunked saccade data from analysis folder\n",
      "calling get_data with the following inputs:eye = Lblock = PV_62, block 073, on 2023-06-21_14-45-37pre_saccade_ts = [  52971.55   53566.     53956.65   61855.1    63128.85   63264.75\n",
      "   74357.35   84736.65   89730.35  110964.35  210262.15  276311.75\n",
      "  276396.65  277840.55  279828.35  295764.85  362873.45  363179.35\n",
      "  365965.55  366815.    409439.55  409507.45  410832.25  410934.15\n",
      "  411019.1   411104.    412462.85  413210.05  413940.3   414161.15\n",
      "  414670.65  416301.2   420343.8   440713.15  445080.1   469312.35\n",
      "  625292.1   625461.95  625563.85  625631.8   625733.75  625971.5\n",
      "  627126.6   627381.4   628434.5   632221.7   633767.45  664035.95\n",
      "  664154.8   795406.2   911049.5   922109.65 1007675.35 1009170.05\n",
      " 1010580.1  1010733.   1010885.85 1010970.75 1012975.   1022384.7\n",
      " 1030672.75 1039641.25 1055642.5  1069146.05 1069638.55 1069842.35\n",
      " 1070912.45] \n",
      "sampling_window_ms = 2000\n",
      "sample removed for window #3\n",
      "sample removed for window #6\n",
      "sample removed for window #10\n",
      "sample removed for window #15\n",
      "sample removed for window #18\n",
      "sample removed for window #35\n",
      "sample removed for window #37\n",
      "sample removed for window #39\n",
      "sample removed for window #52\n",
      "sample removed for window #56\n",
      "The requested data segment between 20916 ms and [[22916.]] ms exceeds the recording length, and will be 0-padded to fit the other windows\n",
      "calling get_data with the following inputs:eye = Rblock = PV_62, block 073, on 2023-06-21_14-45-37pre_saccade_ts = [287660.55 413159.1  413889.35 414704.65 443958.6 ] \n",
      "sampling_window_ms = 2000\n",
      "sample removed for window #4\n",
      "path to mat file is Z:\\Nimrod\\experiments\\PV_62\\2023_06_21\\block_074\\oe_files\\2023-06-21_15-05-38\\Record Node 108\\analysis\\recNames=Block0074,Animal=PV_62\\lizMov.mat\n",
      "loaded chunked saccade data from analysis folder\n",
      "calling get_data with the following inputs:eye = Lblock = PV_62, block 074, on 2023-06-21_15-05-38pre_saccade_ts = [128217.5  133856.55 167979.   307826.55 340777.35 367802.7  367887.65\n",
      " 385926.7  386079.55 477124.15 493363.75 509400.55 509893.1  511370.8\n",
      " 511625.6  514734.5 ] \n",
      "sampling_window_ms = 2000\n",
      "sample removed for window #13\n",
      "The requested data segment between 10053 ms and [[12053.]] ms exceeds the recording length, and will be 0-padded to fit the other windows\n",
      "calling get_data with the following inputs:eye = Rblock = PV_62, block 074, on 2023-06-21_15-05-38pre_saccade_ts = [ 62222.15 139002.85 140395.5  140939.15 141058.05 141278.85 143028.55\n",
      " 143419.2  144064.65 145423.4  145525.35 145933.   146017.9  146663.25\n",
      " 148276.8  148769.3  149007.05 156717.1  187887.15 385960.7  386793.1\n",
      " 509111.75 510504.55 511387.8  511659.55 514751.5  514870.45 523449.15\n",
      " 531737.1  532943.05 533061.95 533469.6  533554.55 533673.4  534590.6\n",
      " 534743.45 535405.8  535473.75 541894.2  541962.15 543371.9  543541.75\n",
      " 544187.   547566.4 ] \n",
      "sampling_window_ms = 2000\n",
      "sample removed for window #6\n",
      "sample removed for window #14\n",
      "sample removed for window #18\n",
      "sample removed for window #29\n",
      "sample removed for window #30\n",
      "sample removed for window #35\n",
      "The requested data segment between 10694 ms and [[12694.]] ms exceeds the recording length, and will be 0-padded to fit the other windows\n",
      "path to mat file is Z:\\Nimrod\\experiments\\PV_62\\2023_06_21\\block_075\\oe_files\\2023-06-21_15-25-44\\Record Node 108\\analysis\\recNames=Block0075,Animal=PV_62\\lizMov.mat\n",
      "loaded chunked saccade data from analysis folder\n",
      "calling get_data with the following inputs:eye = Lblock = PV_62, block 075, on 2023-06-21_15-25-44pre_saccade_ts = [ 25968.65  32778.75  56338.6   58513.2   61927.75  66446.65  75601.75\n",
      "  80289.3   81528.95  81698.8   82259.2   83413.95  83566.8   85944.6\n",
      "  86318.3   86386.2   88339.35  91005.9   97358.15 103201.45 120321.95\n",
      " 121256.3  122105.65 133809.2  186887.5  249599.7  299775.35 306432.35\n",
      " 314600.15 317928.2  349376.65 373081.55 390094.9  419112.85 424630.95\n",
      " 424715.85 429554.7  430284.9  431099.95 438181.25 440167.8  449370.65\n",
      " 454584.05 473586.2  484827.45 500860.5  503170.15 503272.   504256.95\n",
      " 511508.8  528966.1  538356.8 ] \n",
      "sampling_window_ms = 2000\n",
      "sample removed for window #5\n",
      "sample removed for window #10\n",
      "sample removed for window #18\n",
      "sample removed for window #23\n",
      "sample removed for window #40\n",
      "sample removed for window #51\n",
      "The requested data segment between 10514 ms and [[12514.]] ms exceeds the recording length, and will be 0-padded to fit the other windows\n",
      "calling get_data with the following inputs:eye = Rblock = PV_62, block 075, on 2023-06-21_15-25-44pre_saccade_ts = [ 52550.95  56083.8   58496.15  75601.75  76875.55  79558.95  80289.3\n",
      "  80357.2   81545.95  82259.2   83396.95  85944.6   86063.5   86131.45\n",
      "  88339.35  91005.9   92568.45  94046.05  97341.15  97494.1  108364.55\n",
      " 120321.95 122122.6  124484.25 125299.45 131566.75 133809.2  141843.15\n",
      " 144034.1  158456.45 167033.8  186938.45 195990.4  213554.95 213639.9\n",
      " 222132.25 228892.05 237504.4  249752.55 259383.9  273839.4  284998.9\n",
      " 295699.35 299792.35 305124.8  306449.3  314600.15 344400.85 373064.55\n",
      " 419095.9  424630.95 425174.25 425293.05 428298.3  428536.   429537.7\n",
      " 430284.9  431066.   438198.2  440167.8  473603.2  481447.9  484810.45\n",
      " 500860.5  503153.15 504240.   505106.   507992.85 511491.85 528949.1\n",
      " 538373.8 ] \n",
      "sampling_window_ms = 2000\n",
      "sample removed for window #0\n",
      "sample removed for window #9\n",
      "sample removed for window #18\n",
      "sample removed for window #26\n",
      "sample removed for window #39\n",
      "sample removed for window #47\n",
      "sample removed for window #59\n",
      "sample removed for window #67\n",
      "The requested data segment between 10515 ms and [[12515.]] ms exceeds the recording length, and will be 0-padded to fit the other windows\n"
     ]
    }
   ],
   "source": [
    "# function variables:\n",
    "sampling_window_ms = 2000 # milliseconds (THIS SHOULD BE IN THE FUNCTION CALL!!!!)\n",
    "\n",
    "\n",
    "saccade_dict = multi_block_saccade_dict_creation_current(block_collection, sampling_window_ms=sampling_window_ms)\n"
   ],
   "metadata": {
    "collapsed": false,
    "pycharm": {
     "name": "#%%\n"
    }
   }
  },
  {
   "cell_type": "code",
   "execution_count": 9,
   "outputs": [
    {
     "name": "stderr",
     "output_type": "stream",
     "text": [
      "<ipython-input-8-0f49ae986326>:342: VisibleDeprecationWarning: Creating an ndarray from ragged nested sequences (which is a list-or-tuple of lists-or-tuples-or ndarrays with different lengths or shapes) is deprecated. If you meant to do this, you must specify 'dtype=object' when creating the ndarray\n",
      "  \"x_coords\":np.array(b_dict[e]['x_coords'])[inds],\n",
      "<ipython-input-8-0f49ae986326>:343: VisibleDeprecationWarning: Creating an ndarray from ragged nested sequences (which is a list-or-tuple of lists-or-tuples-or ndarrays with different lengths or shapes) is deprecated. If you meant to do this, you must specify 'dtype=object' when creating the ndarray\n",
      "  \"y_coords\":np.array(b_dict[e]['y_coords'])[inds],\n",
      "<ipython-input-8-0f49ae986326>:344: VisibleDeprecationWarning: Creating an ndarray from ragged nested sequences (which is a list-or-tuple of lists-or-tuples-or ndarrays with different lengths or shapes) is deprecated. If you meant to do this, you must specify 'dtype=object' when creating the ndarray\n",
      "  \"vid_inds\":np.array(b_dict[e]['vid_inds'])[inds],\n",
      "<ipython-input-8-0f49ae986326>:361: VisibleDeprecationWarning: Creating an ndarray from ragged nested sequences (which is a list-or-tuple of lists-or-tuples-or ndarrays with different lengths or shapes) is deprecated. If you meant to do this, you must specify 'dtype=object' when creating the ndarray\n",
      "  \"x_coords\":np.array(b_dict[e]['x_coords'])[logical],\n",
      "<ipython-input-8-0f49ae986326>:362: VisibleDeprecationWarning: Creating an ndarray from ragged nested sequences (which is a list-or-tuple of lists-or-tuples-or ndarrays with different lengths or shapes) is deprecated. If you meant to do this, you must specify 'dtype=object' when creating the ndarray\n",
      "  \"y_coords\":np.array(b_dict[e]['y_coords'])[logical],\n",
      "<ipython-input-8-0f49ae986326>:363: VisibleDeprecationWarning: Creating an ndarray from ragged nested sequences (which is a list-or-tuple of lists-or-tuples-or ndarrays with different lengths or shapes) is deprecated. If you meant to do this, you must specify 'dtype=object' when creating the ndarray\n",
      "  \"vid_inds\":np.array(b_dict[e]['vid_inds'])[logical],\n"
     ]
    }
   ],
   "source": [
    "all_sync_dict = {}\n",
    "non_sync_dict = {}\n",
    "for k in saccade_dict.keys():\n",
    "    k_dict = saccade_dict[k]\n",
    "    sync_saccades, non_sync_saccades = sort_synced_saccades(k_dict)\n",
    "    all_sync_dict[k] = sync_saccades\n",
    "    non_sync_dict[k] = non_sync_saccades"
   ],
   "metadata": {
    "collapsed": false,
    "pycharm": {
     "name": "#%%\n"
    }
   }
  },
  {
   "cell_type": "code",
   "execution_count": 81,
   "outputs": [
    {
     "name": "stdout",
     "output_type": "stream",
     "text": [
      "0\n",
      "[18171 18172 18173 18174 18175 18176 18177 18178 18179 18180 18181 18182\n",
      " 18183 18184 18185 18186 18187 18188 18189 18190 18191 18192 18193 18194\n",
      " 18195 18196 18197 18198 18199 18200 18201 18202 18203 18204 18205 18206\n",
      " 18207 18208 18209 18210]\n",
      "1\n",
      "[18183 18184 18185 18186 18187 18188 18189 18190 18191 18192 18193 18194\n",
      " 18195 18196 18197 18198 18199 18200 18201 18202 18203 18204 18205 18206\n",
      " 18207 18208 18209 18210 18211 18212 18213 18214 18215 18216 18217 18218\n",
      " 18219 18220 18221 18222]\n",
      "2\n",
      "[18191 18192 18193 18194 18195 18196 18197 18198 18199 18200 18201 18202\n",
      " 18203 18204 18205 18206 18207 18208 18209 18210 18211 18212 18213 18214\n",
      " 18215 18216 18217 18218 18219 18220 18221 18222 18223 18224 18225 18226\n",
      " 18227 18228 18229 18230]\n",
      "sample removed for window #2\n",
      "3\n",
      "[18345 18346 18347 18348 18349 18350 18351 18352 18353 18354 18355 18356\n",
      " 18357 18358 18359 18360 18361 18362 18363 18364 18365 18366 18367 18368\n",
      " 18369 18370 18371 18372 18373 18374 18375 18376 18377 18378 18379 18380\n",
      " 18381 18382 18383 18384]\n",
      "4\n",
      "[18370 18371 18372 18373 18374 18375 18376 18377 18378 18379 18380 18381\n",
      " 18382 18383 18384 18385 18386 18387 18388 18389 18390 18391 18392 18393\n",
      " 18394 18395 18396 18397 18398 18399 18400 18401 18402 18403 18404 18405\n",
      " 18406 18407 18408 18409]\n",
      "5\n",
      "[18372 18373 18374 18375 18376 18377 18378 18379 18380 18381 18382 18383\n",
      " 18384 18385 18386 18387 18388 18389 18390 18391 18392 18393 18394 18395\n",
      " 18396 18397 18398 18399 18400 18401 18402 18403 18404 18405 18406 18407\n",
      " 18408 18409 18410 18411]\n",
      "6\n",
      "[18589 18590 18591 18592 18593 18594 18595 18596 18597 18598 18599 18600\n",
      " 18601 18602 18603 18604 18605 18606 18607 18608 18609 18610 18611 18612\n",
      " 18613 18614 18615 18616 18617 18618 18619 18620 18621 18622 18623 18624\n",
      " 18625 18626 18627 18628]\n",
      "7\n",
      "[18792 18793 18794 18795 18796 18797 18798 18799 18800 18801 18802 18803\n",
      " 18804 18805 18806 18807 18808 18809 18810 18811 18812 18813 18814 18815\n",
      " 18816 18817 18818 18819 18820 18821 18822 18823 18824 18825 18826 18827\n",
      " 18828 18829 18830 18831]\n",
      "8\n",
      "[18889 18890 18891 18892 18893 18894 18895 18896 18897 18898 18899 18900\n",
      " 18901 18902 18903 18904 18905 18906 18907 18908 18909 18910 18911 18912\n",
      " 18913 18914 18915 18916 18917 18918 18919 18920 18921 18922 18923 18924\n",
      " 18925 18926 18927 18928]\n",
      "9\n",
      "[19304 19305 19306 19307 19308 19309 19310 19311 19312 19313 19314 19315\n",
      " 19316 19317 19318 19319 19320 19321 19322 19323 19324 19325 19326 19327\n",
      " 19328 19329 19330 19331 19332 19333 19334 19335 19336 19337 19338 19339\n",
      " 19340 19341 19342 19343]\n",
      "10\n",
      "[21243 21244 21245 21246 21247 21248 21249 21250 21251 21252 21253 21254\n",
      " 21255 21256 21257 21258 21259 21260 21261 21262 21263 21264 21265 21266\n",
      " 21267 21268 21269 21270 21271 21272 21273 21274 21275 21276 21277 21278\n",
      " 21279 21280 21281 21282]\n",
      "11\n",
      "[22533 22534 22535 22536 22537 22538 22539 22540 22541 22542 22543 22544\n",
      " 22545 22546 22547 22548 22549 22550 22551 22552 22553 22554 22555 22556\n",
      " 22557 22558 22559 22560 22561 22562 22563 22564 22565 22566 22567 22568\n",
      " 22569 22570 22571 22572 22573]\n",
      "12\n",
      "[22535 22536 22537 22538 22539 22540 22541 22542 22543 22544 22545 22546\n",
      " 22547 22548 22549 22550 22551 22552 22553 22554 22555 22556 22557 22558\n",
      " 22559 22560 22561 22562 22563 22564 22565 22566 22567 22568 22569 22570\n",
      " 22571 22572 22573 22574]\n",
      "13\n",
      "[22563 22564 22565 22566 22567 22568 22569 22570 22571 22572 22573 22574\n",
      " 22575 22576 22577 22578 22579 22580 22581 22582 22583 22584 22585 22586\n",
      " 22587 22588 22589 22590 22591 22592 22593 22594 22595 22596 22597 22598\n",
      " 22599 22600 22601 22602]\n",
      "14\n",
      "[22602 22603 22604 22605 22606 22607 22608 22609 22610 22611 22612 22613\n",
      " 22614 22615 22616 22617 22618 22619 22620 22621 22622 22623 22624 22625\n",
      " 22626 22627 22628 22629 22630 22631 22632 22633 22634 22635 22636 22637\n",
      " 22638 22639 22640 22641]\n",
      "15\n",
      "[22913 22914 22915 22916 22917 22918 22919 22920 22921 22922 22923 22924\n",
      " 22925 22926 22927 22928 22929 22930 22931 22932 22933 22934 22935 22936\n",
      " 22937 22938 22939 22940 22941 22942 22943 22944 22945 22946 22947 22948\n",
      " 22949 22950 22951 22952]\n",
      "16\n",
      "[]\n"
     ]
    },
    {
     "ename": "IndexError",
     "evalue": "index 0 is out of bounds for axis 0 with size 0",
     "output_type": "error",
     "traceback": [
      "\u001B[1;31m---------------------------------------------------------------------------\u001B[0m",
      "\u001B[1;31mIndexError\u001B[0m                                Traceback (most recent call last)",
      "\u001B[1;32m<ipython-input-81-fb82010da934>\u001B[0m in \u001B[0;36m<module>\u001B[1;34m\u001B[0m\n\u001B[0;32m     12\u001B[0m  1948339.65]\n\u001B[0;32m     13\u001B[0m \u001B[0mblock\u001B[0m \u001B[1;33m=\u001B[0m \u001B[0mblock_collection\u001B[0m\u001B[1;33m[\u001B[0m\u001B[1;36m1\u001B[0m\u001B[1;33m]\u001B[0m\u001B[1;33m\u001B[0m\u001B[1;33m\u001B[0m\u001B[0m\n\u001B[1;32m---> 14\u001B[1;33m \u001B[0mdata\u001B[0m \u001B[1;33m=\u001B[0m \u001B[0mget_data\u001B[0m\u001B[1;33m(\u001B[0m\u001B[0mblock\u001B[0m\u001B[1;33m.\u001B[0m\u001B[0moe_rec\u001B[0m\u001B[1;33m,\u001B[0m\u001B[1;33m[\u001B[0m\u001B[1;36m17\u001B[0m\u001B[1;33m]\u001B[0m\u001B[1;33m,\u001B[0m\u001B[0ma\u001B[0m\u001B[1;33m,\u001B[0m\u001B[1;36m2000\u001B[0m\u001B[1;33m)\u001B[0m\u001B[1;33m\u001B[0m\u001B[1;33m\u001B[0m\u001B[0m\n\u001B[0m",
      "\u001B[1;32m<ipython-input-36-2c8d89d73d33>\u001B[0m in \u001B[0;36mget_data\u001B[1;34m(self, channels, start_time_ms, window_ms, convert_to_mv, return_timestamps)\u001B[0m\n\u001B[0;32m     42\u001B[0m         \u001B[0mprint\u001B[0m\u001B[1;33m(\u001B[0m\u001B[0mp_single_trial_time_stamps\u001B[0m\u001B[1;33m)\u001B[0m\u001B[1;33m\u001B[0m\u001B[1;33m\u001B[0m\u001B[0m\n\u001B[0;32m     43\u001B[0m         \u001B[1;31m# this collects the indices to start reading from\u001B[0m\u001B[1;33m\u001B[0m\u001B[1;33m\u001B[0m\u001B[1;33m\u001B[0m\u001B[0m\n\u001B[1;32m---> 44\u001B[1;33m         \u001B[0mread_start_indices\u001B[0m\u001B[1;33m.\u001B[0m\u001B[0mappend\u001B[0m\u001B[1;33m(\u001B[0m\u001B[0mp_single_trial_time_stamps\u001B[0m\u001B[1;33m[\u001B[0m\u001B[1;36m0\u001B[0m\u001B[1;33m]\u001B[0m\u001B[1;33m)\u001B[0m\u001B[1;33m\u001B[0m\u001B[1;33m\u001B[0m\u001B[0m\n\u001B[0m\u001B[0;32m     45\u001B[0m \u001B[1;33m\u001B[0m\u001B[0m\n\u001B[0;32m     46\u001B[0m \u001B[1;33m\u001B[0m\u001B[0m\n",
      "\u001B[1;31mIndexError\u001B[0m: index 0 is out of bounds for axis 0 with size 0"
     ]
    }
   ],
   "source": [
    "a = [ 930398.75,  930993.2,   931383.85,  939282.3,   940556.05,  940691.95,\n",
    "  951784.55,  962163.85,  967157.55,  988391.55, 1087689.35, 1153738.95,\n",
    " 1153823.85, 1155267.75, 1157255.55, 1173192.05, 1240300.65, 1240606.55,\n",
    " 1243392.75, 1244242.2,  1286866.75, 1286934.65, 1288259.45, 1288361.35,\n",
    " 1288446.3,  1288531.2,  1289890.05, 1290637.25, 1291367.5,  1291588.35,\n",
    " 1292097.85, 1293728.4,  1297771.,   1318140.35, 1322507.3, 1346739.55,\n",
    " 1502719.3,  1502889.15, 1502991.05, 1503059.,   1503160.95, 1503398.7,\n",
    " 1504553.8,  1504808.6,  1505861.7,  1509648.9,  1511194.65, 1541463.15,\n",
    " 1541582.,   1672833.4,  1788476.7,  1799536.85, 1885102.55, 1886597.25,\n",
    " 1888007.3,  1888160.2,  1888313.05, 1888397.95, 1890402.2,  1899811.9,\n",
    " 1908099.95, 1917068.45, 1933069.7,  1946573.25, 1947065.75, 1947269.55,\n",
    " 1948339.65]\n",
    "block = block_collection[1]\n",
    "data = get_data(block.oe_rec,[17],a,2000)"
   ],
   "metadata": {
    "collapsed": false,
    "pycharm": {
     "name": "#%%\n"
    }
   }
  },
  {
   "cell_type": "code",
   "execution_count": 84,
   "outputs": [
    {
     "data": {
      "text/plain": "array([[13776.5]])"
     },
     "execution_count": 84,
     "metadata": {},
     "output_type": "execute_result"
    }
   ],
   "source": [
    "(block.oe_rec.allTimeStamps[0][-1] + block.oe_rec.globalStartTime_ms) - np.array(block.final_sync_df.Arena_TTL.values / 20)[-1]"
   ],
   "metadata": {
    "collapsed": false,
    "pycharm": {
     "name": "#%%\n"
    }
   }
  },
  {
   "cell_type": "code",
   "execution_count": 83,
   "outputs": [
    {
     "data": {
      "text/plain": "array([[0.0000000e+00, 5.1200000e+01, 1.0240000e+02, ..., 1.1754496e+06,\n        1.1755008e+06, 1.1755520e+06]])"
     },
     "execution_count": 83,
     "metadata": {},
     "output_type": "execute_result"
    }
   ],
   "source": [
    "a = np.array([block.final_sync_df.Arena_TTL.values / 20, block.ms_axis])\n",
    "block.oe_rec.allTimeStamps"
   ],
   "metadata": {
    "collapsed": false,
    "pycharm": {
     "name": "#%%\n"
    }
   }
  },
  {
   "cell_type": "code",
   "execution_count": 92,
   "outputs": [
    {
     "data": {
      "text/plain": "array([[17548544.]])"
     },
     "execution_count": 92,
     "metadata": {},
     "output_type": "execute_result"
    }
   ],
   "source": [
    "block.oe_events.Arena_TTL.values[0]\n",
    "block.oe_rec.globalStartTime_ms * (block.sample_rate/1000)"
   ],
   "metadata": {
    "collapsed": false,
    "pycharm": {
     "name": "#%%\n"
    }
   }
  },
  {
   "cell_type": "code",
   "execution_count": 91,
   "outputs": [
    {
     "data": {
      "text/plain": "BlockSync object for animal PV_62 with \nblock_num 073 at date 2023-06-21_14-45-37"
     },
     "execution_count": 91,
     "metadata": {},
     "output_type": "execute_result"
    }
   ],
   "source": [
    "block."
   ],
   "metadata": {
    "collapsed": false,
    "pycharm": {
     "name": "#%%\n"
    }
   }
  },
  {
   "cell_type": "code",
   "execution_count": 72,
   "outputs": [
    {
     "name": "stdout",
     "output_type": "stream",
     "text": [
      "4019.2\n",
      "877427.2\n",
      "2078489.6\n",
      "6604.8\n"
     ]
    }
   ],
   "source": [
    "first_block_zero = block_collection[0].zeroth_sample_number\n",
    "\n",
    "second_block_zero = block_collection[1].zeroth_sample_number\n",
    "third_block_zero = block_collection[2].zeroth_sample_number\n",
    "for b in block_collection:\n",
    "    print(b.zeroth_sample_number / 20)"
   ],
   "metadata": {
    "collapsed": false,
    "pycharm": {
     "name": "#%%\n"
    }
   }
  },
  {
   "cell_type": "code",
   "execution_count": 36,
   "outputs": [],
   "source": [
    "def get_data(self, channels, start_time_ms, window_ms, convert_to_mv=True, return_timestamps=True):\n",
    "    \"\"\"\n",
    "    This is a translated matlab function that efficiently retrieves data from Open-Ephys format neural recordings\n",
    "    :param self: an OERecording class obj. with a metadata file created by the matlab class with the same name\n",
    "    :param channels: a vector of channel numbers to sample from [1XN channels]\n",
    "    :param start_time_ms: a vector of window start times [1XN] in ms\n",
    "    :param window_ms: a single value, the length of the sampling window from each startTime [ms_value]\n",
    "    :param convert_to_mv: when True, turns the output into the mV representation of the sampled data\n",
    "    :param return_timestamps: when True, the output will include sample timestamps from 0 in ms\n",
    "    :return: data_matrix - an array with the shape [n_channels, n_windows, nSamples] with int16 / mV values\n",
    "    \"\"\"\n",
    "    window_samples = int(\n",
    "        np.round(window_ms / self.sample_ms))  # round the time in ms to the nearest whole sample count\n",
    "    n_windows = len(start_time_ms)  # get the number of start times provided\n",
    "    start_time_ms = np.round(\n",
    "        start_time_ms / self.sample_ms) * self.sample_ms  # round the start times to the nearest whole sample step\n",
    "    window_ms = window_samples * self.sample_ms  # get the ms based length of the rounded window\n",
    "\n",
    "    # deal with the channel numbers:\n",
    "    if len(channels) == 0 or channels is None:  # if no channels were provided\n",
    "        channels = self.channelNumbers\n",
    "\n",
    "    if not all([c in self.channelNumbers for c in channels]):  # if requested channels do not exist in the file\n",
    "        raise ValueError('one or more of the entered channels does not exist in the recording!')\n",
    "    n_ch = len(channels)\n",
    "\n",
    "    # initialize some variables for the data extraction:\n",
    "    # waveform matrix:\n",
    "    data_matrix = np.zeros(shape=(int(window_samples), n_windows, n_ch),\n",
    "                           dtype=self.blkCont['Types'][3],\n",
    "                           order='F')\n",
    "    # List to store the record indices for waveform extraction:\n",
    "    p_rec_idx = []\n",
    "    # List to store the indices where reading from the file should start (one per reading window):\n",
    "    read_start_indices = []\n",
    "    records_per_trial_list = []\n",
    "    for i in range(n_windows):\n",
    "        print(i)\n",
    "        # find the relevant record blocks in the block list:\n",
    "        p_single_trial_time_stamps = np.where((self.allTimeStamps[0] >= (start_time_ms[0][i] - self.recordLength)) &\n",
    "                                              (self.allTimeStamps[0] < (start_time_ms[0][i] + window_ms)))[1]\n",
    "        print(p_single_trial_time_stamps)\n",
    "        # this collects the indices to start reading from\n",
    "        read_start_indices.append(p_single_trial_time_stamps[0])\n",
    "\n",
    "\n",
    "        # Calculate time stamps in milliseconds based on sampling freq & record block length\n",
    "        single_trial_time_stamps = np.round(self.allTimeStamps[0][\n",
    "                                                p_single_trial_time_stamps] / self.sample_ms) * self.sample_ms\n",
    "        # Get the number of records per trial & append to a list\n",
    "        records_per_trial = len(single_trial_time_stamps[0])\n",
    "        records_per_trial_list.append(records_per_trial)\n",
    "\n",
    "        # get the real time values for each sample index:\n",
    "        time_idx = np.tile((np.arange(self.dataSamplesPerRecord) * self.sample_ms).reshape(-1, 1),\n",
    "                           (1, records_per_trial)) + single_trial_time_stamps.reshape(1, -1)\n",
    "        # Find time indices within the requested time window\n",
    "        # (chunks are 1024 in size so they are usually cut for most time windows, result is as a boolean matrix)\n",
    "        p_rec_idx.append((time_idx >= start_time_ms[0][i]) & (time_idx < (start_time_ms[0][i] + window_ms)))\n",
    "\n",
    "        # Due to rounding issues, there may be an error when there is one sample too much -\n",
    "        # in this case the last sample is removed\n",
    "        if np.sum(p_rec_idx[i]) == window_samples + 1:\n",
    "            print(f'sample removed for window #{i}')\n",
    "            p_rec_idx[i][0, np.where(p_rec_idx[i][0, :] == 1)[0][0]] = False\n",
    "\n",
    "    p_rec_idx = np.hstack(p_rec_idx)  # Concatenate record indices into a single array\n",
    "\n",
    "    # now for the data extraction itself:\n",
    "    for i in range(n_ch):  # iterate over channels\n",
    "        data = np.zeros(p_rec_idx.shape, dtype=np.dtype('>i2'))  # Initialize the data array for a specific channel\n",
    "        curr_rec = 0  # for this channel, initialize the record counter\n",
    "        c_file = self.oe_file_path / self.channel_files[channels[i] - 1]  # get path of current channel file\n",
    "        with open(c_file, 'rb') as fid:  # open the file such that it will close when left alone\n",
    "            for j in range(n_windows):  # Iterate over sampling windows\n",
    "                # use seek to go to the appropriate position in the file\n",
    "                fid.seek(int(self.headerSizeByte + (read_start_indices[j] * self.bytesPerRecCont) + np.sum(\n",
    "                    self.blkBytesCont[0:3])), 0)\n",
    "                # calculate the skip size, cut in half because each int16 is 2 bytes and the matlab\n",
    "                # function takes bytes as skip (which fromfile does not, uniform datatype)\n",
    "                skip_size = int(self.bytesPerRecCont[0][0] - self.blkBytesCont[3][0]) // 2\n",
    "                read_size = self.dataSamplesPerRecord\n",
    "                # calculate total element count to read:\n",
    "                total_bytes = (read_size + skip_size) * records_per_trial_list[j]\n",
    "                # read data from file in a single vector, including skip_data:\n",
    "                # (Notice datatype is non-flexible in this version of the function!!!)\n",
    "                data_plus_breaks = np.fromfile(fid, dtype=np.dtype('>i2'), count=total_bytes, sep='')\n",
    "                # reshape into an array with a column-per-record shape:\n",
    "                data_plus_breaks = data_plus_breaks.reshape(int(records_per_trial_list[j]), read_size + skip_size)\n",
    "                # slice the array to get rid of the skip_data at the end of each column (record):\n",
    "                clean_data = data_plus_breaks[:, : read_size]\n",
    "                # transpose and store the current_rec data:\n",
    "                data[:, curr_rec: curr_rec + records_per_trial_list[j]] = clean_data.T\n",
    "                curr_rec = curr_rec + records_per_trial_list[j]  # move forward to the next reading window\n",
    "        # this loop exit closes the current channel file\n",
    "        # vectorize the data from the channel and perform a boolean snipping of non-window samples:\n",
    "        data_vec = data.T[p_rec_idx.T]\n",
    "\n",
    "        # put the data in the final data_matrix waveform matrix:\n",
    "        # check for end-of-recording exceedance :\n",
    "        if len(data_vec) < int(window_samples) * n_windows:\n",
    "            print(f'The requested data segment between {read_start_indices [j]} ms and '\n",
    "                  f'{read_start_indices[j] + window_ms} ms exceeds the recording length, '\n",
    "                  f'and will be 0-padded to fit the other windows')\n",
    "            num_zeros = (int(window_samples) * n_windows) - len(data_vec)\n",
    "            data_vec = np.pad(data_vec,(0, num_zeros), mode='constant')\n",
    "        data_matrix[:, :, i] = data_vec.reshape(int(window_samples), n_windows, order='F')\n",
    "\n",
    "    data_matrix = np.transpose(data_matrix, [2, 1, 0])\n",
    "\n",
    "    if convert_to_mv:\n",
    "        data_matrix = data_matrix * self.MicrovoltsPerAD[0]\n",
    "\n",
    "    if return_timestamps:\n",
    "        timestamps = np.tile(np.arange(window_samples) * self.sample_ms, (n_windows, 1))\n",
    "        start_times = np.tile(start_time_ms.T, window_samples)\n",
    "        timestamps = timestamps + start_times\n",
    "        return data_matrix, timestamps\n",
    "    else:\n",
    "        return data_matrix"
   ],
   "metadata": {
    "collapsed": false,
    "pycharm": {
     "name": "#%%\n"
    }
   }
  },
  {
   "cell_type": "code",
   "execution_count": 21,
   "outputs": [
    {
     "data": {
      "text/plain": "array([ 23618.9 ,  23635.9 ,  23652.9 , ..., 548356.95, 548373.9 ,\n       548390.9 ])"
     },
     "execution_count": 21,
     "metadata": {},
     "output_type": "execute_result"
    }
   ],
   "source": [
    "b"
   ],
   "metadata": {
    "collapsed": false,
    "pycharm": {
     "name": "#%%\n"
    }
   }
  },
  {
   "cell_type": "markdown",
   "source": [],
   "metadata": {
    "collapsed": false,
    "pycharm": {
     "name": "#%% md\n"
    }
   }
  },
  {
   "cell_type": "code",
   "execution_count": 114,
   "outputs": [
    {
     "data": {
      "text/plain": "      t_mov_ms        movAll\n0      73032.0  10950.945187\n1      73036.0  11873.337628\n2      73040.0  12821.427499\n3      73044.0  13786.798272\n4      73048.0  14761.033420\n...        ...           ...\n4265  558444.0  36369.811369\n4266  558448.0  31347.361650\n4267  558452.0  25891.303132\n4268  558456.0  20223.557981\n4269  558460.0  14566.048366\n\n[4270 rows x 2 columns]",
      "text/html": "<div>\n<style scoped>\n    .dataframe tbody tr th:only-of-type {\n        vertical-align: middle;\n    }\n\n    .dataframe tbody tr th {\n        vertical-align: top;\n    }\n\n    .dataframe thead th {\n        text-align: right;\n    }\n</style>\n<table border=\"1\" class=\"dataframe\">\n  <thead>\n    <tr style=\"text-align: right;\">\n      <th></th>\n      <th>t_mov_ms</th>\n      <th>movAll</th>\n    </tr>\n  </thead>\n  <tbody>\n    <tr>\n      <th>0</th>\n      <td>73032.0</td>\n      <td>10950.945187</td>\n    </tr>\n    <tr>\n      <th>1</th>\n      <td>73036.0</td>\n      <td>11873.337628</td>\n    </tr>\n    <tr>\n      <th>2</th>\n      <td>73040.0</td>\n      <td>12821.427499</td>\n    </tr>\n    <tr>\n      <th>3</th>\n      <td>73044.0</td>\n      <td>13786.798272</td>\n    </tr>\n    <tr>\n      <th>4</th>\n      <td>73048.0</td>\n      <td>14761.033420</td>\n    </tr>\n    <tr>\n      <th>...</th>\n      <td>...</td>\n      <td>...</td>\n    </tr>\n    <tr>\n      <th>4265</th>\n      <td>558444.0</td>\n      <td>36369.811369</td>\n    </tr>\n    <tr>\n      <th>4266</th>\n      <td>558448.0</td>\n      <td>31347.361650</td>\n    </tr>\n    <tr>\n      <th>4267</th>\n      <td>558452.0</td>\n      <td>25891.303132</td>\n    </tr>\n    <tr>\n      <th>4268</th>\n      <td>558456.0</td>\n      <td>20223.557981</td>\n    </tr>\n    <tr>\n      <th>4269</th>\n      <td>558460.0</td>\n      <td>14566.048366</td>\n    </tr>\n  </tbody>\n</table>\n<p>4270 rows × 2 columns</p>\n</div>"
     },
     "execution_count": 114,
     "metadata": {},
     "output_type": "execute_result"
    }
   ],
   "source": [
    "pd.DataFrame(data=np.array([mat_dict['t_mov_ms'][:,0],mat_dict['movAll'][:,0]]).T, columns=['t_mov_ms','movAll'])"
   ],
   "metadata": {
    "collapsed": false,
    "pycharm": {
     "name": "#%%\n"
    }
   }
  },
  {
   "cell_type": "code",
   "execution_count": 33,
   "outputs": [
    {
     "name": "stdout",
     "output_type": "stream",
     "text": [
      "sample removed 16\n",
      "sample removed 38\n",
      "sample removed 39\n",
      "The requested data segment between 10643 ms and [[12643.]] ms exceeds the recording length, and will be 0-padded to fit the other windows\n"
     ]
    }
   ],
   "source": [
    "eye_df = block.le_df\n",
    "saccades = block.l_saccades_chunked[block.l_saccades_chunked.saccade_length_frames > 0]\n",
    "saccade_times = np.sort(saccades.saccade_start_ms.values)\n",
    "sampling_window_ms = 2000 # ms\n",
    "pre_saccade_ts = saccade_times - (sampling_window_ms / 2)\n",
    "ep_data = block.oe_rec.get_data([17],pre_saccade_ts, sampling_window_ms,convert_to_mv=True)\n"
   ],
   "metadata": {
    "collapsed": false,
    "pycharm": {
     "name": "#%%\n"
    }
   }
  },
  {
   "cell_type": "code",
   "execution_count": 9,
   "outputs": [],
   "source": [
    "\n",
    "block.block_eye_plot()"
   ],
   "metadata": {
    "collapsed": false,
    "pycharm": {
     "name": "#%%\n"
    }
   }
  },
  {
   "cell_type": "code",
   "execution_count": 3,
   "outputs": [
    {
     "name": "stdout",
     "output_type": "stream",
     "text": [
      "instantiated block number 072 at Path: Z:\\Nimrod\\experiments\\PV_62\\2023_06_21\\block_072, new OE version\n",
      "Found the sample rate for block 072 in the xml file, it is 20000 Hz\n",
      "created the .oe_rec attribute as an open ephys recording obj with get_data functionality\n",
      "retrieving zertoh sample number for block 072\n",
      "got it!\n",
      "instantiated block number 073 at Path: Z:\\Nimrod\\experiments\\PV_62\\2023_06_21\\block_073, new OE version\n",
      "Found the sample rate for block 073 in the xml file, it is 20000 Hz\n",
      "created the .oe_rec attribute as an open ephys recording obj with get_data functionality\n",
      "retrieving zertoh sample number for block 073\n",
      "got it!\n",
      "instantiated block number 074 at Path: Z:\\Nimrod\\experiments\\PV_62\\2023_06_21\\block_074, new OE version\n",
      "Found the sample rate for block 074 in the xml file, it is 20000 Hz\n",
      "created the .oe_rec attribute as an open ephys recording obj with get_data functionality\n",
      "retrieving zertoh sample number for block 074\n",
      "got it!\n",
      "instantiated block number 075 at Path: Z:\\Nimrod\\experiments\\PV_62\\2023_06_21\\block_075, new OE version\n",
      "Found the sample rate for block 075 in the xml file, it is 20000 Hz\n",
      "created the .oe_rec attribute as an open ephys recording obj with get_data functionality\n",
      "retrieving zertoh sample number for block 075\n",
      "got it!\n"
     ]
    }
   ],
   "source": [
    "#blocklist = block_generator(block_numbers,pathlib.Path(r\"Z:\\Nimrod\\experiments\"),'PV_62',bad_blocks=bad_blocks)\n",
    "experiment_path = pathlib.Path(r\"Z:\\Nimrod\\experiments\")\n",
    "animal = 'PV_62'\n",
    "block_list = [i for i in range(72,76)]\n",
    "bad_blocks = []\n",
    "p = pathlib.Path(experiment_path) / animal\n",
    "date_folder_list = [i for i in p.iterdir() if 'block' not in str(i).lower() and i.is_dir()]\n",
    "block_collection = []\n",
    "for date_path in date_folder_list:\n",
    "    date = date_path.name\n",
    "    # list all the blocks in the folder:\n",
    "    folder_list = [i for i in date_path.iterdir()]\n",
    "    for block in folder_list:\n",
    "        if 'block' in str(block):\n",
    "            block_number = block.name[-3:]\n",
    "            if int(block_number) in block_list and int(block_number) not in bad_blocks:\n",
    "                #block definition\n",
    "                b = BlockSync(animal_call=animal,\n",
    "                                  experiment_date=date,block_num=block_number,\n",
    "                                  path_to_animal_folder=str(experiment_path),regev=True)\n",
    "                block_collection.append(b)"
   ],
   "metadata": {
    "collapsed": false,
    "pycharm": {
     "name": "#%%\n"
    }
   }
  },
  {
   "cell_type": "code",
   "execution_count": 4,
   "outputs": [
    {
     "name": "stdout",
     "output_type": "stream",
     "text": [
      "handling eye video files\n",
      "converting videos...\n",
      "converting files: ['Z:\\\\Nimrod\\\\experiments\\\\PV_62\\\\2023_06_21\\\\block_073\\\\eye_videos\\\\LE\\\\230621_pv62_audiostim2_640x480_60hz_experiment_1_recording_0\\\\230621_pv62_audiostim2.h264', 'Z:\\\\Nimrod\\\\experiments\\\\PV_62\\\\2023_06_21\\\\block_073\\\\eye_videos\\\\RE\\\\230621_pv62_audiostim2_640x480_60hz_experiment_1_recording_0\\\\230621_pv62_audiostim2.h264']\n",
      "The file Z:\\Nimrod\\experiments\\PV_62\\2023_06_21\\block_073\\eye_videos\\RE\\230621_pv62_audiostim2_640x480_60hz_experiment_1_recording_0\\230621_pv62_audiostim2.mp4 already exists, no conversion necessary\n",
      "Validating videos...\n",
      "The video named 230621_pv62_audiostim2_LE.mp4 has reported 68629 frames and has 68629 frames, it has dropped 0 frames\n",
      "The video named 230621_pv62_audiostim2.mp4 has reported 68588 frames and has 68588 frames, it has dropped 0 frames\n",
      "handling arena files\n",
      "no arena timestamps folder found\n",
      "Arena video Names:\n",
      "back_20230621T144553.mp4\n",
      "left_20230621T144553.mp4\n",
      "right_20230621T144553.mp4\n",
      "top_20230621T144553.mp4\n",
      "running parse_open_ephys_events...\n",
      "aligning to zero with 17548544\n",
      "open ephys events aligned to zero & exported to csv file at Z:\\Nimrod\\experiments\\PV_62\\2023_06_21\\block_073\\oe_files\\2023-06-21_14-45-37\\events.csv\n",
      "the arena TTLs are signaling start and stop positions at [  773 68208]\n",
      "arena first frame timestamp: 324882\n",
      "arena end frame timestamp: 23235849\n",
      "LED_driver was not identified as Arena_TTL\n",
      "L_eye_TTL was not identified as Arena_TTL\n",
      "R_eye_TTL was not identified as Arena_TTL\n"
     ]
    },
    {
     "name": "stderr",
     "output_type": "stream",
     "text": [
      "  1%|          | 381/66814 [00:00<00:17, 3797.36it/s]"
     ]
    },
    {
     "name": "stdout",
     "output_type": "stream",
     "text": [
      "created Z:\\Nimrod\\experiments\\PV_62\\2023_06_21\\block_073\\oe_files\\2023-06-21_14-45-37\\parsed_events.csv\n",
      "creating blocksync_df\n"
     ]
    },
    {
     "name": "stderr",
     "output_type": "stream",
     "text": [
      "100%|██████████| 66814/66814 [00:27<00:00, 2459.56it/s]\n"
     ]
    },
    {
     "name": "stdout",
     "output_type": "stream",
     "text": [
      "created blocksync_df\n",
      "exported blocksync_df to Z:\\Nimrod\\experiments\\PV_62\\2023_06_21\\block_073\\analysis/ blocksync_df.csv\n",
      "working on video Z:\\Nimrod\\experiments\\PV_62\\2023_06_21\\block_073\\eye_videos\\LE\\230621_pv62_audiostim2_640x480_60hz_experiment_1_recording_0\\230621_pv62_audiostim2_LE.mp4\n",
      "done, frame_val_list contains 1 objects\n",
      "working on video Z:\\Nimrod\\experiments\\PV_62\\2023_06_21\\block_073\\eye_videos\\RE\\230621_pv62_audiostim2_640x480_60hz_experiment_1_recording_0\\230621_pv62_audiostim2.mp4\n",
      "done, frame_val_list contains 1 objects\n",
      "creating Z:\\Nimrod\\experiments\\PV_62\\2023_06_21\\block_073\\analysis/eye_brightness_df.csv\n"
     ]
    }
   ],
   "source": [
    "block = block_collection[1]\n",
    "block.handle_eye_videos()\n",
    "block.handle_arena_files()\n",
    "block.parse_open_ephys_events(align_to_zero=True)\n",
    "#block.synchronize_arena_timestamps()\n",
    "#block.create_arena_brightness_df(threshold_value=240,export=True)\n",
    "block.synchronize_block(export=True)\n",
    "block.create_eye_brightness_df(threshold_value=250)"
   ],
   "metadata": {
    "collapsed": false,
    "pycharm": {
     "name": "#%%\n"
    }
   }
  },
  {
   "cell_type": "code",
   "execution_count": 5,
   "outputs": [
    {
     "name": "stdout",
     "output_type": "stream",
     "text": [
      "handling eye video files\n",
      "converting videos...\n",
      "converting files: ['Z:\\\\Nimrod\\\\experiments\\\\PV_62\\\\2023_06_21\\\\block_072\\\\eye_videos\\\\LE\\\\230621_pv62_audiostim1_640x480_60hz_experiment_1_recording_0\\\\230621_pv62_audiostim1.h264', 'Z:\\\\Nimrod\\\\experiments\\\\PV_62\\\\2023_06_21\\\\block_072\\\\eye_videos\\\\RE\\\\230621_pv62_audiostim1_640x480_60hz_experiment_1_recording_0\\\\230621_pv62_audiostim1.h264']\n",
      "The file Z:\\Nimrod\\experiments\\PV_62\\2023_06_21\\block_072\\eye_videos\\RE\\230621_pv62_audiostim1_640x480_60hz_experiment_1_recording_0\\230621_pv62_audiostim1.mp4 already exists, no conversion necessary\n",
      "Validating videos...\n",
      "The video named 230621_pv62_audiostim1_LE.mp4 has reported 47995 frames and has 47995 frames, it has dropped 0 frames\n",
      "The video named 230621_pv62_audiostim1.mp4 has reported 48000 frames and has 48000 frames, it has dropped 0 frames\n",
      "handling arena files\n",
      "no arena timestamps folder found\n",
      "Arena video Names:\n",
      "back_20230621T143120.mp4\n",
      "left_20230621T143120.mp4\n",
      "right_20230621T143120.mp4\n",
      "top_20230621T143120.mp4\n",
      "running parse_open_ephys_events...\n",
      "events.csv file already exists\n",
      "arena first frame timestamp: 326458\n",
      "arena end frame timestamp: 16625874\n",
      "LED_driver was not identified as Arena_TTL\n",
      "L_eye_TTL was not identified as Arena_TTL\n",
      "R_eye_TTL was not identified as Arena_TTL\n",
      "created Z:\\Nimrod\\experiments\\PV_62\\2023_06_21\\block_072\\oe_files\\2023-06-21_14-31-03\\parsed_events.csv\n",
      "blocksync_df loaded from analysis folder\n",
      "eye_brightness_df loaded from analysis folder\n",
      "eye dataframes loaded from analysis folder\n",
      "loaded chunked saccade data from analysis folder\n",
      "handling eye video files\n",
      "converting videos...\n",
      "converting files: ['Z:\\\\Nimrod\\\\experiments\\\\PV_62\\\\2023_06_21\\\\block_073\\\\eye_videos\\\\LE\\\\230621_pv62_audiostim2_640x480_60hz_experiment_1_recording_0\\\\230621_pv62_audiostim2.h264', 'Z:\\\\Nimrod\\\\experiments\\\\PV_62\\\\2023_06_21\\\\block_073\\\\eye_videos\\\\RE\\\\230621_pv62_audiostim2_640x480_60hz_experiment_1_recording_0\\\\230621_pv62_audiostim2.h264']\n",
      "The file Z:\\Nimrod\\experiments\\PV_62\\2023_06_21\\block_073\\eye_videos\\RE\\230621_pv62_audiostim2_640x480_60hz_experiment_1_recording_0\\230621_pv62_audiostim2.mp4 already exists, no conversion necessary\n",
      "Validating videos...\n",
      "The video named 230621_pv62_audiostim2_LE.mp4 has reported 68629 frames and has 68629 frames, it has dropped 0 frames\n",
      "The video named 230621_pv62_audiostim2.mp4 has reported 68588 frames and has 68588 frames, it has dropped 0 frames\n",
      "handling arena files\n",
      "no arena timestamps folder found\n",
      "Arena video Names:\n",
      "back_20230621T144553.mp4\n",
      "left_20230621T144553.mp4\n",
      "right_20230621T144553.mp4\n",
      "top_20230621T144553.mp4\n",
      "running parse_open_ephys_events...\n",
      "events.csv file already exists\n",
      "the arena TTLs are signaling start and stop positions at [  773 68208]\n",
      "arena first frame timestamp: 324882\n",
      "arena end frame timestamp: 23235849\n",
      "LED_driver was not identified as Arena_TTL\n",
      "L_eye_TTL was not identified as Arena_TTL\n",
      "R_eye_TTL was not identified as Arena_TTL\n",
      "created Z:\\Nimrod\\experiments\\PV_62\\2023_06_21\\block_073\\oe_files\\2023-06-21_14-45-37\\parsed_events.csv\n",
      "blocksync_df loaded from analysis folder\n",
      "eye_brightness_df loaded from analysis folder\n",
      "eye dataframes loaded from analysis folder\n",
      "automatic ON, Going ahead with the baseline threshold\n",
      "handling eye video files\n",
      "converting videos...\n",
      "converting files: ['Z:\\\\Nimrod\\\\experiments\\\\PV_62\\\\2023_06_21\\\\block_074\\\\eye_videos\\\\LE\\\\230621_pv62_audiostim3_640x480_60hz_experiment_1_recording_0\\\\230621_pv62_audiostim3.h264', 'Z:\\\\Nimrod\\\\experiments\\\\PV_62\\\\2023_06_21\\\\block_074\\\\eye_videos\\\\RE\\\\230621_pv62_audiostim3_640x480_60hz_experiment_1_recording_0\\\\230621_pv62_audiostim3.h264']\n",
      "The file Z:\\Nimrod\\experiments\\PV_62\\2023_06_21\\block_074\\eye_videos\\RE\\230621_pv62_audiostim3_640x480_60hz_experiment_1_recording_0\\230621_pv62_audiostim3.mp4 already exists, no conversion necessary\n",
      "Validating videos...\n",
      "The video named 230621_pv62_audiostim3_LE.mp4 has reported 33079 frames and has 33079 frames, it has dropped 0 frames\n",
      "The video named 230621_pv62_audiostim3.mp4 has reported 33080 frames and has 33080 frames, it has dropped 0 frames\n",
      "handling arena files\n",
      "no arena timestamps folder found\n",
      "Arena video Names:\n",
      "back_20230621T150602.mp4\n",
      "left_20230621T150602.mp4\n",
      "right_20230621T150602.mp4\n",
      "top_20230621T150602.mp4\n",
      "running parse_open_ephys_events...\n",
      "events.csv file already exists\n",
      "the arena TTLs are signaling start and stop positions at [ 1207 33506]\n",
      "arena first frame timestamp: 471859\n",
      "arena end frame timestamp: 11444531\n",
      "LED_driver was not identified as Arena_TTL\n",
      "L_eye_TTL was not identified as Arena_TTL\n",
      "R_eye_TTL was not identified as Arena_TTL\n",
      "created Z:\\Nimrod\\experiments\\PV_62\\2023_06_21\\block_074\\oe_files\\2023-06-21_15-05-38\\parsed_events.csv\n",
      "blocksync_df loaded from analysis folder\n",
      "eye_brightness_df loaded from analysis folder\n",
      "eye dataframes loaded from analysis folder\n",
      "automatic ON, Going ahead with the baseline threshold\n",
      "handling eye video files\n",
      "converting videos...\n",
      "converting files: ['Z:\\\\Nimrod\\\\experiments\\\\PV_62\\\\2023_06_21\\\\block_075\\\\eye_videos\\\\LE\\\\230621_pv62_audiostim4_640x480_60hz_experiment_1_recording_0\\\\230621_pv62_audiostim4.h264', 'Z:\\\\Nimrod\\\\experiments\\\\PV_62\\\\2023_06_21\\\\block_075\\\\eye_videos\\\\RE\\\\230621_pv62_audiostim4_640x480_60hz_experiment_1_recording_0\\\\230621_pv62_audiostim4.h264']\n",
      "The file Z:\\Nimrod\\experiments\\PV_62\\2023_06_21\\block_075\\eye_videos\\RE\\230621_pv62_audiostim4_640x480_60hz_experiment_1_recording_0\\230621_pv62_audiostim4.mp4 already exists, no conversion necessary\n",
      "Validating videos...\n",
      "The video named 230621_pv62_audiostim4_LE.mp4 has reported 31934 frames and has 31934 frames, it has dropped 0 frames\n",
      "The video named 230621_pv62_audiostim4.mp4 has reported 31933 frames and has 31933 frames, it has dropped 0 frames\n",
      "handling arena files\n",
      "no arena timestamps folder found\n",
      "Arena video Names:\n",
      "back_20230621T152553.mp4\n",
      "left_20230621T152553.mp4\n",
      "right_20230621T152553.mp4\n",
      "top_20230621T152553.mp4\n",
      "running parse_open_ephys_events...\n",
      "events.csv file already exists\n",
      "the arena TTLs are signaling start and stop positions at [  364 31720]\n",
      "arena first frame timestamp: 185704\n",
      "arena end frame timestamp: 10836062\n",
      "LED_driver was not identified as Arena_TTL\n",
      "L_eye_TTL was not identified as Arena_TTL\n",
      "R_eye_TTL was not identified as Arena_TTL\n",
      "created Z:\\Nimrod\\experiments\\PV_62\\2023_06_21\\block_075\\oe_files\\2023-06-21_15-25-44\\parsed_events.csv\n",
      "blocksync_df loaded from analysis folder\n",
      "eye_brightness_df loaded from analysis folder\n",
      "eye dataframes loaded from analysis folder\n",
      "automatic ON, Going ahead with the baseline threshold\n"
     ]
    }
   ],
   "source": [
    "for block in block_collection:\n",
    "    analyzed_block_automated_pipe(block)"
   ],
   "metadata": {
    "collapsed": false,
    "pycharm": {
     "name": "#%%\n"
    }
   }
  },
  {
   "cell_type": "code",
   "execution_count": 5,
   "outputs": [
    {
     "data": {
      "text/plain": "array([3.        , 4.        , 5.65685425, 6.63324958, 0.        ,\n       0.        , 4.79583152, 5.        , 0.        ])"
     },
     "execution_count": 5,
     "metadata": {},
     "output_type": "execute_result"
    }
   ],
   "source": [
    "dist_squared = np.array([9,16,32,44,0,0,23,25,0],dtype=np.float64)\n",
    "euclidean_distance = np.where(dist_squared != 0, np.sqrt(dist_squared), 0)\n",
    "euclidean_distance"
   ],
   "metadata": {
    "collapsed": false,
    "pycharm": {
     "name": "#%%\n"
    }
   }
  },
  {
   "cell_type": "code",
   "execution_count": 21,
   "outputs": [],
   "source": [
    "block = block_collection[0]\n",
    "block.saccade_event_analayzer()"
   ],
   "metadata": {
    "collapsed": false,
    "pycharm": {
     "name": "#%%\n"
    }
   }
  },
  {
   "cell_type": "code",
   "execution_count": 11,
   "outputs": [
    {
     "name": "stdout",
     "output_type": "stream",
     "text": [
      "retrieving zertoh sample number for block 072\n",
      "got it!\n",
      "retrieving zertoh sample number for block 073\n",
      "got it!\n",
      "retrieving zertoh sample number for block 074\n",
      "got it!\n",
      "retrieving zertoh sample number for block 075\n",
      "got it!\n"
     ]
    }
   ],
   "source": [
    "# get zeroth sample number for event synchronization with EP paradigm of sample#0 = 0:\n",
    "for block in block_collection:\n",
    "    block.get_zeroth_sample_number()"
   ],
   "metadata": {
    "collapsed": false,
    "pycharm": {
     "name": "#%%\n"
    }
   }
  },
  {
   "cell_type": "code",
   "execution_count": 29,
   "outputs": [],
   "source": [
    "def align_events_to_zero(block):\n",
    "    \"\"\"This function deals with aligning open-ephys events such that the 0th sample is at exactly the record beginning\"\"\"\n",
    "\n",
    "    def subtract_from_columns(df, subtraction_number, column_names):\n",
    "        # helper function:\n",
    "        # Create a copy of the DataFrame to avoid modifying the original\n",
    "        subtracted_df = df.copy()\n",
    "\n",
    "        # Iterate over the column names in the list\n",
    "        for column_name in column_names:\n",
    "            # Check if the column exists in the DataFrame\n",
    "            if column_name in subtracted_df.columns:\n",
    "                # Get the indices where the column value is not NaN\n",
    "                indices = subtracted_df.index[~pd.isna(subtracted_df[column_name])]\n",
    "\n",
    "                # Subtract the subtraction number from the selected indices\n",
    "                subtracted_df.loc[indices, column_name] -= subtraction_number\n",
    "\n",
    "        return subtracted_df\n",
    "\n",
    "    df = block.oe_events\n",
    "    df_sub = subtract_from_columns(df,block.zeroth_sample_number, [i for i in df.columns if 'frame' not in i])\n",
    "    block.oe_events = df_sub\n"
   ],
   "metadata": {
    "collapsed": false,
    "pycharm": {
     "name": "#%%\n"
    }
   }
  },
  {
   "cell_type": "code",
   "execution_count": 21,
   "outputs": [],
   "source": [
    "block = block_collection[1]\n",
    "session = oea.Session(block.oe_path.parent)\n",
    "events_df = session.recordnodes[0].recordings[0].events\n"
   ],
   "metadata": {
    "collapsed": false,
    "pycharm": {
     "name": "#%%\n"
    }
   }
  },
  {
   "cell_type": "code",
   "execution_count": 16,
   "outputs": [
    {
     "data": {
      "text/plain": "WindowsPath('Z:/Nimrod/experiments/PV_62/2023_06_21/block_072/oe_files/2023-06-21_14-31-03/Record Node 108')"
     },
     "execution_count": 16,
     "metadata": {},
     "output_type": "execute_result"
    }
   ],
   "source": [
    "block.oe_path"
   ],
   "metadata": {
    "collapsed": false,
    "pycharm": {
     "name": "#%%\n"
    }
   }
  },
  {
   "cell_type": "code",
   "execution_count": 77,
   "outputs": [
    {
     "data": {
      "text/plain": "array([[ True]])"
     },
     "execution_count": 77,
     "metadata": {},
     "output_type": "execute_result"
    }
   ],
   "source": [
    "block.oe_rec.globalStartTime_ms*(block.sample_rate / 1000) == block.zeroth_sample_number"
   ],
   "metadata": {
    "collapsed": false,
    "pycharm": {
     "name": "#%%\n"
    }
   }
  },
  {
   "cell_type": "code",
   "execution_count": 44,
   "outputs": [
    {
     "data": {
      "text/plain": "         Arena_TTL  Arena_TTL_frame  LED_driver  LED_driver_frame  L_eye_TTL  \\\n1            324.0              NaN         NaN               NaN        NaN   \n3            663.0              NaN         NaN               NaN        NaN   \n5           1003.0              NaN         NaN               NaN        NaN   \n7           1343.0              NaN         NaN               NaN        NaN   \n9           1683.0              NaN         NaN               NaN        NaN   \n...            ...              ...         ...               ...        ...   \n290689  16965764.0              NaN         NaN               NaN        NaN   \n290691  16966103.0              NaN         NaN               NaN        NaN   \n290693  16966443.0              NaN         NaN               NaN        NaN   \n290695  16966783.0              NaN         NaN               NaN        NaN   \n290697  16967122.0              NaN         NaN               NaN        NaN   \n\n        L_eye_TTL_frame  R_eye_TTL  R_eye_TTL_frame  \n1                   NaN        NaN              NaN  \n3                   NaN        NaN              NaN  \n5                   NaN        NaN              NaN  \n7                   NaN        NaN              NaN  \n9                   NaN        NaN              NaN  \n...                 ...        ...              ...  \n290689              NaN        NaN              NaN  \n290691              NaN        NaN              NaN  \n290693              NaN        NaN              NaN  \n290695              NaN        NaN              NaN  \n290697              NaN        NaN              NaN  \n\n[145349 rows x 8 columns]",
      "text/html": "<div>\n<style scoped>\n    .dataframe tbody tr th:only-of-type {\n        vertical-align: middle;\n    }\n\n    .dataframe tbody tr th {\n        vertical-align: top;\n    }\n\n    .dataframe thead th {\n        text-align: right;\n    }\n</style>\n<table border=\"1\" class=\"dataframe\">\n  <thead>\n    <tr style=\"text-align: right;\">\n      <th></th>\n      <th>Arena_TTL</th>\n      <th>Arena_TTL_frame</th>\n      <th>LED_driver</th>\n      <th>LED_driver_frame</th>\n      <th>L_eye_TTL</th>\n      <th>L_eye_TTL_frame</th>\n      <th>R_eye_TTL</th>\n      <th>R_eye_TTL_frame</th>\n    </tr>\n  </thead>\n  <tbody>\n    <tr>\n      <th>1</th>\n      <td>324.0</td>\n      <td>NaN</td>\n      <td>NaN</td>\n      <td>NaN</td>\n      <td>NaN</td>\n      <td>NaN</td>\n      <td>NaN</td>\n      <td>NaN</td>\n    </tr>\n    <tr>\n      <th>3</th>\n      <td>663.0</td>\n      <td>NaN</td>\n      <td>NaN</td>\n      <td>NaN</td>\n      <td>NaN</td>\n      <td>NaN</td>\n      <td>NaN</td>\n      <td>NaN</td>\n    </tr>\n    <tr>\n      <th>5</th>\n      <td>1003.0</td>\n      <td>NaN</td>\n      <td>NaN</td>\n      <td>NaN</td>\n      <td>NaN</td>\n      <td>NaN</td>\n      <td>NaN</td>\n      <td>NaN</td>\n    </tr>\n    <tr>\n      <th>7</th>\n      <td>1343.0</td>\n      <td>NaN</td>\n      <td>NaN</td>\n      <td>NaN</td>\n      <td>NaN</td>\n      <td>NaN</td>\n      <td>NaN</td>\n      <td>NaN</td>\n    </tr>\n    <tr>\n      <th>9</th>\n      <td>1683.0</td>\n      <td>NaN</td>\n      <td>NaN</td>\n      <td>NaN</td>\n      <td>NaN</td>\n      <td>NaN</td>\n      <td>NaN</td>\n      <td>NaN</td>\n    </tr>\n    <tr>\n      <th>...</th>\n      <td>...</td>\n      <td>...</td>\n      <td>...</td>\n      <td>...</td>\n      <td>...</td>\n      <td>...</td>\n      <td>...</td>\n      <td>...</td>\n    </tr>\n    <tr>\n      <th>290689</th>\n      <td>16965764.0</td>\n      <td>NaN</td>\n      <td>NaN</td>\n      <td>NaN</td>\n      <td>NaN</td>\n      <td>NaN</td>\n      <td>NaN</td>\n      <td>NaN</td>\n    </tr>\n    <tr>\n      <th>290691</th>\n      <td>16966103.0</td>\n      <td>NaN</td>\n      <td>NaN</td>\n      <td>NaN</td>\n      <td>NaN</td>\n      <td>NaN</td>\n      <td>NaN</td>\n      <td>NaN</td>\n    </tr>\n    <tr>\n      <th>290693</th>\n      <td>16966443.0</td>\n      <td>NaN</td>\n      <td>NaN</td>\n      <td>NaN</td>\n      <td>NaN</td>\n      <td>NaN</td>\n      <td>NaN</td>\n      <td>NaN</td>\n    </tr>\n    <tr>\n      <th>290695</th>\n      <td>16966783.0</td>\n      <td>NaN</td>\n      <td>NaN</td>\n      <td>NaN</td>\n      <td>NaN</td>\n      <td>NaN</td>\n      <td>NaN</td>\n      <td>NaN</td>\n    </tr>\n    <tr>\n      <th>290697</th>\n      <td>16967122.0</td>\n      <td>NaN</td>\n      <td>NaN</td>\n      <td>NaN</td>\n      <td>NaN</td>\n      <td>NaN</td>\n      <td>NaN</td>\n      <td>NaN</td>\n    </tr>\n  </tbody>\n</table>\n<p>145349 rows × 8 columns</p>\n</div>"
     },
     "execution_count": 44,
     "metadata": {},
     "output_type": "execute_result"
    }
   ],
   "source": [
    "df = block.oe_events\n",
    "df_sub = subtract_from_columns(df,block.zeroth_sample_number, [i for i in df.columns if 'frame' not in i])\n",
    "df_sub"
   ],
   "metadata": {
    "collapsed": false,
    "pycharm": {
     "name": "#%%\n"
    }
   }
  },
  {
   "cell_type": "code",
   "execution_count": 45,
   "outputs": [
    {
     "data": {
      "text/plain": "11805      1198348.0\n33305      2399007.0\n54811      3599667.0\n75838      4800326.0\n97345      6000986.0\n118848     7201646.0\n140351     8402305.0\n161857     9602965.0\n183360    10803625.0\n204865    12004285.0\n226368    13204945.0\n247871    14405606.0\n269375    15606266.0\n289753    16806926.0\nName: LED_driver, dtype: float64"
     },
     "execution_count": 45,
     "metadata": {},
     "output_type": "execute_result"
    }
   ],
   "source": [
    "df_sub['LED_driver'][df_sub['LED_driver'] == df_sub['LED_driver']]"
   ],
   "metadata": {
    "collapsed": false,
    "pycharm": {
     "name": "#%%\n"
    }
   }
  },
  {
   "cell_type": "code",
   "execution_count": 45,
   "outputs": [
    {
     "data": {
      "text/plain": "11805      1198348.0\n33305      2399007.0\n54811      3599667.0\n75838      4800326.0\n97345      6000986.0\n118848     7201646.0\n140351     8402305.0\n161857     9602965.0\n183360    10803625.0\n204865    12004285.0\n226368    13204945.0\n247871    14405606.0\n269375    15606266.0\n289753    16806926.0\nName: LED_driver, dtype: float64"
     },
     "execution_count": 45,
     "metadata": {},
     "output_type": "execute_result"
    }
   ],
   "source": [
    "df_sub['LED_driver'][df_sub['LED_driver'] == df_sub['LED_driver']]"
   ],
   "metadata": {
    "collapsed": false,
    "pycharm": {
     "name": "#%%\n"
    }
   }
  },
  {
   "cell_type": "code",
   "execution_count": 47,
   "outputs": [],
   "source": [
    "session = oea.Session(str(block.oe_path.parent))\n",
    "rec_node = session.recordnodes[0].recordings[0].continuous[0]\n",
    "rec_starts = rec_node.timestamps[0]\n"
   ],
   "metadata": {
    "collapsed": false,
    "pycharm": {
     "name": "#%%\n"
    }
   }
  },
  {
   "cell_type": "code",
   "execution_count": 106,
   "outputs": [],
   "source": [
    "zeroth_sample_num = [session.recordnodes[0].recordings[0].continuous[0].sample_numbers[0]]\n",
    "pd.DataFrame({'zeroth_sample_num':zeroth_sample_num}).to_csv(block.analysis_path / 'zeroth_sample_num.csv')\n"
   ],
   "metadata": {
    "collapsed": false,
    "pycharm": {
     "name": "#%%\n"
    }
   }
  },
  {
   "cell_type": "code",
   "execution_count": 110,
   "outputs": [
    {
     "data": {
      "text/plain": "80384"
     },
     "execution_count": 110,
     "metadata": {},
     "output_type": "execute_result"
    }
   ],
   "source": [
    "df = pd.read_csv(block.analysis_path / 'zeroth_sample_num.csv')\n",
    "df['zeroth_sample_num'][0]"
   ],
   "metadata": {
    "collapsed": false,
    "pycharm": {
     "name": "#%%\n"
    }
   }
  },
  {
   "cell_type": "code",
   "execution_count": 22,
   "outputs": [
    {
     "name": "stdout",
     "output_type": "stream",
     "text": [
      "handling eye video files\n",
      "converting videos...\n",
      "converting files: ['Z:\\\\Nimrod\\\\experiments\\\\PV_62\\\\2023_06_21\\\\block_072\\\\eye_videos\\\\LE\\\\230621_pv62_audiostim1_640x480_60hz_experiment_1_recording_0\\\\230621_pv62_audiostim1.h264', 'Z:\\\\Nimrod\\\\experiments\\\\PV_62\\\\2023_06_21\\\\block_072\\\\eye_videos\\\\RE\\\\230621_pv62_audiostim1_640x480_60hz_experiment_1_recording_0\\\\230621_pv62_audiostim1.h264']\n",
      "The file Z:\\Nimrod\\experiments\\PV_62\\2023_06_21\\block_072\\eye_videos\\RE\\230621_pv62_audiostim1_640x480_60hz_experiment_1_recording_0\\230621_pv62_audiostim1.mp4 already exists, no conversion necessary\n",
      "Validating videos...\n",
      "The video named 230621_pv62_audiostim1_LE.mp4 has reported 47995 frames and has 47995 frames, it has dropped 0 frames\n",
      "The video named 230621_pv62_audiostim1.mp4 has reported 48000 frames and has 48000 frames, it has dropped 0 frames\n",
      "handling arena files\n",
      "no arena timestamps folder found\n",
      "Arena video Names:\n",
      "back_20230621T143120.mp4\n",
      "left_20230621T143120.mp4\n",
      "right_20230621T143120.mp4\n",
      "top_20230621T143120.mp4\n",
      "running parse_open_ephys_events...\n",
      "events.csv file already exists\n",
      "arena first frame timestamp: 406842\n",
      "arena end frame timestamp: 16706258\n",
      "LED_driver was not identified as Arena_TTL\n",
      "L_eye_TTL was not identified as Arena_TTL\n",
      "R_eye_TTL was not identified as Arena_TTL\n",
      "created Z:\\Nimrod\\experiments\\PV_62\\2023_06_21\\block_072\\oe_files\\2023-06-21_14-31-03\\parsed_events.csv\n",
      "blocksync_df loaded from analysis folder\n",
      "eye_brightness_df loaded from analysis folder\n",
      "eye dataframes loaded from analysis folder\n",
      "loaded chunked saccade data from analysis folder\n",
      "handling eye video files\n",
      "converting videos...\n",
      "converting files: ['Z:\\\\Nimrod\\\\experiments\\\\PV_62\\\\2023_06_21\\\\block_073\\\\eye_videos\\\\LE\\\\230621_pv62_audiostim2_640x480_60hz_experiment_1_recording_0\\\\230621_pv62_audiostim2.h264', 'Z:\\\\Nimrod\\\\experiments\\\\PV_62\\\\2023_06_21\\\\block_073\\\\eye_videos\\\\RE\\\\230621_pv62_audiostim2_640x480_60hz_experiment_1_recording_0\\\\230621_pv62_audiostim2.h264']\n",
      "The file Z:\\Nimrod\\experiments\\PV_62\\2023_06_21\\block_073\\eye_videos\\RE\\230621_pv62_audiostim2_640x480_60hz_experiment_1_recording_0\\230621_pv62_audiostim2.mp4 already exists, no conversion necessary\n",
      "Validating videos...\n",
      "The video named 230621_pv62_audiostim2_LE.mp4 has reported 68629 frames and has 68629 frames, it has dropped 0 frames\n",
      "The video named 230621_pv62_audiostim2.mp4 has reported 68588 frames and has 68588 frames, it has dropped 0 frames\n",
      "handling arena files\n",
      "no arena timestamps folder found\n",
      "Arena video Names:\n",
      "back_20230621T144553.mp4\n",
      "left_20230621T144553.mp4\n",
      "right_20230621T144553.mp4\n",
      "top_20230621T144553.mp4\n",
      "running parse_open_ephys_events...\n",
      "events.csv file already exists\n",
      "the arena TTLs are signaling start and stop positions at [  773 68208]\n",
      "arena first frame timestamp: 17873426\n",
      "arena end frame timestamp: 40784393\n",
      "LED_driver was not identified as Arena_TTL\n",
      "L_eye_TTL was not identified as Arena_TTL\n",
      "R_eye_TTL was not identified as Arena_TTL\n",
      "created Z:\\Nimrod\\experiments\\PV_62\\2023_06_21\\block_073\\oe_files\\2023-06-21_14-45-37\\parsed_events.csv\n",
      "blocksync_df loaded from analysis folder\n",
      "eye_brightness_df loaded from analysis folder\n",
      "eye dataframes loaded from analysis folder\n",
      "automatic ON, Going ahead with the baseline threshold\n",
      "handling eye video files\n",
      "converting videos...\n",
      "converting files: ['Z:\\\\Nimrod\\\\experiments\\\\PV_62\\\\2023_06_21\\\\block_074\\\\eye_videos\\\\LE\\\\230621_pv62_audiostim3_640x480_60hz_experiment_1_recording_0\\\\230621_pv62_audiostim3.h264', 'Z:\\\\Nimrod\\\\experiments\\\\PV_62\\\\2023_06_21\\\\block_074\\\\eye_videos\\\\RE\\\\230621_pv62_audiostim3_640x480_60hz_experiment_1_recording_0\\\\230621_pv62_audiostim3.h264']\n",
      "The file Z:\\Nimrod\\experiments\\PV_62\\2023_06_21\\block_074\\eye_videos\\RE\\230621_pv62_audiostim3_640x480_60hz_experiment_1_recording_0\\230621_pv62_audiostim3.mp4 already exists, no conversion necessary\n",
      "Validating videos...\n",
      "The video named 230621_pv62_audiostim3_LE.mp4 has reported 33079 frames and has 33079 frames, it has dropped 0 frames\n",
      "The video named 230621_pv62_audiostim3.mp4 has reported 33080 frames and has 33080 frames, it has dropped 0 frames\n",
      "handling arena files\n",
      "no arena timestamps folder found\n",
      "Arena video Names:\n",
      "back_20230621T150602.mp4\n",
      "left_20230621T150602.mp4\n",
      "right_20230621T150602.mp4\n",
      "top_20230621T150602.mp4\n",
      "running parse_open_ephys_events...\n",
      "events.csv file already exists\n",
      "the arena TTLs are signaling start and stop positions at [ 1207 33506]\n",
      "arena first frame timestamp: 42041651\n",
      "arena end frame timestamp: 53014323\n",
      "LED_driver was not identified as Arena_TTL\n",
      "L_eye_TTL was not identified as Arena_TTL\n",
      "R_eye_TTL was not identified as Arena_TTL\n",
      "created Z:\\Nimrod\\experiments\\PV_62\\2023_06_21\\block_074\\oe_files\\2023-06-21_15-05-38\\parsed_events.csv\n",
      "blocksync_df loaded from analysis folder\n",
      "eye_brightness_df loaded from analysis folder\n",
      "eye dataframes loaded from analysis folder\n",
      "automatic ON, Going ahead with the baseline threshold\n",
      "handling eye video files\n",
      "converting videos...\n",
      "converting files: ['Z:\\\\Nimrod\\\\experiments\\\\PV_62\\\\2023_06_21\\\\block_075\\\\eye_videos\\\\LE\\\\230621_pv62_audiostim4_640x480_60hz_experiment_1_recording_0\\\\230621_pv62_audiostim4.h264', 'Z:\\\\Nimrod\\\\experiments\\\\PV_62\\\\2023_06_21\\\\block_075\\\\eye_videos\\\\RE\\\\230621_pv62_audiostim4_640x480_60hz_experiment_1_recording_0\\\\230621_pv62_audiostim4.h264']\n",
      "The file Z:\\Nimrod\\experiments\\PV_62\\2023_06_21\\block_075\\eye_videos\\RE\\230621_pv62_audiostim4_640x480_60hz_experiment_1_recording_0\\230621_pv62_audiostim4.mp4 already exists, no conversion necessary\n",
      "Validating videos...\n",
      "The video named 230621_pv62_audiostim4_LE.mp4 has reported 31934 frames and has 31934 frames, it has dropped 0 frames\n",
      "The video named 230621_pv62_audiostim4.mp4 has reported 31933 frames and has 31933 frames, it has dropped 0 frames\n",
      "handling arena files\n",
      "no arena timestamps folder found\n",
      "Arena video Names:\n",
      "back_20230621T152553.mp4\n",
      "left_20230621T152553.mp4\n",
      "right_20230621T152553.mp4\n",
      "top_20230621T152553.mp4\n",
      "running parse_open_ephys_events...\n",
      "events.csv file already exists\n",
      "the arena TTLs are signaling start and stop positions at [  364 31720]\n",
      "arena first frame timestamp: 317800\n",
      "arena end frame timestamp: 10968158\n",
      "LED_driver was not identified as Arena_TTL\n",
      "L_eye_TTL was not identified as Arena_TTL\n",
      "R_eye_TTL was not identified as Arena_TTL\n",
      "created Z:\\Nimrod\\experiments\\PV_62\\2023_06_21\\block_075\\oe_files\\2023-06-21_15-25-44\\parsed_events.csv\n",
      "blocksync_df loaded from analysis folder\n",
      "eye_brightness_df loaded from analysis folder\n",
      "eye dataframes loaded from analysis folder\n",
      "automatic ON, Going ahead with the baseline threshold\n"
     ]
    }
   ],
   "source": [
    "\n",
    "for block in block_collection:\n",
    "    analyzed_block_automated_pipe(block)\n"
   ],
   "metadata": {
    "collapsed": false,
    "pycharm": {
     "name": "#%%\n"
    }
   }
  },
  {
   "cell_type": "code",
   "execution_count": 24,
   "outputs": [
    {
     "data": {
      "text/plain": "        Arena_TTL  Arena_frame  L_eye_frame  R_eye_frame  L_values  R_values\n0        855018.0       1319.0          6.0         11.0 -0.913598  1.884156\n1        855358.0       1320.0          7.0         12.0 -0.913155  1.885686\n2        855698.0       1321.0          8.0         13.0 -0.912993  1.885833\n3        856037.0       1322.0          9.0         14.0 -0.912866  1.884999\n4        856377.0       1323.0         10.0         15.0 -0.913932  1.886211\n...           ...          ...          ...          ...       ...       ...\n46570  16704559.0      47889.0      47562.0          NaN  0.992427       NaN\n46571  16704899.0      47890.0      47563.0          NaN  0.992530       NaN\n46572  16705239.0      47891.0      47564.0          NaN  0.991791       NaN\n46573  16705578.0      47892.0      47565.0          NaN  0.992694       NaN\n46574  16705918.0      47893.0      47566.0          NaN  0.991805       NaN\n\n[46575 rows x 6 columns]",
      "text/html": "<div>\n<style scoped>\n    .dataframe tbody tr th:only-of-type {\n        vertical-align: middle;\n    }\n\n    .dataframe tbody tr th {\n        vertical-align: top;\n    }\n\n    .dataframe thead th {\n        text-align: right;\n    }\n</style>\n<table border=\"1\" class=\"dataframe\">\n  <thead>\n    <tr style=\"text-align: right;\">\n      <th></th>\n      <th>Arena_TTL</th>\n      <th>Arena_frame</th>\n      <th>L_eye_frame</th>\n      <th>R_eye_frame</th>\n      <th>L_values</th>\n      <th>R_values</th>\n    </tr>\n  </thead>\n  <tbody>\n    <tr>\n      <th>0</th>\n      <td>855018.0</td>\n      <td>1319.0</td>\n      <td>6.0</td>\n      <td>11.0</td>\n      <td>-0.913598</td>\n      <td>1.884156</td>\n    </tr>\n    <tr>\n      <th>1</th>\n      <td>855358.0</td>\n      <td>1320.0</td>\n      <td>7.0</td>\n      <td>12.0</td>\n      <td>-0.913155</td>\n      <td>1.885686</td>\n    </tr>\n    <tr>\n      <th>2</th>\n      <td>855698.0</td>\n      <td>1321.0</td>\n      <td>8.0</td>\n      <td>13.0</td>\n      <td>-0.912993</td>\n      <td>1.885833</td>\n    </tr>\n    <tr>\n      <th>3</th>\n      <td>856037.0</td>\n      <td>1322.0</td>\n      <td>9.0</td>\n      <td>14.0</td>\n      <td>-0.912866</td>\n      <td>1.884999</td>\n    </tr>\n    <tr>\n      <th>4</th>\n      <td>856377.0</td>\n      <td>1323.0</td>\n      <td>10.0</td>\n      <td>15.0</td>\n      <td>-0.913932</td>\n      <td>1.886211</td>\n    </tr>\n    <tr>\n      <th>...</th>\n      <td>...</td>\n      <td>...</td>\n      <td>...</td>\n      <td>...</td>\n      <td>...</td>\n      <td>...</td>\n    </tr>\n    <tr>\n      <th>46570</th>\n      <td>16704559.0</td>\n      <td>47889.0</td>\n      <td>47562.0</td>\n      <td>NaN</td>\n      <td>0.992427</td>\n      <td>NaN</td>\n    </tr>\n    <tr>\n      <th>46571</th>\n      <td>16704899.0</td>\n      <td>47890.0</td>\n      <td>47563.0</td>\n      <td>NaN</td>\n      <td>0.992530</td>\n      <td>NaN</td>\n    </tr>\n    <tr>\n      <th>46572</th>\n      <td>16705239.0</td>\n      <td>47891.0</td>\n      <td>47564.0</td>\n      <td>NaN</td>\n      <td>0.991791</td>\n      <td>NaN</td>\n    </tr>\n    <tr>\n      <th>46573</th>\n      <td>16705578.0</td>\n      <td>47892.0</td>\n      <td>47565.0</td>\n      <td>NaN</td>\n      <td>0.992694</td>\n      <td>NaN</td>\n    </tr>\n    <tr>\n      <th>46574</th>\n      <td>16705918.0</td>\n      <td>47893.0</td>\n      <td>47566.0</td>\n      <td>NaN</td>\n      <td>0.991805</td>\n      <td>NaN</td>\n    </tr>\n  </tbody>\n</table>\n<p>46575 rows × 6 columns</p>\n</div>"
     },
     "execution_count": 24,
     "metadata": {},
     "output_type": "execute_result"
    }
   ],
   "source": [
    "block = block_collection[0]\n",
    "block.final_sync_df"
   ],
   "metadata": {
    "collapsed": false,
    "pycharm": {
     "name": "#%%\n"
    }
   }
  },
  {
   "cell_type": "raw",
   "source": [
    "TODO LIST:\n",
    "1. get the hang of how to parse the .mat OEMetaData files generated by Mark's code == V\n",
    "2. create a class object which initializes through BlockSync and allows the get_data method as written in MATLAB (that is, faster) == V\n",
    "3. rewrite the class to get its own metadata based on what is actually needed == V\n",
    "4. integrate with video outputs on a joint timeline\n",
    "5. go through with analysis"
   ],
   "metadata": {
    "collapsed": false,
    "pycharm": {
     "name": "#%% raw\n"
    }
   }
  },
  {
   "cell_type": "code",
   "source": [
    "# initialize some things\n",
    "#block definition\n",
    "experiments_path = pathlib.Path(r\"Z:\\Nimrod\\experiments\")\n",
    "animal = \"PV_62\"\n",
    "date = \"2023_06_21\"\n",
    "block_n = \"072\"\n",
    "\n",
    "block = BlockSync(animal_call=animal,\n",
    "                  experiment_date=date,block_num=block_n,\n",
    "                  path_to_animal_folder=str(experiments_path),regev=True)\n",
    "\n",
    "# oe session definition (maybe redundent? do I really use their classes?)\n",
    "\n",
    "oe_metadata_file_path = block.oe_metadata_file_path\n",
    "\n"
   ],
   "metadata": {
    "collapsed": false,
    "pycharm": {
     "name": "#%%\n"
    }
   },
   "execution_count": 3,
   "outputs": [
    {
     "name": "stdout",
     "output_type": "stream",
     "text": [
      "instantiated block number 072 at Path: Z:\\Nimrod\\experiments\\PV_62\\2023_06_21\\block_072, new OE version\n",
      "Found the sample rate for block 072 in the xml file, it is 20000 Hz\n",
      "created the .oe_rec attribute as an open ephys recording obj with get_data functionality\n"
     ]
    }
   ]
  },
  {
   "cell_type": "code",
   "execution_count": 5,
   "outputs": [
    {
     "data": {
      "text/plain": "WindowsPath('Z:/Nimrod/experiments/PV_62/2023_06_21/block_073/oe_files/2023-06-21_14-45-37/Record Node 108/OE_metaData.mat')"
     },
     "execution_count": 5,
     "metadata": {},
     "output_type": "execute_result"
    }
   ],
   "source": [
    "block.oe_metadata_file_path"
   ],
   "metadata": {
    "collapsed": false,
    "pycharm": {
     "name": "#%%\n"
    }
   }
  },
  {
   "cell_type": "code",
   "execution_count": 31,
   "outputs": [
    {
     "data": {
      "text/plain": "WindowsPath('Z:/Nimrod/experiments/PV_62/2023_06_21/block_072/oe_files/2023-06-21_14-31-03/Record Node 108/OE_metaData.mat')"
     },
     "execution_count": 31,
     "metadata": {},
     "output_type": "execute_result"
    }
   ],
   "source": [
    "oe_metadata_file_path"
   ],
   "metadata": {
    "collapsed": false,
    "pycharm": {
     "name": "#%%\n"
    }
   }
  },
  {
   "cell_type": "code",
   "execution_count": null,
   "outputs": [],
   "source": [
    "analyzed_block_automated_pipe(block)\n",
    "block.calibrate_pixel_size(10,overwrite=True)\n"
   ],
   "metadata": {
    "collapsed": false,
    "pycharm": {
     "name": "#%%\n"
    }
   }
  },
  {
   "cell_type": "code",
   "execution_count": 31,
   "outputs": [
    {
     "data": {
      "text/plain": "WindowsPath('Z:/Nimrod/experiments/PV_62/2023_06_21/block_072/oe_files/2023-06-21_14-31-03/Record Node 108/OE_metaData.mat')"
     },
     "execution_count": 31,
     "metadata": {},
     "output_type": "execute_result"
    }
   ],
   "source": [
    "# collect saccade events within block\n",
    "block.saccade_event_analayzer(threshold=2, automatic=False)\n"
   ],
   "metadata": {
    "collapsed": false,
    "pycharm": {
     "name": "#%%\n"
    }
   }
  },
  {
   "cell_type": "code",
   "execution_count": 0,
   "outputs": [],
   "source": [
    "block.l_saccades_chunked"
   ],
   "metadata": {
    "collapsed": false,
    "pycharm": {
     "name": "#%%\n"
    }
   }
  },
  {
   "cell_type": "code",
   "execution_count": 31,
   "outputs": [
    {
     "data": {
      "text/plain": "WindowsPath('Z:/Nimrod/experiments/PV_62/2023_06_21/block_072/oe_files/2023-06-21_14-31-03/Record Node 108/OE_metaData.mat')"
     },
     "execution_count": 31,
     "metadata": {},
     "output_type": "execute_result"
    }
   ],
   "source": [
    "block.calibrate_pixel_size(10,overwrite=True)\n"
   ],
   "metadata": {
    "collapsed": false,
    "pycharm": {
     "name": "#%%\n"
    }
   }
  },
  {
   "cell_type": "code",
   "execution_count": 0,
   "outputs": [],
   "source": [],
   "metadata": {
    "collapsed": false,
    "pycharm": {
     "name": "#%%\n"
    }
   }
  },
  {
   "cell_type": "code",
   "execution_count": 4,
   "outputs": [],
   "source": [
    "class OERecording:\n",
    "    \"\"\"\n",
    "    This is a class designed to get the metadata of an open-ephys format recording that was first analyzed by Mark's matlab code -\n",
    "    I should probably make an independent function sometime in the future but for now this class reads the produced metadata file to allow efficient access to the recording\n",
    "    \"\"\"\n",
    "    # define a helper function to get a group out of an hdf5 file (without resolving internal references!)\n",
    "\n",
    "    def group_to_dict(self, group):\n",
    "        result = {}\n",
    "        for key, item in group.items():\n",
    "            if isinstance(item, h5py.Group):\n",
    "                result[key] = self.group_to_dict(item)\n",
    "            else:\n",
    "\n",
    "                result[key] = item[()]  # Convert dataset to NumPy array and assign its value\n",
    "        return result\n",
    "\n",
    "    def __init__(self, oe_metadata_file_path):\n",
    "        # create the metadata_dict object:\n",
    "        # open the mat file:\n",
    "        mat_file = h5py.File(str(oe_metadata_file_path), 'r')\n",
    "\n",
    "        #implement on the metaData group:\n",
    "        meta_dict = self.group_to_dict(mat_file['metaData'])\n",
    "\n",
    "        # resolve internal references of blkCont object:\n",
    "        # get to the blkCont mat and reform it from reference instances\n",
    "        blkCont_dict = {\n",
    "            'Repeat':[],\n",
    "            'Types':[],\n",
    "            'Str':[]\n",
    "        }\n",
    "        blkCont_group = mat_file['metaData/blkCont']\n",
    "        for i in blkCont_group['Repeat']:\n",
    "            res = np.array(mat_file[i[0]][0])\n",
    "            blkCont_dict['Repeat'].append(res[0])\n",
    "\n",
    "        for i in blkCont_group['Types']:\n",
    "            res = np.array((mat_file[i[0]]))\n",
    "            str_array = np.vectorize(chr)(res).flatten()\n",
    "            str_value = ''.join(str_array.flatten())\n",
    "            blkCont_dict['Types'].append(str_value)\n",
    "\n",
    "        for i in blkCont_group['Str']:\n",
    "            res = np.array(mat_file[i[0]])\n",
    "            str_array = np.vectorize(chr)(res).flatten()\n",
    "            str_value = ''.join(str_array.flatten())\n",
    "            blkCont_dict['Str'].append(str_value)\n",
    "\n",
    "        #close the file\n",
    "        mat_file.close()\n",
    "\n",
    "        # switch out the dictionary blkCont attribute\n",
    "        meta_dict['blkCont'] = blkCont_dict\n",
    "        # parse a dictionary into attributes of the class\n",
    "        for key, value in meta_dict.items():\n",
    "            setattr(self, key, value)\n",
    "        # add some stuff from Mark's class that's not in the metadata\n",
    "        self.headerSizeByte = 1024\n",
    "        self.fileExtension = 'continuous'\n",
    "        self.eventFileExtension = 'events'\n",
    "        self.signalBits = 16 # the quantization of the sampling card\n",
    "        self.dataSamplesPerRecord = 1024\n",
    "        self.maxTTLBit = 9\n",
    "        self.oe_file_path = oe_metadata_file_path.parent\n",
    "        def extract_number_from_file(filename, suffix):\n",
    "            match = re.search(r'(\\d+)\\.' + suffix + '$', filename)\n",
    "            if match:\n",
    "                return int(match.group(1))\n",
    "            else:\n",
    "                return None\n",
    "        self.channel_files = sorted([i.name for i in oe_metadata_file_path.parent.iterdir() if ('.continuous' in str(i)) & ('AUX' not in str(i)) & ('ADC' not in str(i)) ],\n",
    "                                    key=lambda x: extract_number_from_file(x, suffix='continuous'))\n",
    "        self.analog_files = sorted([i.name for i in oe_metadata_file_path.parent.iterdir() if ('AUX' in str(i)) or ('ADC' in str(i))],\n",
    "                                   key=lambda x: extract_number_from_file(x, suffix='continuous'))"
   ],
   "metadata": {
    "collapsed": false,
    "pycharm": {
     "name": "#%%\n"
    }
   }
  },
  {
   "cell_type": "code",
   "execution_count": 9,
   "outputs": [],
   "source": [
    "oe_metadata_file_path = pathlib.Path(r'Z:\\Nimrod\\experiments\\PV_62\\2023_06_21\\block_072\\oe_files\\2023-06-21_14-31-03\\Record Node 108\\OE_metaData.mat')\n",
    "#oe_metadata_file_path = pathlib.Path(r'Z:\\Nimrod\\experiments\\PV_62\\2023_06_21\\block_073\\oe_files\\2023-06-21_14-45-37\\Record Node 108\\OE_metaData.mat')\n",
    "oe = OERecording(oe_metadata_file_path=oe_metadata_file_path)"
   ],
   "metadata": {
    "collapsed": false,
    "pycharm": {
     "name": "#%%\n"
    }
   }
  },
  {
   "cell_type": "code",
   "execution_count": 13,
   "outputs": [],
   "source": [
    "oe.analog_files"
   ],
   "metadata": {
    "collapsed": false,
    "pycharm": {
     "name": "#%%\n"
    }
   }
  },
  {
   "cell_type": "code",
   "execution_count": 7,
   "outputs": [],
   "source": [
    "# TODO: deal with end-of-file errors (right now when encountering the end of a datafile I get numpy broadcasting errors,\n",
    "#  should be dealt with exceptions and try steps instead.\n",
    "def get_data_current(oe, channels, startTime_ms, window_ms, convert_to_mV=True):\n",
    "    \"\"\"\n",
    "    This is a translated matlab function that efficiently retrieves data from Open-Ephys format neural recordings\n",
    "    :param oe: an OERecording class obj. with a metadata file created by the matlab class with the same name\n",
    "    :param channels: a vector of channel numbers to sample from [1XN channels]\n",
    "    :param startTime_ms: a vector of window start times [1XN] in ms\n",
    "    :param window_ms: a single value, the length of the sampling window from each startTime [ms_value]\n",
    "    :param convert_to_mV: when True, turns the output into the mV representation of the sampled data\n",
    "    :return: V_uV - an array with the shape [nChannels, nWindows, nSamples] and either the int16 / mV values\n",
    "    \"\"\"\n",
    "    windowSamples = int(np.round(window_ms / oe.sample_ms)) # round the time in ms to the nearest whole sample count\n",
    "    nWindows = len(startTime_ms) # get the number of start times provided\n",
    "    startTime_ms = np.round(startTime_ms / oe.sample_ms) * oe.sample_ms # round the start times to the nearest whole sample multiple\n",
    "    window_ms = windowSamples*oe.sample_ms # get the ms based length of the rounded window\n",
    "\n",
    "    # deal with the channel numbers:\n",
    "    if len(channels) == 0 or channels is None: #if no channels were provided\n",
    "        channels = oe.channelNumbers\n",
    "\n",
    "    if not all([c in oe.channelNumbers for c in channels]): #if requested channels do not exist in the file\n",
    "        raise ValueError('one or more of the entered channels does not exist in the recording!')\n",
    "    nCh = len(channels)\n",
    "\n",
    "    #initialize some variables for the data extraction:\n",
    "    V_uV = np.zeros(shape=(int(windowSamples),nWindows,nCh),\n",
    "                    dtype=oe.blkCont['Types'][3],\n",
    "                    order='F') #initialize the waveform matrix\n",
    "    # List to store the record indices for waveform extraction\n",
    "    p_rec_idx = []\n",
    "    # List to store the indices where reading from the file should start (one per reading window)\n",
    "    read_start_indices = []\n",
    "    records_per_trial_list = []\n",
    "    for i in range(nWindows):\n",
    "        # find the relevant record blocks in the block list:\n",
    "        p_single_trial_time_stamps = np.where((oe.allTimeStamps[0] >= (startTime_ms[0][i] - oe.recordLength)) &\n",
    "                                              (oe.allTimeStamps[0] < (startTime_ms[0][i] + window_ms)))[1]\n",
    "        read_start_indices.append(p_single_trial_time_stamps[0]) # this collects the indices to start reading from\n",
    "        single_trial_time_stamps = np.round(oe.allTimeStamps[0][p_single_trial_time_stamps] / oe.sample_ms) * oe.sample_ms  # Calculate time stamps in milliseconds based on sampling freq & record block length\n",
    "        records_per_trial = len(single_trial_time_stamps[0])  # Get the number of records per trial\n",
    "        records_per_trial_list.append(records_per_trial)\n",
    "        # This is problematic, should give me the right time index selections consistently\n",
    "        time_idx = np.tile((np.arange(oe.dataSamplesPerRecord) * oe.sample_ms).reshape(-1, 1), (1, records_per_trial)) + single_trial_time_stamps.reshape(1, -1)\n",
    "        if i==0:\n",
    "            p_rec_idx.append((time_idx >= startTime_ms[0][i]) & (time_idx < (startTime_ms[0][i] + window_ms)))  # Find time indices within the requested time window (chunks are 1024 in size so they are usually cut for most time windows, this is saved as a boolean matrix)\n",
    "        else:\n",
    "            p_rec_idx.append((time_idx >= startTime_ms[0][i]) & (time_idx < (startTime_ms[0][i] + window_ms)))\n",
    "\n",
    "        if np.sum(p_rec_idx[i]) == windowSamples + 1:  # Due to rounding issues, there may be an error when there is one sample too much - in this case the last sample is removed\n",
    "            print(f'sample removed {i}')\n",
    "            p_rec_idx[i][0, np.where(p_rec_idx[i][0, :] == 1)[0][0]] = False\n",
    "\n",
    "    p_rec_idx = np.hstack(p_rec_idx)  # Concatenate record indices into a single array\n",
    "\n",
    "    # now for the data extraction itself:\n",
    "    for i in range(nCh): # iterate over channels\n",
    "        data = np.zeros(p_rec_idx.shape, dtype=np.dtype('>i2'))  # Initialize the data array for a specific channel\n",
    "        curr_rec = 0 # for this channel, initialize the record counter\n",
    "        c_file = oe.oe_file_path / oe.channel_files[channels[i]-1] # get the path to the relevant channel file\n",
    "        with open(c_file,'rb') as fid: #open the file such that it will close when left alone\n",
    "            for j in range(nWindows): # Iterate over sampling windows\n",
    "                # use seek to go to the appropriate position in the file\n",
    "                fid.seek(int(oe.headerSizeByte + (read_start_indices[j] * oe.bytesPerRecCont) + np.sum(oe.blkBytesCont[0:3])), 0)\n",
    "                # calculate the skip size, cut in half because each int16 is 2 bytes and the matlab function takes bytes as skip\n",
    "                # (which fromfile does not, uniform datatype)\n",
    "                skip_size = int(oe.bytesPerRecCont[0][0] - oe.blkBytesCont[3][0]) // 2\n",
    "                read_size = oe.dataSamplesPerRecord\n",
    "                total_bytes = (read_size + skip_size) * records_per_trial_list[j] # calculate total element count to read\n",
    "                # read data from file in a single vector, including skip_data (Notice datatype is non-flexible in this version of the function!!!)\n",
    "                data_plus_breaks = np.fromfile(fid, dtype=np.dtype('>i2'), count=total_bytes, sep='')\n",
    "                data_plus_breaks = data_plus_breaks.reshape(int(records_per_trial_list[j]), read_size + skip_size) # reshape into an array with a column-per-record shape\n",
    "                clean_data = data_plus_breaks[:, :read_size] # slice the array to get rid of the skip_data at the end of each column (record)\n",
    "                data[:, curr_rec : curr_rec + records_per_trial_list[j]] = clean_data.T # transpose and store the current_rec data\n",
    "                curr_rec = curr_rec + records_per_trial_list[j] # move forward to the next reading window\n",
    "        # this loop exit closes the current channel file\n",
    "        data_vec = data.T[p_rec_idx.T] # vectorize the data from the channel and perform a boolean snipping of non-window samples\n",
    "        V_uV[:,:,i] = data_vec.reshape(int(windowSamples), nWindows, order='F') # put the data in the final V_uV waveform matrix\n",
    "\n",
    "    V_uV = np.transpose(V_uV,[2,1,0])\n",
    "\n",
    "    if convert_to_mV:\n",
    "        V_uV = V_uV* oe.MicrovoltsPerAD[0]\n",
    "        return V_uV\n",
    "    else:\n",
    "        return V_uV"
   ],
   "metadata": {
    "collapsed": false,
    "pycharm": {
     "name": "#%%\n"
    }
   }
  },
  {
   "cell_type": "code",
   "execution_count": 31,
   "outputs": [
    {
     "data": {
      "text/plain": "WindowsPath('Z:/Nimrod/experiments/PV_62/2023_06_21/block_072/oe_files/2023-06-21_14-31-03/Record Node 108/OE_metaData.mat')"
     },
     "execution_count": 31,
     "metadata": {},
     "output_type": "execute_result"
    }
   ],
   "source": [
    "def recursive_printer(element):\n",
    "    txt = ET.tostring(element, pretty_print=True)\n",
    "    print(str(txt))\n",
    "    print('#####')\n",
    "    if len(element) > 1:\n",
    "        for i in range(len(element)):\n",
    "            recursive_printer(element[i])\n",
    "\n",
    "tree = ET.parse(str(xml_path))\n",
    "root = tree.getroot()\n",
    "for element in root:\n",
    "    recursive_printer(element)"
   ],
   "metadata": {
    "collapsed": false,
    "pycharm": {
     "name": "#%%\n"
    }
   }
  },
  {
   "cell_type": "code",
   "execution_count": 121,
   "outputs": [
    {
     "ename": "ValueError",
     "evalue": "cannot reshape array of size 29920173 into shape (10000000,3)",
     "output_type": "error",
     "traceback": [
      "\u001B[1;31m---------------------------------------------------------------------------\u001B[0m",
      "\u001B[1;31mValueError\u001B[0m                                Traceback (most recent call last)",
      "\u001B[1;32m<timed exec>\u001B[0m in \u001B[0;36m<module>\u001B[1;34m\u001B[0m\n",
      "\u001B[1;32m<ipython-input-117-ae8b7feca7a6>\u001B[0m in \u001B[0;36mget_data_current\u001B[1;34m(oe, channels, startTime_ms, window_ms, convert_to_mV)\u001B[0m\n\u001B[0;32m     76\u001B[0m         \u001B[1;31m# this loop exit closes the current channel file\u001B[0m\u001B[1;33m\u001B[0m\u001B[1;33m\u001B[0m\u001B[1;33m\u001B[0m\u001B[0m\n\u001B[0;32m     77\u001B[0m         \u001B[0mdata_vec\u001B[0m \u001B[1;33m=\u001B[0m \u001B[0mdata\u001B[0m\u001B[1;33m.\u001B[0m\u001B[0mT\u001B[0m\u001B[1;33m[\u001B[0m\u001B[0mp_rec_idx\u001B[0m\u001B[1;33m.\u001B[0m\u001B[0mT\u001B[0m\u001B[1;33m]\u001B[0m \u001B[1;31m# vectorize the data from the channel and perform a boolean snipping of non-window samples\u001B[0m\u001B[1;33m\u001B[0m\u001B[1;33m\u001B[0m\u001B[0m\n\u001B[1;32m---> 78\u001B[1;33m         \u001B[0mV_uV\u001B[0m\u001B[1;33m[\u001B[0m\u001B[1;33m:\u001B[0m\u001B[1;33m,\u001B[0m\u001B[1;33m:\u001B[0m\u001B[1;33m,\u001B[0m\u001B[0mi\u001B[0m\u001B[1;33m]\u001B[0m \u001B[1;33m=\u001B[0m \u001B[0mdata_vec\u001B[0m\u001B[1;33m.\u001B[0m\u001B[0mreshape\u001B[0m\u001B[1;33m(\u001B[0m\u001B[0mint\u001B[0m\u001B[1;33m(\u001B[0m\u001B[0mwindowSamples\u001B[0m\u001B[1;33m)\u001B[0m\u001B[1;33m,\u001B[0m \u001B[0mnWindows\u001B[0m\u001B[1;33m,\u001B[0m \u001B[0morder\u001B[0m\u001B[1;33m=\u001B[0m\u001B[1;34m'F'\u001B[0m\u001B[1;33m)\u001B[0m \u001B[1;31m# put the data in the final V_uV waveform matrix\u001B[0m\u001B[1;33m\u001B[0m\u001B[1;33m\u001B[0m\u001B[0m\n\u001B[0m\u001B[0;32m     79\u001B[0m \u001B[1;33m\u001B[0m\u001B[0m\n\u001B[0;32m     80\u001B[0m     \u001B[0mV_uV\u001B[0m \u001B[1;33m=\u001B[0m \u001B[0mnp\u001B[0m\u001B[1;33m.\u001B[0m\u001B[0mtranspose\u001B[0m\u001B[1;33m(\u001B[0m\u001B[0mV_uV\u001B[0m\u001B[1;33m,\u001B[0m\u001B[1;33m[\u001B[0m\u001B[1;36m2\u001B[0m\u001B[1;33m,\u001B[0m\u001B[1;36m1\u001B[0m\u001B[1;33m,\u001B[0m\u001B[1;36m0\u001B[0m\u001B[1;33m]\u001B[0m\u001B[1;33m)\u001B[0m\u001B[1;33m\u001B[0m\u001B[1;33m\u001B[0m\u001B[0m\n",
      "\u001B[1;31mValueError\u001B[0m: cannot reshape array of size 29920173 into shape (10000000,3)"
     ]
    }
   ],
   "source": [
    "%%time\n",
    "\n",
    "data_array = get_data_current(oe,[1],[10000, 20000, 30000],[500000],True)\n",
    "data_vec = np.concatenate([data_array[0,0,:],data_array[0,1,:],data_array[0,2,:]])\n",
    "mat_vec = scipy.io.loadmat('Z:/Nimrod/HelperFiles/c_vec.mat')\n",
    "c_vec = mat_vec['comp_vec'][:,0]\n",
    "np.array_equal(c_vec,data_vec)"
   ],
   "metadata": {
    "collapsed": false,
    "pycharm": {
     "name": "#%%\n"
    }
   }
  },
  {
   "cell_type": "code",
   "execution_count": 110,
   "outputs": [
    {
     "name": "stdout",
     "output_type": "stream",
     "text": [
      "Timer unit: 0.0001 s\n",
      "\n",
      "Total time: 0.0816057 s\n",
      "File: <ipython-input-16-f63137aa0b36>\n",
      "Function: get_data_current at line 1\n",
      "\n",
      "Line #      Hits         Time  Per Hit   % Time  Line Contents\n",
      "==============================================================\n",
      "     1                                           def get_data_current(oe, channels, startTime_ms, window_ms, convert_to_mV=True):\n",
      "     2                                               \"\"\"\n",
      "     3                                               This is a translated matlab function that efficiently retrieves data from Open-Ephys format neural recordings\n",
      "     4                                               :param oe: an OERecording class obj. with a metadata file created by the matlab class with the same name\n",
      "     5                                               :param channels: a vector of channel numbers to sample from [1XN channels]\n",
      "     6                                               :param startTime_ms: a vector of window start times [1XN] in ms\n",
      "     7                                               :param window_ms: a single value, the length of the sampling window from each startTime [ms_value]\n",
      "     8                                               :param convert_to_mV: when True, turns the output into the mV representation of the sampled data\n",
      "     9                                               :return: V_uV - an array with the shape [nChannels, nWindows, nSamples] and either the int16 / mV values\n",
      "    10                                               \"\"\"\n",
      "    11         1          0.7      0.7      0.1      windowSamples = int(np.round(window_ms/oe.sample_ms)) # round the time in ms to the nearest whole sample count\n",
      "    12         1          0.0      0.0      0.0      nWindows = len(startTime_ms) # get the number of start times provided\n",
      "    13         1          0.2      0.2      0.0      startTime_ms = np.round(startTime_ms / oe.sample_ms) * oe.sample_ms # round the start times to the nearest whole sample multiple\n",
      "    14         1          0.0      0.0      0.0      window_ms = windowSamples*oe.sample_ms # get the ms based length of the rounded window\n",
      "    15                                           \n",
      "    16                                               # deal with the channel numbers:\n",
      "    17         1          0.0      0.0      0.0      if len(channels) == 0 or channels is None: #if no channels were provided\n",
      "    18                                                   channels = oe.channelNumbers\n",
      "    19                                           \n",
      "    20         1          0.3      0.3      0.0      if not all([c in oe.channelNumbers for c in channels]): #if requested channels do not exist in the file\n",
      "    21                                                   raise ValueError('one or more of the entered channels does not exist in the recording!')\n",
      "    22         1          0.0      0.0      0.0      nCh = len(channels)\n",
      "    23                                           \n",
      "    24                                               #initialize some variables for the data extraction:\n",
      "    25         1          3.0      3.0      0.4      V_uV = np.zeros(shape=(int(windowSamples),nWindows,nCh), dtype=oe.blkCont['Types'][3], order='F') #initialize the waveform matrix\n",
      "    26                                           \n",
      "    27         1          0.0      0.0      0.0      p_rec_idx = []  # List to store the record indices for waveform extraction\n",
      "    28         1          0.0      0.0      0.0      read_start_indices = [] # List to store the indices where reading from the file should start (one per reading window)\n",
      "    29         1          0.0      0.0      0.0      records_per_trial_list = []\n",
      "    30         1          0.0      0.0      0.0      for i in range(nWindows):\n",
      "    31                                                   # find the relevant record blocks in the block list:\n",
      "    32         1          4.3      4.3      0.5          p_single_trial_time_stamps = np.where((oe.allTimeStamps[0] >= (startTime_ms[0][i] - oe.recordLength)) & (oe.allTimeStamps[0] < (startTime_ms[0][i] + window_ms)))[1]\n",
      "    33         1          0.0      0.0      0.0          read_start_indices.append(p_single_trial_time_stamps[0]) # this collects the indices to start reading from\n",
      "    34         1          0.3      0.3      0.0          single_trial_time_stamps = np.round(oe.allTimeStamps[0][p_single_trial_time_stamps] / oe.sample_ms) * oe.sample_ms  # Calculate time stamps in milliseconds based on sampling freq & record block length\n",
      "    35         1          0.0      0.0      0.0          records_per_trial = len(single_trial_time_stamps[0])  # Get the number of records per trial\n",
      "    36         1          0.0      0.0      0.0          records_per_trial_list.append(records_per_trial)\n",
      "    37                                                   # This is problematic, should give me the right time index selections consistently\n",
      "    38         1          6.7      6.7      0.8          time_idx = np.tile((np.arange(oe.dataSamplesPerRecord) * oe.sample_ms).reshape(-1, 1), (1, records_per_trial)) + single_trial_time_stamps.reshape(1, -1)\n",
      "    39         1          0.0      0.0      0.0          if i==0:\n",
      "    40         1          1.3      1.3      0.2              p_rec_idx.append((time_idx >= startTime_ms[0][i]) & (time_idx < (startTime_ms[0][i] + window_ms)))  # Find time indices within the requested time window (chunks are 1024 in size so they are usually cut for most time windows, this is saved as a boolean matrix)\n",
      "    41                                                   else:\n",
      "    42                                                       p_rec_idx.append((time_idx >= startTime_ms[0][i]) & (time_idx < (startTime_ms[0][i] + window_ms)))\n",
      "    43                                           \n",
      "    44         1          1.2      1.2      0.1          if np.sum(p_rec_idx[i]) == windowSamples + 1:  # Due to rounding issues, there may be an error when there is one sample too much - in this case the last sample is removed\n",
      "    45                                                       print(f'sample removed {i}')\n",
      "    46                                                       p_rec_idx[i][0, np.where(p_rec_idx[i][0, :] == 1)[0][0]] = False\n",
      "    47                                           \n",
      "    48         1          0.0      0.0      0.0          time_idx = time_idx.T\n",
      "    49                                                   #p_out_idx.append(np.round((time_idx[p_rec_idx[i].T] - startTime_ms[0][i]) / oe.sample_ms) + windowSamples * i)  # Calculate the output indices for waveform extraction\n",
      "    50                                           \n",
      "    51                                               # if p_out_idx[0][0][0] == -1:  # Special case handling where the first index is 0 (due to rounding) -> might be redundent with python\n",
      "    52                                               #     p_out_idx[0] += 1\n",
      "    53                                           \n",
      "    54         1          0.4      0.4      0.0      p_rec_idx = np.hstack(p_rec_idx)  # Concatenate record indices into a single array\n",
      "    55                                               # p_out_idx = np.hstack(p_out_idx)  # Concatenate output indices into a single array\n",
      "    56                                           \n",
      "    57                                           \n",
      "    58                                               # now for the data extraction itself:\n",
      "    59         4          0.0      0.0      0.0      for i in range(nCh): # iterate over channels\n",
      "    60         4          0.7      0.2      0.1          data = np.zeros(p_rec_idx.shape, dtype=np.dtype('>i2'))  # Initialize the data array for a specific channel\n",
      "    61         4          0.0      0.0      0.0          curr_rec = 0 # for this channel, initialize the record counter\n",
      "    62         4          2.0      0.5      0.2          c_file = oe.oe_file_path / oe.channel_files[channels[i]-1] # get the path to the relevant channel file\n",
      "    63         4        104.9     26.2     12.9          with open(c_file,'rb') as fid: #open the file such that it will close when left alone\n",
      "    64         4          4.6      1.2      0.6              for j in range(nWindows): # Iterate over sampling windows\n",
      "    65         4          2.4      0.6      0.3                  fid.seek(int(oe.headerSizeByte + (read_start_indices[j] * oe.bytesPerRecCont) + np.sum(oe.blkBytesCont[0:3])), 0) # use seek to go to the appropriate position in the file\n",
      "    66         4          0.2      0.0      0.0                  skip_size = int(oe.bytesPerRecCont[0][0] - oe.blkBytesCont[3][0]) // 2 # calculate the skip size, cut in half because each int16 is 2 bytes and the matlab function takes bytes as skip\n",
      "    67                                                           # (which fromfile does not, uniform datatype)\n",
      "    68         4          0.0      0.0      0.0                  read_size = oe.dataSamplesPerRecord\n",
      "    69         4          0.0      0.0      0.0                  total_bytes = (read_size + skip_size) * records_per_trial_list[j] # calculate total element count to read\n",
      "    70         4        639.7    159.9     78.4                  data_plus_breaks = np.fromfile(fid, dtype=np.dtype('>i2'), count=total_bytes, sep='') # read data from file in a single vector, including skip_data\n",
      "    71         4          0.3      0.1      0.0                  data_plus_breaks = data_plus_breaks.reshape(int(records_per_trial_list[j]), read_size + skip_size) # reshape into an array with a column-per-record shape\n",
      "    72         4          0.2      0.0      0.0                  clean_data = data_plus_breaks[:, :read_size] # slice the array to get rid of the skip_data at the end of each column (record)\n",
      "    73         4         13.8      3.5      1.7                  data[:, curr_rec : curr_rec + records_per_trial_list[j]] = clean_data.T # transpose and store the current_rec data\n",
      "    74         4          0.0      0.0      0.0                  curr_rec = curr_rec + records_per_trial_list[j] # move forward to the next reading window\n",
      "    75                                                   # this loop exit closes the current channel file\n",
      "    76         4         17.4      4.3      2.1          data_vec = data.T[p_rec_idx.T] # vectorize the data from the channel and perform a boolean snipping of non-window samples\n",
      "    77         4          2.3      0.6      0.3          V_uV[:,:,i] = data_vec.reshape(int(windowSamples), nWindows, order='F') # put the data in the final V_uV waveform matrix\n",
      "    78                                           \n",
      "    79         1          0.2      0.2      0.0      V_uV = np.transpose(V_uV,[2,1,0])\n",
      "    80                                           \n",
      "    81         1          0.0      0.0      0.0      if convert_to_mV:\n",
      "    82         1          8.9      8.9      1.1          V_uV = V_uV* oe.MicrovoltsPerAD[0]\n",
      "    83         1          0.0      0.0      0.0          return V_uV\n",
      "    84                                               else:\n",
      "    85                                                   return V_uV\n",
      "\n"
     ]
    },
    {
     "data": {
      "text/plain": "None"
     },
     "metadata": {},
     "output_type": "display_data"
    }
   ],
   "source": [
    "import line_profiler\n",
    "from IPython.display import display\n",
    "profiler = line_profiler.LineProfiler()\n",
    "profiler.add_function(get_data_current)\n",
    "profiler.run(\"get_data_current(oe,[1,5,10,20],[10000],[5000],True)\")\n",
    "display(profiler.print_stats(output_unit=1e-4))\n"
   ],
   "metadata": {
    "collapsed": false,
    "pycharm": {
     "name": "#%%\n"
    }
   }
  },
  {
   "cell_type": "code",
   "execution_count": 71,
   "outputs": [
    {
     "data": {
      "text/plain": "True"
     },
     "execution_count": 71,
     "metadata": {},
     "output_type": "execute_result"
    }
   ],
   "source": [
    "np.array_equal(c_vec[:,0],data_vec)\n",
    "#np.shape(c_vec[:,0])"
   ],
   "metadata": {
    "collapsed": false,
    "pycharm": {
     "name": "#%%\n"
    }
   }
  },
  {
   "cell_type": "code",
   "execution_count": 10,
   "outputs": [],
   "source": [
    "# check stuff here:\n",
    "# rounding the inputs to clean multiples of the sample timestep:\n",
    "channels=[1]\n",
    "startTime_ms = [10000, 20000]\n",
    "window_ms = 5000\n",
    "\n",
    "windowSamples = int(np.round(window_ms/oe.sample_ms)) # round the time in ms to the nearest whole sample count\n",
    "nWindows = len(startTime_ms) # get the number of start times provided\n",
    "startTime_ms = np.round(startTime_ms / oe.sample_ms) * oe.sample_ms # round the start times to the nearest whole sample multiple\n",
    "window_ms = windowSamples*oe.sample_ms # get the ms based length of the rounded window\n",
    "\n",
    "# deal with the channel numbers:\n",
    "if len(channels) == 0 or channels is None: #if no channels were provided\n",
    "    channels = oe.channelNumbers\n",
    "\n",
    "if not all([c in oe.channelNumbers for c in channels]): #if requested channels do not exist in the file\n",
    "    raise ValueError('one or more of the entered channels does not exist in the recording!')\n",
    "nCh = len(channels)\n",
    "\n",
    "#initialize some variables for the data extraction:\n",
    "V_uV = np.zeros(shape=(int(windowSamples),nWindows,nCh), dtype=oe.blkCont['Types'][3], order='F') #initialize the waveform matrix\n",
    "\n",
    "p_out_idx = []  # List to store the output indices for waveform extraction\n",
    "p_rec_idx = []  # List to store the record indices for waveform extraction\n",
    "read_start_indices = [] # List to store the indices where reading from the file should start (one per reading window)\n",
    "records_per_trial_list = []\n",
    "for i in range(nWindows):\n",
    "    # find the relevant blocks in the block list:\n",
    "    p_single_trial_time_stamps = np.where((oe.allTimeStamps[0] >= (startTime_ms[0][i] - oe.recordLength)) & (oe.allTimeStamps[0] < (startTime_ms[0][i] + window_ms)))[1]\n",
    "    read_start_indices.append(p_single_trial_time_stamps[0])\n",
    "    # TODO: deal with the edge case where the start index is at 0\n",
    "    #\n",
    "    # if p_single_trial_time_stamps[0] == 0:\n",
    "    #     read_start_indices.append(p_single_trial_time_stamps[0])\n",
    "    # else:\n",
    "    #     read_start_indices.append(p_single_trial_time_stamps[0])\n",
    "\n",
    "    single_trial_time_stamps = np.round(oe.allTimeStamps[0][p_single_trial_time_stamps] / oe.sample_ms) * oe.sample_ms  # Calculate time stamps in milliseconds\n",
    "    records_per_trial = len(single_trial_time_stamps[0])  # Get the number of records per trial\n",
    "    records_per_trial_list.append(records_per_trial)\n",
    "    # This is problematic, should give me the right time index selections consistently\n",
    "    time_idx = np.tile((np.arange(oe.dataSamplesPerRecord) * oe.sample_ms).reshape(-1, 1), (1, records_per_trial)) + single_trial_time_stamps.reshape(1, -1)\n",
    "    if i==0:\n",
    "        p_rec_idx.append((time_idx >= startTime_ms[0][i]) & (time_idx < (startTime_ms[0][i] + window_ms)))  # Find time indices within the requested time window (chunks are 1024 in size so they are usually cut for most time windows, this is saved as a boolean matrix)\n",
    "    else:\n",
    "        p_rec_idx.append((time_idx >= startTime_ms[0][i]) & (time_idx < (startTime_ms[0][i] + window_ms)))\n",
    "\n",
    "    if np.sum(p_rec_idx[i]) == windowSamples + 1:  # Due to rounding issues, there may be an error when there is one sample too much - in this case the last sample is removed\n",
    "        print(f'sample removed {i}')\n",
    "        p_rec_idx[i][0, np.where(p_rec_idx[i][0, :] == 1)[0][0]] = False\n",
    "\n",
    "    time_idx = time_idx.T\n",
    "    #p_out_idx.append(np.round((time_idx[p_rec_idx[i].T] - startTime_ms[0][i]) / oe.sample_ms) + windowSamples * i)  # Calculate the output indices for waveform extraction\n",
    "\n",
    "# if p_out_idx[0][0][0] == -1:  # Special case handling where the first index is 0 (due to rounding) -> might be redundent with python\n",
    "#     p_out_idx[0] += 1\n",
    "\n",
    "p_rec_idx = np.hstack(p_rec_idx)  # Concatenate record indices into a single array\n",
    "# p_out_idx = np.hstack(p_out_idx)  # Concatenate output indices into a single array\n",
    "\n",
    "\n",
    "# now for the data extraction itself:\n",
    "# first, iterate over channels:\n",
    "for i in range(nCh):\n",
    "    data = np.zeros(p_rec_idx.shape, dtype=np.dtype('>i2'))  # Initialize the data array for a specific channel\n",
    "    curr_rec = 0\n",
    "    c_file = oe.oe_file_path / oe.channel_files[channels[i]-1] # get the channel file to read from\n",
    "    with open(c_file,'rb') as fid: #open the file such that it will close when left alone\n",
    "        for j in range(nWindows):\n",
    "            fid.seek(int(oe.headerSizeByte + (read_start_indices[j] * oe.bytesPerRecCont) + np.sum(oe.blkBytesCont[0:3])), 0) # use seek to go to the appropriate position in the file\n",
    "            skip_size = int(oe.bytesPerRecCont[0][0] - oe.blkBytesCont[3][0]) // 2 # calculate the skip size, cut in half because each int16 is 2 bytes and the matlab function takes bytes as skip\n",
    "            # (which fromfile does not, uniform datatype)\n",
    "            read_size = oe.dataSamplesPerRecord\n",
    "            total_bytes = (read_size + skip_size) * records_per_trial_list[j] # calculate total element count to read\n",
    "            data_plus_breaks = np.fromfile(fid, dtype=np.dtype('>i2'), count=total_bytes, sep='') # read data from file in a single vector, including skip_data\n",
    "            data_plus_breaks = data_plus_breaks.reshape(int(records_per_trial_list[j]), read_size + skip_size) # reshape into an array with a column per-record\n",
    "            clean_data = data_plus_breaks[:, :read_size] # slice the array to get rid of the skip_data\n",
    "            data[:, curr_rec : curr_rec + records_per_trial_list[j]] = clean_data.T\n",
    "            curr_rec = curr_rec + records_per_trial_list[j]\n",
    "    data_vec = data.T[p_rec_idx.T] # vectorize the data and perform a boolean snipping of non-window samples\n",
    "    if len(data_vec) < int(windowSamples) * nWindows:\n",
    "        print(f'The requested data segment between {read_start_indices [j]} ms and {read_start_indices[j] + window_ms[0][0]} ms '\n",
    "              f'exceeds the recording length, and will be 0-padded to fit the other windows')\n",
    "        num_zeros = (int(windowSamples) * nWindows) - len(data_vec)\n",
    "        data_vec = np.pad(data_vec,(0, num_zeros), mode='constant')\n",
    "    V_uV[:,:,i] = data_vec.reshape(int(windowSamples), nWindows, order='F') # put the data in the final V_uV waveform matrix\n",
    "\n",
    "V_uV = np.transpose(V_uV,[2,1,0])"
   ],
   "metadata": {
    "collapsed": false,
    "pycharm": {
     "name": "#%%\n"
    }
   }
  },
  {
   "cell_type": "code",
   "execution_count": 138,
   "outputs": [
    {
     "data": {
      "text/plain": "array([180, 172, 132, ...,   0,   0,   0], dtype=int16)"
     },
     "execution_count": 138,
     "metadata": {},
     "output_type": "execute_result"
    }
   ],
   "source": [
    "num_zeros = int(windowSamples)*nWindows - len(data_vec)\n",
    "padded_data_vec = np.pad(data_vec,(0,num_zeros),mode='constant')\n",
    "padded_data_vec"
   ],
   "metadata": {
    "collapsed": false,
    "pycharm": {
     "name": "#%%\n"
    }
   }
  },
  {
   "cell_type": "code",
   "execution_count": 32,
   "outputs": [
    {
     "data": {
      "text/plain": "array([[10000.  , 10000.05, 10000.1 , ..., 14999.85, 14999.9 , 14999.95],\n       [20000.  , 20000.05, 20000.1 , ..., 24999.85, 24999.9 , 24999.95]])"
     },
     "execution_count": 32,
     "metadata": {},
     "output_type": "execute_result"
    }
   ],
   "source": [
    "\n",
    "timestamps = np.tile(np.arange(windowSamples) * oe.sample_ms,(nWindows,1))\n",
    "start_times = np.tile(startTime_ms.T,windowSamples)\n",
    "timestamps = timestamps+start_times\n",
    "timestamps"
   ],
   "metadata": {
    "collapsed": false,
    "pycharm": {
     "name": "#%%\n"
    }
   }
  },
  {
   "cell_type": "code",
   "execution_count": 26,
   "outputs": [
    {
     "data": {
      "text/plain": "array([[10000., 20000.]])"
     },
     "execution_count": 26,
     "metadata": {},
     "output_type": "execute_result"
    }
   ],
   "source": [
    "startTime_ms"
   ],
   "metadata": {
    "collapsed": false,
    "pycharm": {
     "name": "#%%\n"
    }
   }
  },
  {
   "cell_type": "code",
   "execution_count": 376,
   "outputs": [
    {
     "data": {
      "text/plain": "array([[0.000e+00, 0.000e+00, 0.000e+00, ..., 0.000e+00, 0.000e+00,\n        0.000e+00],\n       [5.000e-02, 5.000e-02, 5.000e-02, ..., 5.000e-02, 5.000e-02,\n        5.000e-02],\n       [1.000e-01, 1.000e-01, 1.000e-01, ..., 1.000e-01, 1.000e-01,\n        1.000e-01],\n       ...,\n       [5.105e+01, 5.105e+01, 5.105e+01, ..., 5.105e+01, 5.105e+01,\n        5.105e+01],\n       [5.110e+01, 5.110e+01, 5.110e+01, ..., 5.110e+01, 5.110e+01,\n        5.110e+01],\n       [5.115e+01, 5.115e+01, 5.115e+01, ..., 5.115e+01, 5.115e+01,\n        5.115e+01]])"
     },
     "execution_count": 376,
     "metadata": {},
     "output_type": "execute_result"
    }
   ],
   "source": [
    "# vector comparison\n",
    "py_vec = data_vec * oe.MicrovoltsPerAD[0]\n",
    "mat_vec = scipy.io.loadmat(pathlib.Path('Z:/Nimrod/HelperFiles/c_vec.mat'))\n",
    "c_vec = mat_vec['c_vec']\n",
    "c_vec = c_vec[:,0]\n",
    "#c_vec[0] = 111\n",
    "mat_vec = np.vstack((py_vec,c_vec))"
   ],
   "metadata": {
    "collapsed": false,
    "pycharm": {
     "name": "#%%\n"
    }
   }
  },
  {
   "cell_type": "code",
   "execution_count": 4,
   "outputs": [
    {
     "data": {
      "text/plain": "['100_RhythmData_ADC1.continuous',\n '100_RhythmData_ADC2.continuous',\n '100_RhythmData_ADC3.continuous',\n '100_RhythmData_ADC4.continuous',\n '100_RhythmData_ADC5.continuous',\n '100_RhythmData_ADC6.continuous',\n '100_RhythmData_ADC7.continuous',\n '100_RhythmData_ADC8.continuous',\n '100_RhythmData_C1-AUX1.continuous',\n '100_RhythmData_C1-AUX2.continuous',\n '100_RhythmData_C1-AUX3.continuous']"
     },
     "execution_count": 4,
     "metadata": {},
     "output_type": "execute_result"
    }
   ],
   "source": [
    "mat_vec.T"
   ],
   "metadata": {
    "collapsed": false,
    "pycharm": {
     "name": "#%%\n"
    }
   }
  },
  {
   "cell_type": "code",
   "execution_count": 376,
   "outputs": [
    {
     "data": {
      "text/plain": "array([[0.000e+00, 0.000e+00, 0.000e+00, ..., 0.000e+00, 0.000e+00,\n        0.000e+00],\n       [5.000e-02, 5.000e-02, 5.000e-02, ..., 5.000e-02, 5.000e-02,\n        5.000e-02],\n       [1.000e-01, 1.000e-01, 1.000e-01, ..., 1.000e-01, 1.000e-01,\n        1.000e-01],\n       ...,\n       [5.105e+01, 5.105e+01, 5.105e+01, ..., 5.105e+01, 5.105e+01,\n        5.105e+01],\n       [5.110e+01, 5.110e+01, 5.110e+01, ..., 5.110e+01, 5.110e+01,\n        5.110e+01],\n       [5.115e+01, 5.115e+01, 5.115e+01, ..., 5.115e+01, 5.115e+01,\n        5.115e+01]])"
     },
     "execution_count": 376,
     "metadata": {},
     "output_type": "execute_result"
    }
   ],
   "source": [
    "#p_rec_idx.append((time_idx >= startTime_ms[0][i]) & (time_idx < (startTime_ms[0][i] + window_ms)))\n",
    "mat_vec.T"
   ],
   "metadata": {
    "collapsed": false,
    "pycharm": {
     "name": "#%%\n"
    }
   }
  },
  {
   "cell_type": "code",
   "execution_count": 4,
   "outputs": [
    {
     "data": {
      "text/plain": "['100_RhythmData_ADC1.continuous',\n '100_RhythmData_ADC2.continuous',\n '100_RhythmData_ADC3.continuous',\n '100_RhythmData_ADC4.continuous',\n '100_RhythmData_ADC5.continuous',\n '100_RhythmData_ADC6.continuous',\n '100_RhythmData_ADC7.continuous',\n '100_RhythmData_ADC8.continuous',\n '100_RhythmData_C1-AUX1.continuous',\n '100_RhythmData_C1-AUX2.continuous',\n '100_RhythmData_C1-AUX3.continuous']"
     },
     "execution_count": 4,
     "metadata": {},
     "output_type": "execute_result"
    }
   ],
   "source": [
    "time_idx.T"
   ],
   "metadata": {
    "collapsed": false,
    "pycharm": {
     "name": "#%%\n"
    }
   }
  },
  {
   "cell_type": "code",
   "execution_count": 376,
   "outputs": [
    {
     "data": {
      "text/plain": "array([[0.000e+00, 0.000e+00, 0.000e+00, ..., 0.000e+00, 0.000e+00,\n        0.000e+00],\n       [5.000e-02, 5.000e-02, 5.000e-02, ..., 5.000e-02, 5.000e-02,\n        5.000e-02],\n       [1.000e-01, 1.000e-01, 1.000e-01, ..., 1.000e-01, 1.000e-01,\n        1.000e-01],\n       ...,\n       [5.105e+01, 5.105e+01, 5.105e+01, ..., 5.105e+01, 5.105e+01,\n        5.105e+01],\n       [5.110e+01, 5.110e+01, 5.110e+01, ..., 5.110e+01, 5.110e+01,\n        5.110e+01],\n       [5.115e+01, 5.115e+01, 5.115e+01, ..., 5.115e+01, 5.115e+01,\n        5.115e+01]])"
     },
     "execution_count": 376,
     "metadata": {},
     "output_type": "execute_result"
    }
   ],
   "source": [
    "read_start_indices"
   ],
   "metadata": {
    "collapsed": false,
    "pycharm": {
     "name": "#%%\n"
    }
   }
  },
  {
   "cell_type": "code",
   "execution_count": 4,
   "outputs": [
    {
     "data": {
      "text/plain": "['100_RhythmData_ADC1.continuous',\n '100_RhythmData_ADC2.continuous',\n '100_RhythmData_ADC3.continuous',\n '100_RhythmData_ADC4.continuous',\n '100_RhythmData_ADC5.continuous',\n '100_RhythmData_ADC6.continuous',\n '100_RhythmData_ADC7.continuous',\n '100_RhythmData_ADC8.continuous',\n '100_RhythmData_C1-AUX1.continuous',\n '100_RhythmData_C1-AUX2.continuous',\n '100_RhythmData_C1-AUX3.continuous']"
     },
     "execution_count": 4,
     "metadata": {},
     "output_type": "execute_result"
    }
   ],
   "source": [
    "a = V_uV * oe.MicrovoltsPerAD[0]\n",
    "a[0,0,:]"
   ],
   "metadata": {
    "collapsed": false,
    "pycharm": {
     "name": "#%%\n"
    }
   }
  },
  {
   "cell_type": "code",
   "execution_count": 376,
   "outputs": [
    {
     "data": {
      "text/plain": "array([[0.000e+00, 0.000e+00, 0.000e+00, ..., 0.000e+00, 0.000e+00,\n        0.000e+00],\n       [5.000e-02, 5.000e-02, 5.000e-02, ..., 5.000e-02, 5.000e-02,\n        5.000e-02],\n       [1.000e-01, 1.000e-01, 1.000e-01, ..., 1.000e-01, 1.000e-01,\n        1.000e-01],\n       ...,\n       [5.105e+01, 5.105e+01, 5.105e+01, ..., 5.105e+01, 5.105e+01,\n        5.105e+01],\n       [5.110e+01, 5.110e+01, 5.110e+01, ..., 5.110e+01, 5.110e+01,\n        5.110e+01],\n       [5.115e+01, 5.115e+01, 5.115e+01, ..., 5.115e+01, 5.115e+01,\n        5.115e+01]])"
     },
     "execution_count": 376,
     "metadata": {},
     "output_type": "execute_result"
    }
   ],
   "source": [
    "p_rec_idx"
   ],
   "metadata": {
    "collapsed": false,
    "pycharm": {
     "name": "#%%\n"
    }
   }
  },
  {
   "cell_type": "code",
   "execution_count": 4,
   "outputs": [
    {
     "data": {
      "text/plain": "['100_RhythmData_ADC1.continuous',\n '100_RhythmData_ADC2.continuous',\n '100_RhythmData_ADC3.continuous',\n '100_RhythmData_ADC4.continuous',\n '100_RhythmData_ADC5.continuous',\n '100_RhythmData_ADC6.continuous',\n '100_RhythmData_ADC7.continuous',\n '100_RhythmData_ADC8.continuous',\n '100_RhythmData_C1-AUX1.continuous',\n '100_RhythmData_C1-AUX2.continuous',\n '100_RhythmData_C1-AUX3.continuous']"
     },
     "execution_count": 4,
     "metadata": {},
     "output_type": "execute_result"
    }
   ],
   "source": [
    "time_idx"
   ],
   "metadata": {
    "collapsed": false,
    "pycharm": {
     "name": "#%%\n"
    }
   }
  },
  {
   "cell_type": "code",
   "execution_count": 376,
   "outputs": [
    {
     "data": {
      "text/plain": "array([[0.000e+00, 0.000e+00, 0.000e+00, ..., 0.000e+00, 0.000e+00,\n        0.000e+00],\n       [5.000e-02, 5.000e-02, 5.000e-02, ..., 5.000e-02, 5.000e-02,\n        5.000e-02],\n       [1.000e-01, 1.000e-01, 1.000e-01, ..., 1.000e-01, 1.000e-01,\n        1.000e-01],\n       ...,\n       [5.105e+01, 5.105e+01, 5.105e+01, ..., 5.105e+01, 5.105e+01,\n        5.105e+01],\n       [5.110e+01, 5.110e+01, 5.110e+01, ..., 5.110e+01, 5.110e+01,\n        5.110e+01],\n       [5.115e+01, 5.115e+01, 5.115e+01, ..., 5.115e+01, 5.115e+01,\n        5.115e+01]])"
     },
     "execution_count": 376,
     "metadata": {},
     "output_type": "execute_result"
    }
   ],
   "source": [
    "%%time\n",
    "d = get_data_current(oe, [1,5], [0, 10000, 20000], 500)\n"
   ],
   "metadata": {
    "collapsed": false,
    "pycharm": {
     "name": "#%%\n"
    }
   }
  },
  {
   "cell_type": "code",
   "execution_count": 4,
   "outputs": [
    {
     "data": {
      "text/plain": "['100_RhythmData_ADC1.continuous',\n '100_RhythmData_ADC2.continuous',\n '100_RhythmData_ADC3.continuous',\n '100_RhythmData_ADC4.continuous',\n '100_RhythmData_ADC5.continuous',\n '100_RhythmData_ADC6.continuous',\n '100_RhythmData_ADC7.continuous',\n '100_RhythmData_ADC8.continuous',\n '100_RhythmData_C1-AUX1.continuous',\n '100_RhythmData_C1-AUX2.continuous',\n '100_RhythmData_C1-AUX3.continuous']"
     },
     "execution_count": 4,
     "metadata": {},
     "output_type": "execute_result"
    }
   ],
   "source": [
    "data_tester = V_uV * oe.MicrovoltsPerAD[0]\n",
    "prec_tester = p_rec_idx\n",
    "p = pathlib.Path(r'Z:/Nimrod/HelperFiles/dataTester.mat')\n",
    "scipy.io.savemat(p,{'data':data_tester, 'prec':prec_tester})"
   ],
   "metadata": {
    "collapsed": false,
    "pycharm": {
     "name": "#%%\n"
    }
   }
  },
  {
   "cell_type": "code",
   "execution_count": 376,
   "outputs": [
    {
     "data": {
      "text/plain": "array([[0.000e+00, 0.000e+00, 0.000e+00, ..., 0.000e+00, 0.000e+00,\n        0.000e+00],\n       [5.000e-02, 5.000e-02, 5.000e-02, ..., 5.000e-02, 5.000e-02,\n        5.000e-02],\n       [1.000e-01, 1.000e-01, 1.000e-01, ..., 1.000e-01, 1.000e-01,\n        1.000e-01],\n       ...,\n       [5.105e+01, 5.105e+01, 5.105e+01, ..., 5.105e+01, 5.105e+01,\n        5.105e+01],\n       [5.110e+01, 5.110e+01, 5.110e+01, ..., 5.110e+01, 5.110e+01,\n        5.110e+01],\n       [5.115e+01, 5.115e+01, 5.115e+01, ..., 5.115e+01, 5.115e+01,\n        5.115e+01]])"
     },
     "execution_count": 376,
     "metadata": {},
     "output_type": "execute_result"
    }
   ],
   "source": [
    "V_uV"
   ],
   "metadata": {
    "collapsed": false,
    "pycharm": {
     "name": "#%%\n"
    }
   }
  },
  {
   "cell_type": "code",
   "execution_count": 376,
   "outputs": [
    {
     "data": {
      "text/plain": "array([[0.000e+00, 0.000e+00, 0.000e+00, ..., 0.000e+00, 0.000e+00,\n        0.000e+00],\n       [5.000e-02, 5.000e-02, 5.000e-02, ..., 5.000e-02, 5.000e-02,\n        5.000e-02],\n       [1.000e-01, 1.000e-01, 1.000e-01, ..., 1.000e-01, 1.000e-01,\n        1.000e-01],\n       ...,\n       [5.105e+01, 5.105e+01, 5.105e+01, ..., 5.105e+01, 5.105e+01,\n        5.105e+01],\n       [5.110e+01, 5.110e+01, 5.110e+01, ..., 5.110e+01, 5.110e+01,\n        5.110e+01],\n       [5.115e+01, 5.115e+01, 5.115e+01, ..., 5.115e+01, 5.115e+01,\n        5.115e+01]])"
     },
     "execution_count": 376,
     "metadata": {},
     "output_type": "execute_result"
    }
   ],
   "source": [
    "p_rec_idx.T"
   ],
   "metadata": {
    "collapsed": false,
    "pycharm": {
     "name": "#%%\n"
    }
   }
  },
  {
   "cell_type": "code",
   "execution_count": 4,
   "outputs": [
    {
     "data": {
      "text/plain": "['100_RhythmData_ADC1.continuous',\n '100_RhythmData_ADC2.continuous',\n '100_RhythmData_ADC3.continuous',\n '100_RhythmData_ADC4.continuous',\n '100_RhythmData_ADC5.continuous',\n '100_RhythmData_ADC6.continuous',\n '100_RhythmData_ADC7.continuous',\n '100_RhythmData_ADC8.continuous',\n '100_RhythmData_C1-AUX1.continuous',\n '100_RhythmData_C1-AUX2.continuous',\n '100_RhythmData_C1-AUX3.continuous']"
     },
     "execution_count": 4,
     "metadata": {},
     "output_type": "execute_result"
    }
   ],
   "source": [
    "#data[np.where(p_rec_idx)]\n",
    "data_vec = data.flatten('F')[p_rec_idx.flatten('F')]\n",
    "data_vec.reshape(np.shape(V_uV)[:2],order='F')"
   ],
   "metadata": {
    "collapsed": false,
    "pycharm": {
     "name": "#%%\n"
    }
   }
  },
  {
   "cell_type": "code",
   "source": [
    "data\n"
   ],
   "metadata": {
    "collapsed": false,
    "pycharm": {
     "name": "#%%\n"
    }
   },
   "execution_count": 48,
   "outputs": [
    {
     "data": {
      "text/plain": "array([[  42,  180,  -47],\n       [  71,  172,  -27],\n       [ 118,  132,    3],\n       ...,\n       [-205,   76,  154],\n       [-234,  224,  154],\n       [-193,  266,  258]], dtype=int16)"
     },
     "execution_count": 48,
     "metadata": {},
     "output_type": "execute_result"
    }
   ]
  },
  {
   "cell_type": "code",
   "execution_count": 4,
   "outputs": [
    {
     "data": {
      "text/plain": "['100_RhythmData_ADC1.continuous',\n '100_RhythmData_ADC2.continuous',\n '100_RhythmData_ADC3.continuous',\n '100_RhythmData_ADC4.continuous',\n '100_RhythmData_ADC5.continuous',\n '100_RhythmData_ADC6.continuous',\n '100_RhythmData_ADC7.continuous',\n '100_RhythmData_ADC8.continuous',\n '100_RhythmData_C1-AUX1.continuous',\n '100_RhythmData_C1-AUX2.continuous',\n '100_RhythmData_C1-AUX3.continuous']"
     },
     "execution_count": 4,
     "metadata": {},
     "output_type": "execute_result"
    }
   ],
   "source": [],
   "metadata": {
    "collapsed": false,
    "pycharm": {
     "name": "#%%\n"
    }
   }
  },
  {
   "cell_type": "code",
   "source": [
    "print(p_rec_idx.shape)\n",
    "print(V_uV.shape)\n",
    "print(data.shape)\n",
    "print(records_per_trial_list)\n",
    "a = V_uV.flatten()\n",
    "a = np.zeros(60000)\n",
    "int(oe.bytesPerRecCont[0][0] - oe.blkBytesCont[3][0])\n",
    "oe.headerSizeByte + (read_start_indices[1] * oe.bytesPerRecCont) + np.sum(oe.blkBytesCont[0:3])"
   ],
   "metadata": {
    "collapsed": false,
    "pycharm": {
     "name": "#%%\n"
    }
   },
   "execution_count": 48,
   "outputs": [
    {
     "data": {
      "text/plain": "array([[  42,  180,  -47],\n       [  71,  172,  -27],\n       [ 118,  132,    3],\n       ...,\n       [-205,   76,  154],\n       [-234,  224,  154],\n       [-193,  266,  258]], dtype=int16)"
     },
     "execution_count": 48,
     "metadata": {},
     "output_type": "execute_result"
    }
   ]
  },
  {
   "cell_type": "raw",
   "source": [
    "Original function:\n",
    "function [V_uV,t_ms]=getData(obj,channels,startTime_ms,window_ms)\n",
    "            %Extract Neuralynx recording data from file to memory\n",
    "            %Usage: [V_uV,t_ms]=obj.getData(channels,startTime_ms,window_ms);\n",
    "            %Input : channels - [1xN] a vector with channel numbers as appearing in the data folder files\n",
    "            %        startTime_ms - a vector [1xN] of start times [ms]. If Inf, returns all time stamps in recording (startTime_ms is not considered)\n",
    "            %        window_ms - a scalar [1x1] with the window duration [ms].\n",
    "            %Output: V_us - A 3D matrix [nChannels x nTrials x nSamples] with voltage waveforms across specified channels and trials\n",
    "            %        t_ms - A time vector relative to recording start (t=0 at start)\n",
    "\n",
    "            windowSamples=round(window_ms/obj.sample_ms);\n",
    "            nWindows=numel(startTime_ms);\n",
    "            startTime_ms=round(startTime_ms/obj.sample_ms)*obj.sample_ms;\n",
    "            window_ms=windowSamples*obj.sample_ms;\n",
    "\n",
    "            if isempty(channels) %if no channels are entered, get all channels\n",
    "                channels=obj.channelNumbers;\n",
    "            end\n",
    "            if ~all(ismember(channels,obj.channelNumbers))\n",
    "                error('The entered channel number does not exist in the recording!');\n",
    "            end\n",
    "            nCh=numel(channels);\n",
    "\n",
    "            V_uV=zeros(windowSamples,nWindows,nCh,obj.blkCont(4).Types); %initialize waveform matrix\n",
    "            pOutIdx=cell(nWindows,1);\n",
    "            pRecIdx=cell(nWindows,1);\n",
    "            %generate time stamps for block waveform extraction and extract waveforms from file\n",
    "            %clear pOutIdx\n",
    "            for i=1:nWindows\n",
    "                pSingleTrialTimeStamps{i}=find(obj.allTimeStamps>=startTime_ms(i)-obj.recordLength & obj.allTimeStamps<(startTime_ms(i)+window_ms)); %find relevant blocks in block list\n",
    "                singleTrialTimeStamps=round(obj.allTimeStamps(pSingleTrialTimeStamps{i})/obj.sample_ms)*obj.sample_ms; %calculate time stamps in milliseconds\n",
    "                recordsPerTrial(i)=numel(singleTrialTimeStamps);\n",
    "                timeIdx=bsxfun(@plus,(0:obj.dataSamplesPerRecord-1)*obj.sample_ms,singleTrialTimeStamps); % create a matrix for the times of every sample in ms\n",
    "                pRecIdx{i,:}=(timeIdx>=startTime_ms(i)) & timeIdx<(startTime_ms(i)+window_ms); %find time indices within the requested time window (chuncks are 1024 in size so they are usually cut for most time windows)\n",
    "\n",
    "                %maybe better to replace with \"if pOutIdx{i,1}==0\"\n",
    "                if sum(sum(pRecIdx{i,:}(:)))==windowSamples+1 %due to rounding issues, there may be an error when there is one sample too much - in this case the last sample is removed\n",
    "                    pRecIdx{i,:}(1,find(pRecIdx{i,:}(1,:)==1,1,'first'))=false;\n",
    "                end\n",
    "\n",
    "                timeIdx=timeIdx';\n",
    "                pOutIdx{i,1}=round((timeIdx(pRecIdx{i,:}')-startTime_ms(i))/obj.sample_ms)+windowSamples*(i-1); %round should not be changed to floor or ceil - it creates a weird artifact\n",
    "            end\n",
    "            %this solved a special case that may not be needed anymore - check if the future if can be removed\n",
    "            if pOutIdx{1}(1)==0\n",
    "                pOutIdx{1}=pOutIdx{1}+1;\n",
    "            end\n",
    "            pRecIdx=cell2mat(pRecIdx);\n",
    "            pOutIdx=cell2mat(pOutIdx);\n",
    "\n",
    "            %}\n",
    "\n",
    "            for i=1:nCh\n",
    "                data=zeros(size(pRecIdx),'int16')';currRec=1;\n",
    "                for j=1:nWindows\n",
    "                    if ~isempty(pSingleTrialTimeStamps{j})\n",
    "                        fseek(obj.fid(obj.n2s(channels(i))),obj.headerSizeByte+(pSingleTrialTimeStamps{j}(1)-1)*obj.bytesPerRecCont+sum(obj.blkBytesCont(1:3)),'bof'); %(64+32+32+32)/8=20\n",
    "                        data(:,(1:recordsPerTrial(j))+currRec-1)=fread(obj.fid(obj.n2s(channels(i))), [obj.dataSamplesPerRecord recordsPerTrial(j)], '1024*int16',obj.bytesPerRecCont - obj.blkBytesCont(4),'b');\n",
    "                        currRec=currRec+recordsPerTrial(j);\n",
    "                    else\n",
    "                        disp('requested time stamp outside recording range!');\n",
    "                    end\n",
    "                end\n",
    "                V_uV(pOutIdx+(i-1)*nWindows*windowSamples)=data(pRecIdx');\n",
    "            end\n",
    "\n",
    "            if obj.convertData2Double\n",
    "                V_uV = permute(double(V_uV) * obj.MicrovoltsPerAD(1) ,[3 2 1]);\n",
    "            else\n",
    "                V_uV = permute(V_uV,[3 2 1]);\n",
    "            end\n",
    "\n",
    "            if nargout==2\n",
    "                t_ms=(1:windowSamples)*(1e3/obj.samplingFrequency(1));\n",
    "            end\n",
    "        end\n"
   ],
   "metadata": {
    "collapsed": false,
    "pycharm": {
     "name": "#%% raw\n"
    }
   }
  },
  {
   "cell_type": "code",
   "source": [
    "# get to the blkCont mat and reform it from reference instances\n",
    "blkCont_dict = {\n",
    "    'Repeat':[],\n",
    "    'Types':[],\n",
    "    'Str':[]\n",
    "}\n",
    "mat_file = h5py.File(oe_metadata_file_path)\n",
    "blkCont_group = mat_file['metaData/blkCont']\n",
    "for i in blkCont_group['Repeat']:\n",
    "    res = np.array(mat_file[i[0]][0])\n",
    "    blkCont_dict['Repeat'].append(res[0])\n",
    "\n",
    "for i in blkCont_group['Types']:\n",
    "    res = np.array((mat_file[i[0]]))\n",
    "    str_array = np.vectorize(chr)(res).flatten()\n",
    "    str_value = ''.join(str_array.flatten())\n",
    "    blkCont_dict['Types'].append(str_value)\n",
    "\n",
    "for i in blkCont_group['Str']:\n",
    "    res = np.array(mat_file[i[0]])\n",
    "    str_array = np.vectorize(chr)(res).flatten()\n",
    "    str_value = ''.join(str_array.flatten())\n",
    "    blkCont_dict['Str'].append(str_value)\n",
    "\n",
    "mat_file.close()\n",
    "print(blkCont_dict)"
   ],
   "metadata": {
    "collapsed": false,
    "pycharm": {
     "name": "#%%\n"
    }
   },
   "execution_count": null,
   "outputs": []
  },
  {
   "cell_type": "code",
   "execution_count": 0,
   "outputs": [],
   "source": [
    "pd.DataFrame(data=blkCont_dict)"
   ],
   "metadata": {
    "collapsed": false,
    "pycharm": {
     "name": "#%%\n"
    }
   }
  },
  {
   "cell_type": "markdown",
   "source": [
    "# necessary attributes for get_data:\n",
    "channelNumbers - V\n",
    "blkCont - V\n",
    "allTimeStamps - V\n",
    "recordLength - V\n",
    "sample_ms - V\n",
    "dataSamplesPerRecord - V\n",
    "n2s - V\n",
    "headerSizeByte - V\n",
    "bytesPerRecCont - V\n",
    "blkBytesCont - V\n",
    "MicrovoltsPerAD - V\n",
    "samplingFrequency - V"
   ],
   "metadata": {
    "collapsed": false
   }
  },
  {
   "cell_type": "code",
   "execution_count": 10,
   "outputs": [],
   "source": [
    "def parse_hdf5_file(filename):\n",
    "    def parse_group(group):\n",
    "        result = {}\n",
    "        for key, value in group.items():\n",
    "            if isinstance(value, h5py.Dataset):\n",
    "                result[key] = value[()]  # Convert dataset to numpy array\n",
    "            elif isinstance(value, h5py.Group):\n",
    "                result[key] = parse_group(value)  # Recursively parse nested group\n",
    "            else:\n",
    "                result[key] = value  # For other types, include them as-is\n",
    "        return result\n",
    "\n",
    "    def resolve_reference(file, reference):\n",
    "        obj = file[reference]\n",
    "        if isinstance(obj, h5py.Group):\n",
    "            return parse_group(obj)\n",
    "        elif isinstance(obj, h5py.Dataset):\n",
    "            return obj[()]\n",
    "        else:\n",
    "            return obj\n",
    "\n",
    "    def resolve_references(file, dataset):\n",
    "        if h5py.check_dtype(ref=dataset.dtype):\n",
    "            return np.array([resolve_reference(file, ref) for ref in dataset])\n",
    "        else:\n",
    "            return dataset\n",
    "\n",
    "    with h5py.File(filename, 'r') as file:\n",
    "        result = parse_group(file)\n",
    "        for key, value in result.items():\n",
    "            if isinstance(value, np.ndarray):\n",
    "                result[key] = resolve_references(file, value)\n",
    "        return result"
   ],
   "metadata": {
    "collapsed": false,
    "pycharm": {
     "name": "#%%\n"
    }
   }
  },
  {
   "cell_type": "code",
   "execution_count": 8,
   "outputs": [
    {
     "data": {
      "text/plain": "['100_RhythmData_ADC1.continuous',\n '100_RhythmData_ADC2.continuous',\n '100_RhythmData_ADC3.continuous',\n '100_RhythmData_ADC4.continuous',\n '100_RhythmData_ADC5.continuous',\n '100_RhythmData_ADC6.continuous',\n '100_RhythmData_ADC7.continuous',\n '100_RhythmData_ADC8.continuous',\n '100_RhythmData_C1-AUX1.continuous',\n '100_RhythmData_C1-AUX2.continuous',\n '100_RhythmData_C1-AUX3.continuous']"
     },
     "execution_count": 8,
     "metadata": {},
     "output_type": "execute_result"
    }
   ],
   "source": [
    "#[i.name for i in oe_metadata_file_path.parent.iterdir() if ('AUX' in str(i)) or ('ADC' in str(i)) ]\n",
    "sorted([i.name for i in oe_metadata_file_path.parent.iterdir() if ('AUX' in str(i)) or ('ADC' in str(i))])"
   ],
   "metadata": {
    "collapsed": false,
    "pycharm": {
     "name": "#%%\n"
    }
   }
  },
  {
   "cell_type": "code",
   "execution_count": 11,
   "outputs": [],
   "source": [
    "result = parse_hdf5_file(oe_metadata_file_path)\n"
   ],
   "metadata": {
    "collapsed": false,
    "pycharm": {
     "name": "#%%\n"
    }
   }
  },
  {
   "cell_type": "code",
   "execution_count": 12,
   "outputs": [
    {
     "data": {
      "text/plain": "{'ADBitVolts': array([0, 0], dtype=uint64),\n 'MicrovoltsPerAD': array([[0.195],\n        [0.195],\n        [0.195],\n        [0.195],\n        [0.195],\n        [0.195],\n        [0.195],\n        [0.195],\n        [0.195],\n        [0.195],\n        [0.195],\n        [0.195],\n        [0.195],\n        [0.195],\n        [0.195],\n        [0.195],\n        [0.195],\n        [0.195],\n        [0.195],\n        [0.195],\n        [0.195],\n        [0.195],\n        [0.195],\n        [0.195],\n        [0.195],\n        [0.195],\n        [0.195],\n        [0.195],\n        [0.195],\n        [0.195],\n        [0.195],\n        [0.195]]),\n 'MicrovoltsPerADAnalog': array([[ 37.4  ],\n        [ 37.4  ],\n        [ 37.4  ],\n        [152.588],\n        [152.588],\n        [152.588],\n        [152.588],\n        [152.588],\n        [152.588],\n        [152.588],\n        [152.588]]),\n 'ZeroADValue': array([[0.],\n        [0.],\n        [0.],\n        [0.],\n        [0.],\n        [0.],\n        [0.],\n        [0.],\n        [0.],\n        [0.],\n        [0.],\n        [0.],\n        [0.],\n        [0.],\n        [0.],\n        [0.],\n        [0.],\n        [0.],\n        [0.],\n        [0.],\n        [0.],\n        [0.],\n        [0.],\n        [0.],\n        [0.],\n        [0.],\n        [0.],\n        [0.],\n        [0.],\n        [0.],\n        [0.],\n        [0.]]),\n 'ZeroADValueAnalog': array([[0.],\n        [0.],\n        [0.],\n        [0.],\n        [0.],\n        [0.],\n        [0.],\n        [0.],\n        [0.],\n        [0.],\n        [0.]]),\n 'allTimeStamps': array([[0.0000000e+00, 5.1200000e+01, 1.0240000e+02, ..., 8.4822965e+05,\n         8.4828085e+05, 8.4833205e+05]]),\n 'analogChannelNames': array([[<HDF5 object reference>],\n        [<HDF5 object reference>],\n        [<HDF5 object reference>],\n        [<HDF5 object reference>],\n        [<HDF5 object reference>],\n        [<HDF5 object reference>],\n        [<HDF5 object reference>],\n        [<HDF5 object reference>],\n        [<HDF5 object reference>],\n        [<HDF5 object reference>],\n        [<HDF5 object reference>]], dtype=object),\n 'analogChannelNumbers': array([[ 1.],\n        [ 2.],\n        [ 3.],\n        [ 4.],\n        [ 5.],\n        [ 6.],\n        [ 7.],\n        [ 8.],\n        [ 9.],\n        [10.],\n        [11.]]),\n 'blkBytesCont': array([[8.000e+00],\n        [2.000e+00],\n        [2.000e+00],\n        [2.048e+03],\n        [1.000e+01]]),\n 'blkBytesEvnt': array([[8.],\n        [2.],\n        [1.],\n        [1.],\n        [1.],\n        [1.],\n        [2.]]),\n 'blkCont': {'Repeat': array([[<HDF5 object reference>],\n         [<HDF5 object reference>],\n         [<HDF5 object reference>],\n         [<HDF5 object reference>],\n         [<HDF5 object reference>]], dtype=object),\n  'Str': array([[<HDF5 object reference>],\n         [<HDF5 object reference>],\n         [<HDF5 object reference>],\n         [<HDF5 object reference>],\n         [<HDF5 object reference>]], dtype=object),\n  'Types': array([[<HDF5 object reference>],\n         [<HDF5 object reference>],\n         [<HDF5 object reference>],\n         [<HDF5 object reference>],\n         [<HDF5 object reference>]], dtype=object)},\n 'blkEvnt': {'Repeat': array([[<HDF5 object reference>],\n         [<HDF5 object reference>],\n         [<HDF5 object reference>],\n         [<HDF5 object reference>],\n         [<HDF5 object reference>],\n         [<HDF5 object reference>],\n         [<HDF5 object reference>]], dtype=object),\n  'Str': array([[<HDF5 object reference>],\n         [<HDF5 object reference>],\n         [<HDF5 object reference>],\n         [<HDF5 object reference>],\n         [<HDF5 object reference>],\n         [<HDF5 object reference>],\n         [<HDF5 object reference>]], dtype=object),\n  'Types': array([[<HDF5 object reference>],\n         [<HDF5 object reference>],\n         [<HDF5 object reference>],\n         [<HDF5 object reference>],\n         [<HDF5 object reference>],\n         [<HDF5 object reference>],\n         [<HDF5 object reference>]], dtype=object)},\n 'blockLength': array([[1024.],\n        [1024.],\n        [1024.],\n        [1024.],\n        [1024.],\n        [1024.],\n        [1024.],\n        [1024.],\n        [1024.],\n        [1024.],\n        [1024.],\n        [1024.],\n        [1024.],\n        [1024.],\n        [1024.],\n        [1024.],\n        [1024.],\n        [1024.],\n        [1024.],\n        [1024.],\n        [1024.],\n        [1024.],\n        [1024.],\n        [1024.],\n        [1024.],\n        [1024.],\n        [1024.],\n        [1024.],\n        [1024.],\n        [1024.],\n        [1024.],\n        [1024.]]),\n 'blockLengthAnalog': array([[1024.],\n        [1024.],\n        [1024.],\n        [1024.],\n        [1024.],\n        [1024.],\n        [1024.],\n        [1024.],\n        [1024.],\n        [1024.],\n        [1024.]]),\n 'bufferSize': array([0, 0], dtype=uint64),\n 'bufferSizeAnalog': array([0, 0], dtype=uint64),\n 'bytesPerRecCont': array([[2070.]]),\n 'bytesPerRecEvnt': array([[16.]]),\n 'chLayoutNames': array([0, 0], dtype=uint64),\n 'chLayoutNumbers': array([0, 0], dtype=uint64),\n 'chLayoutPositions': array([0, 0], dtype=uint64),\n 'channelFiles': array([[<HDF5 object reference>],\n        [<HDF5 object reference>],\n        [<HDF5 object reference>],\n        [<HDF5 object reference>],\n        [<HDF5 object reference>],\n        [<HDF5 object reference>],\n        [<HDF5 object reference>],\n        [<HDF5 object reference>],\n        [<HDF5 object reference>],\n        [<HDF5 object reference>],\n        [<HDF5 object reference>],\n        [<HDF5 object reference>],\n        [<HDF5 object reference>],\n        [<HDF5 object reference>],\n        [<HDF5 object reference>],\n        [<HDF5 object reference>],\n        [<HDF5 object reference>],\n        [<HDF5 object reference>],\n        [<HDF5 object reference>],\n        [<HDF5 object reference>],\n        [<HDF5 object reference>],\n        [<HDF5 object reference>],\n        [<HDF5 object reference>],\n        [<HDF5 object reference>],\n        [<HDF5 object reference>],\n        [<HDF5 object reference>],\n        [<HDF5 object reference>],\n        [<HDF5 object reference>],\n        [<HDF5 object reference>],\n        [<HDF5 object reference>],\n        [<HDF5 object reference>],\n        [<HDF5 object reference>]], dtype=object),\n 'channelFilesAnalog': array([[<HDF5 object reference>],\n        [<HDF5 object reference>],\n        [<HDF5 object reference>],\n        [<HDF5 object reference>],\n        [<HDF5 object reference>],\n        [<HDF5 object reference>],\n        [<HDF5 object reference>],\n        [<HDF5 object reference>],\n        [<HDF5 object reference>],\n        [<HDF5 object reference>],\n        [<HDF5 object reference>]], dtype=object),\n 'channelNames': array([[<HDF5 object reference>],\n        [<HDF5 object reference>],\n        [<HDF5 object reference>],\n        [<HDF5 object reference>],\n        [<HDF5 object reference>],\n        [<HDF5 object reference>],\n        [<HDF5 object reference>],\n        [<HDF5 object reference>],\n        [<HDF5 object reference>],\n        [<HDF5 object reference>],\n        [<HDF5 object reference>],\n        [<HDF5 object reference>],\n        [<HDF5 object reference>],\n        [<HDF5 object reference>],\n        [<HDF5 object reference>],\n        [<HDF5 object reference>],\n        [<HDF5 object reference>],\n        [<HDF5 object reference>],\n        [<HDF5 object reference>],\n        [<HDF5 object reference>],\n        [<HDF5 object reference>],\n        [<HDF5 object reference>],\n        [<HDF5 object reference>],\n        [<HDF5 object reference>],\n        [<HDF5 object reference>],\n        [<HDF5 object reference>],\n        [<HDF5 object reference>],\n        [<HDF5 object reference>],\n        [<HDF5 object reference>],\n        [<HDF5 object reference>],\n        [<HDF5 object reference>],\n        [<HDF5 object reference>]], dtype=object),\n 'channelNumbers': array([[ 1.],\n        [ 2.],\n        [ 3.],\n        [ 4.],\n        [ 5.],\n        [ 6.],\n        [ 7.],\n        [ 8.],\n        [ 9.],\n        [10.],\n        [11.],\n        [12.],\n        [13.],\n        [14.],\n        [15.],\n        [16.],\n        [17.],\n        [18.],\n        [19.],\n        [20.],\n        [21.],\n        [22.],\n        [23.],\n        [24.],\n        [25.],\n        [26.],\n        [27.],\n        [28.],\n        [29.],\n        [30.],\n        [31.],\n        [32.]]),\n 'channelNumbersOrignal': array([0, 0], dtype=uint64),\n 'convertData2Double': array([[1.]]),\n 'dataDescriptionCont': array([[<HDF5 object reference>],\n        [<HDF5 object reference>],\n        [<HDF5 object reference>],\n        [<HDF5 object reference>],\n        [<HDF5 object reference>],\n        [<HDF5 object reference>],\n        [<HDF5 object reference>],\n        [<HDF5 object reference>],\n        [<HDF5 object reference>],\n        [<HDF5 object reference>],\n        [<HDF5 object reference>],\n        [<HDF5 object reference>],\n        [<HDF5 object reference>],\n        [<HDF5 object reference>],\n        [<HDF5 object reference>],\n        [<HDF5 object reference>],\n        [<HDF5 object reference>],\n        [<HDF5 object reference>],\n        [<HDF5 object reference>],\n        [<HDF5 object reference>],\n        [<HDF5 object reference>],\n        [<HDF5 object reference>],\n        [<HDF5 object reference>],\n        [<HDF5 object reference>],\n        [<HDF5 object reference>],\n        [<HDF5 object reference>],\n        [<HDF5 object reference>],\n        [<HDF5 object reference>],\n        [<HDF5 object reference>],\n        [<HDF5 object reference>],\n        [<HDF5 object reference>],\n        [<HDF5 object reference>]], dtype=object),\n 'dataDescriptionContAnalog': array([[<HDF5 object reference>],\n        [<HDF5 object reference>],\n        [<HDF5 object reference>],\n        [<HDF5 object reference>],\n        [<HDF5 object reference>],\n        [<HDF5 object reference>],\n        [<HDF5 object reference>],\n        [<HDF5 object reference>],\n        [<HDF5 object reference>],\n        [<HDF5 object reference>],\n        [<HDF5 object reference>]], dtype=object),\n 'dataDescriptionEvnt': array([0, 0], dtype=uint64),\n 'dataFileNames': array([[ 47],\n        [109],\n        [101],\n        [100],\n        [105],\n        [ 97],\n        [ 47],\n        [115],\n        [105],\n        [108],\n        [ 50],\n        [ 47],\n        [ 68],\n        [ 97],\n        [116],\n        [ 97],\n        [ 47],\n        [ 78],\n        [105],\n        [109],\n        [114],\n        [111],\n        [100],\n        [ 47],\n        [101],\n        [120],\n        [112],\n        [101],\n        [114],\n        [105],\n        [109],\n        [101],\n        [110],\n        [116],\n        [115],\n        [ 47],\n        [ 80],\n        [ 86],\n        [ 95],\n        [ 54],\n        [ 50],\n        [ 47],\n        [ 50],\n        [ 48],\n        [ 50],\n        [ 51],\n        [ 95],\n        [ 48],\n        [ 54],\n        [ 95],\n        [ 50],\n        [ 49],\n        [ 47],\n        [ 98],\n        [108],\n        [111],\n        [ 99],\n        [107],\n        [ 95],\n        [ 48],\n        [ 55],\n        [ 50],\n        [ 47],\n        [111],\n        [101],\n        [ 95],\n        [102],\n        [105],\n        [108],\n        [101],\n        [115],\n        [ 47],\n        [ 50],\n        [ 48],\n        [ 50],\n        [ 51],\n        [ 45],\n        [ 48],\n        [ 54],\n        [ 45],\n        [ 50],\n        [ 49],\n        [ 95],\n        [ 49],\n        [ 52],\n        [ 45],\n        [ 51],\n        [ 49],\n        [ 45],\n        [ 48],\n        [ 51],\n        [ 47],\n        [ 82],\n        [101],\n        [ 99],\n        [111],\n        [114],\n        [100],\n        [ 32],\n        [ 78],\n        [111],\n        [100],\n        [101],\n        [ 32],\n        [ 49],\n        [ 48],\n        [ 56],\n        [ 47]], dtype=uint16),\n 'datatype': array([[105],\n        [110],\n        [116],\n        [ 49],\n        [ 54]], dtype=uint16),\n 'dspHighCutFrequency': array([0, 0], dtype=uint64),\n 'dspLowCutFrequency': array([0, 0], dtype=uint64),\n 'electrodePitch': array([0, 0], dtype=uint64),\n 'endDate': array([0, 0], dtype=uint64),\n 'eventFileName': array([[ 49],\n        [ 48],\n        [ 48],\n        [ 95],\n        [ 82],\n        [104],\n        [121],\n        [116],\n        [104],\n        [109],\n        [ 68],\n        [ 97],\n        [116],\n        [ 97],\n        [ 46],\n        [101],\n        [118],\n        [101],\n        [110],\n        [116],\n        [115]], dtype=uint16),\n 'eventFiles': array([0, 0], dtype=uint64),\n 'evntFileSize': array([[4652208.]]),\n 'fileHeaders': array([[<HDF5 object reference>],\n        [<HDF5 object reference>],\n        [<HDF5 object reference>],\n        [<HDF5 object reference>],\n        [<HDF5 object reference>],\n        [<HDF5 object reference>],\n        [<HDF5 object reference>],\n        [<HDF5 object reference>],\n        [<HDF5 object reference>],\n        [<HDF5 object reference>],\n        [<HDF5 object reference>],\n        [<HDF5 object reference>],\n        [<HDF5 object reference>],\n        [<HDF5 object reference>],\n        [<HDF5 object reference>],\n        [<HDF5 object reference>],\n        [<HDF5 object reference>],\n        [<HDF5 object reference>],\n        [<HDF5 object reference>],\n        [<HDF5 object reference>],\n        [<HDF5 object reference>],\n        [<HDF5 object reference>],\n        [<HDF5 object reference>],\n        [<HDF5 object reference>],\n        [<HDF5 object reference>],\n        [<HDF5 object reference>],\n        [<HDF5 object reference>],\n        [<HDF5 object reference>],\n        [<HDF5 object reference>],\n        [<HDF5 object reference>],\n        [<HDF5 object reference>],\n        [<HDF5 object reference>]], dtype=object),\n 'fileHeadersAnalog': array([[<HDF5 object reference>],\n        [<HDF5 object reference>],\n        [<HDF5 object reference>],\n        [<HDF5 object reference>],\n        [<HDF5 object reference>],\n        [<HDF5 object reference>],\n        [<HDF5 object reference>],\n        [<HDF5 object reference>],\n        [<HDF5 object reference>],\n        [<HDF5 object reference>],\n        [<HDF5 object reference>]], dtype=object),\n 'fileSize': array([[34247104.],\n        [34247104.],\n        [34247104.],\n        [34247104.],\n        [34247104.],\n        [34247104.],\n        [34247104.],\n        [34247104.],\n        [34247104.],\n        [34247104.],\n        [34247104.],\n        [34247104.],\n        [34247104.],\n        [34247104.],\n        [34247104.],\n        [34247104.],\n        [34247104.],\n        [34247104.],\n        [34247104.],\n        [34247104.],\n        [34247104.],\n        [34247104.],\n        [34247104.],\n        [34247104.],\n        [34247104.],\n        [34247104.],\n        [34247104.],\n        [34247104.],\n        [34247104.],\n        [34247104.],\n        [34247104.],\n        [34247104.]]),\n 'fileSizeAnalog': array([[34247104.],\n        [34247104.],\n        [34247104.],\n        [34247104.],\n        [34247104.],\n        [34247104.],\n        [34247104.],\n        [34247104.],\n        [34247104.],\n        [34247104.],\n        [34247104.]]),\n 'globalStartTime_ms': array([[4019.2]]),\n 'includeOnlyDigitalDataInTriggers': array([[0]], dtype=uint8),\n 'layoutName': array([0, 0], dtype=uint64),\n 'metaDataFile': array([[ 47],\n        [109],\n        [101],\n        [100],\n        [105],\n        [ 97],\n        [ 47],\n        [115],\n        [105],\n        [108],\n        [ 50],\n        [ 47],\n        [ 68],\n        [ 97],\n        [116],\n        [ 97],\n        [ 47],\n        [ 78],\n        [105],\n        [109],\n        [114],\n        [111],\n        [100],\n        [ 47],\n        [101],\n        [120],\n        [112],\n        [101],\n        [114],\n        [105],\n        [109],\n        [101],\n        [110],\n        [116],\n        [115],\n        [ 47],\n        [ 80],\n        [ 86],\n        [ 95],\n        [ 54],\n        [ 50],\n        [ 47],\n        [ 50],\n        [ 48],\n        [ 50],\n        [ 51],\n        [ 95],\n        [ 48],\n        [ 54],\n        [ 95],\n        [ 50],\n        [ 49],\n        [ 47],\n        [ 98],\n        [108],\n        [111],\n        [ 99],\n        [107],\n        [ 95],\n        [ 48],\n        [ 55],\n        [ 50],\n        [ 47],\n        [111],\n        [101],\n        [ 95],\n        [102],\n        [105],\n        [108],\n        [101],\n        [115],\n        [ 47],\n        [ 50],\n        [ 48],\n        [ 50],\n        [ 51],\n        [ 45],\n        [ 48],\n        [ 54],\n        [ 45],\n        [ 50],\n        [ 49],\n        [ 95],\n        [ 49],\n        [ 52],\n        [ 45],\n        [ 51],\n        [ 49],\n        [ 45],\n        [ 48],\n        [ 51],\n        [ 47],\n        [ 82],\n        [101],\n        [ 99],\n        [111],\n        [114],\n        [100],\n        [ 32],\n        [ 78],\n        [111],\n        [100],\n        [101],\n        [ 32],\n        [ 49],\n        [ 48],\n        [ 56],\n        [ 47],\n        [ 47],\n        [ 79],\n        [ 69],\n        [ 95],\n        [109],\n        [101],\n        [116],\n        [ 97],\n        [ 68],\n        [ 97],\n        [116],\n        [ 97],\n        [ 46],\n        [109],\n        [ 97],\n        [116]], dtype=uint16),\n 'n2s': array([[ 1.],\n        [ 2.],\n        [ 3.],\n        [ 4.],\n        [ 5.],\n        [ 6.],\n        [ 7.],\n        [ 8.],\n        [ 9.],\n        [10.],\n        [11.],\n        [12.],\n        [13.],\n        [14.],\n        [15.],\n        [16.],\n        [17.],\n        [18.],\n        [19.],\n        [20.],\n        [21.],\n        [22.],\n        [23.],\n        [24.],\n        [25.],\n        [26.],\n        [27.],\n        [28.],\n        [29.],\n        [30.],\n        [31.],\n        [32.]]),\n 'n2sA': array([[ 1.],\n        [ 2.],\n        [ 3.],\n        [ 4.],\n        [ 5.],\n        [ 6.],\n        [ 7.],\n        [ 8.],\n        [ 9.],\n        [10.],\n        [11.]]),\n 'nRecordings': array([0, 0], dtype=uint64),\n 'nRecordsCont': array([[16544.]]),\n 'nRecordsEvnt': array([[290699.]]),\n 'openEphyXMLData': {'AUDIO': {'DEVICESETUP': {'audioDeviceBufferSizeAttribute': array([[1024.]]),\n    'audioDeviceRateAttribute': array([[48000.]]),\n    'audioInputDeviceNameAttribute': array([[3707764736,          2,          1,          1,         87,\n                     1]], dtype=uint32),\n    'audioOutputDeviceNameAttribute': array([[3707764736,          2,          1,          1,         86,\n                     1]], dtype=uint32),\n    'deviceTypeAttribute': array([[3707764736,          2,          1,          1,         85,\n                     1]], dtype=uint32)},\n   'bufferSizeAttribute': array([[1024.]]),\n   'deviceTypeAttribute': array([[3707764736,          2,          1,          1,         84,\n                    1]], dtype=uint32),\n   'sampleRateAttribute': array([[48000.]])},\n  'AUDIOEDITOR': {'isMutedAttribute': array([[0.]]),\n   'noiseGateAttribute': array([[10.]]),\n   'volumeAttribute': array([[42.]])},\n  'CONTROLPANEL': {'isOpenAttribute': array([[1.]]),\n   'recordEngineAttribute': array([[3707764736,          2,          1,          1,         89,\n                    1]], dtype=uint32),\n   'recordPathAttribute': array([[3707764736,          2,          1,          1,         88,\n                    1]], dtype=uint32)},\n  'DATAVIEWPORT': {'selectedTabAttribute': array([[3.]])},\n  'EDITORVIEWPORT': {'ACQUISITION_BOARD': {'IDAttribute': array([[100.]])},\n   'BANDPASS_FILTER': {'IDAttribute': array([[111.]])},\n   'LFP_VIEWER': {'IDAttribute': array([[112.]])},\n   'RECORD_NODE': {'IDAttribute': array([[108.]])},\n   'SPLITTER': {'IDAttribute': array([[110.]])},\n   'scrollAttribute': array([[0.]])},\n  'FILENAMECONFIG': {'APPEND': {'stateAttribute': array([[0.]]),\n    'valueAttribute': array([[3707764736,          2,          1,          1,         92,\n                     1]], dtype=uint32)},\n   'MAIN': {'stateAttribute': array([[1.]]),\n    'valueAttribute': array([[3707764736,          2,          1,          1,         91,\n                     1]], dtype=uint32)},\n   'PREPEND': {'stateAttribute': array([[0.]]),\n    'valueAttribute': array([[3707764736,          2,          1,          1,         90,\n                     1]], dtype=uint32)}},\n  'INFO': {'DATE': array([[3707764736,          2,          1,          1,          2,\n                    1]], dtype=uint32),\n   'MACHINE': {'cpu_modelAttribute': array([[3707764736,          2,          1,          1,          5,\n                     1]], dtype=uint32),\n    'cpu_num_coresAttribute': array([[8.]]),\n    'nameAttribute': array([[3707764736,          2,          1,          1,          4,\n                     1]], dtype=uint32)},\n   'OS': array([[3707764736,          2,          1,          1,          3,\n                    1]], dtype=uint32),\n   'PLUGIN_API_VERSION': array([[8.]]),\n   'VERSION': array([[3707764736,          2,          1,          1,          1,\n                    1]], dtype=uint32)},\n  'PROCESSORLIST': {'COLOR': {'BAttribute': array([[<HDF5 object reference>],\n           [<HDF5 object reference>],\n           [<HDF5 object reference>],\n           [<HDF5 object reference>],\n           [<HDF5 object reference>],\n           [<HDF5 object reference>],\n           [<HDF5 object reference>]], dtype=object),\n    'GAttribute': array([[<HDF5 object reference>],\n           [<HDF5 object reference>],\n           [<HDF5 object reference>],\n           [<HDF5 object reference>],\n           [<HDF5 object reference>],\n           [<HDF5 object reference>],\n           [<HDF5 object reference>]], dtype=object),\n    'IDAttribute': array([[<HDF5 object reference>],\n           [<HDF5 object reference>],\n           [<HDF5 object reference>],\n           [<HDF5 object reference>],\n           [<HDF5 object reference>],\n           [<HDF5 object reference>],\n           [<HDF5 object reference>]], dtype=object),\n    'RAttribute': array([[<HDF5 object reference>],\n           [<HDF5 object reference>],\n           [<HDF5 object reference>],\n           [<HDF5 object reference>],\n           [<HDF5 object reference>],\n           [<HDF5 object reference>],\n           [<HDF5 object reference>]], dtype=object)}},\n  'SIGNALCHAIN': {'PROCESSOR': {'CUSTOM_PARAMETERS': array([[<HDF5 object reference>],\n           [<HDF5 object reference>],\n           [<HDF5 object reference>],\n           [<HDF5 object reference>],\n           [<HDF5 object reference>],\n           [<HDF5 object reference>]], dtype=object),\n    'EDITOR': array([[<HDF5 object reference>],\n           [<HDF5 object reference>],\n           [<HDF5 object reference>],\n           [<HDF5 object reference>],\n           [<HDF5 object reference>],\n           [<HDF5 object reference>]], dtype=object),\n    'GLOBAL_PARAMETERS': array([[<HDF5 object reference>],\n           [<HDF5 object reference>],\n           [<HDF5 object reference>],\n           [<HDF5 object reference>],\n           [<HDF5 object reference>],\n           [<HDF5 object reference>]], dtype=object),\n    'STREAM': array([[<HDF5 object reference>],\n           [<HDF5 object reference>],\n           [<HDF5 object reference>],\n           [<HDF5 object reference>],\n           [<HDF5 object reference>],\n           [<HDF5 object reference>]], dtype=object),\n    'indexAttribute': array([[<HDF5 object reference>],\n           [<HDF5 object reference>],\n           [<HDF5 object reference>],\n           [<HDF5 object reference>],\n           [<HDF5 object reference>],\n           [<HDF5 object reference>]], dtype=object),\n    'insertionPointAttribute': array([[<HDF5 object reference>],\n           [<HDF5 object reference>],\n           [<HDF5 object reference>],\n           [<HDF5 object reference>],\n           [<HDF5 object reference>],\n           [<HDF5 object reference>]], dtype=object),\n    'libraryNameAttribute': array([[<HDF5 object reference>],\n           [<HDF5 object reference>],\n           [<HDF5 object reference>],\n           [<HDF5 object reference>],\n           [<HDF5 object reference>],\n           [<HDF5 object reference>]], dtype=object),\n    'libraryVersionAttribute': array([[<HDF5 object reference>],\n           [<HDF5 object reference>],\n           [<HDF5 object reference>],\n           [<HDF5 object reference>],\n           [<HDF5 object reference>],\n           [<HDF5 object reference>]], dtype=object),\n    'nameAttribute': array([[<HDF5 object reference>],\n           [<HDF5 object reference>],\n           [<HDF5 object reference>],\n           [<HDF5 object reference>],\n           [<HDF5 object reference>],\n           [<HDF5 object reference>]], dtype=object),\n    'nodeIdAttribute': array([[<HDF5 object reference>],\n           [<HDF5 object reference>],\n           [<HDF5 object reference>],\n           [<HDF5 object reference>],\n           [<HDF5 object reference>],\n           [<HDF5 object reference>]], dtype=object),\n    'pluginNameAttribute': array([[<HDF5 object reference>],\n           [<HDF5 object reference>],\n           [<HDF5 object reference>],\n           [<HDF5 object reference>],\n           [<HDF5 object reference>],\n           [<HDF5 object reference>]], dtype=object),\n    'processorTypeAttribute': array([[<HDF5 object reference>],\n           [<HDF5 object reference>],\n           [<HDF5 object reference>],\n           [<HDF5 object reference>],\n           [<HDF5 object reference>],\n           [<HDF5 object reference>]], dtype=object),\n    'typeAttribute': array([[<HDF5 object reference>],\n           [<HDF5 object reference>],\n           [<HDF5 object reference>],\n           [<HDF5 object reference>],\n           [<HDF5 object reference>],\n           [<HDF5 object reference>]], dtype=object)},\n   'SWITCH': {'numberAttribute': array([[2.]])}},\n  'UICOMPONENT': {'isEditorViewportOpenAttribute': array([[1.]]),\n   'isProcessorListOpenAttribute': array([[1.]])}},\n 'openEphyXMLStructureData': {'RECORDING': {'STREAM': {'CHANNEL': {'bitVoltsAttribute': array([[<HDF5 object reference>],\n            [<HDF5 object reference>],\n            [<HDF5 object reference>],\n            [<HDF5 object reference>],\n            [<HDF5 object reference>],\n            [<HDF5 object reference>],\n            [<HDF5 object reference>],\n            [<HDF5 object reference>],\n            [<HDF5 object reference>],\n            [<HDF5 object reference>],\n            [<HDF5 object reference>],\n            [<HDF5 object reference>],\n            [<HDF5 object reference>],\n            [<HDF5 object reference>],\n            [<HDF5 object reference>],\n            [<HDF5 object reference>],\n            [<HDF5 object reference>],\n            [<HDF5 object reference>],\n            [<HDF5 object reference>],\n            [<HDF5 object reference>],\n            [<HDF5 object reference>],\n            [<HDF5 object reference>],\n            [<HDF5 object reference>],\n            [<HDF5 object reference>],\n            [<HDF5 object reference>],\n            [<HDF5 object reference>],\n            [<HDF5 object reference>],\n            [<HDF5 object reference>],\n            [<HDF5 object reference>],\n            [<HDF5 object reference>],\n            [<HDF5 object reference>],\n            [<HDF5 object reference>],\n            [<HDF5 object reference>],\n            [<HDF5 object reference>],\n            [<HDF5 object reference>],\n            [<HDF5 object reference>],\n            [<HDF5 object reference>],\n            [<HDF5 object reference>],\n            [<HDF5 object reference>],\n            [<HDF5 object reference>],\n            [<HDF5 object reference>],\n            [<HDF5 object reference>],\n            [<HDF5 object reference>]], dtype=object),\n     'filenameAttribute': array([[<HDF5 object reference>],\n            [<HDF5 object reference>],\n            [<HDF5 object reference>],\n            [<HDF5 object reference>],\n            [<HDF5 object reference>],\n            [<HDF5 object reference>],\n            [<HDF5 object reference>],\n            [<HDF5 object reference>],\n            [<HDF5 object reference>],\n            [<HDF5 object reference>],\n            [<HDF5 object reference>],\n            [<HDF5 object reference>],\n            [<HDF5 object reference>],\n            [<HDF5 object reference>],\n            [<HDF5 object reference>],\n            [<HDF5 object reference>],\n            [<HDF5 object reference>],\n            [<HDF5 object reference>],\n            [<HDF5 object reference>],\n            [<HDF5 object reference>],\n            [<HDF5 object reference>],\n            [<HDF5 object reference>],\n            [<HDF5 object reference>],\n            [<HDF5 object reference>],\n            [<HDF5 object reference>],\n            [<HDF5 object reference>],\n            [<HDF5 object reference>],\n            [<HDF5 object reference>],\n            [<HDF5 object reference>],\n            [<HDF5 object reference>],\n            [<HDF5 object reference>],\n            [<HDF5 object reference>],\n            [<HDF5 object reference>],\n            [<HDF5 object reference>],\n            [<HDF5 object reference>],\n            [<HDF5 object reference>],\n            [<HDF5 object reference>],\n            [<HDF5 object reference>],\n            [<HDF5 object reference>],\n            [<HDF5 object reference>],\n            [<HDF5 object reference>],\n            [<HDF5 object reference>],\n            [<HDF5 object reference>]], dtype=object),\n     'nameAttribute': array([[<HDF5 object reference>],\n            [<HDF5 object reference>],\n            [<HDF5 object reference>],\n            [<HDF5 object reference>],\n            [<HDF5 object reference>],\n            [<HDF5 object reference>],\n            [<HDF5 object reference>],\n            [<HDF5 object reference>],\n            [<HDF5 object reference>],\n            [<HDF5 object reference>],\n            [<HDF5 object reference>],\n            [<HDF5 object reference>],\n            [<HDF5 object reference>],\n            [<HDF5 object reference>],\n            [<HDF5 object reference>],\n            [<HDF5 object reference>],\n            [<HDF5 object reference>],\n            [<HDF5 object reference>],\n            [<HDF5 object reference>],\n            [<HDF5 object reference>],\n            [<HDF5 object reference>],\n            [<HDF5 object reference>],\n            [<HDF5 object reference>],\n            [<HDF5 object reference>],\n            [<HDF5 object reference>],\n            [<HDF5 object reference>],\n            [<HDF5 object reference>],\n            [<HDF5 object reference>],\n            [<HDF5 object reference>],\n            [<HDF5 object reference>],\n            [<HDF5 object reference>],\n            [<HDF5 object reference>],\n            [<HDF5 object reference>],\n            [<HDF5 object reference>],\n            [<HDF5 object reference>],\n            [<HDF5 object reference>],\n            [<HDF5 object reference>],\n            [<HDF5 object reference>],\n            [<HDF5 object reference>],\n            [<HDF5 object reference>],\n            [<HDF5 object reference>],\n            [<HDF5 object reference>],\n            [<HDF5 object reference>]], dtype=object),\n     'positionAttribute': array([[<HDF5 object reference>],\n            [<HDF5 object reference>],\n            [<HDF5 object reference>],\n            [<HDF5 object reference>],\n            [<HDF5 object reference>],\n            [<HDF5 object reference>],\n            [<HDF5 object reference>],\n            [<HDF5 object reference>],\n            [<HDF5 object reference>],\n            [<HDF5 object reference>],\n            [<HDF5 object reference>],\n            [<HDF5 object reference>],\n            [<HDF5 object reference>],\n            [<HDF5 object reference>],\n            [<HDF5 object reference>],\n            [<HDF5 object reference>],\n            [<HDF5 object reference>],\n            [<HDF5 object reference>],\n            [<HDF5 object reference>],\n            [<HDF5 object reference>],\n            [<HDF5 object reference>],\n            [<HDF5 object reference>],\n            [<HDF5 object reference>],\n            [<HDF5 object reference>],\n            [<HDF5 object reference>],\n            [<HDF5 object reference>],\n            [<HDF5 object reference>],\n            [<HDF5 object reference>],\n            [<HDF5 object reference>],\n            [<HDF5 object reference>],\n            [<HDF5 object reference>],\n            [<HDF5 object reference>],\n            [<HDF5 object reference>],\n            [<HDF5 object reference>],\n            [<HDF5 object reference>],\n            [<HDF5 object reference>],\n            [<HDF5 object reference>],\n            [<HDF5 object reference>],\n            [<HDF5 object reference>],\n            [<HDF5 object reference>],\n            [<HDF5 object reference>],\n            [<HDF5 object reference>],\n            [<HDF5 object reference>]], dtype=object)},\n    'EVENTS': {'filenameAttribute': array([[3707764736,          2,          1,          1,        181,\n                      1]], dtype=uint32)},\n    'TIMESTAMPS': {'filenameAttribute': array([[3707764736,          2,          1,          1,        182,\n                      1]], dtype=uint32)},\n    'nameAttribute': array([[3707764736,          2,          1,          1,         93,\n                     1]], dtype=uint32),\n    'sample_rateAttribute': array([[20000.]]),\n    'source_node_idAttribute': array([[100.]]),\n    'source_node_nameAttribute': array([[3707764736,          2,          1,          1,         94,\n                     1]], dtype=uint32)},\n   'numberAttribute': array([[1.]])},\n  'format_versionAttribute': array([[0.6]]),\n  'numberAttribute': array([[1.]])},\n 'overwriteMetaData': array([[0]], dtype=uint8),\n 'recordLength': array([[51.2]]),\n 'recordSize': array([0, 0], dtype=uint64),\n 'recordingDir': array([[ 47],\n        [109],\n        [101],\n        [100],\n        [105],\n        [ 97],\n        [ 47],\n        [115],\n        [105],\n        [108],\n        [ 50],\n        [ 47],\n        [ 68],\n        [ 97],\n        [116],\n        [ 97],\n        [ 47],\n        [ 78],\n        [105],\n        [109],\n        [114],\n        [111],\n        [100],\n        [ 47],\n        [101],\n        [120],\n        [112],\n        [101],\n        [114],\n        [105],\n        [109],\n        [101],\n        [110],\n        [116],\n        [115],\n        [ 47],\n        [ 80],\n        [ 86],\n        [ 95],\n        [ 54],\n        [ 50],\n        [ 47],\n        [ 50],\n        [ 48],\n        [ 50],\n        [ 51],\n        [ 95],\n        [ 48],\n        [ 54],\n        [ 95],\n        [ 50],\n        [ 49],\n        [ 47],\n        [ 98],\n        [108],\n        [111],\n        [ 99],\n        [107],\n        [ 95],\n        [ 48],\n        [ 55],\n        [ 50],\n        [ 47],\n        [111],\n        [101],\n        [ 95],\n        [102],\n        [105],\n        [108],\n        [101],\n        [115],\n        [ 47],\n        [ 50],\n        [ 48],\n        [ 50],\n        [ 51],\n        [ 45],\n        [ 48],\n        [ 54],\n        [ 45],\n        [ 50],\n        [ 49],\n        [ 95],\n        [ 49],\n        [ 52],\n        [ 45],\n        [ 51],\n        [ 49],\n        [ 45],\n        [ 48],\n        [ 51],\n        [ 47],\n        [ 82],\n        [101],\n        [ 99],\n        [111],\n        [114],\n        [100],\n        [ 32],\n        [ 78],\n        [111],\n        [100],\n        [101],\n        [ 32],\n        [ 49],\n        [ 48],\n        [ 56],\n        [ 47]], dtype=uint16),\n 'recordingDuration_ms': array([[848332.05]]),\n 'recordingName': array([1, 0], dtype=uint64),\n 'sample_ms': array([[0.05]]),\n 'samplingFrequency': array([[20000.],\n        [20000.],\n        [20000.],\n        [20000.],\n        [20000.],\n        [20000.],\n        [20000.],\n        [20000.],\n        [20000.],\n        [20000.],\n        [20000.],\n        [20000.],\n        [20000.],\n        [20000.],\n        [20000.],\n        [20000.],\n        [20000.],\n        [20000.],\n        [20000.],\n        [20000.],\n        [20000.],\n        [20000.],\n        [20000.],\n        [20000.],\n        [20000.],\n        [20000.],\n        [20000.],\n        [20000.],\n        [20000.],\n        [20000.],\n        [20000.],\n        [20000.]]),\n 'samplingFrequencyAnalog': array([[20000.],\n        [20000.],\n        [20000.],\n        [20000.],\n        [20000.],\n        [20000.],\n        [20000.],\n        [20000.],\n        [20000.],\n        [20000.],\n        [20000.]]),\n 'softwareVersion': array([[0.6],\n        [0.6],\n        [0.6],\n        [0.6],\n        [0.6],\n        [0.6],\n        [0.6],\n        [0.6],\n        [0.6],\n        [0.6],\n        [0.6],\n        [0.6],\n        [0.6],\n        [0.6],\n        [0.6],\n        [0.6],\n        [0.6],\n        [0.6],\n        [0.6],\n        [0.6],\n        [0.6],\n        [0.6],\n        [0.6],\n        [0.6],\n        [0.6],\n        [0.6],\n        [0.6],\n        [0.6],\n        [0.6],\n        [0.6],\n        [0.6],\n        [0.6]]),\n 'startDate': array([[<HDF5 object reference>],\n        [<HDF5 object reference>],\n        [<HDF5 object reference>],\n        [<HDF5 object reference>],\n        [<HDF5 object reference>],\n        [<HDF5 object reference>],\n        [<HDF5 object reference>],\n        [<HDF5 object reference>],\n        [<HDF5 object reference>],\n        [<HDF5 object reference>],\n        [<HDF5 object reference>],\n        [<HDF5 object reference>],\n        [<HDF5 object reference>],\n        [<HDF5 object reference>],\n        [<HDF5 object reference>],\n        [<HDF5 object reference>],\n        [<HDF5 object reference>],\n        [<HDF5 object reference>],\n        [<HDF5 object reference>],\n        [<HDF5 object reference>],\n        [<HDF5 object reference>],\n        [<HDF5 object reference>],\n        [<HDF5 object reference>],\n        [<HDF5 object reference>],\n        [<HDF5 object reference>],\n        [<HDF5 object reference>],\n        [<HDF5 object reference>],\n        [<HDF5 object reference>],\n        [<HDF5 object reference>],\n        [<HDF5 object reference>],\n        [<HDF5 object reference>],\n        [<HDF5 object reference>]], dtype=object),\n 'startDateA': array([[<HDF5 object reference>],\n        [<HDF5 object reference>],\n        [<HDF5 object reference>],\n        [<HDF5 object reference>],\n        [<HDF5 object reference>],\n        [<HDF5 object reference>],\n        [<HDF5 object reference>],\n        [<HDF5 object reference>],\n        [<HDF5 object reference>],\n        [<HDF5 object reference>],\n        [<HDF5 object reference>]], dtype=object),\n 'triggerNames': array([0, 0], dtype=uint64)}"
     },
     "execution_count": 12,
     "metadata": {},
     "output_type": "execute_result"
    }
   ],
   "source": [
    "\n",
    "result['metaData']"
   ],
   "metadata": {
    "collapsed": false,
    "pycharm": {
     "name": "#%%\n"
    }
   }
  },
  {
   "cell_type": "code",
   "execution_count": 210,
   "outputs": [],
   "source": [
    "# get data from a mat file into a dictionary:\n",
    "# define the funciton that reads an HDF5 file group and converts it into a dictionary in python:\n",
    "\n",
    "def group_to_dict(group):\n",
    "    result = {}\n",
    "    for key, item in group.items():\n",
    "        if isinstance(item, h5py.Group):\n",
    "            result[key] = group_to_dict(item)\n",
    "        else:\n",
    "\n",
    "            result[key] = item[()]  # Convert dataset to NumPy array and assign its value\n",
    "    return result\n",
    "\n",
    "# open the mat file:\n",
    "mat_file = h5py.File(oe_metadata_file_path, 'r')\n",
    "\n",
    "#implement on the metaData group:\n",
    "meta_dict = group_to_dict(mat_file['metaData'])\n",
    "\n",
    "#close the file\n",
    "mat_file.close()\n",
    "\n",
    "# I now have the dictionary - I should create the recording class and assign the different keys to internal properties of the recording\n",
    "oeRec = OERecording(metadata_dict=meta_dict)\n"
   ],
   "metadata": {
    "collapsed": false,
    "pycharm": {
     "name": "#%%\n"
    }
   }
  },
  {
   "cell_type": "code",
   "execution_count": 207,
   "outputs": [
    {
     "name": "stdout",
     "output_type": "stream",
     "text": [
      "Found references: [[<HDF5 object reference> <HDF5 object reference>]]\n",
      "Found references: [[<HDF5 object reference> <HDF5 object reference>]]\n",
      "Found references: [[<HDF5 object reference>]\n",
      " [<HDF5 object reference>]\n",
      " [<HDF5 object reference>]\n",
      " [<HDF5 object reference>]\n",
      " [<HDF5 object reference>]\n",
      " [<HDF5 object reference>]\n",
      " [<HDF5 object reference>]\n",
      " [<HDF5 object reference>]]\n",
      "Found references: [[<HDF5 object reference>]\n",
      " [<HDF5 object reference>]\n",
      " [<HDF5 object reference>]\n",
      " [<HDF5 object reference>]\n",
      " [<HDF5 object reference>]\n",
      " [<HDF5 object reference>]\n",
      " [<HDF5 object reference>]\n",
      " [<HDF5 object reference>]]\n",
      "Found references: [[<HDF5 object reference>]\n",
      " [<HDF5 object reference>]\n",
      " [<HDF5 object reference>]\n",
      " [<HDF5 object reference>]]\n",
      "Found references: [[<HDF5 object reference>]\n",
      " [<HDF5 object reference>]\n",
      " [<HDF5 object reference>]\n",
      " [<HDF5 object reference>]]\n",
      "Found references: [[<HDF5 object reference>]\n",
      " [<HDF5 object reference>]\n",
      " [<HDF5 object reference>]\n",
      " [<HDF5 object reference>]]\n",
      "Found references: [[<HDF5 object reference> <HDF5 object reference> <HDF5 object reference>\n",
      "  <HDF5 object reference> <HDF5 object reference> <HDF5 object reference>\n",
      "  <HDF5 object reference> <HDF5 object reference> <HDF5 object reference>\n",
      "  <HDF5 object reference> <HDF5 object reference> <HDF5 object reference>\n",
      "  <HDF5 object reference> <HDF5 object reference> <HDF5 object reference>\n",
      "  <HDF5 object reference> <HDF5 object reference> <HDF5 object reference>\n",
      "  <HDF5 object reference> <HDF5 object reference> <HDF5 object reference>\n",
      "  <HDF5 object reference> <HDF5 object reference> <HDF5 object reference>\n",
      "  <HDF5 object reference> <HDF5 object reference> <HDF5 object reference>\n",
      "  <HDF5 object reference> <HDF5 object reference> <HDF5 object reference>\n",
      "  <HDF5 object reference> <HDF5 object reference> <HDF5 object reference>\n",
      "  <HDF5 object reference> <HDF5 object reference> <HDF5 object reference>\n",
      "  <HDF5 object reference> <HDF5 object reference> <HDF5 object reference>\n",
      "  <HDF5 object reference> <HDF5 object reference> <HDF5 object reference>\n",
      "  <HDF5 object reference> <HDF5 object reference> <HDF5 object reference>\n",
      "  <HDF5 object reference> <HDF5 object reference> <HDF5 object reference>\n",
      "  <HDF5 object reference> <HDF5 object reference> <HDF5 object reference>\n",
      "  <HDF5 object reference> <HDF5 object reference> <HDF5 object reference>\n",
      "  <HDF5 object reference> <HDF5 object reference> <HDF5 object reference>\n",
      "  <HDF5 object reference> <HDF5 object reference> <HDF5 object reference>\n",
      "  <HDF5 object reference> <HDF5 object reference> <HDF5 object reference>\n",
      "  <HDF5 object reference> <HDF5 object reference> <HDF5 object reference>\n",
      "  <HDF5 object reference> <HDF5 object reference> <HDF5 object reference>\n",
      "  <HDF5 object reference> <HDF5 object reference> <HDF5 object reference>\n",
      "  <HDF5 object reference> <HDF5 object reference> <HDF5 object reference>\n",
      "  <HDF5 object reference> <HDF5 object reference> <HDF5 object reference>\n",
      "  <HDF5 object reference> <HDF5 object reference> <HDF5 object reference>\n",
      "  <HDF5 object reference> <HDF5 object reference> <HDF5 object reference>\n",
      "  <HDF5 object reference> <HDF5 object reference> <HDF5 object reference>\n",
      "  <HDF5 object reference> <HDF5 object reference> <HDF5 object reference>\n",
      "  <HDF5 object reference> <HDF5 object reference> <HDF5 object reference>\n",
      "  <HDF5 object reference> <HDF5 object reference> <HDF5 object reference>\n",
      "  <HDF5 object reference> <HDF5 object reference> <HDF5 object reference>\n",
      "  <HDF5 object reference> <HDF5 object reference> <HDF5 object reference>\n",
      "  <HDF5 object reference> <HDF5 object reference> <HDF5 object reference>\n",
      "  <HDF5 object reference> <HDF5 object reference> <HDF5 object reference>\n",
      "  <HDF5 object reference> <HDF5 object reference> <HDF5 object reference>\n",
      "  <HDF5 object reference> <HDF5 object reference> <HDF5 object reference>\n",
      "  <HDF5 object reference> <HDF5 object reference> <HDF5 object reference>\n",
      "  <HDF5 object reference> <HDF5 object reference> <HDF5 object reference>\n",
      "  <HDF5 object reference> <HDF5 object reference> <HDF5 object reference>\n",
      "  <HDF5 object reference> <HDF5 object reference> <HDF5 object reference>\n",
      "  <HDF5 object reference> <HDF5 object reference> <HDF5 object reference>\n",
      "  <HDF5 object reference> <HDF5 object reference> <HDF5 object reference>\n",
      "  <HDF5 object reference> <HDF5 object reference> <HDF5 object reference>\n",
      "  <HDF5 object reference> <HDF5 object reference> <HDF5 object reference>\n",
      "  <HDF5 object reference> <HDF5 object reference> <HDF5 object reference>\n",
      "  <HDF5 object reference> <HDF5 object reference> <HDF5 object reference>\n",
      "  <HDF5 object reference> <HDF5 object reference> <HDF5 object reference>\n",
      "  <HDF5 object reference> <HDF5 object reference> <HDF5 object reference>\n",
      "  <HDF5 object reference> <HDF5 object reference> <HDF5 object reference>\n",
      "  <HDF5 object reference> <HDF5 object reference> <HDF5 object reference>\n",
      "  <HDF5 object reference> <HDF5 object reference> <HDF5 object reference>\n",
      "  <HDF5 object reference> <HDF5 object reference> <HDF5 object reference>\n",
      "  <HDF5 object reference> <HDF5 object reference> <HDF5 object reference>\n",
      "  <HDF5 object reference> <HDF5 object reference> <HDF5 object reference>\n",
      "  <HDF5 object reference> <HDF5 object reference> <HDF5 object reference>\n",
      "  <HDF5 object reference> <HDF5 object reference> <HDF5 object reference>\n",
      "  <HDF5 object reference> <HDF5 object reference> <HDF5 object reference>\n",
      "  <HDF5 object reference> <HDF5 object reference> <HDF5 object reference>\n",
      "  <HDF5 object reference> <HDF5 object reference> <HDF5 object reference>\n",
      "  <HDF5 object reference> <HDF5 object reference> <HDF5 object reference>\n",
      "  <HDF5 object reference> <HDF5 object reference> <HDF5 object reference>\n",
      "  <HDF5 object reference> <HDF5 object reference> <HDF5 object reference>\n",
      "  <HDF5 object reference> <HDF5 object reference> <HDF5 object reference>\n",
      "  <HDF5 object reference> <HDF5 object reference> <HDF5 object reference>\n",
      "  <HDF5 object reference> <HDF5 object reference> <HDF5 object reference>\n",
      "  <HDF5 object reference> <HDF5 object reference> <HDF5 object reference>\n",
      "  <HDF5 object reference> <HDF5 object reference> <HDF5 object reference>\n",
      "  <HDF5 object reference> <HDF5 object reference> <HDF5 object reference>\n",
      "  <HDF5 object reference> <HDF5 object reference> <HDF5 object reference>\n",
      "  <HDF5 object reference> <HDF5 object reference> <HDF5 object reference>\n",
      "  <HDF5 object reference> <HDF5 object reference> <HDF5 object reference>\n",
      "  <HDF5 object reference> <HDF5 object reference> <HDF5 object reference>\n",
      "  <HDF5 object reference> <HDF5 object reference> <HDF5 object reference>\n",
      "  <HDF5 object reference> <HDF5 object reference> <HDF5 object reference>\n",
      "  <HDF5 object reference> <HDF5 object reference>]]\n",
      "Found references: [[<HDF5 object reference>]\n",
      " [<HDF5 object reference>]\n",
      " [<HDF5 object reference>]\n",
      " [<HDF5 object reference>]\n",
      " [<HDF5 object reference>]\n",
      " [<HDF5 object reference>]\n",
      " [<HDF5 object reference>]\n",
      " [<HDF5 object reference>]\n",
      " [<HDF5 object reference>]\n",
      " [<HDF5 object reference>]\n",
      " [<HDF5 object reference>]]\n",
      "Found references: [[<HDF5 object reference>]\n",
      " [<HDF5 object reference>]\n",
      " [<HDF5 object reference>]\n",
      " [<HDF5 object reference>]\n",
      " [<HDF5 object reference>]]\n",
      "Found references: [[<HDF5 object reference>]\n",
      " [<HDF5 object reference>]\n",
      " [<HDF5 object reference>]\n",
      " [<HDF5 object reference>]\n",
      " [<HDF5 object reference>]]\n",
      "Found references: [[<HDF5 object reference>]\n",
      " [<HDF5 object reference>]\n",
      " [<HDF5 object reference>]\n",
      " [<HDF5 object reference>]\n",
      " [<HDF5 object reference>]]\n",
      "Found references: [[<HDF5 object reference>]\n",
      " [<HDF5 object reference>]\n",
      " [<HDF5 object reference>]\n",
      " [<HDF5 object reference>]\n",
      " [<HDF5 object reference>]\n",
      " [<HDF5 object reference>]\n",
      " [<HDF5 object reference>]]\n",
      "Found references: [[<HDF5 object reference>]\n",
      " [<HDF5 object reference>]\n",
      " [<HDF5 object reference>]\n",
      " [<HDF5 object reference>]\n",
      " [<HDF5 object reference>]\n",
      " [<HDF5 object reference>]\n",
      " [<HDF5 object reference>]]\n",
      "Found references: [[<HDF5 object reference>]\n",
      " [<HDF5 object reference>]\n",
      " [<HDF5 object reference>]\n",
      " [<HDF5 object reference>]\n",
      " [<HDF5 object reference>]\n",
      " [<HDF5 object reference>]\n",
      " [<HDF5 object reference>]]\n",
      "Found references: [[<HDF5 object reference>]\n",
      " [<HDF5 object reference>]\n",
      " [<HDF5 object reference>]\n",
      " [<HDF5 object reference>]\n",
      " [<HDF5 object reference>]\n",
      " [<HDF5 object reference>]\n",
      " [<HDF5 object reference>]\n",
      " [<HDF5 object reference>]\n",
      " [<HDF5 object reference>]\n",
      " [<HDF5 object reference>]\n",
      " [<HDF5 object reference>]\n",
      " [<HDF5 object reference>]\n",
      " [<HDF5 object reference>]\n",
      " [<HDF5 object reference>]\n",
      " [<HDF5 object reference>]\n",
      " [<HDF5 object reference>]\n",
      " [<HDF5 object reference>]\n",
      " [<HDF5 object reference>]\n",
      " [<HDF5 object reference>]\n",
      " [<HDF5 object reference>]\n",
      " [<HDF5 object reference>]\n",
      " [<HDF5 object reference>]\n",
      " [<HDF5 object reference>]\n",
      " [<HDF5 object reference>]\n",
      " [<HDF5 object reference>]\n",
      " [<HDF5 object reference>]\n",
      " [<HDF5 object reference>]\n",
      " [<HDF5 object reference>]\n",
      " [<HDF5 object reference>]\n",
      " [<HDF5 object reference>]\n",
      " [<HDF5 object reference>]\n",
      " [<HDF5 object reference>]]\n",
      "Found references: [[<HDF5 object reference>]\n",
      " [<HDF5 object reference>]\n",
      " [<HDF5 object reference>]\n",
      " [<HDF5 object reference>]\n",
      " [<HDF5 object reference>]\n",
      " [<HDF5 object reference>]\n",
      " [<HDF5 object reference>]\n",
      " [<HDF5 object reference>]\n",
      " [<HDF5 object reference>]\n",
      " [<HDF5 object reference>]\n",
      " [<HDF5 object reference>]]\n",
      "Found references: [[<HDF5 object reference>]\n",
      " [<HDF5 object reference>]\n",
      " [<HDF5 object reference>]\n",
      " [<HDF5 object reference>]\n",
      " [<HDF5 object reference>]\n",
      " [<HDF5 object reference>]\n",
      " [<HDF5 object reference>]\n",
      " [<HDF5 object reference>]\n",
      " [<HDF5 object reference>]\n",
      " [<HDF5 object reference>]\n",
      " [<HDF5 object reference>]\n",
      " [<HDF5 object reference>]\n",
      " [<HDF5 object reference>]\n",
      " [<HDF5 object reference>]\n",
      " [<HDF5 object reference>]\n",
      " [<HDF5 object reference>]\n",
      " [<HDF5 object reference>]\n",
      " [<HDF5 object reference>]\n",
      " [<HDF5 object reference>]\n",
      " [<HDF5 object reference>]\n",
      " [<HDF5 object reference>]\n",
      " [<HDF5 object reference>]\n",
      " [<HDF5 object reference>]\n",
      " [<HDF5 object reference>]\n",
      " [<HDF5 object reference>]\n",
      " [<HDF5 object reference>]\n",
      " [<HDF5 object reference>]\n",
      " [<HDF5 object reference>]\n",
      " [<HDF5 object reference>]\n",
      " [<HDF5 object reference>]\n",
      " [<HDF5 object reference>]\n",
      " [<HDF5 object reference>]]\n",
      "Found references: [[<HDF5 object reference>]\n",
      " [<HDF5 object reference>]\n",
      " [<HDF5 object reference>]\n",
      " [<HDF5 object reference>]\n",
      " [<HDF5 object reference>]\n",
      " [<HDF5 object reference>]\n",
      " [<HDF5 object reference>]\n",
      " [<HDF5 object reference>]\n",
      " [<HDF5 object reference>]\n",
      " [<HDF5 object reference>]\n",
      " [<HDF5 object reference>]\n",
      " [<HDF5 object reference>]\n",
      " [<HDF5 object reference>]\n",
      " [<HDF5 object reference>]\n",
      " [<HDF5 object reference>]\n",
      " [<HDF5 object reference>]\n",
      " [<HDF5 object reference>]\n",
      " [<HDF5 object reference>]\n",
      " [<HDF5 object reference>]\n",
      " [<HDF5 object reference>]\n",
      " [<HDF5 object reference>]\n",
      " [<HDF5 object reference>]\n",
      " [<HDF5 object reference>]\n",
      " [<HDF5 object reference>]\n",
      " [<HDF5 object reference>]\n",
      " [<HDF5 object reference>]\n",
      " [<HDF5 object reference>]\n",
      " [<HDF5 object reference>]\n",
      " [<HDF5 object reference>]\n",
      " [<HDF5 object reference>]\n",
      " [<HDF5 object reference>]\n",
      " [<HDF5 object reference>]]\n",
      "Found references: [[<HDF5 object reference>]\n",
      " [<HDF5 object reference>]\n",
      " [<HDF5 object reference>]\n",
      " [<HDF5 object reference>]\n",
      " [<HDF5 object reference>]\n",
      " [<HDF5 object reference>]\n",
      " [<HDF5 object reference>]\n",
      " [<HDF5 object reference>]\n",
      " [<HDF5 object reference>]\n",
      " [<HDF5 object reference>]\n",
      " [<HDF5 object reference>]]\n",
      "Found references: [[<HDF5 object reference>]\n",
      " [<HDF5 object reference>]\n",
      " [<HDF5 object reference>]\n",
      " [<HDF5 object reference>]\n",
      " [<HDF5 object reference>]\n",
      " [<HDF5 object reference>]\n",
      " [<HDF5 object reference>]\n",
      " [<HDF5 object reference>]\n",
      " [<HDF5 object reference>]\n",
      " [<HDF5 object reference>]\n",
      " [<HDF5 object reference>]\n",
      " [<HDF5 object reference>]\n",
      " [<HDF5 object reference>]\n",
      " [<HDF5 object reference>]\n",
      " [<HDF5 object reference>]\n",
      " [<HDF5 object reference>]\n",
      " [<HDF5 object reference>]\n",
      " [<HDF5 object reference>]\n",
      " [<HDF5 object reference>]\n",
      " [<HDF5 object reference>]\n",
      " [<HDF5 object reference>]\n",
      " [<HDF5 object reference>]\n",
      " [<HDF5 object reference>]\n",
      " [<HDF5 object reference>]\n",
      " [<HDF5 object reference>]\n",
      " [<HDF5 object reference>]\n",
      " [<HDF5 object reference>]\n",
      " [<HDF5 object reference>]\n",
      " [<HDF5 object reference>]\n",
      " [<HDF5 object reference>]\n",
      " [<HDF5 object reference>]\n",
      " [<HDF5 object reference>]]\n",
      "Found references: [[<HDF5 object reference>]\n",
      " [<HDF5 object reference>]\n",
      " [<HDF5 object reference>]\n",
      " [<HDF5 object reference>]\n",
      " [<HDF5 object reference>]\n",
      " [<HDF5 object reference>]\n",
      " [<HDF5 object reference>]\n",
      " [<HDF5 object reference>]\n",
      " [<HDF5 object reference>]\n",
      " [<HDF5 object reference>]\n",
      " [<HDF5 object reference>]]\n",
      "Found references: [[<HDF5 object reference>]\n",
      " [<HDF5 object reference>]\n",
      " [<HDF5 object reference>]\n",
      " [<HDF5 object reference>]\n",
      " [<HDF5 object reference>]\n",
      " [<HDF5 object reference>]\n",
      " [<HDF5 object reference>]]\n",
      "Found references: [[<HDF5 object reference>]\n",
      " [<HDF5 object reference>]\n",
      " [<HDF5 object reference>]\n",
      " [<HDF5 object reference>]\n",
      " [<HDF5 object reference>]\n",
      " [<HDF5 object reference>]\n",
      " [<HDF5 object reference>]]\n",
      "Found references: [[<HDF5 object reference>]\n",
      " [<HDF5 object reference>]\n",
      " [<HDF5 object reference>]\n",
      " [<HDF5 object reference>]\n",
      " [<HDF5 object reference>]\n",
      " [<HDF5 object reference>]\n",
      " [<HDF5 object reference>]]\n",
      "Found references: [[<HDF5 object reference>]\n",
      " [<HDF5 object reference>]\n",
      " [<HDF5 object reference>]\n",
      " [<HDF5 object reference>]\n",
      " [<HDF5 object reference>]\n",
      " [<HDF5 object reference>]\n",
      " [<HDF5 object reference>]]\n",
      "Found references: [[<HDF5 object reference>]\n",
      " [<HDF5 object reference>]\n",
      " [<HDF5 object reference>]\n",
      " [<HDF5 object reference>]\n",
      " [<HDF5 object reference>]\n",
      " [<HDF5 object reference>]]\n",
      "Found references: [[<HDF5 object reference>]\n",
      " [<HDF5 object reference>]\n",
      " [<HDF5 object reference>]\n",
      " [<HDF5 object reference>]\n",
      " [<HDF5 object reference>]\n",
      " [<HDF5 object reference>]]\n",
      "Found references: [[<HDF5 object reference>]\n",
      " [<HDF5 object reference>]\n",
      " [<HDF5 object reference>]\n",
      " [<HDF5 object reference>]\n",
      " [<HDF5 object reference>]\n",
      " [<HDF5 object reference>]]\n",
      "Found references: [[<HDF5 object reference>]\n",
      " [<HDF5 object reference>]\n",
      " [<HDF5 object reference>]\n",
      " [<HDF5 object reference>]\n",
      " [<HDF5 object reference>]\n",
      " [<HDF5 object reference>]]\n",
      "Found references: [[<HDF5 object reference>]\n",
      " [<HDF5 object reference>]\n",
      " [<HDF5 object reference>]\n",
      " [<HDF5 object reference>]\n",
      " [<HDF5 object reference>]\n",
      " [<HDF5 object reference>]]\n",
      "Found references: [[<HDF5 object reference>]\n",
      " [<HDF5 object reference>]\n",
      " [<HDF5 object reference>]\n",
      " [<HDF5 object reference>]\n",
      " [<HDF5 object reference>]\n",
      " [<HDF5 object reference>]]\n",
      "Found references: [[<HDF5 object reference>]\n",
      " [<HDF5 object reference>]\n",
      " [<HDF5 object reference>]\n",
      " [<HDF5 object reference>]\n",
      " [<HDF5 object reference>]\n",
      " [<HDF5 object reference>]]\n",
      "Found references: [[<HDF5 object reference>]\n",
      " [<HDF5 object reference>]\n",
      " [<HDF5 object reference>]\n",
      " [<HDF5 object reference>]\n",
      " [<HDF5 object reference>]\n",
      " [<HDF5 object reference>]]\n",
      "Found references: [[<HDF5 object reference>]\n",
      " [<HDF5 object reference>]\n",
      " [<HDF5 object reference>]\n",
      " [<HDF5 object reference>]\n",
      " [<HDF5 object reference>]\n",
      " [<HDF5 object reference>]]\n",
      "Found references: [[<HDF5 object reference>]\n",
      " [<HDF5 object reference>]\n",
      " [<HDF5 object reference>]\n",
      " [<HDF5 object reference>]\n",
      " [<HDF5 object reference>]\n",
      " [<HDF5 object reference>]]\n",
      "Found references: [[<HDF5 object reference>]\n",
      " [<HDF5 object reference>]\n",
      " [<HDF5 object reference>]\n",
      " [<HDF5 object reference>]\n",
      " [<HDF5 object reference>]\n",
      " [<HDF5 object reference>]]\n",
      "Found references: [[<HDF5 object reference>]\n",
      " [<HDF5 object reference>]\n",
      " [<HDF5 object reference>]\n",
      " [<HDF5 object reference>]\n",
      " [<HDF5 object reference>]\n",
      " [<HDF5 object reference>]]\n",
      "Found references: [[<HDF5 object reference>]\n",
      " [<HDF5 object reference>]\n",
      " [<HDF5 object reference>]\n",
      " [<HDF5 object reference>]\n",
      " [<HDF5 object reference>]\n",
      " [<HDF5 object reference>]]\n",
      "Found references: [[<HDF5 object reference>]\n",
      " [<HDF5 object reference>]\n",
      " [<HDF5 object reference>]\n",
      " [<HDF5 object reference>]\n",
      " [<HDF5 object reference>]\n",
      " [<HDF5 object reference>]\n",
      " [<HDF5 object reference>]\n",
      " [<HDF5 object reference>]\n",
      " [<HDF5 object reference>]\n",
      " [<HDF5 object reference>]\n",
      " [<HDF5 object reference>]\n",
      " [<HDF5 object reference>]\n",
      " [<HDF5 object reference>]\n",
      " [<HDF5 object reference>]\n",
      " [<HDF5 object reference>]\n",
      " [<HDF5 object reference>]\n",
      " [<HDF5 object reference>]\n",
      " [<HDF5 object reference>]\n",
      " [<HDF5 object reference>]\n",
      " [<HDF5 object reference>]\n",
      " [<HDF5 object reference>]\n",
      " [<HDF5 object reference>]\n",
      " [<HDF5 object reference>]\n",
      " [<HDF5 object reference>]\n",
      " [<HDF5 object reference>]\n",
      " [<HDF5 object reference>]\n",
      " [<HDF5 object reference>]\n",
      " [<HDF5 object reference>]\n",
      " [<HDF5 object reference>]\n",
      " [<HDF5 object reference>]\n",
      " [<HDF5 object reference>]\n",
      " [<HDF5 object reference>]\n",
      " [<HDF5 object reference>]\n",
      " [<HDF5 object reference>]\n",
      " [<HDF5 object reference>]\n",
      " [<HDF5 object reference>]\n",
      " [<HDF5 object reference>]\n",
      " [<HDF5 object reference>]\n",
      " [<HDF5 object reference>]\n",
      " [<HDF5 object reference>]\n",
      " [<HDF5 object reference>]\n",
      " [<HDF5 object reference>]\n",
      " [<HDF5 object reference>]]\n",
      "Found references: [[<HDF5 object reference>]\n",
      " [<HDF5 object reference>]\n",
      " [<HDF5 object reference>]\n",
      " [<HDF5 object reference>]\n",
      " [<HDF5 object reference>]\n",
      " [<HDF5 object reference>]\n",
      " [<HDF5 object reference>]\n",
      " [<HDF5 object reference>]\n",
      " [<HDF5 object reference>]\n",
      " [<HDF5 object reference>]\n",
      " [<HDF5 object reference>]\n",
      " [<HDF5 object reference>]\n",
      " [<HDF5 object reference>]\n",
      " [<HDF5 object reference>]\n",
      " [<HDF5 object reference>]\n",
      " [<HDF5 object reference>]\n",
      " [<HDF5 object reference>]\n",
      " [<HDF5 object reference>]\n",
      " [<HDF5 object reference>]\n",
      " [<HDF5 object reference>]\n",
      " [<HDF5 object reference>]\n",
      " [<HDF5 object reference>]\n",
      " [<HDF5 object reference>]\n",
      " [<HDF5 object reference>]\n",
      " [<HDF5 object reference>]\n",
      " [<HDF5 object reference>]\n",
      " [<HDF5 object reference>]\n",
      " [<HDF5 object reference>]\n",
      " [<HDF5 object reference>]\n",
      " [<HDF5 object reference>]\n",
      " [<HDF5 object reference>]\n",
      " [<HDF5 object reference>]\n",
      " [<HDF5 object reference>]\n",
      " [<HDF5 object reference>]\n",
      " [<HDF5 object reference>]\n",
      " [<HDF5 object reference>]\n",
      " [<HDF5 object reference>]\n",
      " [<HDF5 object reference>]\n",
      " [<HDF5 object reference>]\n",
      " [<HDF5 object reference>]\n",
      " [<HDF5 object reference>]\n",
      " [<HDF5 object reference>]\n",
      " [<HDF5 object reference>]]\n",
      "Found references: [[<HDF5 object reference>]\n",
      " [<HDF5 object reference>]\n",
      " [<HDF5 object reference>]\n",
      " [<HDF5 object reference>]\n",
      " [<HDF5 object reference>]\n",
      " [<HDF5 object reference>]\n",
      " [<HDF5 object reference>]\n",
      " [<HDF5 object reference>]\n",
      " [<HDF5 object reference>]\n",
      " [<HDF5 object reference>]\n",
      " [<HDF5 object reference>]\n",
      " [<HDF5 object reference>]\n",
      " [<HDF5 object reference>]\n",
      " [<HDF5 object reference>]\n",
      " [<HDF5 object reference>]\n",
      " [<HDF5 object reference>]\n",
      " [<HDF5 object reference>]\n",
      " [<HDF5 object reference>]\n",
      " [<HDF5 object reference>]\n",
      " [<HDF5 object reference>]\n",
      " [<HDF5 object reference>]\n",
      " [<HDF5 object reference>]\n",
      " [<HDF5 object reference>]\n",
      " [<HDF5 object reference>]\n",
      " [<HDF5 object reference>]\n",
      " [<HDF5 object reference>]\n",
      " [<HDF5 object reference>]\n",
      " [<HDF5 object reference>]\n",
      " [<HDF5 object reference>]\n",
      " [<HDF5 object reference>]\n",
      " [<HDF5 object reference>]\n",
      " [<HDF5 object reference>]\n",
      " [<HDF5 object reference>]\n",
      " [<HDF5 object reference>]\n",
      " [<HDF5 object reference>]\n",
      " [<HDF5 object reference>]\n",
      " [<HDF5 object reference>]\n",
      " [<HDF5 object reference>]\n",
      " [<HDF5 object reference>]\n",
      " [<HDF5 object reference>]\n",
      " [<HDF5 object reference>]\n",
      " [<HDF5 object reference>]\n",
      " [<HDF5 object reference>]]\n",
      "Found references: [[<HDF5 object reference>]\n",
      " [<HDF5 object reference>]\n",
      " [<HDF5 object reference>]\n",
      " [<HDF5 object reference>]\n",
      " [<HDF5 object reference>]\n",
      " [<HDF5 object reference>]\n",
      " [<HDF5 object reference>]\n",
      " [<HDF5 object reference>]\n",
      " [<HDF5 object reference>]\n",
      " [<HDF5 object reference>]\n",
      " [<HDF5 object reference>]\n",
      " [<HDF5 object reference>]\n",
      " [<HDF5 object reference>]\n",
      " [<HDF5 object reference>]\n",
      " [<HDF5 object reference>]\n",
      " [<HDF5 object reference>]\n",
      " [<HDF5 object reference>]\n",
      " [<HDF5 object reference>]\n",
      " [<HDF5 object reference>]\n",
      " [<HDF5 object reference>]\n",
      " [<HDF5 object reference>]\n",
      " [<HDF5 object reference>]\n",
      " [<HDF5 object reference>]\n",
      " [<HDF5 object reference>]\n",
      " [<HDF5 object reference>]\n",
      " [<HDF5 object reference>]\n",
      " [<HDF5 object reference>]\n",
      " [<HDF5 object reference>]\n",
      " [<HDF5 object reference>]\n",
      " [<HDF5 object reference>]\n",
      " [<HDF5 object reference>]\n",
      " [<HDF5 object reference>]\n",
      " [<HDF5 object reference>]\n",
      " [<HDF5 object reference>]\n",
      " [<HDF5 object reference>]\n",
      " [<HDF5 object reference>]\n",
      " [<HDF5 object reference>]\n",
      " [<HDF5 object reference>]\n",
      " [<HDF5 object reference>]\n",
      " [<HDF5 object reference>]\n",
      " [<HDF5 object reference>]\n",
      " [<HDF5 object reference>]\n",
      " [<HDF5 object reference>]]\n",
      "Found references: [[<HDF5 object reference>]\n",
      " [<HDF5 object reference>]\n",
      " [<HDF5 object reference>]\n",
      " [<HDF5 object reference>]\n",
      " [<HDF5 object reference>]\n",
      " [<HDF5 object reference>]\n",
      " [<HDF5 object reference>]\n",
      " [<HDF5 object reference>]\n",
      " [<HDF5 object reference>]\n",
      " [<HDF5 object reference>]\n",
      " [<HDF5 object reference>]\n",
      " [<HDF5 object reference>]\n",
      " [<HDF5 object reference>]\n",
      " [<HDF5 object reference>]\n",
      " [<HDF5 object reference>]\n",
      " [<HDF5 object reference>]\n",
      " [<HDF5 object reference>]\n",
      " [<HDF5 object reference>]\n",
      " [<HDF5 object reference>]\n",
      " [<HDF5 object reference>]\n",
      " [<HDF5 object reference>]\n",
      " [<HDF5 object reference>]\n",
      " [<HDF5 object reference>]\n",
      " [<HDF5 object reference>]\n",
      " [<HDF5 object reference>]\n",
      " [<HDF5 object reference>]\n",
      " [<HDF5 object reference>]\n",
      " [<HDF5 object reference>]\n",
      " [<HDF5 object reference>]\n",
      " [<HDF5 object reference>]\n",
      " [<HDF5 object reference>]\n",
      " [<HDF5 object reference>]]\n",
      "Found references: [[<HDF5 object reference>]\n",
      " [<HDF5 object reference>]\n",
      " [<HDF5 object reference>]\n",
      " [<HDF5 object reference>]\n",
      " [<HDF5 object reference>]\n",
      " [<HDF5 object reference>]\n",
      " [<HDF5 object reference>]\n",
      " [<HDF5 object reference>]\n",
      " [<HDF5 object reference>]\n",
      " [<HDF5 object reference>]\n",
      " [<HDF5 object reference>]]\n"
     ]
    }
   ],
   "source": [
    "def find_references_recursive(obj):\n",
    "    if isinstance(obj, h5py.Dataset):\n",
    "        if h5py.check_dtype(ref=obj.dtype):\n",
    "            references = obj[...]\n",
    "            print(f\"Found references: {references}\")\n",
    "    elif isinstance(obj, h5py.Group):\n",
    "        for key in obj.keys():\n",
    "            find_references_recursive(obj[key])\n",
    "    elif isinstance(obj, (list, tuple)):\n",
    "        for item in obj:\n",
    "            find_references_recursive(item)\n",
    "\n",
    "def find_hdf5_references(filename):\n",
    "    with h5py.File(filename, 'r') as file:\n",
    "        find_references_recursive(file)\n",
    "\n",
    "# Usage example:\n",
    "filename = oe_metadata_file_path\n",
    "find_hdf5_references(filename)\n"
   ],
   "metadata": {
    "collapsed": false,
    "pycharm": {
     "name": "#%%\n"
    }
   }
  },
  {
   "cell_type": "code",
   "execution_count": 185,
   "outputs": [],
   "source": [
    "# Over here I converted a reference object into data for the first time\n",
    "\n",
    "mat_file = h5py.File(oe_metadata_file_path, 'r')\n",
    "ref = mat_file['metaData/blkCont/Repeat'][3][0]\n",
    "res = np.array(mat_file[ref])\n",
    "\n",
    "mat_file.close()"
   ],
   "metadata": {
    "collapsed": false,
    "pycharm": {
     "name": "#%%\n"
    }
   }
  },
  {
   "cell_type": "code",
   "execution_count": 209,
   "outputs": [
    {
     "ename": "AttributeError",
     "evalue": "'str' object has no attribute 'decode'",
     "output_type": "error",
     "traceback": [
      "\u001B[1;31m---------------------------------------------------------------------------\u001B[0m",
      "\u001B[1;31mAttributeError\u001B[0m                            Traceback (most recent call last)",
      "\u001B[1;32m<ipython-input-209-0218c68f387c>\u001B[0m in \u001B[0;36m<module>\u001B[1;34m\u001B[0m\n\u001B[0;32m     39\u001B[0m \u001B[1;31m# Usage example:\u001B[0m\u001B[1;33m\u001B[0m\u001B[1;33m\u001B[0m\u001B[1;33m\u001B[0m\u001B[0m\n\u001B[0;32m     40\u001B[0m \u001B[0mfilename\u001B[0m \u001B[1;33m=\u001B[0m \u001B[0moe_metadata_file_path\u001B[0m\u001B[1;33m\u001B[0m\u001B[1;33m\u001B[0m\u001B[0m\n\u001B[1;32m---> 41\u001B[1;33m \u001B[0mresult\u001B[0m \u001B[1;33m=\u001B[0m \u001B[0mconstruct_dict_with_references\u001B[0m\u001B[1;33m(\u001B[0m\u001B[0mfilename\u001B[0m\u001B[1;33m)\u001B[0m\u001B[1;33m\u001B[0m\u001B[1;33m\u001B[0m\u001B[0m\n\u001B[0m\u001B[0;32m     42\u001B[0m \u001B[0mprint\u001B[0m\u001B[1;33m(\u001B[0m\u001B[0mresult\u001B[0m\u001B[1;33m)\u001B[0m\u001B[1;33m\u001B[0m\u001B[1;33m\u001B[0m\u001B[0m\n",
      "\u001B[1;32m<ipython-input-209-0218c68f387c>\u001B[0m in \u001B[0;36mconstruct_dict_with_references\u001B[1;34m(filename)\u001B[0m\n\u001B[0;32m     35\u001B[0m \u001B[1;33m\u001B[0m\u001B[0m\n\u001B[0;32m     36\u001B[0m     \u001B[1;32mwith\u001B[0m \u001B[0mh5py\u001B[0m\u001B[1;33m.\u001B[0m\u001B[0mFile\u001B[0m\u001B[1;33m(\u001B[0m\u001B[0mfilename\u001B[0m\u001B[1;33m,\u001B[0m \u001B[1;34m'r'\u001B[0m\u001B[1;33m)\u001B[0m \u001B[1;32mas\u001B[0m \u001B[0mfile\u001B[0m\u001B[1;33m:\u001B[0m\u001B[1;33m\u001B[0m\u001B[1;33m\u001B[0m\u001B[0m\n\u001B[1;32m---> 37\u001B[1;33m         \u001B[1;32mreturn\u001B[0m \u001B[0mconstruct_dict_recursive\u001B[0m\u001B[1;33m(\u001B[0m\u001B[0mfile\u001B[0m\u001B[1;33m)\u001B[0m\u001B[1;33m\u001B[0m\u001B[1;33m\u001B[0m\u001B[0m\n\u001B[0m\u001B[0;32m     38\u001B[0m \u001B[1;33m\u001B[0m\u001B[0m\n\u001B[0;32m     39\u001B[0m \u001B[1;31m# Usage example:\u001B[0m\u001B[1;33m\u001B[0m\u001B[1;33m\u001B[0m\u001B[1;33m\u001B[0m\u001B[0m\n",
      "\u001B[1;32m<ipython-input-209-0218c68f387c>\u001B[0m in \u001B[0;36mconstruct_dict_recursive\u001B[1;34m(obj)\u001B[0m\n\u001B[0;32m     10\u001B[0m             \u001B[0mresult\u001B[0m \u001B[1;33m=\u001B[0m \u001B[1;33m{\u001B[0m\u001B[1;33m}\u001B[0m\u001B[1;33m\u001B[0m\u001B[1;33m\u001B[0m\u001B[0m\n\u001B[0;32m     11\u001B[0m             \u001B[1;32mfor\u001B[0m \u001B[0mkey\u001B[0m \u001B[1;32min\u001B[0m \u001B[0mobj\u001B[0m\u001B[1;33m.\u001B[0m\u001B[0mkeys\u001B[0m\u001B[1;33m(\u001B[0m\u001B[1;33m)\u001B[0m\u001B[1;33m:\u001B[0m\u001B[1;33m\u001B[0m\u001B[1;33m\u001B[0m\u001B[0m\n\u001B[1;32m---> 12\u001B[1;33m                 \u001B[0mresult\u001B[0m\u001B[1;33m[\u001B[0m\u001B[0mkey\u001B[0m\u001B[1;33m.\u001B[0m\u001B[0mdecode\u001B[0m\u001B[1;33m(\u001B[0m\u001B[1;33m)\u001B[0m\u001B[1;33m]\u001B[0m \u001B[1;33m=\u001B[0m \u001B[0mconstruct_dict_recursive\u001B[0m\u001B[1;33m(\u001B[0m\u001B[0mobj\u001B[0m\u001B[1;33m[\u001B[0m\u001B[0mkey\u001B[0m\u001B[1;33m]\u001B[0m\u001B[1;33m)\u001B[0m\u001B[1;33m\u001B[0m\u001B[1;33m\u001B[0m\u001B[0m\n\u001B[0m\u001B[0;32m     13\u001B[0m             \u001B[1;32mreturn\u001B[0m \u001B[0mresult\u001B[0m\u001B[1;33m\u001B[0m\u001B[1;33m\u001B[0m\u001B[0m\n\u001B[0;32m     14\u001B[0m         \u001B[1;32melif\u001B[0m \u001B[0misinstance\u001B[0m\u001B[1;33m(\u001B[0m\u001B[0mobj\u001B[0m\u001B[1;33m,\u001B[0m \u001B[1;33m(\u001B[0m\u001B[0mlist\u001B[0m\u001B[1;33m,\u001B[0m \u001B[0mtuple\u001B[0m\u001B[1;33m)\u001B[0m\u001B[1;33m)\u001B[0m\u001B[1;33m:\u001B[0m\u001B[1;33m\u001B[0m\u001B[1;33m\u001B[0m\u001B[0m\n",
      "\u001B[1;32m<ipython-input-209-0218c68f387c>\u001B[0m in \u001B[0;36mconstruct_dict_recursive\u001B[1;34m(obj)\u001B[0m\n\u001B[0;32m     10\u001B[0m             \u001B[0mresult\u001B[0m \u001B[1;33m=\u001B[0m \u001B[1;33m{\u001B[0m\u001B[1;33m}\u001B[0m\u001B[1;33m\u001B[0m\u001B[1;33m\u001B[0m\u001B[0m\n\u001B[0;32m     11\u001B[0m             \u001B[1;32mfor\u001B[0m \u001B[0mkey\u001B[0m \u001B[1;32min\u001B[0m \u001B[0mobj\u001B[0m\u001B[1;33m.\u001B[0m\u001B[0mkeys\u001B[0m\u001B[1;33m(\u001B[0m\u001B[1;33m)\u001B[0m\u001B[1;33m:\u001B[0m\u001B[1;33m\u001B[0m\u001B[1;33m\u001B[0m\u001B[0m\n\u001B[1;32m---> 12\u001B[1;33m                 \u001B[0mresult\u001B[0m\u001B[1;33m[\u001B[0m\u001B[0mkey\u001B[0m\u001B[1;33m.\u001B[0m\u001B[0mdecode\u001B[0m\u001B[1;33m(\u001B[0m\u001B[1;33m)\u001B[0m\u001B[1;33m]\u001B[0m \u001B[1;33m=\u001B[0m \u001B[0mconstruct_dict_recursive\u001B[0m\u001B[1;33m(\u001B[0m\u001B[0mobj\u001B[0m\u001B[1;33m[\u001B[0m\u001B[0mkey\u001B[0m\u001B[1;33m]\u001B[0m\u001B[1;33m)\u001B[0m\u001B[1;33m\u001B[0m\u001B[1;33m\u001B[0m\u001B[0m\n\u001B[0m\u001B[0;32m     13\u001B[0m             \u001B[1;32mreturn\u001B[0m \u001B[0mresult\u001B[0m\u001B[1;33m\u001B[0m\u001B[1;33m\u001B[0m\u001B[0m\n\u001B[0;32m     14\u001B[0m         \u001B[1;32melif\u001B[0m \u001B[0misinstance\u001B[0m\u001B[1;33m(\u001B[0m\u001B[0mobj\u001B[0m\u001B[1;33m,\u001B[0m \u001B[1;33m(\u001B[0m\u001B[0mlist\u001B[0m\u001B[1;33m,\u001B[0m \u001B[0mtuple\u001B[0m\u001B[1;33m)\u001B[0m\u001B[1;33m)\u001B[0m\u001B[1;33m:\u001B[0m\u001B[1;33m\u001B[0m\u001B[1;33m\u001B[0m\u001B[0m\n",
      "\u001B[1;32m<ipython-input-209-0218c68f387c>\u001B[0m in \u001B[0;36mconstruct_dict_recursive\u001B[1;34m(obj)\u001B[0m\n\u001B[0;32m     10\u001B[0m             \u001B[0mresult\u001B[0m \u001B[1;33m=\u001B[0m \u001B[1;33m{\u001B[0m\u001B[1;33m}\u001B[0m\u001B[1;33m\u001B[0m\u001B[1;33m\u001B[0m\u001B[0m\n\u001B[0;32m     11\u001B[0m             \u001B[1;32mfor\u001B[0m \u001B[0mkey\u001B[0m \u001B[1;32min\u001B[0m \u001B[0mobj\u001B[0m\u001B[1;33m.\u001B[0m\u001B[0mkeys\u001B[0m\u001B[1;33m(\u001B[0m\u001B[1;33m)\u001B[0m\u001B[1;33m:\u001B[0m\u001B[1;33m\u001B[0m\u001B[1;33m\u001B[0m\u001B[0m\n\u001B[1;32m---> 12\u001B[1;33m                 \u001B[0mresult\u001B[0m\u001B[1;33m[\u001B[0m\u001B[0mkey\u001B[0m\u001B[1;33m.\u001B[0m\u001B[0mdecode\u001B[0m\u001B[1;33m(\u001B[0m\u001B[1;33m)\u001B[0m\u001B[1;33m]\u001B[0m \u001B[1;33m=\u001B[0m \u001B[0mconstruct_dict_recursive\u001B[0m\u001B[1;33m(\u001B[0m\u001B[0mobj\u001B[0m\u001B[1;33m[\u001B[0m\u001B[0mkey\u001B[0m\u001B[1;33m]\u001B[0m\u001B[1;33m)\u001B[0m\u001B[1;33m\u001B[0m\u001B[1;33m\u001B[0m\u001B[0m\n\u001B[0m\u001B[0;32m     13\u001B[0m             \u001B[1;32mreturn\u001B[0m \u001B[0mresult\u001B[0m\u001B[1;33m\u001B[0m\u001B[1;33m\u001B[0m\u001B[0m\n\u001B[0;32m     14\u001B[0m         \u001B[1;32melif\u001B[0m \u001B[0misinstance\u001B[0m\u001B[1;33m(\u001B[0m\u001B[0mobj\u001B[0m\u001B[1;33m,\u001B[0m \u001B[1;33m(\u001B[0m\u001B[0mlist\u001B[0m\u001B[1;33m,\u001B[0m \u001B[0mtuple\u001B[0m\u001B[1;33m)\u001B[0m\u001B[1;33m)\u001B[0m\u001B[1;33m:\u001B[0m\u001B[1;33m\u001B[0m\u001B[1;33m\u001B[0m\u001B[0m\n",
      "\u001B[1;31mAttributeError\u001B[0m: 'str' object has no attribute 'decode'"
     ]
    }
   ],
   "source": [
    "def construct_dict_with_references(filename):\n",
    "    def construct_dict_recursive(obj):\n",
    "        if isinstance(obj, h5py.Dataset):\n",
    "            if h5py.check_dtype(ref=obj.dtype):\n",
    "                references = obj[...]\n",
    "                return resolve_references(references)\n",
    "            else:\n",
    "                return obj[()]  # Convert dataset to numpy array\n",
    "        elif isinstance(obj, h5py.Group):\n",
    "            result = {}\n",
    "            for key in obj.keys():\n",
    "                result[key.decode()] = construct_dict_recursive(obj[key])\n",
    "            return result\n",
    "        elif isinstance(obj, (list, tuple)):\n",
    "            return [construct_dict_recursive(item) for item in obj]\n",
    "        else:\n",
    "            return obj\n",
    "\n",
    "    def resolve_references(references):\n",
    "        if isinstance(references, list):\n",
    "            return [resolve_reference(ref) for ref in references]\n",
    "        elif isinstance(references, np.ndarray):\n",
    "            return np.array([resolve_reference(ref) for ref in references])\n",
    "        else:\n",
    "            return resolve_reference(references)\n",
    "\n",
    "    def resolve_reference(reference):\n",
    "        obj = file[reference.decode()]\n",
    "        if isinstance(obj, h5py.Group):\n",
    "            return construct_dict_recursive(obj)\n",
    "        elif isinstance(obj, h5py.Dataset):\n",
    "            return obj[()]\n",
    "        else:\n",
    "            return obj\n",
    "\n",
    "    with h5py.File(filename, 'r') as file:\n",
    "        return construct_dict_recursive(file)\n",
    "\n",
    "# Usage example:\n",
    "filename = oe_metadata_file_path\n",
    "result = construct_dict_with_references(filename)\n",
    "print(result)"
   ],
   "metadata": {
    "collapsed": false,
    "pycharm": {
     "name": "#%%\n"
    }
   }
  },
  {
   "cell_type": "code",
   "execution_count": 4,
   "outputs": [
    {
     "name": "stdout",
     "output_type": "stream",
     "text": [
      "File structure:\n",
      "<HDF5 file \"OE_metaData.mat\" (mode r)>\n",
      "Keys in the root group:\n",
      "['#refs#', '#subsystem#', 'metaData']\n",
      "Keys in group 'group_name':\n",
      "['ADBitVolts', 'MicrovoltsPerAD', 'MicrovoltsPerADAnalog', 'ZeroADValue', 'ZeroADValueAnalog', 'allTimeStamps', 'analogChannelNames', 'analogChannelNumbers', 'blkBytesCont', 'blkBytesEvnt', 'blkCont', 'blkEvnt', 'blockLength', 'blockLengthAnalog', 'bufferSize', 'bufferSizeAnalog', 'bytesPerRecCont', 'bytesPerRecEvnt', 'chLayoutNames', 'chLayoutNumbers', 'chLayoutPositions', 'channelFiles', 'channelFilesAnalog', 'channelNames', 'channelNumbers', 'channelNumbersOrignal', 'convertData2Double', 'dataDescriptionCont', 'dataDescriptionContAnalog', 'dataDescriptionEvnt', 'dataFileNames', 'datatype', 'dspHighCutFrequency', 'dspLowCutFrequency', 'electrodePitch', 'endDate', 'eventFileName', 'eventFiles', 'evntFileSize', 'fileHeaders', 'fileHeadersAnalog', 'fileSize', 'fileSizeAnalog', 'globalStartTime_ms', 'includeOnlyDigitalDataInTriggers', 'layoutName', 'metaDataFile', 'n2s', 'n2sA', 'nRecordings', 'nRecordsCont', 'nRecordsEvnt', 'openEphyXMLData', 'openEphyXMLStructureData', 'overwriteMetaData', 'recordLength', 'recordSize', 'recordingDir', 'recordingDuration_ms', 'recordingName', 'sample_ms', 'samplingFrequency', 'samplingFrequencyAnalog', 'softwareVersion', 'startDate', 'startDateA', 'triggerNames']\n",
      "Dataset 'dataset_name' within 'group_name':\n",
      "<HDF5 dataset \"allTimeStamps\": shape (1, 16544), type \"<f8\">\n",
      "Data within 'dataset_name':\n",
      "[[0.0000000e+00 5.1200000e+01 1.0240000e+02 ... 8.4822965e+05\n",
      "  8.4828085e+05 8.4833205e+05]]\n"
     ]
    }
   ],
   "source": [
    "### 1. get the metadata into a dictionary with\n",
    "\n",
    "# Open the .mat file\n",
    "mat_file = h5py.File(oe_metadata_file_path, 'r')\n",
    "\n",
    "# Explore the file structure\n",
    "print(\"File structure:\")\n",
    "print(mat_file)\n",
    "\n",
    "# List all the keys (group and dataset names) in the root group\n",
    "print(\"Keys in the root group:\")\n",
    "print(list(mat_file.keys()))\n",
    "\n",
    "# Access a specific group within the root group\n",
    "group1 = mat_file['metaData']\n",
    "print(\"Keys in group 'metaData':\")\n",
    "print(list(group1.keys()))\n",
    "\n",
    "# Access a specific dataset within a group\n",
    "dataset1 = group1['allTimeStamps']\n",
    "print(\"Dataset 'dataset_name' within 'group_name':\")\n",
    "print(dataset1)\n",
    "\n",
    "# Access the data within the dataset\n",
    "data1 = dataset1[:]\n",
    "print(\"Data within 'dataset_name':\")\n",
    "print(data1)\n",
    "\n",
    "# Close the .mat file\n",
    "mat_file.close()"
   ],
   "metadata": {
    "collapsed": false,
    "pycharm": {
     "name": "#%%\n"
    }
   }
  },
  {
   "cell_type": "code",
   "execution_count": 20,
   "outputs": [
    {
     "data": {
      "text/plain": "[WindowsPath('Z:/Nimrod/experiments/PV_62/2023_06_21/block_072/oe_files/2023-06-21_14-31-03/Record Node 108/100_RhythmData.events'),\n WindowsPath('Z:/Nimrod/experiments/PV_62/2023_06_21/block_072/oe_files/2023-06-21_14-31-03/Record Node 108/100_RhythmData.timestamps'),\n WindowsPath('Z:/Nimrod/experiments/PV_62/2023_06_21/block_072/oe_files/2023-06-21_14-31-03/Record Node 108/100_RhythmData_ADC1.continuous'),\n WindowsPath('Z:/Nimrod/experiments/PV_62/2023_06_21/block_072/oe_files/2023-06-21_14-31-03/Record Node 108/100_RhythmData_ADC2.continuous'),\n WindowsPath('Z:/Nimrod/experiments/PV_62/2023_06_21/block_072/oe_files/2023-06-21_14-31-03/Record Node 108/100_RhythmData_ADC3.continuous'),\n WindowsPath('Z:/Nimrod/experiments/PV_62/2023_06_21/block_072/oe_files/2023-06-21_14-31-03/Record Node 108/100_RhythmData_ADC4.continuous'),\n WindowsPath('Z:/Nimrod/experiments/PV_62/2023_06_21/block_072/oe_files/2023-06-21_14-31-03/Record Node 108/100_RhythmData_ADC5.continuous'),\n WindowsPath('Z:/Nimrod/experiments/PV_62/2023_06_21/block_072/oe_files/2023-06-21_14-31-03/Record Node 108/100_RhythmData_ADC6.continuous'),\n WindowsPath('Z:/Nimrod/experiments/PV_62/2023_06_21/block_072/oe_files/2023-06-21_14-31-03/Record Node 108/100_RhythmData_ADC7.continuous'),\n WindowsPath('Z:/Nimrod/experiments/PV_62/2023_06_21/block_072/oe_files/2023-06-21_14-31-03/Record Node 108/100_RhythmData_ADC8.continuous'),\n WindowsPath('Z:/Nimrod/experiments/PV_62/2023_06_21/block_072/oe_files/2023-06-21_14-31-03/Record Node 108/100_RhythmData_C1-AUX1.continuous'),\n WindowsPath('Z:/Nimrod/experiments/PV_62/2023_06_21/block_072/oe_files/2023-06-21_14-31-03/Record Node 108/100_RhythmData_C1-AUX2.continuous'),\n WindowsPath('Z:/Nimrod/experiments/PV_62/2023_06_21/block_072/oe_files/2023-06-21_14-31-03/Record Node 108/100_RhythmData_C1-AUX3.continuous'),\n WindowsPath('Z:/Nimrod/experiments/PV_62/2023_06_21/block_072/oe_files/2023-06-21_14-31-03/Record Node 108/100_RhythmData_CH1.continuous'),\n WindowsPath('Z:/Nimrod/experiments/PV_62/2023_06_21/block_072/oe_files/2023-06-21_14-31-03/Record Node 108/100_RhythmData_CH10.continuous'),\n WindowsPath('Z:/Nimrod/experiments/PV_62/2023_06_21/block_072/oe_files/2023-06-21_14-31-03/Record Node 108/100_RhythmData_CH11.continuous'),\n WindowsPath('Z:/Nimrod/experiments/PV_62/2023_06_21/block_072/oe_files/2023-06-21_14-31-03/Record Node 108/100_RhythmData_CH12.continuous'),\n WindowsPath('Z:/Nimrod/experiments/PV_62/2023_06_21/block_072/oe_files/2023-06-21_14-31-03/Record Node 108/100_RhythmData_CH13.continuous'),\n WindowsPath('Z:/Nimrod/experiments/PV_62/2023_06_21/block_072/oe_files/2023-06-21_14-31-03/Record Node 108/100_RhythmData_CH14.continuous'),\n WindowsPath('Z:/Nimrod/experiments/PV_62/2023_06_21/block_072/oe_files/2023-06-21_14-31-03/Record Node 108/100_RhythmData_CH15.continuous'),\n WindowsPath('Z:/Nimrod/experiments/PV_62/2023_06_21/block_072/oe_files/2023-06-21_14-31-03/Record Node 108/100_RhythmData_CH16.continuous'),\n WindowsPath('Z:/Nimrod/experiments/PV_62/2023_06_21/block_072/oe_files/2023-06-21_14-31-03/Record Node 108/100_RhythmData_CH17.continuous'),\n WindowsPath('Z:/Nimrod/experiments/PV_62/2023_06_21/block_072/oe_files/2023-06-21_14-31-03/Record Node 108/100_RhythmData_CH18.continuous'),\n WindowsPath('Z:/Nimrod/experiments/PV_62/2023_06_21/block_072/oe_files/2023-06-21_14-31-03/Record Node 108/100_RhythmData_CH19.continuous'),\n WindowsPath('Z:/Nimrod/experiments/PV_62/2023_06_21/block_072/oe_files/2023-06-21_14-31-03/Record Node 108/100_RhythmData_CH2.continuous'),\n WindowsPath('Z:/Nimrod/experiments/PV_62/2023_06_21/block_072/oe_files/2023-06-21_14-31-03/Record Node 108/100_RhythmData_CH20.continuous'),\n WindowsPath('Z:/Nimrod/experiments/PV_62/2023_06_21/block_072/oe_files/2023-06-21_14-31-03/Record Node 108/100_RhythmData_CH21.continuous'),\n WindowsPath('Z:/Nimrod/experiments/PV_62/2023_06_21/block_072/oe_files/2023-06-21_14-31-03/Record Node 108/100_RhythmData_CH22.continuous'),\n WindowsPath('Z:/Nimrod/experiments/PV_62/2023_06_21/block_072/oe_files/2023-06-21_14-31-03/Record Node 108/100_RhythmData_CH23.continuous'),\n WindowsPath('Z:/Nimrod/experiments/PV_62/2023_06_21/block_072/oe_files/2023-06-21_14-31-03/Record Node 108/100_RhythmData_CH24.continuous'),\n WindowsPath('Z:/Nimrod/experiments/PV_62/2023_06_21/block_072/oe_files/2023-06-21_14-31-03/Record Node 108/100_RhythmData_CH25.continuous'),\n WindowsPath('Z:/Nimrod/experiments/PV_62/2023_06_21/block_072/oe_files/2023-06-21_14-31-03/Record Node 108/100_RhythmData_CH26.continuous'),\n WindowsPath('Z:/Nimrod/experiments/PV_62/2023_06_21/block_072/oe_files/2023-06-21_14-31-03/Record Node 108/100_RhythmData_CH27.continuous'),\n WindowsPath('Z:/Nimrod/experiments/PV_62/2023_06_21/block_072/oe_files/2023-06-21_14-31-03/Record Node 108/100_RhythmData_CH28.continuous'),\n WindowsPath('Z:/Nimrod/experiments/PV_62/2023_06_21/block_072/oe_files/2023-06-21_14-31-03/Record Node 108/100_RhythmData_CH29.continuous'),\n WindowsPath('Z:/Nimrod/experiments/PV_62/2023_06_21/block_072/oe_files/2023-06-21_14-31-03/Record Node 108/100_RhythmData_CH3.continuous'),\n WindowsPath('Z:/Nimrod/experiments/PV_62/2023_06_21/block_072/oe_files/2023-06-21_14-31-03/Record Node 108/100_RhythmData_CH30.continuous'),\n WindowsPath('Z:/Nimrod/experiments/PV_62/2023_06_21/block_072/oe_files/2023-06-21_14-31-03/Record Node 108/100_RhythmData_CH31.continuous'),\n WindowsPath('Z:/Nimrod/experiments/PV_62/2023_06_21/block_072/oe_files/2023-06-21_14-31-03/Record Node 108/100_RhythmData_CH32.continuous'),\n WindowsPath('Z:/Nimrod/experiments/PV_62/2023_06_21/block_072/oe_files/2023-06-21_14-31-03/Record Node 108/100_RhythmData_CH4.continuous'),\n WindowsPath('Z:/Nimrod/experiments/PV_62/2023_06_21/block_072/oe_files/2023-06-21_14-31-03/Record Node 108/100_RhythmData_CH5.continuous'),\n WindowsPath('Z:/Nimrod/experiments/PV_62/2023_06_21/block_072/oe_files/2023-06-21_14-31-03/Record Node 108/100_RhythmData_CH6.continuous'),\n WindowsPath('Z:/Nimrod/experiments/PV_62/2023_06_21/block_072/oe_files/2023-06-21_14-31-03/Record Node 108/100_RhythmData_CH7.continuous'),\n WindowsPath('Z:/Nimrod/experiments/PV_62/2023_06_21/block_072/oe_files/2023-06-21_14-31-03/Record Node 108/100_RhythmData_CH8.continuous'),\n WindowsPath('Z:/Nimrod/experiments/PV_62/2023_06_21/block_072/oe_files/2023-06-21_14-31-03/Record Node 108/100_RhythmData_CH9.continuous'),\n WindowsPath('Z:/Nimrod/experiments/PV_62/2023_06_21/block_072/oe_files/2023-06-21_14-31-03/Record Node 108/messages.events'),\n WindowsPath('Z:/Nimrod/experiments/PV_62/2023_06_21/block_072/oe_files/2023-06-21_14-31-03/Record Node 108/OE_metaData.mat'),\n WindowsPath('Z:/Nimrod/experiments/PV_62/2023_06_21/block_072/oe_files/2023-06-21_14-31-03/Record Node 108/settings.xml'),\n WindowsPath('Z:/Nimrod/experiments/PV_62/2023_06_21/block_072/oe_files/2023-06-21_14-31-03/Record Node 108/structure.openephys')]"
     },
     "execution_count": 20,
     "metadata": {},
     "output_type": "execute_result"
    }
   ],
   "source": [
    "# I try to use the open-ephys-toolkit object up until the point where it gets sluggish and pick up from there:\n",
    "\n",
    "\n",
    "# here, I'll try and build a class call LightContinuous, which mirrors the class in the oe-py-toolkit but"
   ],
   "metadata": {
    "collapsed": false,
    "pycharm": {
     "name": "#%%\n"
    }
   }
  },
  {
   "cell_type": "code",
   "execution_count": 31,
   "outputs": [],
   "source": [
    "session = oea.analysis.Session(str(block.oe_path.parent))\n",
    "cont_obj = session.recordnodes[0].recordings[0].continuous[0]\n"
   ],
   "metadata": {
    "collapsed": false,
    "pycharm": {
     "name": "#%%\n"
    }
   }
  },
  {
   "cell_type": "code",
   "execution_count": 123,
   "outputs": [
    {
     "name": "stdout",
     "output_type": "stream",
     "text": [
      "<KeysViewHDF5 ['#refs#', '#subsystem#', 'metaData']>\n"
     ]
    }
   ],
   "source": [
    "#read the matlab oe_metadata file\n",
    "oe_metadata = h5py.File(oe_metadata_file_path,'r')\n",
    "print(oe_metadata.keys())\n",
    "MetaData = oe_metadata['metaData']\n",
    "oe_metadata.close()\n"
   ],
   "metadata": {
    "collapsed": false,
    "pycharm": {
     "name": "#%%\n"
    }
   }
  },
  {
   "cell_type": "code",
   "execution_count": 104,
   "outputs": [
    {
     "name": "stdout",
     "output_type": "stream",
     "text": [
      "43\n",
      "43\n",
      "Z:\\Nimrod\\experiments\\PV_62\\2023_06_21\\block_072\\oe_files\\2023-06-21_14-31-03\\Record Node 108\\100_RhythmData.timestamps\n"
     ]
    }
   ],
   "source": [
    "continuous_files, stream_indexes, unique_stream_indexes, stream_info = recording.find_continuous_files()\n",
    "print(len(stream_info[0]['channel_names']))\n",
    "print(len(stream_info[0]['bit_volts']))\n",
    "print(stream_info[0]['timestamps_file'])\n",
    "\n"
   ],
   "metadata": {
    "collapsed": false,
    "pycharm": {
     "name": "#%%\n"
    }
   }
  },
  {
   "cell_type": "code",
   "execution_count": 2,
   "outputs": [],
   "source": [
    "def block_generator(block_list,experiment_path,animal, bad_blocks=[],regev=False):\n",
    "    \"\"\"\n",
    "    creates a block_collection to iterate over with multi-block functions\n",
    "    :param block_list: list of block numbers to loop over\n",
    "    :param experiment_path: pathlib.Path instance to the experiment folder\n",
    "    :param animal: string\n",
    "    :param bad_blocks: blocks to ignore\n",
    "    :return:\n",
    "    \"\"\"\n",
    "    p = pathlib.Path(experiment_path) / animal\n",
    "    date_folder_list = [i for i in p.iterdir() if 'block' not in str(i).lower() and i.is_dir()]\n",
    "    block_collection = []\n",
    "    for date_path in date_folder_list:\n",
    "        date = date_path.name\n",
    "        # list all the blocks in the folder:\n",
    "        folder_list = [i for i in date_path.iterdir()]\n",
    "        for block in folder_list:\n",
    "            if 'block' in str(block):\n",
    "                block_number = block.name[-3:]\n",
    "                if int(block_number) in block_list and int(block_number) not in bad_blocks:\n",
    "                    #block definition\n",
    "                    block = BlockSync(animal_call=animal,\n",
    "                                      experiment_date=date,block_num=block_number,\n",
    "                                      path_to_animal_folder=str(experiment_path),regev=regev)\n",
    "                    block_collection.append(block)\n",
    "    return block_collection"
   ],
   "metadata": {
    "collapsed": false,
    "pycharm": {
     "name": "#%%\n"
    }
   }
  },
  {
   "cell_type": "markdown",
   "source": [
    "This bit gets a plot of pupil diameter Vs volume at the arena"
   ],
   "metadata": {
    "collapsed": false,
    "pycharm": {
     "name": "#%% md\n"
    }
   }
  },
  {
   "cell_type": "code",
   "execution_count": 4,
   "outputs": [
    {
     "name": "stdout",
     "output_type": "stream",
     "text": [
      "instantiated block number 072 at Path: Z:\\Nimrod\\experiments\\PV_62\\2023_06_21\\block_072, new OE version\n",
      "Found the sample rate for block 072 in the xml file, it is 20000 Hz\n"
     ]
    }
   ],
   "source": [
    "#block definition\n",
    "experiments_path = pathlib.Path(r\"Z:\\Nimrod\\experiments\")\n",
    "animal = \"PV_62\"\n",
    "date = \"2023_06_21\"\n",
    "block_n = \"072\"\n",
    "\n",
    "block = BlockSync(animal_call=animal,\n",
    "                  experiment_date=date,block_num=block_n,\n",
    "                  path_to_animal_folder=str(experiments_path),regev=True)\n",
    "\n"
   ],
   "metadata": {
    "collapsed": false,
    "pycharm": {
     "name": "#%%\n"
    }
   }
  },
  {
   "cell_type": "code",
   "execution_count": 5,
   "outputs": [
    {
     "name": "stdout",
     "output_type": "stream",
     "text": [
      "handling eye video files\n",
      "converting videos...\n",
      "converting files: ['Z:\\\\Nimrod\\\\experiments\\\\PV_62\\\\2023_06_21\\\\block_072\\\\eye_videos\\\\LE\\\\230621_pv62_audiostim1_640x480_60hz_experiment_1_recording_0\\\\230621_pv62_audiostim1.h264', 'Z:\\\\Nimrod\\\\experiments\\\\PV_62\\\\2023_06_21\\\\block_072\\\\eye_videos\\\\RE\\\\230621_pv62_audiostim1_640x480_60hz_experiment_1_recording_0\\\\230621_pv62_audiostim1.h264']\n",
      "The file Z:\\Nimrod\\experiments\\PV_62\\2023_06_21\\block_072\\eye_videos\\RE\\230621_pv62_audiostim1_640x480_60hz_experiment_1_recording_0\\230621_pv62_audiostim1.mp4 already exists, no conversion necessary\n",
      "Validating videos...\n",
      "The video named 230621_pv62_audiostim1_LE.mp4 has reported 47995 frames and has 47995 frames, it has dropped 0 frames\n",
      "The video named 230621_pv62_audiostim1.mp4 has reported 48000 frames and has 48000 frames, it has dropped 0 frames\n",
      "handling arena files\n",
      "no arena timestamps folder found\n",
      "Arena video Names:\n",
      "back_20230621T143120.mp4\n",
      "left_20230621T143120.mp4\n",
      "right_20230621T143120.mp4\n",
      "top_20230621T143120.mp4\n",
      "running parse_open_ephys_events...\n",
      "events.csv file already exists\n",
      "arena first frame timestamp: 406842\n",
      "arena end frame timestamp: 16706258\n",
      "LED_driver was not identified as Arena_TTL\n",
      "L_eye_TTL was not identified as Arena_TTL\n",
      "R_eye_TTL was not identified as Arena_TTL\n",
      "created Z:\\Nimrod\\experiments\\PV_62\\2023_06_21\\block_072\\oe_files\\2023-06-21_14-31-03\\parsed_events.csv\n",
      "blocksync_df loaded from analysis folder\n",
      "eye_brightness_df loaded from analysis folder\n",
      "eye dataframes loaded from analysis folder\n"
     ]
    }
   ],
   "source": [
    "analyzed_block_automated_pipe(block)"
   ],
   "metadata": {
    "collapsed": false,
    "pycharm": {
     "name": "#%%\n"
    }
   }
  },
  {
   "cell_type": "code",
   "execution_count": 29,
   "outputs": [],
   "source": [
    "# get the volume trace with sample timestamps:\n",
    "session = oea.Session(str(block.oe_path.parent))\n",
    "timestamps = session.recordnodes[0].recordings[0].continuous[0].timestamps\n",
    "data = session.recordnodes[0].recordings[0].continuous[0]\n"
   ],
   "metadata": {
    "collapsed": false,
    "pycharm": {
     "name": "#%%\n"
    }
   }
  },
  {
   "cell_type": "code",
   "execution_count": 8,
   "outputs": [],
   "source": [
    "session = oea.Session(str(block.oe_path.parent))\n",
    "rec = session.recordnodes[0].recordings[0]\n",
    "cont_class = rec.continuous"
   ],
   "metadata": {
    "collapsed": false,
    "pycharm": {
     "name": "#%%\n"
    }
   }
  },
  {
   "cell_type": "code",
   "execution_count": 19,
   "outputs": [
    {
     "data": {
      "text/plain": "array([[1.64245605],\n       [1.64306641],\n       [1.64382935],\n       ...,\n       [0.        ],\n       [0.        ],\n       [0.        ]])"
     },
     "execution_count": 19,
     "metadata": {},
     "output_type": "execute_result"
    }
   ],
   "source": [
    "cont_class[0].get_samples(0,100000000,selected_channels=[39])"
   ],
   "metadata": {
    "collapsed": false,
    "pycharm": {
     "name": "#%%\n"
    }
   }
  },
  {
   "cell_type": "code",
   "execution_count": 34,
   "outputs": [],
   "source": [
    "vol_channel_num = data.metadata['channel_names'].index('ADC5')\n",
    "volume_trace = data.samples[:,39]"
   ],
   "metadata": {
    "collapsed": false,
    "pycharm": {
     "name": "#%%\n"
    }
   }
  },
  {
   "cell_type": "code",
   "execution_count": 56,
   "outputs": [
    {
     "data": {
      "text/plain": "[<matplotlib.lines.Line2D at 0x2130bc2ed30>]"
     },
     "execution_count": 56,
     "metadata": {},
     "output_type": "execute_result"
    },
    {
     "data": {
      "text/plain": "<Figure size 1080x216 with 1 Axes>",
      "image/png": "[encoded data removed]"
     },
     "metadata": {
      "needs_background": "light"
     },
     "output_type": "display_data"
    }
   ],
   "source": [
    "fig, axs = plt.subplots(figsize=(15,3))\n",
    "axs.plot(timestamps,vol_z)\n",
    "axs.plot(block.final_sync_df['Arena_TTL'].values/20000,re_el_z)"
   ],
   "metadata": {
    "collapsed": false,
    "pycharm": {
     "name": "#%%\n"
    }
   }
  },
  {
   "cell_type": "code",
   "execution_count": 55,
   "outputs": [],
   "source": [
    "re_el_z = (block.re_df.ellipse_size - block.re_df.ellipse_size.mean()) / block.re_df.ellipse_size.std()\n",
    "vol_z = (volume_trace - np.mean(volume_trace)) / np.std(volume_trace)"
   ],
   "metadata": {
    "collapsed": false,
    "pycharm": {
     "name": "#%%\n"
    }
   }
  },
  {
   "cell_type": "code",
   "execution_count": 59,
   "outputs": [],
   "source": [
    "#def block_eye_plot(self, export=False, ms_x_axis=True, plot_saccade_locs=False,\n",
    "#                  saccade_frames_l=None, saccade_frames_r=None):\n",
    "# setup\n",
    "ms_x_axis = True\n",
    "export = True\n",
    "plot_saccade_locs = False\n",
    "saccade_frames_l = None\n",
    "saccade_frames_r = None\n",
    "\n",
    "# normalize values:\n",
    "le_el_z = (block.le_df.ellipse_size - block.le_df.ellipse_size.mean()) / block.le_df.ellipse_size.std()\n",
    "le_x_z = (block.le_df.center_x - np.mean(block.le_df.center_x)) / block.le_df.center_x.std()\n",
    "le_y_z = (block.le_df.center_y - np.mean(block.le_df.center_y)) / block.le_df.center_y.std()\n",
    "re_el_z = (block.re_df.ellipse_size - block.re_df.ellipse_size.mean()) / block.re_df.ellipse_size.std()\n",
    "re_x_z = (block.re_df.center_x - np.mean(block.re_df.center_x)) / block.re_df.center_x.std()\n",
    "re_y_z = (block.re_df.center_y - np.mean(block.re_df.center_y)) / block.re_df.center_y.std()\n",
    "vol_z = (volume_trace - np.mean(volume_trace)) / np.std(volume_trace)\n",
    "\n",
    "if ms_x_axis is False:\n",
    "    x_axis = block.final_sync_df['Arena_TTL'].values\n",
    "    b_fig = figure(title=f'Pupil combined metrics block {block.block_num}',\n",
    "                   x_axis_label='OE Timestamps',\n",
    "                   y_axis_label='Z score',\n",
    "                   plot_width=1500,\n",
    "                   plot_height=700)\n",
    "else:\n",
    "    x_axis = (block.final_sync_df['Arena_TTL'].values -\n",
    "              block.final_sync_df['Arena_TTL'].values[0]) / (block.sample_rate / 1000)\n",
    "    b_fig = figure(title=f'Pupil combined metrics block {block.block_num}',\n",
    "                   x_axis_label='[Milliseconds]',\n",
    "                   y_axis_label='[Z score]',\n",
    "                   plot_width=1500,\n",
    "                   plot_height=700)\n",
    "b_fig.add_tools(HoverTool())\n",
    "b_fig.line(x_axis, le_el_z+7, legend_label='Left Eye Diameter', line_width=1.5, line_color='blue')\n",
    "#b_fig.line(x_axis, le_x_z+14, legend_label='Left Eye X Position', line_width=1, line_color='cyan')\n",
    "#b_fig.line(x_axis, le_y_z, legend_label='Left Eye Y position', line_width=1, line_color='green')\n",
    "b_fig.line(x_axis, re_el_z+7, legend_label='Right Eye Diameter', line_width=1.5, line_color='red')\n",
    "#b_fig.line(x_axis, re_x_z+14, legend_label='Right Eye X Position', line_width=1, line_color='orange')\n",
    "#b_fig.line(x_axis, re_y_z, legend_label='Right Eye Y position', line_width=1, line_color='pink')\n",
    "b_fig.line(timestamps * 2000, vol_z)\n",
    "if plot_saccade_locs:\n",
    "    b_fig.vbar(x=saccade_frames_l, width=1, bottom=-4, top=-1,\n",
    "               alpha=0.8, color='purple', legend_label='Left saccades')\n",
    "    b_fig.vbar(x=saccade_frames_r, width=1, bottom=-4, top=-1,\n",
    "               alpha=0.8, color='brown', legend_label='Right saccades')\n",
    "if export:\n",
    "    b_output.output_file(filename=str(block.analysis_path / f'pupillometry_block_{block.block_num}.html'),\n",
    "                         title=f'block {block.block_num} pupillometry')\n",
    "show(b_fig)"
   ],
   "metadata": {
    "collapsed": false,
    "pycharm": {
     "name": "#%%\n"
    }
   }
  },
  {
   "cell_type": "code",
   "execution_count": null,
   "outputs": [],
   "source": [
    "# To generate the blocks:\n",
    "block_numbers = [i for i in range(72,76)]\n",
    "bad_blocks = []\n",
    "blocklist = block_generator(block_numbers,pathlib.Path(r\"Z:\\Nimrod\\experiments\"),'PV_62',bad_blocks=bad_blocks, regev=True)\n",
    "for block in blocklist:\n",
    "    analyzed_block_automated_pipe(block)"
   ],
   "metadata": {
    "collapsed": false,
    "pycharm": {
     "name": "#%%\n"
    }
   }
  },
  {
   "cell_type": "code",
   "execution_count": 40,
   "outputs": [
    {
     "name": "stdout",
     "output_type": "stream",
     "text": [
      "instantiated block number 075 at Path: Z:\\Nimrod\\experiments\\PV_62\\2023_06_21\\block_075, new OE version\n",
      "Found the sample rate for block 075 in the xml file, it is 20000 Hz\n",
      "created the .oe_rec attribute as an open ephys recording obj with get_data functionality\n",
      "retrieving zertoh sample number for block 075\n",
      "got it!\n"
     ]
    }
   ],
   "source": [
    "#block definition\n",
    "experiments_path = pathlib.Path(r\"Z:\\Nimrod\\experiments\")\n",
    "animal = \"PV_62\"\n",
    "date = \"2023_06_21\"\n",
    "block_n = \"075\"\n",
    "\n",
    "block = BlockSync(animal_call=animal,\n",
    "                  experiment_date=date,block_num=block_n,\n",
    "                  path_to_animal_folder=str(experiments_path),regev=True)\n",
    "#analyzed_block_automated_pipe(block)"
   ],
   "metadata": {
    "collapsed": false,
    "pycharm": {
     "name": "#%%\n"
    }
   }
  },
  {
   "cell_type": "code",
   "execution_count": 41,
   "outputs": [
    {
     "name": "stdout",
     "output_type": "stream",
     "text": [
      "handling eye video files\n",
      "converting videos...\n",
      "converting files: ['Z:\\\\Nimrod\\\\experiments\\\\PV_62\\\\2023_06_21\\\\block_075\\\\eye_videos\\\\LE\\\\230621_pv62_audiostim4_640x480_60hz_experiment_1_recording_0\\\\230621_pv62_audiostim4.h264', 'Z:\\\\Nimrod\\\\experiments\\\\PV_62\\\\2023_06_21\\\\block_075\\\\eye_videos\\\\RE\\\\230621_pv62_audiostim4_640x480_60hz_experiment_1_recording_0\\\\230621_pv62_audiostim4.h264']\n",
      "The file Z:\\Nimrod\\experiments\\PV_62\\2023_06_21\\block_075\\eye_videos\\RE\\230621_pv62_audiostim4_640x480_60hz_experiment_1_recording_0\\230621_pv62_audiostim4.mp4 already exists, no conversion necessary\n",
      "Validating videos...\n",
      "The video named 230621_pv62_audiostim4_LE.mp4 has reported 31934 frames and has 31934 frames, it has dropped 0 frames\n",
      "The video named 230621_pv62_audiostim4.mp4 has reported 31933 frames and has 31933 frames, it has dropped 0 frames\n",
      "handling arena files\n",
      "no arena timestamps folder found\n",
      "Arena video Names:\n",
      "back_20230621T152553.mp4\n",
      "left_20230621T152553.mp4\n",
      "right_20230621T152553.mp4\n",
      "top_20230621T152553.mp4\n",
      "running parse_open_ephys_events...\n",
      "aligning to zero with 132096\n",
      "open ephys events aligned to zero & exported to csv file at Z:\\Nimrod\\experiments\\PV_62\\2023_06_21\\block_075\\oe_files\\2023-06-21_15-25-44\\events.csv\n",
      "the arena TTLs are signaling start and stop positions at [  364 31720]\n",
      "arena first frame timestamp: 185704\n",
      "arena end frame timestamp: 10836062\n",
      "LED_driver was not identified as Arena_TTL\n",
      "L_eye_TTL was not identified as Arena_TTL\n",
      "R_eye_TTL was not identified as Arena_TTL\n",
      "created Z:\\Nimrod\\experiments\\PV_62\\2023_06_21\\block_075\\oe_files\\2023-06-21_15-25-44\\parsed_events.csv\n"
     ]
    }
   ],
   "source": [
    "block.handle_eye_videos()\n",
    "block.handle_arena_files()\n",
    "block.parse_open_ephys_events()"
   ],
   "metadata": {
    "collapsed": false,
    "pycharm": {
     "name": "#%%\n"
    }
   }
  },
  {
   "cell_type": "code",
   "execution_count": 27,
   "outputs": [
    {
     "name": "stdout",
     "output_type": "stream",
     "text": [
      "no arena synchronization step performed - running it now...\n"
     ]
    },
    {
     "ename": "ValueError",
     "evalue": "max() arg is an empty sequence",
     "output_type": "error",
     "traceback": [
      "\u001B[1;31m---------------------------------------------------------------------------\u001B[0m",
      "\u001B[1;31mValueError\u001B[0m                                Traceback (most recent call last)",
      "\u001B[1;32m<ipython-input-27-186483ea9479>\u001B[0m in \u001B[0;36m<module>\u001B[1;34m\u001B[0m\n\u001B[1;32m----> 1\u001B[1;33m \u001B[0mblock\u001B[0m\u001B[1;33m.\u001B[0m\u001B[0mcreate_arena_brightness_df\u001B[0m\u001B[1;33m(\u001B[0m\u001B[0mthreshold_value\u001B[0m\u001B[1;33m=\u001B[0m\u001B[1;36m240\u001B[0m\u001B[1;33m,\u001B[0m\u001B[0mexport\u001B[0m\u001B[1;33m=\u001B[0m\u001B[1;32mTrue\u001B[0m\u001B[1;33m)\u001B[0m\u001B[1;33m\u001B[0m\u001B[1;33m\u001B[0m\u001B[0m\n\u001B[0m",
      "\u001B[1;32m~\\PycharmProjects\\pythonProject3\\BlockSync_current.py\u001B[0m in \u001B[0;36mcreate_arena_brightness_df\u001B[1;34m(self, threshold_value, export)\u001B[0m\n\u001B[0;32m    728\u001B[0m         \u001B[1;32melif\u001B[0m \u001B[0mself\u001B[0m\u001B[1;33m.\u001B[0m\u001B[0marena_sync_df\u001B[0m \u001B[1;32mis\u001B[0m \u001B[1;32mNone\u001B[0m\u001B[1;33m:\u001B[0m\u001B[1;33m\u001B[0m\u001B[1;33m\u001B[0m\u001B[0m\n\u001B[0;32m    729\u001B[0m             \u001B[0mprint\u001B[0m\u001B[1;33m(\u001B[0m\u001B[1;34m'no arena synchronization step performed - running it now...'\u001B[0m\u001B[1;33m)\u001B[0m\u001B[1;33m\u001B[0m\u001B[1;33m\u001B[0m\u001B[0m\n\u001B[1;32m--> 730\u001B[1;33m             \u001B[0mself\u001B[0m\u001B[1;33m.\u001B[0m\u001B[0msynchronize_arena_timestamps\u001B[0m\u001B[1;33m(\u001B[0m\u001B[1;33m)\u001B[0m\u001B[1;33m\u001B[0m\u001B[1;33m\u001B[0m\u001B[0m\n\u001B[0m\u001B[0;32m    731\u001B[0m         \u001B[1;32mif\u001B[0m \u001B[0mself\u001B[0m\u001B[1;33m.\u001B[0m\u001B[0marena_frame_val_list\u001B[0m \u001B[1;32mis\u001B[0m \u001B[1;32mNone\u001B[0m\u001B[1;33m:\u001B[0m\u001B[1;33m\u001B[0m\u001B[1;33m\u001B[0m\u001B[0m\n\u001B[0;32m    732\u001B[0m             \u001B[0mself\u001B[0m\u001B[1;33m.\u001B[0m\u001B[0marena_frame_val_list\u001B[0m \u001B[1;33m=\u001B[0m \u001B[0mBlockSync\u001B[0m\u001B[1;33m.\u001B[0m\u001B[0mproduce_frame_val_list\u001B[0m\u001B[1;33m(\u001B[0m\u001B[0mself\u001B[0m\u001B[1;33m.\u001B[0m\u001B[0marena_videos\u001B[0m\u001B[1;33m,\u001B[0m \u001B[0mthreshold_value\u001B[0m\u001B[1;33m)\u001B[0m\u001B[1;33m\u001B[0m\u001B[1;33m\u001B[0m\u001B[0m\n",
      "\u001B[1;32m~\\PycharmProjects\\pythonProject3\\BlockSync_current.py\u001B[0m in \u001B[0;36msynchronize_arena_timestamps\u001B[1;34m(self, return_dfs, export_sync_df, get_only_anchor_vid)\u001B[0m\n\u001B[0;32m    670\u001B[0m \u001B[1;33m\u001B[0m\u001B[0m\n\u001B[0;32m    671\u001B[0m         \u001B[1;31m# pick the longest as an anchor\u001B[0m\u001B[1;33m\u001B[0m\u001B[1;33m\u001B[0m\u001B[1;33m\u001B[0m\u001B[0m\n\u001B[1;32m--> 672\u001B[1;33m         \u001B[0manchor_ind\u001B[0m \u001B[1;33m=\u001B[0m \u001B[0mlen_list\u001B[0m\u001B[1;33m.\u001B[0m\u001B[0mindex\u001B[0m\u001B[1;33m(\u001B[0m\u001B[0mmax\u001B[0m\u001B[1;33m(\u001B[0m\u001B[0mlen_list\u001B[0m\u001B[1;33m)\u001B[0m\u001B[1;33m)\u001B[0m\u001B[1;33m\u001B[0m\u001B[1;33m\u001B[0m\u001B[0m\n\u001B[0m\u001B[0;32m    673\u001B[0m         \u001B[0manchor_vid\u001B[0m \u001B[1;33m=\u001B[0m \u001B[0mdf_list\u001B[0m\u001B[1;33m[\u001B[0m\u001B[0manchor_ind\u001B[0m\u001B[1;33m]\u001B[0m\u001B[1;33m\u001B[0m\u001B[1;33m\u001B[0m\u001B[0m\n\u001B[0;32m    674\u001B[0m         \u001B[0mself\u001B[0m\u001B[1;33m.\u001B[0m\u001B[0manchor_vid_name\u001B[0m \u001B[1;33m=\u001B[0m \u001B[0mself\u001B[0m\u001B[1;33m.\u001B[0m\u001B[0marena_vidnames\u001B[0m\u001B[1;33m[\u001B[0m\u001B[0manchor_ind\u001B[0m\u001B[1;33m]\u001B[0m\u001B[1;33m\u001B[0m\u001B[1;33m\u001B[0m\u001B[0m\n",
      "\u001B[1;31mValueError\u001B[0m: max() arg is an empty sequence"
     ]
    }
   ],
   "source": [
    "block.create_arena_brightness_df(threshold_value=240,export=True)"
   ],
   "metadata": {
    "collapsed": false,
    "pycharm": {
     "name": "#%%\n"
    }
   }
  },
  {
   "cell_type": "code",
   "execution_count": 42,
   "outputs": [
    {
     "name": "stderr",
     "output_type": "stream",
     "text": [
      "  2%|▏         | 557/30900 [00:00<00:05, 5568.32it/s]"
     ]
    },
    {
     "name": "stdout",
     "output_type": "stream",
     "text": [
      "creating blocksync_df\n"
     ]
    },
    {
     "name": "stderr",
     "output_type": "stream",
     "text": [
      "100%|██████████| 30900/30900 [00:07<00:00, 4171.43it/s]\n"
     ]
    },
    {
     "name": "stdout",
     "output_type": "stream",
     "text": [
      "created blocksync_df\n",
      "exported blocksync_df to Z:\\Nimrod\\experiments\\PV_62\\2023_06_21\\block_075\\analysis/ blocksync_df.csv\n"
     ]
    }
   ],
   "source": [
    "block.synchronize_block()"
   ],
   "metadata": {
    "collapsed": false,
    "pycharm": {
     "name": "#%%\n"
    }
   }
  },
  {
   "cell_type": "code",
   "execution_count": 43,
   "outputs": [
    {
     "name": "stdout",
     "output_type": "stream",
     "text": [
      "working on video Z:\\Nimrod\\experiments\\PV_62\\2023_06_21\\block_075\\eye_videos\\LE\\230621_pv62_audiostim4_640x480_60hz_experiment_1_recording_0\\230621_pv62_audiostim4_LE.mp4\n",
      "done, frame_val_list contains 1 objects\n",
      "working on video Z:\\Nimrod\\experiments\\PV_62\\2023_06_21\\block_075\\eye_videos\\RE\\230621_pv62_audiostim4_640x480_60hz_experiment_1_recording_0\\230621_pv62_audiostim4.mp4\n",
      "done, frame_val_list contains 1 objects\n",
      "creating Z:\\Nimrod\\experiments\\PV_62\\2023_06_21\\block_075\\analysis/eye_brightness_df.csv\n"
     ]
    }
   ],
   "source": [
    "block.create_eye_brightness_df(threshold_value=20)"
   ],
   "metadata": {
    "collapsed": false,
    "pycharm": {
     "name": "#%%\n"
    }
   }
  },
  {
   "cell_type": "code",
   "execution_count": 44,
   "outputs": [
    {
     "name": "stdout",
     "output_type": "stream",
     "text": [
      "index error on position 19 out of 20\n",
      "index error on position 17 out of 18\n",
      "The suspected lag between eye cameras is 0.0 with the direction ['right', 'late']\n"
     ]
    }
   ],
   "source": [
    "block.get_eyes_diff_list(threshold=2)"
   ],
   "metadata": {
    "collapsed": false,
    "pycharm": {
     "name": "#%%\n"
    }
   }
  },
  {
   "cell_type": "code",
   "execution_count": 45,
   "outputs": [
    {
     "name": "stdout",
     "output_type": "stream",
     "text": [
      "created manual_sync_df attribute for the block\n"
     ]
    }
   ],
   "source": [
    "block.fix_eye_synchronization()"
   ],
   "metadata": {
    "collapsed": false,
    "pycharm": {
     "name": "#%%\n"
    }
   }
  },
  {
   "cell_type": "code",
   "execution_count": 46,
   "outputs": [
    {
     "name": "stdout",
     "output_type": "stream",
     "text": [
      "index error on position 19 out of 20\n",
      "index error on position 17 out of 18\n"
     ]
    },
    {
     "data": {
      "text/plain": "{'left': [244.0, 3853.0, 7461.0, 11070.0, 14678.0, 18287.0, 21896.0, 25504.0],\n 'right': [244.0, 3853.0, 7461.0, 11070.0, 14678.0, 18287.0, 21895.0, 25504.0]}"
     },
     "execution_count": 46,
     "metadata": {},
     "output_type": "execute_result"
    }
   ],
   "source": [
    "block.get_blink_frames_manual(threshold=2.5)"
   ],
   "metadata": {
    "collapsed": false,
    "pycharm": {
     "name": "#%%\n"
    }
   }
  },
  {
   "cell_type": "code",
   "execution_count": 47,
   "outputs": [
    {
     "data": {
      "text/plain": "           Arena_frame L_eye_frame R_eye_frame  L_values  R_values\nArena_TTL                                                         \n340282.0           455           1           1  1.250082 -0.671022\n340622.0           456           2           2  1.259298 -0.679236\n340962.0           457           3           4  1.259431 -0.670280\n341302.0           458           4           5  1.265670 -0.663590\n341641.0           459           5           6  1.262512 -0.657213\n...                ...         ...         ...       ...       ...\n10834363.0       31350       31541       31541  0.100973  1.061795\n10834703.0       31351       31542       31542  0.098376  1.074197\n10835043.0       31352       31543       31543  0.104797  1.081912\n10835382.0       31353       31544       31544  0.098626  1.076260\n10835722.0       31354       31545       31545  0.098863  1.066402\n\n[30900 rows x 5 columns]",
      "text/html": "<div>\n<style scoped>\n    .dataframe tbody tr th:only-of-type {\n        vertical-align: middle;\n    }\n\n    .dataframe tbody tr th {\n        vertical-align: top;\n    }\n\n    .dataframe thead th {\n        text-align: right;\n    }\n</style>\n<table border=\"1\" class=\"dataframe\">\n  <thead>\n    <tr style=\"text-align: right;\">\n      <th></th>\n      <th>Arena_frame</th>\n      <th>L_eye_frame</th>\n      <th>R_eye_frame</th>\n      <th>L_values</th>\n      <th>R_values</th>\n    </tr>\n    <tr>\n      <th>Arena_TTL</th>\n      <th></th>\n      <th></th>\n      <th></th>\n      <th></th>\n      <th></th>\n    </tr>\n  </thead>\n  <tbody>\n    <tr>\n      <th>340282.0</th>\n      <td>455</td>\n      <td>1</td>\n      <td>1</td>\n      <td>1.250082</td>\n      <td>-0.671022</td>\n    </tr>\n    <tr>\n      <th>340622.0</th>\n      <td>456</td>\n      <td>2</td>\n      <td>2</td>\n      <td>1.259298</td>\n      <td>-0.679236</td>\n    </tr>\n    <tr>\n      <th>340962.0</th>\n      <td>457</td>\n      <td>3</td>\n      <td>4</td>\n      <td>1.259431</td>\n      <td>-0.670280</td>\n    </tr>\n    <tr>\n      <th>341302.0</th>\n      <td>458</td>\n      <td>4</td>\n      <td>5</td>\n      <td>1.265670</td>\n      <td>-0.663590</td>\n    </tr>\n    <tr>\n      <th>341641.0</th>\n      <td>459</td>\n      <td>5</td>\n      <td>6</td>\n      <td>1.262512</td>\n      <td>-0.657213</td>\n    </tr>\n    <tr>\n      <th>...</th>\n      <td>...</td>\n      <td>...</td>\n      <td>...</td>\n      <td>...</td>\n      <td>...</td>\n    </tr>\n    <tr>\n      <th>10834363.0</th>\n      <td>31350</td>\n      <td>31541</td>\n      <td>31541</td>\n      <td>0.100973</td>\n      <td>1.061795</td>\n    </tr>\n    <tr>\n      <th>10834703.0</th>\n      <td>31351</td>\n      <td>31542</td>\n      <td>31542</td>\n      <td>0.098376</td>\n      <td>1.074197</td>\n    </tr>\n    <tr>\n      <th>10835043.0</th>\n      <td>31352</td>\n      <td>31543</td>\n      <td>31543</td>\n      <td>0.104797</td>\n      <td>1.081912</td>\n    </tr>\n    <tr>\n      <th>10835382.0</th>\n      <td>31353</td>\n      <td>31544</td>\n      <td>31544</td>\n      <td>0.098626</td>\n      <td>1.076260</td>\n    </tr>\n    <tr>\n      <th>10835722.0</th>\n      <td>31354</td>\n      <td>31545</td>\n      <td>31545</td>\n      <td>0.098863</td>\n      <td>1.066402</td>\n    </tr>\n  </tbody>\n</table>\n<p>30900 rows × 5 columns</p>\n</div>"
     },
     "execution_count": 47,
     "metadata": {},
     "output_type": "execute_result"
    }
   ],
   "source": [
    "block.manual_sync_df"
   ],
   "metadata": {
    "collapsed": false,
    "pycharm": {
     "name": "#%%\n"
    }
   }
  },
  {
   "cell_type": "code",
   "execution_count": 35,
   "outputs": [],
   "source": [
    "# use this to manually shift L\\R eye synchronization\n",
    "eye_to_move = 'R'\n",
    "block.move_eye_sync_manual(cols_to_move=[f'{eye_to_move}_eye_frame',f'{eye_to_move}_values'],step=-1)"
   ],
   "metadata": {
    "collapsed": false,
    "pycharm": {
     "name": "#%%\n"
    }
   }
  },
  {
   "cell_type": "code",
   "execution_count": 48,
   "outputs": [],
   "source": [
    "block.full_sync_verification(with_arena=False)"
   ],
   "metadata": {
    "collapsed": false,
    "pycharm": {
     "name": "#%%\n"
    }
   }
  },
  {
   "cell_type": "code",
   "execution_count": 49,
   "outputs": [],
   "source": [
    "block.export_manual_sync_df()"
   ],
   "metadata": {
    "collapsed": false,
    "pycharm": {
     "name": "#%%\n"
    }
   }
  },
  {
   "cell_type": "code",
   "execution_count": 50,
   "outputs": [],
   "source": [
    "block.import_manual_sync_df()"
   ],
   "metadata": {
    "collapsed": false,
    "pycharm": {
     "name": "#%%\n"
    }
   }
  },
  {
   "cell_type": "code",
   "execution_count": 51,
   "outputs": [
    {
     "name": "stderr",
     "output_type": "stream",
     "text": [
      "100%|██████████| 31932/31932 [00:17<00:00, 1788.94it/s]\n"
     ]
    },
    {
     "name": "stdout",
     "output_type": "stream",
     "text": [
      "\n",
      " Done\n"
     ]
    },
    {
     "name": "stderr",
     "output_type": "stream",
     "text": [
      "100%|██████████| 31931/31931 [00:18<00:00, 1773.17it/s]\n",
      "  0%|          | 75/30900 [00:00<01:22, 375.87it/s]"
     ]
    },
    {
     "name": "stdout",
     "output_type": "stream",
     "text": [
      "\n",
      " Done\n",
      "populating le_df\n"
     ]
    },
    {
     "name": "stderr",
     "output_type": "stream",
     "text": [
      "100%|██████████| 30900/30900 [01:39<00:00, 310.29it/s]\n",
      "  0%|          | 39/30900 [00:00<01:20, 382.35it/s]"
     ]
    },
    {
     "name": "stdout",
     "output_type": "stream",
     "text": [
      "populating re_video_sync_df\n"
     ]
    },
    {
     "name": "stderr",
     "output_type": "stream",
     "text": [
      "100%|██████████| 30900/30900 [01:40<00:00, 307.93it/s]\n"
     ]
    },
    {
     "name": "stdout",
     "output_type": "stream",
     "text": [
      "done\n",
      "exporting to analysis folder\n"
     ]
    }
   ],
   "source": [
    "block.read_dlc_data()"
   ],
   "metadata": {
    "collapsed": false,
    "pycharm": {
     "name": "#%%\n"
    }
   }
  },
  {
   "cell_type": "code",
   "execution_count": 85,
   "outputs": [],
   "source": [
    "block.block_eye_plot(ms_x_axis=True)"
   ],
   "metadata": {
    "collapsed": false,
    "pycharm": {
     "name": "#%%\n"
    }
   }
  },
  {
   "cell_type": "code",
   "execution_count": 14,
   "outputs": [
    {
     "data": {
      "text/plain": "[<matplotlib.lines.Line2D at 0x2295ba2d310>]"
     },
     "execution_count": 14,
     "metadata": {},
     "output_type": "execute_result"
    },
    {
     "data": {
      "text/plain": "<Figure size 432x288 with 1 Axes>",
      "image/png": "[encoded data removed]"
     },
     "metadata": {
      "needs_background": "light"
     },
     "output_type": "display_data"
    }
   ],
   "source": [
    "fig, axs = plt.subplots()\n",
    "#axs.plot(np.diff(block.eye_brightness_df.R_values.values))\n",
    "axs.plot(block.eye_brightness_df.R_values.values)\n",
    "#axs.set_ylim(-1,1)"
   ],
   "metadata": {
    "collapsed": false,
    "pycharm": {
     "name": "#%%\n"
    }
   }
  },
  {
   "cell_type": "code",
   "execution_count": 8,
   "outputs": [
    {
     "name": "stdout",
     "output_type": "stream",
     "text": [
      "arena_sync_df already exists, loading from file...\n"
     ]
    }
   ],
   "source": [
    "block.synchronize_arena_timestamps()"
   ],
   "metadata": {
    "collapsed": false,
    "pycharm": {
     "name": "#%%\n"
    }
   }
  },
  {
   "cell_type": "code",
   "execution_count": 33,
   "outputs": [
    {
     "name": "stdout",
     "output_type": "stream",
     "text": [
      "index error on position 122 out of 123\n"
     ]
    },
    {
     "data": {
      "text/plain": "[631.0,\n 3050.0,\n 3131.0,\n 5955.0,\n 6739.0,\n 10348.0,\n 10421.0,\n 12752.0,\n 13956.0,\n 15541.0,\n 17565.0,\n 17728.0,\n 21174.0,\n 22643.0,\n 24782.0,\n 26873.0,\n 28391.0,\n 28412.0,\n 29880.0,\n 31999.0,\n 32344.0,\n 34322.0,\n 35608.0,\n 36829.0,\n 37478.0,\n 39216.0,\n 39564.0,\n 40480.0,\n 42825.0,\n 43102.0,\n 45899.0,\n 46434.0,\n 47936.0,\n 47940.0,\n 49513.0,\n 50042.0,\n 51423.0,\n 53651.0]"
     },
     "execution_count": 33,
     "metadata": {},
     "output_type": "execute_result"
    }
   ],
   "source": [
    "r_rising = block.blink_rising_edges_detector(block.eye_brightness_df['L_values'].values,\n",
    "                                            block.eye_brightness_df['L_eye_frame'], threshold=-4)\n",
    "b_series = pd.Series(data=block.eye_brightness_df['R_values'].values, index=block.eye_brightness_df['R_eye_frame'])\n",
    "blink_indexes = b_series[b_series < -4].index\n"
   ],
   "metadata": {
    "collapsed": false,
    "pycharm": {
     "name": "#%%\n"
    }
   }
  },
  {
   "cell_type": "code",
   "execution_count": 16,
   "outputs": [
    {
     "name": "stdout",
     "output_type": "stream",
     "text": [
      "the arena TTLs are signaling start and stop positions at [ 1661 24692]\n",
      "arena first frame timestamp: 1074086\n",
      "arena end frame timestamp: 8896453\n",
      "LED_driver was not identified as Arena_TTL\n",
      "L_eye_TTL was not identified as Arena_TTL\n",
      "R_eye_TTL was not identified as Arena_TTL\n"
     ]
    },
    {
     "name": "stderr",
     "output_type": "stream",
     "text": [
      "<ipython-input-16-2685f8107403>:41: DeprecationWarning: Numeric-style type codes are deprecated and will result in an error in the future.\n",
      "  s_counter = pd.Series(data=np.arange(len(s), dtype='Int32'), index=s.index.values, name=sname+'_frame')\n",
      "<ipython-input-16-2685f8107403>:41: DeprecationWarning: Numeric-style type codes are deprecated and will result in an error in the future.\n",
      "  s_counter = pd.Series(data=np.arange(len(s), dtype='Int32'), index=s.index.values, name=sname+'_frame')\n",
      "<ipython-input-16-2685f8107403>:41: DeprecationWarning: Numeric-style type codes are deprecated and will result in an error in the future.\n",
      "  s_counter = pd.Series(data=np.arange(len(s), dtype='Int32'), index=s.index.values, name=sname+'_frame')\n",
      "<ipython-input-16-2685f8107403>:41: DeprecationWarning: Numeric-style type codes are deprecated and will result in an error in the future.\n",
      "  s_counter = pd.Series(data=np.arange(len(s), dtype='Int32'), index=s.index.values, name=sname+'_frame')\n"
     ]
    }
   ],
   "source": [
    "#Test oe_events_parser:\n",
    "# initialize variables\n",
    "open_ephys_csv_path = block.block_path / rf'oe_files' / block.exp_date_time / 'events.csv'\n",
    "channel_names = block.channeldict\n",
    "arena_channel_name='Arena_TTL'\n",
    "export_path=None\n",
    "\n",
    "# infer the active channels:\n",
    "df = pd.read_csv(open_ephys_csv_path)\n",
    "channels = np.unique(df['line'].to_numpy(copy=True))\n",
    "df_onstate = df[df['state'] == 1]  # cut the df to represent only rising edges\n",
    "ls = []\n",
    "for chan in channels:  # extract a pandas series of the ON stats timestamps for each channel\n",
    "    if chan in channel_names.keys():\n",
    "        sname = channel_names[chan]\n",
    "        s = pd.Series(df_onstate['sample_number'][df_onstate['line'] == chan], name=sname)\n",
    "        # If this is the arena channel we need to collect the first and last frames which correspond with\n",
    "        # the video itsef (as TTLs are always being transmitted and a pause is expected before the video starts\n",
    "        if sname == arena_channel_name:\n",
    "            diff_series = np.diff(s)\n",
    "            diff_mode = stats.mode(diff_series)[0][0]\n",
    "            arena_start_stop = np.where(diff_series > 10 * diff_mode)[0]\n",
    "            if len(arena_start_stop) != 2:\n",
    "                start_ind = input(f'there is some kind of problem because there should be 2 breaks in the arena TTLs'\n",
    "                        f'and there are {len(arena_start_stop)}, those indices are: {[s.iloc[i] for i in arena_start_stop]}... '\n",
    "                                  f'choose the index to use as startpoint:')\n",
    "                end_ind = input('choose the index to use as endpoint:')\n",
    "                arena_start_timestamp = s.iloc[arena_start_stop[int(start_ind)] + 1]\n",
    "                print(f'arena first frame timestamp: {arena_start_timestamp}')\n",
    "                arena_end_timestamp = s.iloc[arena_start_stop[int(end_ind)]]\n",
    "                print(f'arena end frame timestamp: {arena_end_timestamp}')\n",
    "            else:\n",
    "                print(f'the arena TTLs are signaling start and stop positions at {arena_start_stop}')\n",
    "                arena_start_timestamp = s.iloc[arena_start_stop[0] + 1]\n",
    "                print(f'arena first frame timestamp: {arena_start_timestamp}')\n",
    "                arena_end_timestamp = s.iloc[arena_start_stop[1]]\n",
    "                print(f'arena end frame timestamp: {arena_end_timestamp}')\n",
    "        else:\n",
    "            print(f'{sname} was not identified as {arena_channel_name}')\n",
    "        # create a counter for every rising edge - these should match video frames\n",
    "        s_counter = pd.Series(data=np.arange(len(s), dtype='Int32'), index=s.index.values, name=sname+'_frame')\n",
    "        ls.append(s)\n",
    "        ls.append(s_counter)\n",
    "# concatenate all channels into a dataframe with open-ephys compatible timestamps\n",
    "open_ephys_events = pd.concat(ls, axis=1)\n",
    "# use arena start_stop to clean TTLs counted before video starts and after video ends\n",
    "open_ephys_events[f'{arena_channel_name}_frame'] = open_ephys_events[f'{arena_channel_name}_frame'] - (\n",
    "            arena_start_stop[0] + 1)\n",
    "open_ephys_events[f'{arena_channel_name}_frame'][open_ephys_events[f'{arena_channel_name}_frame'] < 0] = np.nan\n",
    "open_ephys_events[f'{arena_channel_name}_frame'][\n",
    "open_ephys_events[f'{arena_channel_name}'] > arena_end_timestamp] = np.nan\n",
    "\n",
    "if export_path is not None:\n",
    "    if export_path not in os.listdir(str(open_ephys_csv_path).split('events.csv')[0][:-1]):\n",
    "        open_ephys_events.to_csv(export_path)\n"
   ],
   "metadata": {
    "collapsed": false,
    "pycharm": {
     "name": "#%%\n"
    }
   }
  },
  {
   "cell_type": "code",
   "execution_count": 7,
   "outputs": [
    {
     "name": "stdout",
     "output_type": "stream",
     "text": [
      "The video named back_20230502T134223.mp4 has 53936 frames\n",
      "The video named left_20230502T134223.mp4 has 53935 frames\n",
      "The video named right_20230502T134223.mp4 has 53936 frames\n",
      "The video named top_20230502T134223.mp4 has 53933 frames\n"
     ]
    }
   ],
   "source": [
    "\n",
    "for vid in block.arena_videos:\n",
    "    cap = cv2.VideoCapture(str(vid))\n",
    "    length = int(cap.get(cv2.CAP_PROP_FRAME_COUNT))\n",
    "    print(f'The video named {os.path.split(vid)[1]} has {length} frames')\n",
    "    cap.release()"
   ],
   "metadata": {
    "collapsed": false,
    "pycharm": {
     "name": "#%%\n"
    }
   }
  },
  {
   "cell_type": "code",
   "execution_count": 153,
   "outputs": [],
   "source": [
    "# synchronize arena timestamps with the new system:\n",
    "# The problem = number of frames does not align with number of ttls transmitted by the arduino + different cameras take different number of frames\n",
    "# solution:\n",
    "# 1. go through the csv files to see real frame-counts vs actual frames gathered\n",
    "#arena_timestamps = [i for i in glob.glob(block.arena_files[0].parent / 'frame_timestamps')]\n",
    "#arena_timestamps\n",
    "arena_timestamp_files = [i for i in (block.arena_files[0].parent / 'frames_timestamps').iterdir()]\n",
    "# read the timestamp files\n",
    "len_list = []\n",
    "df_list = []\n",
    "for p in arena_timestamp_files:\n",
    "    if p.name != 'events.csv':\n",
    "        df = pd.read_csv(p, index_col=0)\n",
    "        df  = df.rename(columns={'0':'timestamp'})\n",
    "        df_list.append(df)\n",
    "        len_list.append(len(df))\n",
    "\n",
    "# pick the longest as anchor\n",
    "anchor_ind = len_list.index(max(len_list))\n",
    "anchor_vid = df_list[anchor_ind]"
   ],
   "metadata": {
    "collapsed": false,
    "pycharm": {
     "name": "#%%\n"
    }
   }
  },
  {
   "cell_type": "code",
   "execution_count": 154,
   "outputs": [
    {
     "name": "stderr",
     "output_type": "stream",
     "text": [
      "  0%|          | 46/91552 [00:00<06:41, 228.12it/s]"
     ]
    },
    {
     "name": "stdout",
     "output_type": "stream",
     "text": [
      "Synchronizing the different arena videos\n"
     ]
    },
    {
     "name": "stderr",
     "output_type": "stream",
     "text": [
      "100%|██████████| 91552/91552 [07:10<00:00, 212.69it/s]"
     ]
    },
    {
     "name": "stdout",
     "output_type": "stream",
     "text": [
      "The anchor video used was \"None\"\n"
     ]
    },
    {
     "name": "stderr",
     "output_type": "stream",
     "text": [
      "\n"
     ]
    }
   ],
   "source": [
    "anchor_vid_name = block.arena_vidnames[anchor_ind]\n",
    "block.arena_sync_df = pd.DataFrame(data=[],\n",
    "                                  columns=block.arena_vidnames,\n",
    "                                  index=range(len(anchor_vid)))\n",
    "block.arena_sync_df[block.arena_sync_df.columns[anchor_ind]] = range(len(anchor_vid))\n",
    "vids_to_sync = list(block.arena_sync_df.drop(axis=1, labels=anchor_vid_name).columns)\n",
    "anchor_vid_df = df_list.pop(anchor_ind)\n",
    "df_to_sync = df_list\n",
    "print('Synchronizing the different arena videos')\n",
    "for row in tqdm(block.arena_sync_df.index):\n",
    "    anchor = anchor_vid.timestamp[row]\n",
    "    for vid in range(len(df_to_sync)):\n",
    "        frame_num = block.get_closest_frame(anchor, df_to_sync[vid])\n",
    "        block.arena_sync_df.loc[row, vids_to_sync[vid]] = frame_num\n",
    "print(f'The anchor video used was \"{block.anchor_vid_name}\"')"
   ],
   "metadata": {
    "collapsed": false,
    "pycharm": {
     "name": "#%%\n"
    }
   }
  }
 ],
 "metadata": {
  "kernelspec": {
   "display_name": "Python 3",
   "language": "python",
   "name": "python3"
  },
  "language_info": {
   "codemirror_mode": {
    "name": "ipython",
    "version": 2
   },
   "file_extension": ".py",
   "mimetype": "text/x-python",
   "name": "python",
   "nbconvert_exporter": "python",
   "pygments_lexer": "ipython2",
   "version": "2.7.6"
  }
 },
 "nbformat": 4,
 "nbformat_minor": 0
}